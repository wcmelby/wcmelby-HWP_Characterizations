{
 "cells": [
  {
   "cell_type": "code",
   "execution_count": 2,
   "metadata": {},
   "outputs": [],
   "source": [
    "import numpy as np\n",
    "from numpy.linalg import inv\n",
    "from astropy.io import fits\n",
    "import os\n",
    "import re\n",
    "import matplotlib.pyplot as plt\n",
    "from scipy.optimize import curve_fit\n",
    "import textwrap"
   ]
  },
  {
   "cell_type": "code",
   "execution_count": 1,
   "metadata": {},
   "outputs": [],
   "source": [
    "#import New_DRRP_Functions as DRRP\n",
    "from New_DRRP_Functions import *"
   ]
  },
  {
   "cell_type": "code",
   "execution_count": 3,
   "metadata": {},
   "outputs": [],
   "source": [
    "# Theta from 0 to 180 degrees (for the first QWP). The second QWP rotates at 5 times this rate (25 degree increments)\n",
    "theta = np.linspace(0, np.pi, 37) # 5 degree increments for the first QWP\n",
    "longtheta = np.linspace(0, np.pi, 46) # 4 degree increments (this is preferred)\n",
    "degtheta = theta*180/np.pi"
   ]
  },
  {
   "cell_type": "code",
   "execution_count": 41,
   "metadata": {},
   "outputs": [],
   "source": [
    "# Define the identity matrix and other matrices which are useful for the Mueller calculus\n",
    "M_identity = np.array([[1, 0, 0, 0], [0, 1, 0, 0], [0, 0, 1, 0], [0, 0, 0, 1]])\n",
    "A = np.array([1, 0, 0, 0])\n",
    "B = np.array([[1], [0], [0], [0]])\n",
    "C = np.array([0, 1, 0, 0])"
   ]
  },
  {
   "cell_type": "code",
   "execution_count": 25,
   "metadata": {},
   "outputs": [],
   "source": [
    "# Get intensity values from each spot in the reduced images. reduced_filename should just be the start of the name (leave out the last number, the angle). \n",
    "def extract_intensities(reduced_filename, reduced_folder, lcenter, rcenter, maxradius, cutoff=5000):\n",
    "    I_left = np.array([])\n",
    "    I_right = np.array([])\n",
    "    bad_indices = np.array([])\n",
    "    longtheta = np.linspace(0, np.pi, 46)\n",
    "\n",
    "    for filename in sorted(os.listdir(reduced_folder), key = extract_number):\n",
    "        if filename.startswith(reduced_filename):\n",
    "            with fits.open(os.path.join(reduced_folder, filename)) as hdul:\n",
    "                reduced_img_data = hdul[0].data\n",
    "                ys, xs, = np.indices(reduced_img_data.shape)\n",
    "                lradius = np.sqrt((ys-lcenter[0])**2+(xs-lcenter[1])**2)\n",
    "                rradius = np.sqrt((ys-rcenter[0])**2+(xs-rcenter[1])**2)\n",
    "\n",
    "                lbackground_mask = (lradius > 20) & (lradius < 26)\n",
    "                rbackground_mask = (rradius > 20) & (rradius < 26)   # Index the background around each spot, take the median value\n",
    "\n",
    "                background_lmedian = np.median(reduced_img_data[lbackground_mask])\n",
    "                background_rmedian = np.median(reduced_img_data[rbackground_mask])\n",
    "\n",
    "                lflux = np.sum(reduced_img_data[lradius < maxradius] - background_lmedian)   # Now take the flux with the background mask subtracted\n",
    "                rflux = np.sum(reduced_img_data[rradius < maxradius] - background_rmedian)\n",
    "                I_left = np.append(I_left, lflux)\n",
    "                I_right = np.append(I_right, rflux)\n",
    "\n",
    "                if lflux+rflux < cutoff:\n",
    "                    print(\"Warning: low flux detected, check the image \" + filename + \", index: \" + str(sorted(os.listdir(reduced_folder), key = extract_number).index(filename)))\n",
    "                    bad_indices = np.append(bad_indices, sorted(os.listdir(reduced_folder), key = extract_number).index(filename))\n",
    "                else:\n",
    "                    continue \n",
    "\n",
    "    # Makes the array a list of integers that can be used to index the other array\n",
    "    bad_indices = bad_indices.astype(int)\n",
    "    # Deletes the bad indices from the data\n",
    "    I_left = np.delete(I_left, bad_indices)\n",
    "    I_right = np.delete(I_right, bad_indices)\n",
    "    new_angles = np.delete(longtheta, bad_indices)\n",
    "\n",
    "    return I_left, I_right, new_angles, bad_indices"
   ]
  },
  {
   "cell_type": "code",
   "execution_count": 4,
   "metadata": {},
   "outputs": [],
   "source": [
    "# Original function to compute the Mueller matrix of a sample based on DRRP intensity measurements\n",
    "def original_full_mueller_polarimetry(thetas, I_meas=1, LPA_angle=0, return_condition_number=False, M_in=None):\n",
    "    nmeas = len(thetas)\n",
    "    Wmat = np.zeros([nmeas, 16])\n",
    "    Pmat = np.zeros([nmeas])\n",
    "    th = thetas\n",
    "\n",
    "    for i in range(nmeas):\n",
    "        # Mueller Matrix of generator (linear polarizer and a quarter wave plate)\n",
    "        Mg = linear_retarder(th[i], np.pi/2) @ linear_polarizer(0)\n",
    "\n",
    "        # Mueller Matrix of analyzer (one channel of the Wollaston prism is treated as a linear polarizer. The right spot is horizontal (0) and the left spot is vertical(pi/2))\n",
    "        Ma = linear_polarizer(LPA_angle) @ linear_retarder(th[i]*5, np.pi/2)\n",
    "\n",
    "        # Data reduction matrix. Taking the 0 index ensures that intensity is the output\n",
    "        Wmat[i,:] = np.kron(Ma[0,:], Mg[:,0])\n",
    "\n",
    "        # M_in is some example Mueller matrix. Providing this input will test theoretical Mueller matrix. Otherwise, the raw data is used\n",
    "        if M_in is not None:\n",
    "            Pmat[i] = (Ma[0,:] @ M_in @ Mg[:,0]) * I_meas\n",
    "        else:\n",
    "            Pmat[i] = I_meas[i]\n",
    "\n",
    "    # Compute Mueller matrix using Moore-Penrose pseudo invervse\n",
    "    M = np.linalg.pinv(Wmat) @ Pmat\n",
    "    M = np.reshape(M,[4,4])\n",
    "\n",
    "    if return_condition_number == True:\n",
    "        return M, condition_number(Wmat)\n",
    "    else:\n",
    "        return M"
   ]
  },
  {
   "cell_type": "code",
   "execution_count": 5,
   "metadata": {},
   "outputs": [],
   "source": [
    "# Modified function to compute the Mueller matrix of a sample based on DRRP intensity measurements\n",
    "# Needs both channel data at the same time to measure Q\n",
    "def modified_full_mueller_polarimetry(thetas, I_minus, I_plus, return_condition_number=False, M_in=None):\n",
    "    nmeas = len(thetas)  # Number of measurements\n",
    "    Wmat = np.zeros([nmeas, 16])\n",
    "    Pmat = np.zeros([nmeas])\n",
    "    th = thetas\n",
    "    Q = I_plus - I_minus   # Difference in intensities measured by the detector. Plus should be the right spot, minus the left spot\n",
    "    I_total = I_plus + I_minus\n",
    "\n",
    "    for i in range(nmeas):\n",
    "        # Mueller Matrix of generator (linear polarizer and a quarter wave plate)\n",
    "        Mg = linear_retarder(th[i], np.pi/2) @ linear_polarizer(0)\n",
    "\n",
    "        # Mueller Matrix of analyzer (one channel of the Wollaston prism is treated as a linear polarizer. The right spot is horizontal (0) and the left spot is vertical(pi/2))\n",
    "        #Ma = (linear_polarizer(0)-linear_polarizer(np.pi/2)) @ linear_retarder(th[i]*5, np.pi/2)\n",
    "        Ma = linear_retarder(th[i]*5, np.pi/2)  # take out the wollaston prism part, because we are essentially measuring Q directly after the quarter wave plate\n",
    "\n",
    "        # Ma and Mg are both 4x4 matrices, so the output is a 16x1 vector\n",
    "        Wmat[i,:] = np.kron((Ma)[1,:], Mg[:,0])\n",
    "        #Wmat[i,:] = np.kron(Ma_plus[1,:], Mg[:,1]) - np.kron(Ma_minus[1,:], Mg[:,1])\n",
    "\n",
    "        # M_in is some example Mueller matrix. Providing this input will test theoretical Mueller matrix. Otherwise, the raw data is used\n",
    "        if M_in is not None:\n",
    "            Pmat[i] = (Ma[1,:] @ M_in @ Mg[:,0])\n",
    "            #Pmat[i] = ((Ma_plus[1,:] @ M_in @ Mg[:,1]) - (Ma_minus[1,:] @ M_in @ Mg[:,1]))*1\n",
    "        else:\n",
    "            Pmat[i] = Q[i]  #Pmat is essentially what we are measuring, the normailzed Q. Maybe Q[i]/I_total[i]\n",
    "\n",
    "    # Compute Mueller matrix using Moore-Penrose pseudo invervse\n",
    "    M = np.linalg.pinv(Wmat) @ Pmat\n",
    "    M = np.reshape(M,[4,4])\n",
    "\n",
    "    if return_condition_number == True:\n",
    "        return M, condition_number(Wmat)\n",
    "    else:\n",
    "        return M"
   ]
  },
  {
   "cell_type": "code",
   "execution_count": 6,
   "metadata": {},
   "outputs": [],
   "source": [
    "# try to make a version using total intensity that just gives the top row of the Mueller matrix\n",
    "def top_modified_full_mueller_polarimetry(thetas, I_minus, I_plus, return_condition_number=False, M_in=None):\n",
    "    nmeas = len(thetas)  # Number of measurements\n",
    "    Wmat = np.zeros([nmeas, 16])\n",
    "    Pmat = np.zeros([nmeas])\n",
    "    th = thetas\n",
    "    Q = I_plus - I_minus   # Difference in intensities measured by the detector. Plus should be the right spot, minus the left spot\n",
    "    I_total = I_plus + I_minus\n",
    "\n",
    "    for i in range(nmeas):\n",
    "        # Mueller Matrix of generator (linear polarizer and a quarter wave plate)\n",
    "        Mg = linear_retarder(th[i], np.pi/2) @ linear_polarizer(0)\n",
    "\n",
    "        # Mueller Matrix of analyzer (one channel of the Wollaston prism is treated as a linear polarizer. The right spot is horizontal (0) and the left spot is vertical(pi/2))\n",
    "        #Ma = (linear_polarizer(0)-linear_polarizer(np.pi/2)) @ linear_retarder(th[i]*5, np.pi/2)\n",
    "        Ma = linear_retarder(th[i]*5, np.pi/2)  # take out the wollaston prism part, because we are essentially measuring Q directly after the quarter wave plate\n",
    "\n",
    "        # Ma and Mg are both 4x4 matrices, so the output is a 16x1 vector\n",
    "        Wmat[i,:] = np.kron((Ma)[0,:], Mg[:,0])\n",
    "        #Wmat[i,:] = np.kron(Ma_plus[1,:], Mg[:,1]) - np.kron(Ma_minus[1,:], Mg[:,1])\n",
    "\n",
    "        # M_in is some example Mueller matrix. Providing this input will test theoretical Mueller matrix. Otherwise, the raw data is used\n",
    "        if M_in is not None:\n",
    "            Pmat[i] = (Ma[0,:] @ M_in @ Mg[:,0])\n",
    "            #Pmat[i] = ((Ma_plus[1,:] @ M_in @ Mg[:,1]) - (Ma_minus[1,:] @ M_in @ Mg[:,1]))*1\n",
    "        else:\n",
    "            Pmat[i] = I_total[i]  #Pmat is essentially what we are measuring, the normailzed Q\n",
    "\n",
    "    # Compute Mueller matrix using Moore-Penrose pseudo invervse\n",
    "    M = np.linalg.pinv(Wmat) @ Pmat\n",
    "    M = np.reshape(M,[4,4])\n",
    "\n",
    "    if return_condition_number == True:\n",
    "        return M, condition_number(Wmat)\n",
    "    else:\n",
    "        return M"
   ]
  },
  {
   "cell_type": "code",
   "execution_count": 7,
   "metadata": {},
   "outputs": [],
   "source": [
    "# Returns the sum of two matrices, one calculated using I to get the top row, and the other using Q to get the bottom 3 rows\n",
    "def combined_full_mueller_polarimetry(thetas, I_minus, I_plus, M_in=None):\n",
    "    nmeas = len(thetas)  # Number of measurements\n",
    "    Wmat1 = np.zeros([nmeas, 16])\n",
    "    Pmat1 = np.zeros([nmeas])\n",
    "    Wmat2 = np.zeros([nmeas, 16])\n",
    "    Pmat2 = np.zeros([nmeas])\n",
    "    th = thetas\n",
    "    Q = I_plus - I_minus   # Difference in intensities measured by the detector. Plus should be the right spot, minus the left spot\n",
    "    I_total = I_plus + I_minus\n",
    "\n",
    "    for i in range(nmeas):\n",
    "        Mg = linear_retarder(th[i], np.pi/2) @ linear_polarizer(0) # Mueller matrix of generator (linear polarizer and quarter wave plate)\n",
    "\n",
    "        # The right spot is horizontal (angle=0, I plus) and the left spot is vertical (angle=pi/2, I minus)\n",
    "        Ma = linear_retarder(th[i]*5, np.pi/2)  # Mueller matrix of analyzer (quarter wave plate)\n",
    "\n",
    "        # Ma and Mg are both 4x4 matrices, so the output is a 16x1 vector\n",
    "        Wmat1[i,:] = np.kron((Ma)[0,:], Mg[:,0]) # for the top row, using intensities\n",
    "        Wmat2[i,:] = np.kron((Ma)[1,:], Mg[:,0]) # for the bottom 3 rows, using Q\n",
    "\n",
    "        # M_in is some example Mueller matrix. Providing this input will test theoretical Mueller matrix. Otherwise, the raw data is used\n",
    "        if M_in is not None:\n",
    "            Pmat1[i] = (Ma[0,:] @ M_in @ Mg[:,0])\n",
    "            Pmat2[i] = (Ma[1,:] @ M_in @ Mg[:,0])\n",
    "        else:\n",
    "            Pmat1[i] = I_total[i]  #Pmat is a vector of measurements (either I or Q)\n",
    "            Pmat2[i] = Q[i] # Divide by I?\n",
    "\n",
    "    # Compute Mueller matrix using Moore-Penrose pseudo invervse\n",
    "    M1 = np.linalg.pinv(Wmat1) @ Pmat1\n",
    "    M1 = np.reshape(M1, [4,4])\n",
    "\n",
    "    M2 = np.linalg.pinv(Wmat2) @ Pmat2\n",
    "    M2 = np.reshape(M2, [4,4])\n",
    "\n",
    "    M = np.zeros([4,4])\n",
    "    M[0,:] = M1[0,:]\n",
    "    M[1:4,:] = M2[1:4,:]\n",
    "\n",
    "    return M"
   ]
  },
  {
   "cell_type": "code",
   "execution_count": 38,
   "metadata": {},
   "outputs": [],
   "source": [
    "# Take out one of the fitting parameters for the LPA angle (assume perfect wollaston to measure Q)\n",
    "def q_calibrated_full_mueller_polarimetry(thetas, a1, w1, w2, r1, r2, I_minus, I_plus, M_in=None):\n",
    "    nmeas = len(thetas)  # Number of measurements\n",
    "    Wmat1 = np.zeros([nmeas, 16])\n",
    "    Pmat1 = np.zeros([nmeas])\n",
    "    Wmat2 = np.zeros([nmeas, 16])\n",
    "    Pmat2 = np.zeros([nmeas])\n",
    "    th = thetas\n",
    "    Q = I_plus - I_minus   # Difference in intensities measured by the detector. Plus should be the right spot, minus the left spot\n",
    "    I_total = I_plus + I_minus\n",
    "\n",
    "    for i in range(nmeas):\n",
    "        # Mueller Matrix of generator (linear polarizer and a quarter wave plate)\n",
    "        Mg = linear_retarder(th[i]+w1, np.pi/2+r1) @ linear_polarizer(0+a1)\n",
    "\n",
    "        # Mueller Matrix of analyzer (one channel of the Wollaston prism is treated as a linear polarizer. The right spot is horizontal (0) and the left spot is vertical(pi/2))\n",
    "        Ma = linear_retarder(th[i]*5+w2, np.pi/2+r2)\n",
    "\n",
    "        # Data reduction matrix. Taking the 0 index ensures that intensity is the output\n",
    "        Wmat1[i,:] = np.kron((Ma)[0,:], Mg[:,0]) # for the top row, using intensities\n",
    "        Wmat2[i,:] = np.kron((Ma)[1,:], Mg[:,0]) # for the bottom 3 rows, using Q\n",
    "\n",
    "        # M_in is some example Mueller matrix. Providing this input will test theoretical Mueller matrix. Otherwise, the raw data is used\n",
    "        if M_in is not None:\n",
    "            Pmat1[i] = (Ma[0,:] @ M_in @ Mg[:,0])\n",
    "            Pmat2[i] = (Ma[1,:] @ M_in @ Mg[:,0])\n",
    "        else:\n",
    "            Pmat1[i] = I_total[i]  #Pmat is a vector of measurements (either I or Q)\n",
    "            Pmat2[i] = Q[i] \n",
    "\n",
    "    # Compute Mueller matrix using Moore-Penrose pseudo invervse\n",
    "    M1 = np.linalg.pinv(Wmat1) @ Pmat1\n",
    "    M1 = np.reshape(M1, [4,4])\n",
    "\n",
    "    M2 = np.linalg.pinv(Wmat2) @ Pmat2\n",
    "    M2 = np.reshape(M2, [4,4])\n",
    "\n",
    "    M = np.zeros([4,4])\n",
    "    M[0,:] = M1[0,:]\n",
    "    M[1:4,:] = M2[1:4,:]\n",
    "\n",
    "    return M"
   ]
  },
  {
   "cell_type": "code",
   "execution_count": 42,
   "metadata": {},
   "outputs": [],
   "source": [
    "# This is the full Mueller matrix equation for our setup. The output is a list, useful for curve fitting. Variables with 1 refer to the generator, 2 refers to analyzer. \n",
    "def q_calibration_function(t, a1, w1, w2, r1, r2):\n",
    "    prediction = [None]*len(t)\n",
    "    for i in range(len(t)):\n",
    "        prediction[i] = float(C @ linear_retarder(5*t[i]+w2, np.pi/2+r2) @ M_identity @ linear_retarder(t[i]+w1, np.pi/2+r1) @ linear_polarizer(a1) @ B)\n",
    "    return prediction"
   ]
  },
  {
   "cell_type": "code",
   "execution_count": 48,
   "metadata": {},
   "outputs": [],
   "source": [
    "def q_ultimate_polarimetry(cal_angles, cal_left_intensity, cal_right_intensity, sample_angles, sample_left_intensity, sample_right_intensity):\n",
    "    QCal = cal_right_intensity - cal_left_intensity # Plus should be the right spot, minus the left spot\n",
    "    initial_guess = [0, 0, 0, 0, 0]\n",
    "    parameter_bounds = ([-np.pi, -np.pi, -np.pi, -np.pi/2, -np.pi/2], [np.pi, np.pi, np.pi, np.pi/2, np.pi/2])\n",
    "\n",
    "    # Find parameters from calibration of the left spot\n",
    "    normalized_QCal = QCal/(max(QCal))\n",
    "    popt, pcov = curve_fit(q_calibration_function, cal_angles, normalized_QCal, p0=initial_guess, bounds=parameter_bounds)\n",
    "    print(popt, \"Fit parameters for a1, w1, w2, r1, and r2. 1 for generator, 2 for analyzer\")\n",
    "\n",
    "    # The calibration matrix (should be close to identity) to see how well the parameters compensate\n",
    "    MCal = q_calibrated_full_mueller_polarimetry(cal_angles, popt[0], popt[1], popt[2], popt[3], popt[4], cal_left_intensity, cal_right_intensity)\n",
    "    MCal = MCal/np.max(MCal)\n",
    "    #print(MCal, \" This is the calibration Mueller Matrix.\")\n",
    "\n",
    "    # Use the parameters found above from curve fitting to construct the actual Mueller matrix of the sample\n",
    "    MSample = q_calibrated_full_mueller_polarimetry(sample_angles, popt[0], popt[1], popt[2], popt[3], popt[4], sample_left_intensity, sample_right_intensity)\n",
    "    MSample = MSample/np.max(MSample)\n",
    "\n",
    "    np.set_printoptions(suppress=True) # Suppresses scientific notation, keeps decimal format\n",
    "\n",
    "    # Extract retardance from the last entry of the mueller matrix, which should just be cos(phi)\n",
    "    retardance = np.arccos(MSample[3,3])/(2*np.pi)\n",
    "    print(retardance, ' This is the retardance found from the data after calibration.')\n",
    "\n",
    "    return MSample, retardance, MCal"
   ]
  },
  {
   "cell_type": "markdown",
   "metadata": {},
   "source": [
    "Note the difference between defining filepath in Windows (top) vs Linux (bottom)"
   ]
  },
  {
   "cell_type": "code",
   "execution_count": 2,
   "metadata": {},
   "outputs": [
    {
     "name": "stdout",
     "output_type": "stream",
     "text": [
      "Warning: low flux detected, check the image Reduced_DRRP_L_1600nm_550_1.8_95.99994140624999.fits, index: 24\n"
     ]
    }
   ],
   "source": [
    "# Calibration for 1600 nm\n",
    "reduced_filename = 'Reduced_DRRP_'\n",
    "#reduced_folder = r\"C:\\\\Users\\\\EPL User\\\\Desktop\\\\L_Plate_Characterization\\\\Calibration\\\\Calibration_Reduced\\\\Cal_1600_Reduced\\\\\"\n",
    "reduced_folder = \"/home/shared/exoserver/Lab_Data/Mueller_Matrix_Polarimeter/L_Plate_Characterization/Calibration/Calibration_Reduced/Cal_1600_Reduced/\"\n",
    "lcenter = [258, 255]\n",
    "rcenter = [258, 332]\n",
    "maxradius = 10\n",
    "cutoff = 5000\n",
    "\n",
    "extracted_data = extract_intensities(reduced_filename, reduced_folder, lcenter, rcenter, maxradius, cutoff)\n",
    "Cal_Il_1600 = extracted_data[0]\n",
    "Cal_Ir_1600 = extracted_data[1]\n",
    "Cal_theta1600 = extracted_data[2]"
   ]
  },
  {
   "cell_type": "code",
   "execution_count": 3,
   "metadata": {},
   "outputs": [
    {
     "name": "stdout",
     "output_type": "stream",
     "text": [
      "Warning: low flux detected, check the image Reduced_DRRP_L_1600nm_550_1.8_23.999985351562497.fits, index: 6\n",
      "Warning: low flux detected, check the image Reduced_DRRP_L_1600nm_550_1.8_27.99998291015625.fits, index: 7\n",
      "Warning: low flux detected, check the image Reduced_DRRP_L_1600nm_550_1.8_31.999980468749996.fits, index: 8\n",
      "Warning: low flux detected, check the image Reduced_DRRP_L_1600nm_550_1.8_111.999931640625.fits, index: 28\n",
      "Warning: low flux detected, check the image Reduced_DRRP_L_1600nm_550_1.8_167.9998974609375.fits, index: 42\n",
      "Warning: low flux detected, check the image Reduced_DRRP_L_1600nm_550_1.8_175.99989257812499.fits, index: 44\n"
     ]
    }
   ],
   "source": [
    "# Data for 1600 nm\n",
    "reduced_filename = 'Reduced_DRRP_'\n",
    "reduced_folder = \"/home/shared/exoserver/Lab_Data/Mueller_Matrix_Polarimeter/L_Plate_Characterization/Reduced_Data/Reduced_L_1600/\"\n",
    "#reduced_folder = r\"Z:\\\\Lab_Data\\\\Mueller_Matrix_Polarimeter\\\\L_Plate_Characterization\\\\Reduced_Data\\\\Reduced_L_1600\\\\\"\n",
    "lcenter = [322, 250]\n",
    "rcenter = [322, 327]\n",
    "maxradius = 11\n",
    "cutoff = 17000\n",
    "\n",
    "extracted_data = extract_intensities(reduced_filename, reduced_folder, lcenter, rcenter, maxradius, cutoff)\n",
    "Il_1600 = extracted_data[0]\n",
    "Ir_1600 = extracted_data[1]\n",
    "theta1600 = extracted_data[2]"
   ]
  },
  {
   "cell_type": "code",
   "execution_count": 4,
   "metadata": {},
   "outputs": [
    {
     "ename": "NameError",
     "evalue": "name 'original_full_mueller_polarimetry' is not defined",
     "output_type": "error",
     "traceback": [
      "\u001b[0;31m---------------------------------------------------------------------------\u001b[0m",
      "\u001b[0;31mNameError\u001b[0m                                 Traceback (most recent call last)",
      "Cell \u001b[0;32mIn[4], line 1\u001b[0m\n\u001b[0;32m----> 1\u001b[0m M1 \u001b[38;5;241m=\u001b[39m \u001b[43moriginal_full_mueller_polarimetry\u001b[49m(Cal_theta1600, Cal_Ir_1600, \u001b[38;5;241m0\u001b[39m)\n\u001b[1;32m      2\u001b[0m M1 \u001b[38;5;241m=\u001b[39m M1\u001b[38;5;241m/\u001b[39mnp\u001b[38;5;241m.\u001b[39mmax(M1)\n\u001b[1;32m      3\u001b[0m \u001b[38;5;28mprint\u001b[39m(M1)\n",
      "\u001b[0;31mNameError\u001b[0m: name 'original_full_mueller_polarimetry' is not defined"
     ]
    }
   ],
   "source": [
    "M1 = original_full_mueller_polarimetry(Cal_theta1600, Cal_Ir_1600, 0)\n",
    "M1 = M1/np.max(M1)\n",
    "print(M1)\n",
    "M2 = original_full_mueller_polarimetry(Cal_theta1600, Cal_Il_1600, np.pi/2)\n",
    "M2 = M2/np.max(M2)\n",
    "print(M2)\n",
    "print(np.arccos(M1[3,3]))"
   ]
  },
  {
   "cell_type": "code",
   "execution_count": 45,
   "metadata": {},
   "outputs": [
    {
     "name": "stdout",
     "output_type": "stream",
     "text": [
      "[[ 1.          0.05152693  0.20517248  0.00178048]\n",
      " [-0.01048165  0.92522473 -0.48160509  0.00187048]\n",
      " [-0.03737062  0.4777589   0.91871019  0.00526699]\n",
      " [ 0.0040122  -0.00341311 -0.00120618  0.98459564]]\n"
     ]
    }
   ],
   "source": [
    "M111 = original_full_mueller_polarimetry(Cal_theta1600, Cal_Ir_1600/(2*np.max(Cal_Ir_1600)), 0)\n",
    "print(M111/np.max(M111))"
   ]
  },
  {
   "cell_type": "code",
   "execution_count": 21,
   "metadata": {},
   "outputs": [],
   "source": [
    "M_ex = np.array([[1, 2, 3, 4], [2, 2, 2, 2], [3, 3, 3, 3], [4, 4, 4, 4]])\n",
    "#print(M_ex)\n",
    "#np.kron(M_ex[1,:], M_ex[:,0])"
   ]
  },
  {
   "cell_type": "code",
   "execution_count": 6,
   "metadata": {},
   "outputs": [],
   "source": [
    "theta_ex = np.linspace(0, np.pi, 37)\n",
    "Cal_Il_1600_ex = np.linspace(0, np.pi, 37)\n",
    "Cal_Ir_1600_ex = np.linspace(0, np.pi, 37)"
   ]
  },
  {
   "cell_type": "code",
   "execution_count": 7,
   "metadata": {},
   "outputs": [
    {
     "ename": "NameError",
     "evalue": "name 'modified_full_mueller_polarimetry' is not defined",
     "output_type": "error",
     "traceback": [
      "\u001b[0;31m---------------------------------------------------------------------------\u001b[0m",
      "\u001b[0;31mNameError\u001b[0m                                 Traceback (most recent call last)",
      "Cell \u001b[0;32mIn[7], line 3\u001b[0m\n\u001b[1;32m      1\u001b[0m \u001b[38;5;66;03m# Version with (M+ - M-). It doesn't seem to make a difference\u001b[39;00m\n\u001b[1;32m      2\u001b[0m \u001b[38;5;66;03m# Works for the top row but not the others\u001b[39;00m\n\u001b[0;32m----> 3\u001b[0m M6 \u001b[38;5;241m=\u001b[39m \u001b[43mmodified_full_mueller_polarimetry\u001b[49m(theta_ex, Cal_Il_1600_ex, Cal_Ir_1600_ex, M_in\u001b[38;5;241m=\u001b[39mM_ex)\n\u001b[1;32m      4\u001b[0m \u001b[38;5;28mprint\u001b[39m(M6)\n",
      "\u001b[0;31mNameError\u001b[0m: name 'modified_full_mueller_polarimetry' is not defined"
     ]
    }
   ],
   "source": [
    "# Version with (M+ - M-). It doesn't seem to make a difference\n",
    "# Works for the top row but not the others\n",
    "M6 = modified_full_mueller_polarimetry(theta_ex, Cal_Il_1600_ex, Cal_Ir_1600_ex, M_in=M_ex)\n",
    "print(M6)"
   ]
  },
  {
   "cell_type": "code",
   "execution_count": 22,
   "metadata": {},
   "outputs": [
    {
     "name": "stdout",
     "output_type": "stream",
     "text": [
      "[[1. 2. 3. 4.]\n",
      " [0. 0. 0. 0.]\n",
      " [0. 0. 0. 0.]\n",
      " [0. 0. 0. 0.]]\n"
     ]
    }
   ],
   "source": [
    "M7 = top_modified_full_mueller_polarimetry(theta_ex, Cal_Il_1600_ex, Cal_Ir_1600_ex, M_in=M_ex)\n",
    "print(M7)"
   ]
  },
  {
   "cell_type": "code",
   "execution_count": 36,
   "metadata": {},
   "outputs": [
    {
     "name": "stdout",
     "output_type": "stream",
     "text": [
      "[[1. 2. 3. 4.]\n",
      " [2. 2. 2. 2.]\n",
      " [3. 3. 3. 3.]\n",
      " [4. 4. 4. 4.]]\n"
     ]
    }
   ],
   "source": [
    "M8 = combined_full_mueller_polarimetry(theta_ex, Cal_Il_1600_ex, Cal_Ir_1600_ex, M_in=M_ex)\n",
    "print(M8)"
   ]
  },
  {
   "cell_type": "code",
   "execution_count": 38,
   "metadata": {},
   "outputs": [
    {
     "name": "stdout",
     "output_type": "stream",
     "text": [
      "[[ 1.00000000e+00 -5.00787093e-02 -1.96260741e-01  1.77788613e-04]\n",
      " [-5.58379564e-03  9.06623893e-01 -4.55664149e-01  1.16617389e-03]\n",
      " [-3.88739259e-02  4.59614971e-01  8.82645393e-01 -2.14018921e-03]\n",
      " [-7.49722616e-04  1.34843279e-03 -2.76461362e-03  9.61475066e-01]]\n"
     ]
    }
   ],
   "source": [
    "print(combined_full_mueller_polarimetry(theta_ex, Cal_Il_1600_ex, Cal_Ir_1600_ex, M_in=M2))"
   ]
  },
  {
   "cell_type": "code",
   "execution_count": 28,
   "metadata": {},
   "outputs": [
    {
     "name": "stdout",
     "output_type": "stream",
     "text": [
      "[[ 1.          0.00148209 -0.0019202   0.00117834]\n",
      " [-0.01612105  0.97855426 -0.20289116  0.00301233]\n",
      " [-0.03368077  0.44931743  0.89274259  0.0037962 ]\n",
      " [ 0.00386122 -0.01093588 -0.00640964  0.97519054]]\n"
     ]
    }
   ],
   "source": [
    "M9 = combined_full_mueller_polarimetry(Cal_theta1600, Cal_Il_1600, Cal_Ir_1600)\n",
    "M9 = M9/np.max(M9)\n",
    "print(M9)"
   ]
  },
  {
   "cell_type": "code",
   "execution_count": 15,
   "metadata": {},
   "outputs": [
    {
     "name": "stdout",
     "output_type": "stream",
     "text": [
      "[[ 0.00000000e+00  1.11022302e-16  1.11022302e-16 -2.22044605e-16]\n",
      " [ 2.07306947e-01  8.49512307e-02  1.01952286e-01 -1.59264528e-01]\n",
      " [ 6.01622455e-01  2.46535722e-01  2.95874237e-01 -4.62199255e-01]\n",
      " [-1.84670650e+00 -7.56752208e-01 -9.08198942e-01  1.41874088e+00]]\n"
     ]
    }
   ],
   "source": [
    "print(M9-M2)"
   ]
  },
  {
   "cell_type": "markdown",
   "metadata": {},
   "source": [
    "Now try comparing the difference between the new and old methods using previously collected data"
   ]
  },
  {
   "cell_type": "code",
   "execution_count": 8,
   "metadata": {},
   "outputs": [
    {
     "name": "stdout",
     "output_type": "stream",
     "text": [
      "Warning: low flux detected, check the image Reduced_DRRP_L_1400nm_550_1.8_39.9999755859375.fits, index: 10\n",
      "Warning: low flux detected, check the image Reduced_DRRP_L_1400nm_550_1.8_51.99996826171875.fits, index: 13\n",
      "Warning: low flux detected, check the image Reduced_DRRP_L_1400nm_550_1.8_59.999963378906244.fits, index: 15\n",
      "Warning: low flux detected, check the image Reduced_DRRP_L_1400nm_550_1.8_95.99994140624999.fits, index: 24\n",
      "Warning: low flux detected, check the image Reduced_DRRP_L_1400nm_550_1.8_151.9999072265625.fits, index: 38\n"
     ]
    }
   ],
   "source": [
    "# Calibration for 1400 nm\n",
    "reduced_filename = 'Reduced_DRRP_'\n",
    "reduced_folder = \"/home/shared/exoserver/Lab_Data/Mueller_Matrix_Polarimeter/L_Plate_Characterization/Calibration/Calibration_Reduced/Cal_1400_Reduced/\"\n",
    "lcenter = [258, 255]\n",
    "rcenter = [258, 332]\n",
    "maxradius = 10\n",
    "cutoff = 5000\n",
    "\n",
    "extracted_data = extract_intensities(reduced_filename, reduced_folder, lcenter, rcenter, maxradius, cutoff)\n",
    "Cal_Il_1400 = extracted_data[0]\n",
    "Cal_Ir_1400 = extracted_data[1]\n",
    "Cal_theta1400 = extracted_data[2]"
   ]
  },
  {
   "cell_type": "code",
   "execution_count": 5,
   "metadata": {},
   "outputs": [
    {
     "ename": "NameError",
     "evalue": "name 'original_full_mueller_polarimetry' is not defined",
     "output_type": "error",
     "traceback": [
      "\u001b[0;31m---------------------------------------------------------------------------\u001b[0m",
      "\u001b[0;31mNameError\u001b[0m                                 Traceback (most recent call last)",
      "Cell \u001b[0;32mIn[5], line 1\u001b[0m\n\u001b[0;32m----> 1\u001b[0m M10 \u001b[38;5;241m=\u001b[39m \u001b[43moriginal_full_mueller_polarimetry\u001b[49m(Cal_theta1400, Cal_Ir_1400, \u001b[38;5;241m0\u001b[39m)\n\u001b[1;32m      2\u001b[0m M101 \u001b[38;5;241m=\u001b[39m combined_full_mueller_polarimetry(Cal_theta1400, Cal_Il_1400, Cal_Ir_1400)\n\u001b[1;32m      3\u001b[0m M102 \u001b[38;5;241m=\u001b[39m original_full_mueller_polarimetry(Cal_theta1400, Cal_Il_1400, np\u001b[38;5;241m.\u001b[39mpi\u001b[38;5;241m/\u001b[39m\u001b[38;5;241m2\u001b[39m)\n",
      "\u001b[0;31mNameError\u001b[0m: name 'original_full_mueller_polarimetry' is not defined"
     ]
    }
   ],
   "source": [
    "M10 = original_full_mueller_polarimetry(Cal_theta1400, Cal_Ir_1400, 0)\n",
    "M101 = combined_full_mueller_polarimetry(Cal_theta1400, Cal_Il_1400, Cal_Ir_1400)\n",
    "M102 = original_full_mueller_polarimetry(Cal_theta1400, Cal_Il_1400, np.pi/2)\n",
    "print((M10/np.max(M10))-M101/np.max(M101))\n",
    "print(M9-M2)\n",
    "print(M101/np.max(M101)-M102/np.max(M102))"
   ]
  },
  {
   "cell_type": "markdown",
   "metadata": {},
   "source": [
    "Note: the Q method takes out a fitting parameter for angle of the analyzing linear polarizer.\n",
    "If we assume to measure U then the two wollaston channels must be at perfect 90 degrees\n",
    "(probably a way to add this correction back later)"
   ]
  },
  {
   "cell_type": "code",
   "execution_count": 50,
   "metadata": {},
   "outputs": [
    {
     "name": "stdout",
     "output_type": "stream",
     "text": [
      "[-0.01759579  0.00681734 -0.09805524 -0.0606004  -0.06370183] Fit parameters for a1, w1, w2, r1, and r2. 1 for generator, 2 for analyzer\n",
      "0.3360912953098506  This is the retardance found from the data after calibration.\n"
     ]
    },
    {
     "data": {
      "text/plain": [
       "(array([[ 1.        , -0.00288848, -0.00282673, -0.00213483],\n",
       "        [-0.02998946,  0.47640828,  0.77861299,  0.49240228],\n",
       "        [-0.07675266,  0.87356728,  0.03528615, -0.70789591],\n",
       "        [ 0.06310948, -0.54560344,  0.76799607, -0.51493135]]),\n",
       " 0.3360912953098506,\n",
       " array([[ 0.86450084,  0.00146352, -0.00168123,  0.00100436],\n",
       "        [-0.07626512,  0.92245186, -0.00833132,  0.00215554],\n",
       "        [ 0.01652496,  0.02132442,  1.        ,  0.00030956],\n",
       "        [ 0.0009802 ,  0.00039263, -0.00111538,  0.86456637]]))"
      ]
     },
     "execution_count": 50,
     "metadata": {},
     "output_type": "execute_result"
    }
   ],
   "source": [
    "q_ultimate_polarimetry(Cal_theta1600, Cal_Il_1600, Cal_Ir_1600, theta1600, Il_1600, Ir_1600)\n",
    "# Compare to retardance of 0.3378 found by old method"
   ]
  },
  {
   "cell_type": "code",
   "execution_count": 64,
   "metadata": {},
   "outputs": [
    {
     "name": "stdout",
     "output_type": "stream",
     "text": [
      "[-0.01759579  0.00681734 -0.09805524 -0.0606004  -0.06370183] Fit parameters for a1, w1, w2, r1, and r2. 1 for generator, 2 for analyzer\n",
      "0.3360912953098506  This is the retardance found from the data after calibration.\n"
     ]
    }
   ],
   "source": [
    "data_1600 = q_ultimate_polarimetry(Cal_theta1600, Cal_Il_1600, Cal_Ir_1600, theta1600, Il_1600, Ir_1600)\n",
    "MCal_1600 = data_1600[2]"
   ]
  },
  {
   "cell_type": "code",
   "execution_count": 10,
   "metadata": {},
   "outputs": [
    {
     "data": {
      "text/plain": [
       "0.5032563647128417"
      ]
     },
     "execution_count": 10,
     "metadata": {},
     "output_type": "execute_result"
    }
   ],
   "source": [
    "(0.3378-0.3361)/0.3378*100"
   ]
  },
  {
   "cell_type": "markdown",
   "metadata": {},
   "source": [
    "Now try for 1550 nm, which was the biggest outlier"
   ]
  },
  {
   "cell_type": "code",
   "execution_count": 3,
   "metadata": {},
   "outputs": [
    {
     "name": "stdout",
     "output_type": "stream",
     "text": [
      "Warning: low flux detected, check the image Reduced_DRRP_L_1550nm_600_0.1_23.999985351562497.fits, index: 6\n",
      "Warning: low flux detected, check the image Reduced_DRRP_L_1550nm_600_0.1_155.99990478515625.fits, index: 39\n",
      "Warning: low flux detected, check the image Reduced_DRRP_L_1550nm_600_0.1_171.99989501953124.fits, index: 43\n"
     ]
    }
   ],
   "source": [
    "# Calibration data for 1550 nm\n",
    "reduced_filename = 'Reduced_DRRP_'\n",
    "reduced_folder = \"/home/shared/exoserver/Lab_Data/Mueller_Matrix_Polarimeter/L_Plate_Characterization/Calibration/Calibration_Reduced/Cal_1550_Reduced/\"\n",
    "#reduced_folder = r\"C:\\\\Users\\\\EPL User\\\\Desktop\\\\L_Plate_Characterization\\\\Calibration\\\\Calibration_Reduced\\\\Cal_1550_Reduced\\\\\"\n",
    "lcenter = [258, 255]\n",
    "rcenter = [258, 332]\n",
    "maxradius = 10\n",
    "cutoff = 5000\n",
    "\n",
    "extracted_data = extract_intensities(reduced_filename, reduced_folder, lcenter, rcenter, maxradius, cutoff)\n",
    "Cal_Il_1550 = extracted_data[0]\n",
    "Cal_Ir_1550 = extracted_data[1]\n",
    "Cal_theta1550 = extracted_data[2]"
   ]
  },
  {
   "cell_type": "code",
   "execution_count": 4,
   "metadata": {},
   "outputs": [
    {
     "name": "stdout",
     "output_type": "stream",
     "text": [
      "Warning: low flux detected, check the image Reduced_DRRP_L_1550nm_600_0.1_7.999995117187499.fits, index: 2\n",
      "Warning: low flux detected, check the image Reduced_DRRP_L_1550nm_600_0.1_23.999985351562497.fits, index: 6\n",
      "Warning: low flux detected, check the image Reduced_DRRP_L_1550nm_600_0.1_147.99990966796875.fits, index: 37\n"
     ]
    }
   ],
   "source": [
    "reduced_filename = 'Reduced_DRRP_'\n",
    "reduced_folder = \"/home/shared/exoserver/Lab_Data/Mueller_Matrix_Polarimeter/L_Plate_Characterization/Reduced_Data/Reduced_L_1550/\"\n",
    "lcenter = [322, 252]\n",
    "rcenter = [322, 327]\n",
    "maxradius = 11\n",
    "cutoff = 15000\n",
    "\n",
    "extracted_data = extract_intensities(reduced_filename, reduced_folder, lcenter, rcenter, maxradius, cutoff)\n",
    "Il_1550 = extracted_data[0]\n",
    "Ir_1550 = extracted_data[1]\n",
    "theta1550 = extracted_data[2]"
   ]
  },
  {
   "cell_type": "code",
   "execution_count": 10,
   "metadata": {},
   "outputs": [
    {
     "name": "stdout",
     "output_type": "stream",
     "text": [
      "[ 0.00100292 -0.03278435 -0.00783381 -0.10189227 -0.09701013] Fit parameters for a1, w1, w2, r1, and r2. 1 for generator, 2 for analyzer\n",
      "0.12013862538752362  This is the retardance found from the data after calibration.\n"
     ]
    },
    {
     "data": {
      "text/plain": [
       "(array([[ 1.        ,  0.00025253, -0.00049059, -0.0026426 ],\n",
       "        [-0.11385333,  0.94458931,  0.14158937,  0.18745074],\n",
       "        [-0.03197403,  0.15283331,  0.98221498, -0.37644879],\n",
       "        [ 0.06646152, -0.32083316,  0.31729381,  0.7283721 ]]),\n",
       " 0.12013862538752362,\n",
       " array([[ 0.92764119, -0.00441586,  0.01990613,  0.00593506],\n",
       "        [-0.08971429,  0.96128742, -0.00371296, -0.00812729],\n",
       "        [ 0.03908392, -0.0539217 ,  1.        , -0.00815459],\n",
       "        [-0.00239254,  0.01875966, -0.01918307,  0.89030943]]),\n",
       " 0.008760653697284224)"
      ]
     },
     "execution_count": 10,
     "metadata": {},
     "output_type": "execute_result"
    }
   ],
   "source": [
    "q_ultimate_polarimetry(Cal_theta1550, Cal_Il_1550, Cal_Ir_1550, theta1550, Il_1550, Ir_1550)\n",
    "# Compare to old retardance of 0.1222"
   ]
  },
  {
   "cell_type": "code",
   "execution_count": 5,
   "metadata": {},
   "outputs": [
    {
     "name": "stdout",
     "output_type": "stream",
     "text": [
      "[ 0.00100292 -0.03278435 -0.00783381 -0.10189227 -0.09701013] Fit parameters for a1, w1, w2, r1, and r2. 1 for generator, 2 for analyzer\n",
      "0.12013862538752362  This is the retardance found from the data after calibration.\n",
      "[[ 0.92764119 -0.00441586  0.01990613  0.00593506]\n",
      " [-0.08971429  0.96128742 -0.00371296 -0.00812729]\n",
      " [ 0.03908392 -0.0539217   1.         -0.00815459]\n",
      " [-0.00239254  0.01875966 -0.01918307  0.89030943]]\n"
     ]
    }
   ],
   "source": [
    "data_1550 = q_ultimate_polarimetry(Cal_theta1550, Cal_Il_1550, Cal_Ir_1550, theta1550, Il_1550, Ir_1550)\n",
    "MCal_1550 = data_1550[2]\n",
    "MSample_1550 = data_1550[0]\n",
    "print(MCal_1550)"
   ]
  },
  {
   "cell_type": "code",
   "execution_count": 9,
   "metadata": {},
   "outputs": [
    {
     "data": {
      "text/plain": [
       "1.7184942716857647"
      ]
     },
     "execution_count": 9,
     "metadata": {},
     "output_type": "execute_result"
    }
   ],
   "source": [
    "(0.1222-0.1201)/0.1222*100"
   ]
  },
  {
   "cell_type": "markdown",
   "metadata": {},
   "source": [
    "Add a function to the code that calculates the error from the ideal (theoretical) matrix compared to the measured calibration"
   ]
  },
  {
   "cell_type": "code",
   "execution_count": 12,
   "metadata": {},
   "outputs": [
    {
     "name": "stdout",
     "output_type": "stream",
     "text": [
      "[[1 2 3 4]\n",
      " [2 2 2 2]\n",
      " [3 3 3 3]\n",
      " [4 4 4 4]]\n"
     ]
    }
   ],
   "source": [
    "print(M_ex)"
   ]
  },
  {
   "cell_type": "code",
   "execution_count": 38,
   "metadata": {},
   "outputs": [
    {
     "data": {
      "text/plain": [
       "array([0, 1])"
      ]
     },
     "execution_count": 38,
     "metadata": {},
     "output_type": "execute_result"
    }
   ],
   "source": [
    "alpha = np.array([0])\n",
    "np.append(alpha, 1)"
   ]
  },
  {
   "cell_type": "code",
   "execution_count": 39,
   "metadata": {},
   "outputs": [
    {
     "name": "stdout",
     "output_type": "stream",
     "text": [
      "[2, 30, 1]\n"
     ]
    }
   ],
   "source": [
    "alpha = []\n",
    "alpha.append(2)\n",
    "alpha.append(30)\n",
    "alpha.append(1)\n",
    "print(alpha)"
   ]
  },
  {
   "cell_type": "code",
   "execution_count": 43,
   "metadata": {},
   "outputs": [
    {
     "name": "stdout",
     "output_type": "stream",
     "text": [
      "[4, 900, 1]\n"
     ]
    }
   ],
   "source": [
    "alpha_squared = [x**2 for x in alpha]\n",
    "print(alpha_squared)"
   ]
  },
  {
   "cell_type": "code",
   "execution_count": 45,
   "metadata": {},
   "outputs": [
    {
     "data": {
      "text/plain": [
       "905"
      ]
     },
     "execution_count": 45,
     "metadata": {},
     "output_type": "execute_result"
    }
   ],
   "source": [
    "sum(alpha_squared)"
   ]
  },
  {
   "cell_type": "code",
   "execution_count": 61,
   "metadata": {},
   "outputs": [
    {
     "name": "stdout",
     "output_type": "stream",
     "text": [
      "0.008760653697284224\n"
     ]
    }
   ],
   "source": [
    "M_i = []\n",
    "differences = []\n",
    "for i in range(0, 3):\n",
    "    for j in range(0, 3):\n",
    "        differences.append(MCal_1550[i, j]-M_identity[i, j])\n",
    "\n",
    "differences_squared = [x**2 for x in differences]\n",
    "RMS = np.sqrt(sum(differences_squared))/16\n",
    "print(RMS)"
   ]
  },
  {
   "cell_type": "code",
   "execution_count": 62,
   "metadata": {},
   "outputs": [],
   "source": [
    "def RMS_calculator(calibration_matrix):\n",
    "    differences = []\n",
    "    for i in range(0, 3):\n",
    "        for j in range(0, 3):\n",
    "            differences.append(calibration_matrix[i, j]-M_identity[i, j])\n",
    "\n",
    "    differences_squared = [x**2 for x in differences]\n",
    "    RMS = np.sqrt(sum(differences_squared))/16\n",
    "    return RMS"
   ]
  },
  {
   "cell_type": "code",
   "execution_count": 63,
   "metadata": {},
   "outputs": [
    {
     "data": {
      "text/plain": [
       "0.008760653697284224"
      ]
     },
     "execution_count": 63,
     "metadata": {},
     "output_type": "execute_result"
    }
   ],
   "source": [
    "RMS_calculator(MCal_1550)"
   ]
  },
  {
   "cell_type": "code",
   "execution_count": 6,
   "metadata": {},
   "outputs": [
    {
     "name": "stdout",
     "output_type": "stream",
     "text": [
      "0.12013862538752362\n"
     ]
    }
   ],
   "source": [
    "print(data_1550[1])"
   ]
  },
  {
   "cell_type": "code",
   "execution_count": 19,
   "metadata": {},
   "outputs": [
    {
     "name": "stdout",
     "output_type": "stream",
     "text": [
      "[[ 0.92764119 -0.00441586  0.01990613  0.00593506]\n",
      " [-0.08971429  0.96128742 -0.00371296 -0.00812729]\n",
      " [ 0.03908392 -0.0539217   1.         -0.00815459]\n",
      " [-0.00239254  0.01875966 -0.01918307  0.89030943]]\n"
     ]
    }
   ],
   "source": [
    "print(MCal_1550)"
   ]
  },
  {
   "cell_type": "code",
   "execution_count": 23,
   "metadata": {},
   "outputs": [
    {
     "name": "stdout",
     "output_type": "stream",
     "text": [
      "0.10969057355489853\n",
      "0.028294472844836924 0.02369493944296544\n"
     ]
    }
   ],
   "source": [
    "print(1-MCal_1550[3,3])\n",
    "lower_retardance = np.arccos(MSample_1550[3, 3] + (1-MCal_1550[3,3]))/(2*np.pi)\n",
    "upper_retardance = np.arccos(MSample_1550[3, 3] - (1-MCal_1550[3,3]))/(2*np.pi)\n",
    "lower_retardance_error = data_1550[1] - lower_retardance\n",
    "upper_retardance_error = upper_retardance - data_1550[1]\n",
    "print(lower_retardance_error, upper_retardance_error)"
   ]
  },
  {
   "cell_type": "markdown",
   "metadata": {},
   "source": [
    "Error in the extracted retardance should be dependent on the RMS error of the calibration matrix"
   ]
  },
  {
   "cell_type": "code",
   "execution_count": 18,
   "metadata": {},
   "outputs": [
    {
     "name": "stdout",
     "output_type": "stream",
     "text": [
      "0.11808961133074575 0.12215997113443675\n"
     ]
    }
   ],
   "source": [
    "lower_retardance = np.arccos(MSample_1550[3, 3] + RMS_calculator(MCal_1550))/(2*np.pi)\n",
    "upper_retardance = np.arccos(MSample_1550[3, 3] - RMS_calculator(MCal_1550))/(2*np.pi)\n",
    "print(lower_retardance, upper_retardance)"
   ]
  },
  {
   "cell_type": "code",
   "execution_count": 17,
   "metadata": {},
   "outputs": [
    {
     "name": "stdout",
     "output_type": "stream",
     "text": [
      "0.0020213457469131224 0.0375553339236601\n"
     ]
    }
   ],
   "source": [
    "upper_retardance_error = upper_retardance - data_1550[1]\n",
    "lower_retardance_error = data_1550[1] - lower_retardance\n",
    "print(upper_retardance_error, lower_retardance_error)"
   ]
  },
  {
   "cell_type": "code",
   "execution_count": 33,
   "metadata": {},
   "outputs": [],
   "source": [
    "def retardance_error(M_sample, retardance, M_cal):\n",
    "# Use the difference between the identity matrix and the retardance input of the calibration matrix. Might use RMS of whole M_cal instead later\n",
    "    lower_retardance = np.arccos(M_sample[3, 3] + (1 - M_cal[3, 3]))/(2*np.pi)\n",
    "    upper_retardance = np.arccos(M_sample[3, 3] - (1 - M_cal[3, 3]))/(2*np.pi)\n",
    "\n",
    "    lower_retardance_error = retardance - lower_retardance\n",
    "    #print(retardance, lower_retardance)\n",
    "    upper_retardance_error = upper_retardance - retardance\n",
    "    retardance_error = [lower_retardance_error, upper_retardance_error]\n",
    "    return retardance_error"
   ]
  },
  {
   "cell_type": "code",
   "execution_count": 35,
   "metadata": {},
   "outputs": [
    {
     "name": "stdout",
     "output_type": "stream",
     "text": [
      "Warning: low flux detected, check the image Reduced_DRRP_L_1400nm_550_1.8_39.9999755859375.fits, index: 10\n",
      "Warning: low flux detected, check the image Reduced_DRRP_L_1400nm_550_1.8_51.99996826171875.fits, index: 13\n",
      "Warning: low flux detected, check the image Reduced_DRRP_L_1400nm_550_1.8_59.999963378906244.fits, index: 15\n",
      "Warning: low flux detected, check the image Reduced_DRRP_L_1400nm_550_1.8_95.99994140624999.fits, index: 24\n",
      "Warning: low flux detected, check the image Reduced_DRRP_L_1400nm_550_1.8_151.9999072265625.fits, index: 38\n"
     ]
    }
   ],
   "source": [
    "reduced_filename = 'Reduced_DRRP_'\n",
    "reduced_folder = \"/home/shared/exoserver/Lab_Data/Mueller_Matrix_Polarimeter/L_Plate_Characterization/Calibration/Calibration_Reduced/Cal_1400_Reduced/\"\n",
    "lcenter = [258, 255]\n",
    "rcenter = [258, 332]\n",
    "maxradius = 10\n",
    "cutoff = 5000\n",
    "\n",
    "extracted_data = extract_intensities(reduced_filename, reduced_folder, lcenter, rcenter, maxradius, cutoff)\n",
    "Cal_Il_1400 = extracted_data[0]\n",
    "Cal_Ir_1400 = extracted_data[1]\n",
    "Cal_theta1400 = extracted_data[2]"
   ]
  },
  {
   "cell_type": "code",
   "execution_count": 36,
   "metadata": {},
   "outputs": [
    {
     "name": "stdout",
     "output_type": "stream",
     "text": [
      "Warning: low flux detected, check the image Reduced_DRRP_L_1400nm_550_1.8_35.99997802734375.fits, index: 9\n",
      "Warning: low flux detected, check the image Reduced_DRRP_L_1400nm_550_1.8_43.999973144531246.fits, index: 11\n",
      "Warning: low flux detected, check the image Reduced_DRRP_L_1400nm_550_1.8_67.99995849609374.fits, index: 17\n",
      "Warning: low flux detected, check the image Reduced_DRRP_L_1400nm_550_1.8_91.99994384765624.fits, index: 23\n",
      "Warning: low flux detected, check the image Reduced_DRRP_L_1400nm_550_1.8_171.99989501953124.fits, index: 43\n"
     ]
    }
   ],
   "source": [
    "reduced_filename = 'Reduced_DRRP_'\n",
    "reduced_folder = \"/home/shared/exoserver/Lab_Data/Mueller_Matrix_Polarimeter/L_Plate_Characterization/Reduced_Data/Reduced_L_1400/\"\n",
    "lcenter = [322, 250]\n",
    "rcenter = [322, 325]\n",
    "maxradius = 10\n",
    "cutoff = 5000\n",
    "\n",
    "extracted_data = extract_intensities(reduced_filename, reduced_folder, lcenter, rcenter, maxradius, cutoff)\n",
    "Il_1400 = extracted_data[0]\n",
    "Ir_1400 = extracted_data[1]\n",
    "theta1400 = extracted_data[2]"
   ]
  },
  {
   "cell_type": "code",
   "execution_count": 25,
   "metadata": {},
   "outputs": [
    {
     "data": {
      "text/plain": [
       "0.5770738298065697"
      ]
     },
     "execution_count": 25,
     "metadata": {},
     "output_type": "execute_result"
    }
   ],
   "source": [
    "Msample1550 = data_1550[0]\n",
    "Mcal1550 = data_1550[2]\n",
    "np.arccos(Msample1550[3, 3] + (1-Mcal1550[3, 3]))\n",
    "#print(Mcal1550[3, 3])"
   ]
  },
  {
   "cell_type": "code",
   "execution_count": 27,
   "metadata": {},
   "outputs": [
    {
     "data": {
      "text/plain": [
       "0.10969057355489853"
      ]
     },
     "execution_count": 27,
     "metadata": {},
     "output_type": "execute_result"
    }
   ],
   "source": [
    "1-Mcal1550[3,3]"
   ]
  },
  {
   "cell_type": "code",
   "execution_count": 34,
   "metadata": {},
   "outputs": [
    {
     "data": {
      "text/plain": [
       "[0.028294472844836924, 0.02369493944296544]"
      ]
     },
     "execution_count": 34,
     "metadata": {},
     "output_type": "execute_result"
    }
   ],
   "source": [
    "retardance_error(data_1550[0], data_1550[1], data_1550[2])"
   ]
  },
  {
   "cell_type": "code",
   "execution_count": 91,
   "metadata": {},
   "outputs": [
    {
     "data": {
      "text/plain": [
       "0.002035179901845499"
      ]
     },
     "execution_count": 91,
     "metadata": {},
     "output_type": "execute_result"
    }
   ],
   "source": [
    "np.abs((upper_retardance-lower_retardance)/2)"
   ]
  },
  {
   "cell_type": "markdown",
   "metadata": {},
   "source": [
    "Work on modifying the fitting method so that the initial guess has some randomization. Then perform multiple fits and choose the one with the lowest error in the calibration matrix"
   ]
  },
  {
   "cell_type": "code",
   "execution_count": 3,
   "metadata": {},
   "outputs": [
    {
     "name": "stdout",
     "output_type": "stream",
     "text": [
      "Warning: low flux detected, check the image Reduced_DRRP_L_1600nm_550_1.8_95.99994140624999.fits, index: 24\n"
     ]
    }
   ],
   "source": [
    "# Calibration for 1600 nm\n",
    "reduced_filename = 'Reduced_DRRP_'\n",
    "#reduced_folder = r\"C:\\\\Users\\\\EPL User\\\\Desktop\\\\L_Plate_Characterization\\\\Calibration\\\\Calibration_Reduced\\\\Cal_1600_Reduced\\\\\"\n",
    "reduced_folder = \"/home/shared/exoserver/Lab_Data/Mueller_Matrix_Polarimeter/L_Plate_Characterization/Calibration/Calibration_Reduced/Cal_1600_Reduced/\"\n",
    "lcenter = [258, 255]\n",
    "rcenter = [258, 332]\n",
    "maxradius = 10\n",
    "cutoff = 5000\n",
    "\n",
    "extracted_data = extract_intensities(reduced_filename, reduced_folder, lcenter, rcenter, maxradius, cutoff)\n",
    "Cal_Il_1600 = extracted_data[0]\n",
    "Cal_Ir_1600 = extracted_data[1]\n",
    "Cal_theta1600 = extracted_data[2]"
   ]
  },
  {
   "cell_type": "code",
   "execution_count": 7,
   "metadata": {},
   "outputs": [],
   "source": [
    "# offset in angle will be between 0 and 25 degrees (convert to radians)\n",
    "import random"
   ]
  },
  {
   "cell_type": "code",
   "execution_count": 32,
   "metadata": {},
   "outputs": [
    {
     "name": "stdout",
     "output_type": "stream",
     "text": [
      "-0.06859352093443166\n"
     ]
    }
   ],
   "source": [
    "random_number1 = random.uniform(-0.4, 0.4)\n",
    "print(random_number1)"
   ]
  },
  {
   "cell_type": "code",
   "execution_count": 43,
   "metadata": {},
   "outputs": [
    {
     "data": {
      "text/plain": [
       "0.16666666666666666"
      ]
     },
     "execution_count": 43,
     "metadata": {},
     "output_type": "execute_result"
    }
   ],
   "source": [
    "np.pi/3/(2*np.pi)"
   ]
  },
  {
   "cell_type": "code",
   "execution_count": 78,
   "metadata": {},
   "outputs": [],
   "source": [
    "# add randomization to the initial guesses\n",
    "def q_calibration_fitting(cal_angles, cal_left_intensity, cal_right_intensity):\n",
    "    QCal = cal_right_intensity - cal_left_intensity # Plus should be the right spot, minus the left spot\n",
    "    initial_guess = [random.uniform(-0.5, 0.5), random.uniform(-0.5, 0.5), random.uniform(-0.5, 0.5), random.uniform(-np.pi/3, np.pi/3), random.uniform(-np.pi/3, np.pi/3)]\n",
    "    parameter_bounds = ([-np.pi, -np.pi, -np.pi, -np.pi/2, -np.pi/2], [np.pi, np.pi, np.pi, np.pi/2, np.pi/2])\n",
    "\n",
    "    # Find parameters from calibration of the left spot\n",
    "    normalized_QCal = QCal/(max(QCal))\n",
    "    popt, pcov = curve_fit(q_calibration_function, cal_angles, normalized_QCal, p0=initial_guess, bounds=parameter_bounds)\n",
    "    #print(popt, \"Fit parameters for a1, w1, w2, r1, and r2. 1 for generator, 2 for analyzer\")\n",
    "\n",
    "    # The calibration matrix (should be close to identity) to see how well the parameters compensate\n",
    "    MCal = q_calibrated_full_mueller_polarimetry(cal_angles, popt[0], popt[1], popt[2], popt[3], popt[4], cal_left_intensity, cal_right_intensity)\n",
    "    MCal = MCal/np.max(np.abs(MCal))\n",
    "    RMS_Error = RMS_calculator(MCal)\n",
    "    #print(RMS_Error, \"RMS error of the calibration matrix\")\n",
    "    return popt, RMS_Error"
   ]
  },
  {
   "cell_type": "code",
   "execution_count": 61,
   "metadata": {},
   "outputs": [
    {
     "name": "stdout",
     "output_type": "stream",
     "text": [
      "[-0.01760296  0.00679313 -0.09806016 -0.06056649 -0.06369491] Fit parameters for a1, w1, w2, r1, and r2. 1 for generator, 2 for analyzer\n",
      "0.011000776089360826 RMS error of the calibration matrix\n",
      "0.011000776089360826\n"
     ]
    }
   ],
   "source": [
    "test_parameters = q_calibration_fitting(Cal_theta1600, Cal_Il_1600, Cal_Ir_1600)\n",
    "print(test_parameters[1])"
   ]
  },
  {
   "cell_type": "code",
   "execution_count": 79,
   "metadata": {},
   "outputs": [
    {
     "data": {
      "text/plain": [
       "0.011000022536123574"
      ]
     },
     "execution_count": 79,
     "metadata": {},
     "output_type": "execute_result"
    }
   ],
   "source": [
    "q_calibration_fitting(Cal_theta1600, Cal_Il_1600, Cal_Ir_1600)[1]"
   ]
  },
  {
   "cell_type": "code",
   "execution_count": 74,
   "metadata": {},
   "outputs": [
    {
     "name": "stdout",
     "output_type": "stream",
     "text": [
      "[[0. 0. 0. 0.]\n",
      " [0. 0. 0. 0.]\n",
      " [0. 0. 0. 0.]\n",
      " [0. 0. 0. 0.]]\n"
     ]
    }
   ],
   "source": [
    "splat = np.zeros([4,4])\n",
    "print(splat)"
   ]
  },
  {
   "cell_type": "code",
   "execution_count": 86,
   "metadata": {},
   "outputs": [
    {
     "name": "stdout",
     "output_type": "stream",
     "text": [
      "[[0. 1. 0. 0.]\n",
      " [0. 0. 0. 0.]\n",
      " [0. 0. 0. 0.]\n",
      " [0. 0. 0. 0.]]\n"
     ]
    }
   ],
   "source": [
    "splat[0,1] = 1\n",
    "print(splat)"
   ]
  },
  {
   "cell_type": "code",
   "execution_count": 96,
   "metadata": {},
   "outputs": [
    {
     "name": "stdout",
     "output_type": "stream",
     "text": [
      "[1, 2, 3]\n"
     ]
    }
   ],
   "source": [
    "splat3 = [1, 2, 3]\n",
    "print(splat3)"
   ]
  },
  {
   "cell_type": "code",
   "execution_count": 98,
   "metadata": {},
   "outputs": [
    {
     "ename": "ValueError",
     "evalue": "setting an array element with a sequence.",
     "output_type": "error",
     "traceback": [
      "\u001b[0;31m---------------------------------------------------------------------------\u001b[0m",
      "\u001b[0;31mTypeError\u001b[0m                                 Traceback (most recent call last)",
      "\u001b[0;31mTypeError\u001b[0m: float() argument must be a string or a number, not 'list'",
      "\nThe above exception was the direct cause of the following exception:\n",
      "\u001b[0;31mValueError\u001b[0m                                Traceback (most recent call last)",
      "Cell \u001b[0;32mIn[98], line 2\u001b[0m\n\u001b[1;32m      1\u001b[0m splat2 \u001b[38;5;241m=\u001b[39m np\u001b[38;5;241m.\u001b[39mzeros([\u001b[38;5;241m10\u001b[39m, \u001b[38;5;241m3\u001b[39m])\n\u001b[0;32m----> 2\u001b[0m \u001b[43msplat2\u001b[49m\u001b[43m[\u001b[49m\u001b[38;5;241;43m3\u001b[39;49m\u001b[43m,\u001b[49m\u001b[43m \u001b[49m\u001b[38;5;241;43m0\u001b[39;49m\u001b[43m]\u001b[49m \u001b[38;5;241m=\u001b[39m splat3\n\u001b[1;32m      3\u001b[0m \u001b[38;5;28mprint\u001b[39m(splat2)\n",
      "\u001b[0;31mValueError\u001b[0m: setting an array element with a sequence."
     ]
    }
   ],
   "source": [
    "splat2 = np.zeros([10, 3])\n",
    "splat2[3] = splat3\n",
    "print(splat2)"
   ]
  },
  {
   "cell_type": "code",
   "execution_count": 100,
   "metadata": {},
   "outputs": [
    {
     "name": "stdout",
     "output_type": "stream",
     "text": [
      "[array([-0.01758995,  0.00682298, -0.0980498 , -0.06058391, -0.06370737]), array([-0.01759912,  0.00683006, -0.09805408, -0.06065043, -0.06374699]), array([-0.01759668,  0.00680992, -0.09805973, -0.0606001 , -0.06369143]), array([-0.01760248,  0.00680316, -0.09805653, -0.06061697, -0.06371056]), array([-0.01759601,  0.00681125, -0.0980571 , -0.0606019 , -0.06369968]), array([-0.01760823,  0.00680809, -0.09805934, -0.06059269, -0.06368841]), array([-0.01758864,  0.00681703, -0.09805838, -0.06058079, -0.0637043 ]), array([-0.01757462,  0.00680261, -0.09805477, -0.06063262, -0.06365823]), array([-0.01760123,  0.00680388, -0.09806782, -0.06062525, -0.06370319]), array([-0.01759526,  0.00681322, -0.0980544 , -0.06060169, -0.06369611])] [[0.01100306]\n",
      " [0.01100307]\n",
      " [0.01100538]\n",
      " [0.01100516]\n",
      " [0.01100232]\n",
      " [0.01100216]\n",
      " [0.01100279]\n",
      " [0.01100285]\n",
      " [0.01100097]\n",
      " [0.01100261]]\n",
      "[-0.01759912  0.00683006 -0.09805408 -0.06065043 -0.06374699]\n"
     ]
    }
   ],
   "source": [
    "parameters = []\n",
    "RMS_errors = np.zeros([10, 1])\n",
    "for i in range(0, 10):\n",
    "    parameters.append(q_calibration_fitting(Cal_theta1600, Cal_Il_1600, Cal_Ir_1600)[0])\n",
    "    RMS_errors[i, 0] = (q_calibration_fitting(Cal_theta1600, Cal_Il_1600, Cal_Ir_1600)[1])\n",
    "print(parameters, RMS_errors)\n",
    "print(parameters[1])"
   ]
  },
  {
   "cell_type": "code",
   "execution_count": null,
   "metadata": {},
   "outputs": [],
   "source": []
  }
 ],
 "metadata": {
  "kernelspec": {
   "display_name": "First_Light_SDK",
   "language": "python",
   "name": "python3"
  },
  "language_info": {
   "codemirror_mode": {
    "name": "ipython",
    "version": 3
   },
   "file_extension": ".py",
   "mimetype": "text/x-python",
   "name": "python",
   "nbconvert_exporter": "python",
   "pygments_lexer": "ipython3",
   "version": "3.8.10"
  }
 },
 "nbformat": 4,
 "nbformat_minor": 2
}
