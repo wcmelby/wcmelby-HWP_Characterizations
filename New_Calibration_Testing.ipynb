{
 "cells": [
  {
   "cell_type": "code",
   "execution_count": 1,
   "metadata": {},
   "outputs": [],
   "source": [
    "import numpy as np\n",
    "from numpy.linalg import inv\n",
    "from astropy.io import fits\n",
    "import os\n",
    "import re\n",
    "import matplotlib.pyplot as plt\n",
    "from scipy.optimize import curve_fit\n",
    "import textwrap"
   ]
  },
  {
   "cell_type": "code",
   "execution_count": 2,
   "metadata": {},
   "outputs": [],
   "source": [
    "#import New_DRRP_Functions as DRRP\n",
    "from New_DRRP_Functions import *"
   ]
  },
  {
   "cell_type": "code",
   "execution_count": 3,
   "metadata": {},
   "outputs": [],
   "source": [
    "# Theta from 0 to 180 degrees (for the first QWP). The second QWP rotates at 5 times this rate (25 degree increments)\n",
    "theta = np.linspace(0, np.pi, 37) # 5 degree increments for the first QWP\n",
    "longtheta = np.linspace(0, np.pi, 46) # 4 degree increments (this is preferred)\n",
    "degtheta = theta*180/np.pi"
   ]
  },
  {
   "cell_type": "code",
   "execution_count": 4,
   "metadata": {},
   "outputs": [],
   "source": [
    "# Define the identity matrix and other matrices which are useful for the Mueller calculus\n",
    "M_identity = np.array([[1, 0, 0, 0], [0, 1, 0, 0], [0, 0, 1, 0], [0, 0, 0, 1]])\n",
    "A = np.array([1, 0, 0, 0])\n",
    "B = np.array([[1], [0], [0], [0]])"
   ]
  },
  {
   "cell_type": "code",
   "execution_count": 5,
   "metadata": {},
   "outputs": [],
   "source": [
    "# Mueller matrix for a linear polarizer, with angle a between transmission axis and horizontal (radians)\n",
    "def linear_polarizer(a):\n",
    "    M01 = np.cos(2*a)\n",
    "    M02 = np.sin(2*a)\n",
    "    M10 = np.cos(2*a)\n",
    "    M11 = np.cos(2*a)**2\n",
    "    M12 = np.cos(2*a)*np.sin(2*a)\n",
    "    M20 = np.sin(2*a)\n",
    "    M21 = np.cos(2*a)*np.sin(2*a)\n",
    "    M22 = np.sin(2*a)**2\n",
    "\n",
    "    return 0.5*np.array([[1, M01, M02, 0], \n",
    "                         [M10, M11, M12, 0], \n",
    "                         [M20, M21, M22, 0], \n",
    "                         [0, 0, 0, 0]])"
   ]
  },
  {
   "cell_type": "code",
   "execution_count": 6,
   "metadata": {},
   "outputs": [],
   "source": [
    "# Mueller matrix for a linear retarder (waveplate). Angle of fast axis a, retardance r in radians\n",
    "def linear_retarder(a, r):\n",
    "    M11 = np.cos(2*a)**2 + np.cos(r)*np.sin(2*a)**2\n",
    "    M12 = np.cos(2*a)*np.sin(2*a)*(1-np.cos(r))\n",
    "    M13 = -np.sin(2*a)*np.sin(r)\n",
    "    M21 = M12\n",
    "    M22 = np.sin(2*a)**2 + np.cos(2*a)**2*np.cos(r)\n",
    "    M23 = np.cos(2*a)*np.sin(r)\n",
    "    M31 = -M13\n",
    "    M32 = -M23\n",
    "    M33 = np.cos(r)\n",
    "\n",
    "    return np.array([[1, 0, 0, 0], \n",
    "                     [0, M11, M12, M13], \n",
    "                     [0, M21, M22, M23], \n",
    "                     [0, M31, M32, M33]])"
   ]
  },
  {
   "cell_type": "code",
   "execution_count": 7,
   "metadata": {},
   "outputs": [],
   "source": [
    "# Sorting function for extracting filenames based on last number in the filename (the angle of rotation)\n",
    "def extract_number(filename):\n",
    "    match = re.findall(r'\\d+(?:\\.\\d+)?', filename)\n",
    "    if match:\n",
    "        return float(match[-1])"
   ]
  },
  {
   "cell_type": "code",
   "execution_count": 8,
   "metadata": {},
   "outputs": [],
   "source": [
    "# Gives the condition number of eventual Mueller matrix (made by Jaren)\n",
    "def condition_number(matrix):\n",
    "    minv = np.linalg.pinv(matrix)\n",
    "\n",
    "    # Compute maximum norm\n",
    "    norm = np.linalg.norm(matrix, ord=np.inf)\n",
    "    ninv = np.linalg.norm(minv, ord=np.inf)\n",
    "\n",
    "    return norm*ninv"
   ]
  },
  {
   "cell_type": "code",
   "execution_count": 4,
   "metadata": {},
   "outputs": [],
   "source": [
    "# Get intensity values from each spot in the reduced images. reduced_filename should just be the start of the name (leave out the last number, the angle). \n",
    "def extract_intensities(reduced_filename, reduced_folder, lcenter, rcenter, maxradius, cutoff=5000):\n",
    "    I_left = np.array([])\n",
    "    I_right = np.array([])\n",
    "    bad_indices = np.array([])\n",
    "    longtheta = np.linspace(0, np.pi, 46)\n",
    "\n",
    "    for filename in sorted(os.listdir(reduced_folder), key = extract_number):\n",
    "        if filename.startswith(reduced_filename):\n",
    "            with fits.open(os.path.join(reduced_folder, filename)) as hdul:\n",
    "                reduced_img_data = hdul[0].data\n",
    "                ys, xs, = np.indices(reduced_img_data.shape)\n",
    "                lradius = np.sqrt((ys-lcenter[0])**2+(xs-lcenter[1])**2)\n",
    "                rradius = np.sqrt((ys-rcenter[0])**2+(xs-rcenter[1])**2)\n",
    "\n",
    "                lbackground_mask = (lradius > 20) & (lradius < 26)\n",
    "                rbackground_mask = (rradius > 20) & (rradius < 26)   # Index the background around each spot, take the median value\n",
    "\n",
    "                background_lmedian = np.median(reduced_img_data[lbackground_mask])\n",
    "                background_rmedian = np.median(reduced_img_data[rbackground_mask])\n",
    "\n",
    "                lflux = np.sum(reduced_img_data[lradius < maxradius] - background_lmedian)   # Now take the flux with the background mask subtracted\n",
    "                rflux = np.sum(reduced_img_data[rradius < maxradius] - background_rmedian)\n",
    "                I_left = np.append(I_left, lflux)\n",
    "                I_right = np.append(I_right, rflux)\n",
    "\n",
    "                if lflux+rflux < cutoff:\n",
    "                    print(\"Warning: low flux detected, check the image \" + filename + \", index: \" + str(sorted(os.listdir(reduced_folder), key = extract_number).index(filename)))\n",
    "                    bad_indices = np.append(bad_indices, sorted(os.listdir(reduced_folder), key = extract_number).index(filename))\n",
    "                else:\n",
    "                    continue \n",
    "\n",
    "    # Makes the array a list of integers that can be used to index the other array\n",
    "    bad_indices = bad_indices.astype(int)\n",
    "    # Deletes the bad indices from the data\n",
    "    I_left = np.delete(I_left, bad_indices)\n",
    "    I_right = np.delete(I_right, bad_indices)\n",
    "    new_angles = np.delete(longtheta, bad_indices)\n",
    "\n",
    "    return I_left, I_right, new_angles, bad_indices"
   ]
  },
  {
   "cell_type": "code",
   "execution_count": 5,
   "metadata": {},
   "outputs": [],
   "source": [
    "# Original function to compute the Mueller matrix of a sample based on DRRP intensity measurements\n",
    "def original_full_mueller_polarimetry(thetas, I_meas=1, LPA_angle=0, return_condition_number=False, M_in=None):\n",
    "    nmeas = len(thetas)\n",
    "    Wmat = np.zeros([nmeas, 16])\n",
    "    Pmat = np.zeros([nmeas])\n",
    "    th = thetas\n",
    "\n",
    "    for i in range(nmeas):\n",
    "        # Mueller Matrix of generator (linear polarizer and a quarter wave plate)\n",
    "        Mg = linear_retarder(th[i], np.pi/2) @ linear_polarizer(0)\n",
    "\n",
    "        # Mueller Matrix of analyzer (one channel of the Wollaston prism is treated as a linear polarizer. The right spot is horizontal (0) and the left spot is vertical(pi/2))\n",
    "        Ma = linear_polarizer(LPA_angle) @ linear_retarder(th[i]*5, np.pi/2)\n",
    "\n",
    "        # Data reduction matrix. Taking the 0 index ensures that intensity is the output\n",
    "        Wmat[i,:] = np.kron(Ma[0,:], Mg[:,0])\n",
    "\n",
    "        # M_in is some example Mueller matrix. Providing this input will test theoretical Mueller matrix. Otherwise, the raw data is used\n",
    "        if M_in is not None:\n",
    "            Pmat[i] = (Ma[0,:] @ M_in @ Mg[:,0]) * I_meas\n",
    "        else:\n",
    "            Pmat[i] = I_meas[i]\n",
    "\n",
    "    # Compute Mueller matrix using Moore-Penrose pseudo invervse\n",
    "    M = np.linalg.pinv(Wmat) @ Pmat\n",
    "    M = np.reshape(M,[4,4])\n",
    "\n",
    "    if return_condition_number == True:\n",
    "        return M, condition_number(Wmat)\n",
    "    else:\n",
    "        return M"
   ]
  },
  {
   "cell_type": "code",
   "execution_count": 6,
   "metadata": {},
   "outputs": [],
   "source": [
    "# Modified function to compute the Mueller matrix of a sample based on DRRP intensity measurements\n",
    "# Needs both channel data at the same time to measure Q\n",
    "def modified_full_mueller_polarimetry(thetas, I_minus, I_plus, return_condition_number=False, M_in=None):\n",
    "    nmeas = len(thetas)  # Number of measurements\n",
    "    Wmat = np.zeros([nmeas, 16])\n",
    "    Pmat = np.zeros([nmeas])\n",
    "    th = thetas\n",
    "    Q = I_plus - I_minus   # Difference in intensities measured by the detector. Plus should be the right spot, minus the left spot\n",
    "    I_total = I_plus + I_minus\n",
    "\n",
    "    for i in range(nmeas):\n",
    "        # Mueller Matrix of generator (linear polarizer and a quarter wave plate)\n",
    "        Mg = linear_retarder(th[i], np.pi/2) @ linear_polarizer(0)\n",
    "\n",
    "        # Mueller Matrix of analyzer (one channel of the Wollaston prism is treated as a linear polarizer. The right spot is horizontal (0) and the left spot is vertical(pi/2))\n",
    "        #Ma = (linear_polarizer(0)-linear_polarizer(np.pi/2)) @ linear_retarder(th[i]*5, np.pi/2)\n",
    "        Ma = linear_retarder(th[i]*5, np.pi/2)  # take out the wollaston prism part, because we are essentially measuring Q directly after the quarter wave plate\n",
    "\n",
    "        # Ma and Mg are both 4x4 matrices, so the output is a 16x1 vector\n",
    "        Wmat[i,:] = np.kron((Ma)[1,:], Mg[:,0])\n",
    "        #Wmat[i,:] = np.kron(Ma_plus[1,:], Mg[:,1]) - np.kron(Ma_minus[1,:], Mg[:,1])\n",
    "\n",
    "        # M_in is some example Mueller matrix. Providing this input will test theoretical Mueller matrix. Otherwise, the raw data is used\n",
    "        if M_in is not None:\n",
    "            Pmat[i] = (Ma[1,:] @ M_in @ Mg[:,0])\n",
    "            #Pmat[i] = ((Ma_plus[1,:] @ M_in @ Mg[:,1]) - (Ma_minus[1,:] @ M_in @ Mg[:,1]))*1\n",
    "        else:\n",
    "            Pmat[i] = Q[i]  #Pmat is essentially what we are measuring, the normailzed Q. Maybe Q[i]/I_total[i]\n",
    "\n",
    "    # Compute Mueller matrix using Moore-Penrose pseudo invervse\n",
    "    M = np.linalg.pinv(Wmat) @ Pmat\n",
    "    M = np.reshape(M,[4,4])\n",
    "\n",
    "    if return_condition_number == True:\n",
    "        return M, condition_number(Wmat)\n",
    "    else:\n",
    "        return M"
   ]
  },
  {
   "cell_type": "code",
   "execution_count": 7,
   "metadata": {},
   "outputs": [],
   "source": [
    "# try to make a version using total intensity that just gives the top row of the Mueller matrix\n",
    "def top_modified_full_mueller_polarimetry(thetas, I_minus, I_plus, return_condition_number=False, M_in=None):\n",
    "    nmeas = len(thetas)  # Number of measurements\n",
    "    Wmat = np.zeros([nmeas, 16])\n",
    "    Pmat = np.zeros([nmeas])\n",
    "    th = thetas\n",
    "    Q = I_plus - I_minus   # Difference in intensities measured by the detector. Plus should be the right spot, minus the left spot\n",
    "    I_total = I_plus + I_minus\n",
    "\n",
    "    for i in range(nmeas):\n",
    "        # Mueller Matrix of generator (linear polarizer and a quarter wave plate)\n",
    "        Mg = linear_retarder(th[i], np.pi/2) @ linear_polarizer(0)\n",
    "\n",
    "        # Mueller Matrix of analyzer (one channel of the Wollaston prism is treated as a linear polarizer. The right spot is horizontal (0) and the left spot is vertical(pi/2))\n",
    "        #Ma = (linear_polarizer(0)-linear_polarizer(np.pi/2)) @ linear_retarder(th[i]*5, np.pi/2)\n",
    "        Ma = linear_retarder(th[i]*5, np.pi/2)  # take out the wollaston prism part, because we are essentially measuring Q directly after the quarter wave plate\n",
    "\n",
    "        # Ma and Mg are both 4x4 matrices, so the output is a 16x1 vector\n",
    "        Wmat[i,:] = np.kron((Ma)[0,:], Mg[:,0])\n",
    "        #Wmat[i,:] = np.kron(Ma_plus[1,:], Mg[:,1]) - np.kron(Ma_minus[1,:], Mg[:,1])\n",
    "\n",
    "        # M_in is some example Mueller matrix. Providing this input will test theoretical Mueller matrix. Otherwise, the raw data is used\n",
    "        if M_in is not None:\n",
    "            Pmat[i] = (Ma[0,:] @ M_in @ Mg[:,0])\n",
    "            #Pmat[i] = ((Ma_plus[1,:] @ M_in @ Mg[:,1]) - (Ma_minus[1,:] @ M_in @ Mg[:,1]))*1\n",
    "        else:\n",
    "            Pmat[i] = I_total[i]  #Pmat is essentially what we are measuring, the normailzed Q\n",
    "\n",
    "    # Compute Mueller matrix using Moore-Penrose pseudo invervse\n",
    "    M = np.linalg.pinv(Wmat) @ Pmat\n",
    "    M = np.reshape(M,[4,4])\n",
    "\n",
    "    if return_condition_number == True:\n",
    "        return M, condition_number(Wmat)\n",
    "    else:\n",
    "        return M"
   ]
  },
  {
   "cell_type": "code",
   "execution_count": 47,
   "metadata": {},
   "outputs": [],
   "source": [
    "# Returns the sum of two matrices, one calculated using I to get the top row, and the other using Q to get the bottom 3 rows\n",
    "def combined_full_mueller_polarimetry(thetas, I_minus, I_plus, M_in=None):\n",
    "    nmeas = len(thetas)  # Number of measurements\n",
    "    Wmat1 = np.zeros([nmeas, 16])\n",
    "    Pmat1 = np.zeros([nmeas])\n",
    "    Wmat2 = np.zeros([nmeas, 16])\n",
    "    Pmat2 = np.zeros([nmeas])\n",
    "    th = thetas\n",
    "    Q = I_plus - I_minus   # Difference in intensities measured by the detector. Plus should be the right spot, minus the left spot\n",
    "    I_total = I_plus + I_minus\n",
    "\n",
    "    for i in range(nmeas):\n",
    "        Mg = linear_retarder(th[i], np.pi/2) @ linear_polarizer(0) # Mueller matrix of generator (linear polarizer and quarter wave plate)\n",
    "\n",
    "        # The right spot is horizontal (angle=0, I plus) and the left spot is vertical (angle=pi/2, I minus)\n",
    "        Ma = linear_retarder(th[i]*5, np.pi/2)  # Mueller matrix of analyzer (quarter wave plate)\n",
    "\n",
    "        # Ma and Mg are both 4x4 matrices, so the output is a 16x1 vector\n",
    "        Wmat1[i,:] = np.kron((Ma)[0,:], Mg[:,0]) # for the top row, using intensities\n",
    "        Wmat2[i,:] = np.kron((Ma)[1,:], Mg[:,0]) # for the bottom 3 rows, using Q\n",
    "\n",
    "        # M_in is some example Mueller matrix. Providing this input will test theoretical Mueller matrix. Otherwise, the raw data is used\n",
    "        if M_in is not None:\n",
    "            Pmat1[i] = (Ma[0,:] @ M_in @ Mg[:,0])\n",
    "            Pmat2[i] = (Ma[1,:] @ M_in @ Mg[:,0])\n",
    "        else:\n",
    "            Pmat1[i] = I_total[i]  #Pmat is a vector of measurements (either I or Q)\n",
    "            Pmat2[i] = Q[i] # Divide by I?\n",
    "\n",
    "    # Compute Mueller matrix using Moore-Penrose pseudo invervse\n",
    "    M1 = np.linalg.pinv(Wmat1) @ Pmat1\n",
    "    M1 = np.reshape(M1, [4,4])\n",
    "\n",
    "    M2 = np.linalg.pinv(Wmat2) @ Pmat2\n",
    "    M2 = np.reshape(M2, [4,4])\n",
    "\n",
    "    M = np.zeros([4,4])\n",
    "    M[0,:] = M1[0,:]\n",
    "    M[1:4,:] = M2[1:4,:]\n",
    "\n",
    "    return M"
   ]
  },
  {
   "cell_type": "markdown",
   "metadata": {},
   "source": [
    "Note the difference between defining filepath in Windows (top) vs Linux (bottom)"
   ]
  },
  {
   "cell_type": "code",
   "execution_count": 10,
   "metadata": {},
   "outputs": [
    {
     "name": "stdout",
     "output_type": "stream",
     "text": [
      "Warning: low flux detected, check the image Reduced_DRRP_L_1600nm_550_1.8_95.99994140624999.fits, index: 24\n"
     ]
    }
   ],
   "source": [
    "reduced_filename = 'Reduced_DRRP_'\n",
    "#reduced_folder = r\"C:\\\\Users\\\\EPL User\\\\Desktop\\\\L_Plate_Characterization\\\\Calibration\\\\Calibration_Reduced\\\\Cal_1600_Reduced\\\\\"\n",
    "reduced_folder = \"/home/shared/exoserver/Lab_Data/Mueller_Matrix_Polarimeter/L_Plate_Characterization/Calibration/Calibration_Reduced/Cal_1600_Reduced/\"\n",
    "lcenter = [258, 255]\n",
    "rcenter = [258, 332]\n",
    "maxradius = 10\n",
    "cutoff = 5000\n",
    "\n",
    "extracted_data = extract_intensities(reduced_filename, reduced_folder, lcenter, rcenter, maxradius, cutoff)\n",
    "Cal_Il_1600 = extracted_data[0]\n",
    "Cal_Ir_1600 = extracted_data[1]\n",
    "Cal_theta1600 = extracted_data[2]"
   ]
  },
  {
   "cell_type": "code",
   "execution_count": 40,
   "metadata": {},
   "outputs": [
    {
     "name": "stdout",
     "output_type": "stream",
     "text": [
      "[[ 1.          0.05152693  0.20517248  0.00178048]\n",
      " [-0.01048165  0.92522473 -0.48160509  0.00187048]\n",
      " [-0.03737062  0.4777589   0.91871019  0.00526699]\n",
      " [ 0.0040122  -0.00341311 -0.00120618  0.98459564]]\n",
      "[[ 1.00000000e+00 -5.00787093e-02 -1.96260741e-01  1.77788613e-04]\n",
      " [-5.58379564e-03  9.06623893e-01 -4.55664149e-01  1.16617389e-03]\n",
      " [-3.88739259e-02  4.59614971e-01  8.82645393e-01 -2.14018921e-03]\n",
      " [-7.49722616e-04  1.34843279e-03 -2.76461362e-03  9.61475066e-01]]\n",
      "0.1757502176527439\n"
     ]
    }
   ],
   "source": [
    "M1 = original_full_mueller_polarimetry(Cal_theta1600, Cal_Ir_1600, 0)\n",
    "M1 = M1/np.max(M1)\n",
    "print(M1)\n",
    "M2 = original_full_mueller_polarimetry(Cal_theta1600, Cal_Il_1600, np.pi/2)\n",
    "M2 = M2/np.max(M2)\n",
    "print(M2)\n",
    "print(np.arccos(M1[3,3]))"
   ]
  },
  {
   "cell_type": "code",
   "execution_count": 15,
   "metadata": {},
   "outputs": [
    {
     "name": "stdout",
     "output_type": "stream",
     "text": [
      "[[1 2 3 4]\n",
      " [2 2 2 2]\n",
      " [3 3 3 3]\n",
      " [4 4 4 4]]\n"
     ]
    },
    {
     "data": {
      "text/plain": [
       "array([2, 4, 6, 8, 2, 4, 6, 8, 2, 4, 6, 8, 2, 4, 6, 8])"
      ]
     },
     "execution_count": 15,
     "metadata": {},
     "output_type": "execute_result"
    }
   ],
   "source": [
    "M_ex = np.array([[1, 2, 3, 4], [2, 2, 2, 2], [3, 3, 3, 3], [4, 4, 4, 4]])\n",
    "print(M_ex)\n",
    "np.kron(M_ex[1,:], M_ex[:,0])"
   ]
  },
  {
   "cell_type": "code",
   "execution_count": 13,
   "metadata": {},
   "outputs": [],
   "source": [
    "theta_ex = np.linspace(0, np.pi, 37)\n",
    "Cal_Il_1600_ex = np.linspace(0, np.pi, 37)\n",
    "Cal_Ir_1600_ex = np.linspace(0, np.pi, 37)"
   ]
  },
  {
   "cell_type": "code",
   "execution_count": 13,
   "metadata": {},
   "outputs": [
    {
     "name": "stdout",
     "output_type": "stream",
     "text": [
      "[[ 0.00000000e+00 -9.41602747e-16 -8.64861082e-16 -2.08098438e-15]\n",
      " [ 2.00000000e+00  2.00000000e+00  2.00000000e+00  2.00000000e+00]\n",
      " [ 3.00000000e+00  3.00000000e+00  3.00000000e+00  3.00000000e+00]\n",
      " [ 4.00000000e+00  4.00000000e+00  4.00000000e+00  4.00000000e+00]]\n"
     ]
    }
   ],
   "source": [
    "# Version with (M+ - M-). It doesn't seem to make a difference\n",
    "# Works for the top row but not the others\n",
    "M6 = modified_full_mueller_polarimetry(theta_ex, Cal_Il_1600_ex, Cal_Ir_1600_ex, M_in=M_ex)\n",
    "print(M6)"
   ]
  },
  {
   "cell_type": "code",
   "execution_count": 22,
   "metadata": {},
   "outputs": [
    {
     "name": "stdout",
     "output_type": "stream",
     "text": [
      "[[1. 2. 3. 4.]\n",
      " [0. 0. 0. 0.]\n",
      " [0. 0. 0. 0.]\n",
      " [0. 0. 0. 0.]]\n"
     ]
    }
   ],
   "source": [
    "M7 = top_modified_full_mueller_polarimetry(theta_ex, Cal_Il_1600_ex, Cal_Ir_1600_ex, M_in=M_ex)\n",
    "print(M7)"
   ]
  },
  {
   "cell_type": "code",
   "execution_count": 33,
   "metadata": {},
   "outputs": [
    {
     "name": "stdout",
     "output_type": "stream",
     "text": [
      "[[1. 2. 3. 4.]\n",
      " [2. 2. 2. 2.]\n",
      " [3. 3. 3. 3.]\n",
      " [4. 4. 4. 4.]]\n"
     ]
    }
   ],
   "source": [
    "M8 = combined_full_mueller_polarimetry(theta_ex, Cal_Il_1600_ex, Cal_Ir_1600_ex, M_in=M_ex)\n",
    "print(M8)"
   ]
  },
  {
   "cell_type": "code",
   "execution_count": 38,
   "metadata": {},
   "outputs": [
    {
     "name": "stdout",
     "output_type": "stream",
     "text": [
      "[[ 1.00000000e+00 -5.00787093e-02 -1.96260741e-01  1.77788613e-04]\n",
      " [-5.58379564e-03  9.06623893e-01 -4.55664149e-01  1.16617389e-03]\n",
      " [-3.88739259e-02  4.59614971e-01  8.82645393e-01 -2.14018921e-03]\n",
      " [-7.49722616e-04  1.34843279e-03 -2.76461362e-03  9.61475066e-01]]\n"
     ]
    }
   ],
   "source": [
    "print(combined_full_mueller_polarimetry(theta_ex, Cal_Il_1600_ex, Cal_Ir_1600_ex, M_in=M2))"
   ]
  },
  {
   "cell_type": "code",
   "execution_count": 48,
   "metadata": {},
   "outputs": [
    {
     "name": "stdout",
     "output_type": "stream",
     "text": [
      "[[ 1.          0.00148209 -0.0019202   0.00117834]\n",
      " [-0.01612105  0.97855426 -0.20289116  0.00301233]\n",
      " [-0.03368077  0.44931743  0.89274259  0.0037962 ]\n",
      " [ 0.00386122 -0.01093588 -0.00640964  0.97519054]]\n"
     ]
    }
   ],
   "source": [
    "M9 = combined_full_mueller_polarimetry(Cal_theta1600, Cal_Il_1600, Cal_Ir_1600)\n",
    "M9 = M9/np.max(M9)\n",
    "print(M9)"
   ]
  },
  {
   "cell_type": "code",
   "execution_count": 46,
   "metadata": {},
   "outputs": [
    {
     "name": "stdout",
     "output_type": "stream",
     "text": [
      "[[ 0.          0.0515608   0.19434054  0.00100056]\n",
      " [-0.01053725  0.07193037  0.25277298  0.00184616]\n",
      " [ 0.00519315 -0.01029754  0.01009719  0.00593639]\n",
      " [ 0.00461094 -0.01228432 -0.00364503  0.01371548]]\n"
     ]
    }
   ],
   "source": [
    "print(M9-M2)"
   ]
  },
  {
   "cell_type": "code",
   "execution_count": null,
   "metadata": {},
   "outputs": [],
   "source": []
  }
 ],
 "metadata": {
  "kernelspec": {
   "display_name": "First_Light_SDK",
   "language": "python",
   "name": "python3"
  },
  "language_info": {
   "codemirror_mode": {
    "name": "ipython",
    "version": 3
   },
   "file_extension": ".py",
   "mimetype": "text/x-python",
   "name": "python",
   "nbconvert_exporter": "python",
   "pygments_lexer": "ipython3",
   "version": "3.8.10"
  }
 },
 "nbformat": 4,
 "nbformat_minor": 2
}
