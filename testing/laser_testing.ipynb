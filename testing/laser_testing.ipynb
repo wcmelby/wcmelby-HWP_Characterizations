{
 "cells": [
  {
   "cell_type": "code",
   "execution_count": null,
   "metadata": {},
   "outputs": [
    {
     "name": "stdout",
     "output_type": "stream",
     "text": [
      "Collecting git+https://github.com/UCSB-Exoplanet-Polarimetry-Lab/NKT_laser_control.git\n",
      "  Cloning https://github.com/UCSB-Exoplanet-Polarimetry-Lab/NKT_laser_control.git to c:\\users\\epl user\\appdata\\local\\temp\\pip-req-build-mu9afyso\n",
      "  Resolved https://github.com/UCSB-Exoplanet-Polarimetry-Lab/NKT_laser_control.git to commit a8c96ba9711b9c5989ac3feda4618f3a70e5a7bd\n",
      "  Preparing metadata (setup.py): started\n",
      "  Preparing metadata (setup.py): finished with status 'done'\n",
      "Building wheels for collected packages: NKTcontrols\n",
      "  Building wheel for NKTcontrols (setup.py): started\n",
      "  Building wheel for NKTcontrols (setup.py): finished with status 'done'\n",
      "  Created wheel for NKTcontrols: filename=NKTcontrols-0.1.0-py3-none-any.whl size=16831 sha256=1f33860c7ada925ef5ab38b2b274392a3d8936ab5c4809fc1f07dce863fae609\n",
      "  Stored in directory: C:\\Users\\EPL User\\AppData\\Local\\Temp\\pip-ephem-wheel-cache-1nfl_5sb\\wheels\\f1\\69\\20\\50799e4fac7b6eef9406684f7a71f947b231219f7898796d22\n",
      "Successfully built NKTcontrols\n",
      "Installing collected packages: NKTcontrols\n",
      "Successfully installed NKTcontrols-0.1.0\n",
      "Note: you may need to restart the kernel to use updated packages.\n"
     ]
    },
    {
     "name": "stderr",
     "output_type": "stream",
     "text": [
      "WARNING: Ignoring invalid distribution -yerfa (c:\\users\\epl user\\.conda\\envs\\first_light_sdk\\lib\\site-packages)\n",
      "WARNING: Ignoring invalid distribution -yerfa (c:\\users\\epl user\\.conda\\envs\\first_light_sdk\\lib\\site-packages)\n",
      "  Running command git clone --filter=blob:none --quiet https://github.com/UCSB-Exoplanet-Polarimetry-Lab/NKT_laser_control.git 'C:\\Users\\EPL User\\AppData\\Local\\Temp\\pip-req-build-mu9afyso'\n",
      "WARNING: Ignoring invalid distribution -yerfa (c:\\users\\epl user\\.conda\\envs\\first_light_sdk\\lib\\site-packages)\n",
      "WARNING: Ignoring invalid distribution -yerfa (c:\\users\\epl user\\.conda\\envs\\first_light_sdk\\lib\\site-packages)\n",
      "WARNING: Ignoring invalid distribution -yerfa (c:\\users\\epl user\\.conda\\envs\\first_light_sdk\\lib\\site-packages)\n",
      "WARNING: Ignoring invalid distribution -yerfa (c:\\users\\epl user\\.conda\\envs\\first_light_sdk\\lib\\site-packages)\n",
      "WARNING: Ignoring invalid distribution -yerfa (c:\\users\\epl user\\.conda\\envs\\first_light_sdk\\lib\\site-packages)\n"
     ]
    }
   ],
   "source": [
    "# pip install git+https://github.com/UCSB-Exoplanet-Polarimetry-Lab/NKT_laser_control.git"
   ]
  },
  {
   "cell_type": "code",
   "execution_count": 12,
   "metadata": {},
   "outputs": [],
   "source": [
    "from NKTcontrols import controls"
   ]
  },
  {
   "cell_type": "code",
   "execution_count": 14,
   "metadata": {},
   "outputs": [],
   "source": [
    "from NKTcontrols.controls import compact, select, driver, get_status"
   ]
  },
  {
   "cell_type": "code",
   "execution_count": 17,
   "metadata": {},
   "outputs": [],
   "source": [
    "compact = compact()\n",
    "select = select()\n",
    "driver = driver()"
   ]
  }
 ],
 "metadata": {
  "kernelspec": {
   "display_name": "First_Light_SDK",
   "language": "python",
   "name": "python3"
  },
  "language_info": {
   "codemirror_mode": {
    "name": "ipython",
    "version": 3
   },
   "file_extension": ".py",
   "mimetype": "text/x-python",
   "name": "python",
   "nbconvert_exporter": "python",
   "pygments_lexer": "ipython3",
   "version": "3.10.11"
  }
 },
 "nbformat": 4,
 "nbformat_minor": 2
}
