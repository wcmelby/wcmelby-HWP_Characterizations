{
 "cells": [
  {
   "cell_type": "code",
   "execution_count": 114,
   "metadata": {},
   "outputs": [],
   "source": [
    "import sys\n",
    "import numpy as np\n",
    "import cv2\n",
    "import matplotlib.pyplot as plt\n",
    "from astropy.io import fits\n",
    "sys.path.insert(0, 'C:\\\\Users\\\\EPL User\\\\Documents\\\\GitHub\\wcmelby-HWP_Characterizations\\\\operational_scripts')\n",
    "# from New_DRRP_Functions import *\n",
    "from New_DRRP_Functions import extract_intensities, q_ultimate_polarimetry"
   ]
  },
  {
   "cell_type": "code",
   "execution_count": null,
   "metadata": {},
   "outputs": [],
   "source": [
    "# TODO: check for oversaturated pixels and remove them\n",
    "# TODO: correct dark subtraction for reduced images. Darks at this location: \"\"D:\\desktop_drrp_data\\test_12_17_2024\\darks\"\"\n",
    "# TODO: automate data reduction process\n",
    "# TODO: remove cutoff function?\n",
    "# TODO: make sure image taking functions (specifically darks) aren't taking the same images multiple times in a cube\n",
    "# TODO: make a function to automatically find the center of the beam and the radius. Use this to crop the image around the beam and only use those pixels"
   ]
  },
  {
   "cell_type": "code",
   "execution_count": 39,
   "metadata": {},
   "outputs": [],
   "source": [
    "# IT LOOKS LIKE THE IMAGES AREN'T CHANGING IN THE CUBE FOR DARKS!!"
   ]
  },
  {
   "cell_type": "code",
   "execution_count": 103,
   "metadata": {},
   "outputs": [
    {
     "name": "stdout",
     "output_type": "stream",
     "text": [
      "[[61147.     9.     0. ...  1711.  1859.  2548.]\n",
      " [ 1964.  2052.  1634. ...  1565.  6986.  4505.]\n",
      " [ 1905.  1570.  1629. ...  8112.  1573.  1928.]\n",
      " ...\n",
      " [ 1927.  1620.  1622. ...  1828.  1828.  1964.]\n",
      " [ 1926.  1477.  1539. ...  1573.  1697.  1697.]\n",
      " [ 2117.  1880.  1870. ...  1756.  1811.  2352.]]\n"
     ]
    }
   ],
   "source": [
    "# Test making a function to look for saturated pixels\n",
    "# img_file = r\"D:\\desktop_drrp_data\\test_12_17_2024\\darks\\-40C_tint_1_FPS_10.fits\"\n",
    "img_file = r\"D:\\desktop_drrp_data\\test_12_17_2024\\JHK_waveplate_measurement\\middle_position\\Cal_1100_Raw\\DRRP_JHK_Middle_Position_1100nm_FPS_10_tint_99_QWP1_position_20_QWP2_position_100.fits\"\n",
    "fits.open(img_file)\n",
    "dark = fits.getdata(img_file)\n",
    "print(dark)"
   ]
  },
  {
   "cell_type": "code",
   "execution_count": 99,
   "metadata": {},
   "outputs": [],
   "source": [
    "img_file = r\"D:\\desktop_drrp_data\\test_12_17_2024\\darks\\-40C_tint_1_FPS_10.fits\""
   ]
  },
  {
   "cell_type": "code",
   "execution_count": 100,
   "metadata": {},
   "outputs": [
    {
     "name": "stdout",
     "output_type": "stream",
     "text": [
      "[[36842.     5.     0. ...   951.  1016.  1109.]\n",
      " [ 1004.   991.  1071. ...   992.  1075.  1051.]\n",
      " [ 1059.  1038.  1127. ...  1141.  1057.  1168.]\n",
      " ...\n",
      " [ 1201.  1153.  1229. ...  1112.  1112.  1144.]\n",
      " [ 1191.  1065.  1122. ...  1102.  1031.  1031.]\n",
      " [ 1197.  1041.  1061. ...  1109.  1087.  1274.]]\n",
      "(512, 640)\n"
     ]
    }
   ],
   "source": [
    "with fits.open(img_file) as hdul:\n",
    "        img_data = hdul[0].data\n",
    "        hdul.close()\n",
    "        img_median = np.median(img_data, axis=0)\n",
    "        print(img_median)\n",
    "        print(img_median.shape)"
   ]
  },
  {
   "cell_type": "code",
   "execution_count": 102,
   "metadata": {},
   "outputs": [],
   "source": [
    "def find_saturated_pixels(img_file, value=16383):\n",
    "    \"\"\"\n",
    "    This function iterates over all the pixels in a fits image and returns the indices of the pixels that match the given value.\n",
    "    \n",
    "    Parameters:\n",
    "    img_file: Path to the fits file.\n",
    "    value: The value to search for in the img_median. Defaults to 16,383, which is the saturation limit for the CRED-2.\n",
    "    \n",
    "    Returns:\n",
    "    list: A list of indices (y,x) where the value is found.\n",
    "    \"\"\"\n",
    "    saturated_indices = []\n",
    "\n",
    "    # Works if img_file is a cube of images, not just one frame\n",
    "    with fits.open(img_file) as hdul:\n",
    "        img_data = hdul[0].data\n",
    "        hdul.close()\n",
    "        img_median = np.median(img_data, axis=0)\n",
    "        print(img_median.shape)\n",
    "\n",
    "        for i in range(img_median.shape[0]):\n",
    "            for j in range(img_median.shape[1]):\n",
    "                if img_median[i, j] == value:\n",
    "                    saturated_indices.append((i, j))\n",
    "\n",
    "    # returns indices in the form (y,x)\n",
    "    return saturated_indices"
   ]
  },
  {
   "cell_type": "code",
   "execution_count": null,
   "metadata": {},
   "outputs": [
    {
     "name": "stdout",
     "output_type": "stream",
     "text": [
      "(640,)\n"
     ]
    },
    {
     "ename": "IndexError",
     "evalue": "tuple index out of range",
     "output_type": "error",
     "traceback": [
      "\u001b[1;31m---------------------------------------------------------------------------\u001b[0m",
      "\u001b[1;31mIndexError\u001b[0m                                Traceback (most recent call last)",
      "Cell \u001b[1;32mIn[113], line 2\u001b[0m\n\u001b[0;32m      1\u001b[0m img_file \u001b[38;5;241m=\u001b[39m \u001b[38;5;124mr\u001b[39m\u001b[38;5;124m\"\u001b[39m\u001b[38;5;124mC:\u001b[39m\u001b[38;5;124m\\\u001b[39m\u001b[38;5;124mUsers\u001b[39m\u001b[38;5;124m\\\u001b[39m\u001b[38;5;124mEPL User\u001b[39m\u001b[38;5;124m\\\u001b[39m\u001b[38;5;124mDesktop\u001b[39m\u001b[38;5;124m\\\u001b[39m\u001b[38;5;124mdesktop_drrp_data\u001b[39m\u001b[38;5;124m\\\u001b[39m\u001b[38;5;124mtest_12_17_2024\u001b[39m\u001b[38;5;124m\\\u001b[39m\u001b[38;5;124mJHK_waveplate_measurement\u001b[39m\u001b[38;5;124m\\\u001b[39m\u001b[38;5;124mmiddle_position\u001b[39m\u001b[38;5;124m\\\u001b[39m\u001b[38;5;124mCal_1950_Raw\u001b[39m\u001b[38;5;124m\\\u001b[39m\u001b[38;5;124mDRRP_JHK_Middle_Position_1950nm_FPS_10_tint_3_QWP1_position_96_QWP2_position_480.fits\u001b[39m\u001b[38;5;124m\"\u001b[39m\n\u001b[1;32m----> 2\u001b[0m \u001b[43mfind_saturated_pixels\u001b[49m\u001b[43m(\u001b[49m\u001b[43mimg_file\u001b[49m\u001b[43m,\u001b[49m\u001b[43m \u001b[49m\u001b[38;5;241;43m5\u001b[39;49m\u001b[43m)\u001b[49m\n",
      "Cell \u001b[1;32mIn[102], line 22\u001b[0m, in \u001b[0;36mfind_saturated_pixels\u001b[1;34m(img_file, value)\u001b[0m\n\u001b[0;32m     19\u001b[0m \u001b[38;5;28mprint\u001b[39m(img_median\u001b[38;5;241m.\u001b[39mshape)\n\u001b[0;32m     21\u001b[0m \u001b[38;5;28;01mfor\u001b[39;00m i \u001b[38;5;129;01min\u001b[39;00m \u001b[38;5;28mrange\u001b[39m(img_median\u001b[38;5;241m.\u001b[39mshape[\u001b[38;5;241m0\u001b[39m]):\n\u001b[1;32m---> 22\u001b[0m     \u001b[38;5;28;01mfor\u001b[39;00m j \u001b[38;5;129;01min\u001b[39;00m \u001b[38;5;28mrange\u001b[39m(\u001b[43mimg_median\u001b[49m\u001b[38;5;241;43m.\u001b[39;49m\u001b[43mshape\u001b[49m\u001b[43m[\u001b[49m\u001b[38;5;241;43m1\u001b[39;49m\u001b[43m]\u001b[49m):\n\u001b[0;32m     23\u001b[0m         \u001b[38;5;28;01mif\u001b[39;00m img_median[i, j] \u001b[38;5;241m==\u001b[39m value:\n\u001b[0;32m     24\u001b[0m             saturated_indices\u001b[38;5;241m.\u001b[39mappend((i, j))\n",
      "\u001b[1;31mIndexError\u001b[0m: tuple index out of range"
     ]
    }
   ],
   "source": [
    "find_saturated_pixels(img_file, 5)"
   ]
  },
  {
   "cell_type": "code",
   "execution_count": 111,
   "metadata": {},
   "outputs": [],
   "source": [
    "def find_circles(image_file):\n",
    "    \"\"\"Find the center and radius of a circular bright spot.\n",
    "    \"\"\"\n",
    "    with fits.open(img_file) as hdul:\n",
    "        img_data = hdul[0].data\n",
    "        hdul.close()\n",
    "        # img_median = np.median(img_data, axis=0)\n",
    "        # print(img_median.shape)\n",
    "\n",
    "    # Step 1: Check the shape of the image data\n",
    "    print(f\"Image data shape: {img_data.shape}\")\n",
    "    \n",
    "    # Step 2: Preprocess the image (apply thresholding or smoothing)\n",
    "    clahe = cv2.createCLAHE(clipLimit=2.0, tileGridSize=(8, 8))\n",
    "    enhanced_image = clahe.apply(img_data.astype(np.uint8))\n",
    "    blurred_image = cv2.GaussianBlur(enhanced_image, (15, 15), 0)\n",
    "    \n",
    "    # Step 4: Threshold the image (adjust thresholding for faint circles)\n",
    "    _, thresholded_image = cv2.threshold(blurred_image, np.max(blurred_image) * 0.3, 255, cv2.THRESH_BINARY)\n",
    "\n",
    "    # Step 5: Apply Hough Circle Transform with adjusted parameters\n",
    "    circles = cv2.HoughCircles(thresholded_image.astype(np.uint8),\n",
    "                               cv2.HOUGH_GRADIENT, dp=1.2, minDist=30,\n",
    "                               param1=100, param2=20, minRadius=10, maxRadius=100)\n",
    "\n",
    "    if circles is not None:\n",
    "        circles = np.round(circles[0, :]).astype(\"int\")\n",
    "        for circle in circles:\n",
    "            center = (circle[0], circle[1])\n",
    "            radius = circle[2]\n",
    "            print(f\"Circle center: {center}, radius: {radius}\")\n",
    "            \n",
    "            # Optionally, draw the circle\n",
    "            output_image = img_data.copy()\n",
    "            cv2.circle(output_image, center, radius, (0, 255, 0), 4)  # Draw the circle\n",
    "            cv2.rectangle(output_image, (center[0] - 5, center[1] - 5),\n",
    "                          (center[0] + 5, center[1] + 5), (0, 128, 255), -1)  # Draw the center\n",
    "            \n",
    "            # Display the result\n",
    "            plt.imshow(output_image, cmap='gray')\n",
    "            plt.show()\n",
    "    else:\n",
    "        print(\"No circles detected.\")"
   ]
  },
  {
   "cell_type": "code",
   "execution_count": 83,
   "metadata": {},
   "outputs": [],
   "source": [
    "with fits.open(img_file) as hdul:\n",
    "    img_data = hdul[0].data\n",
    "    hdul.close()\n",
    "    img_median_file = np.median(img_data, axis=0)"
   ]
  },
  {
   "cell_type": "code",
   "execution_count": 115,
   "metadata": {},
   "outputs": [
    {
     "name": "stdout",
     "output_type": "stream",
     "text": [
      "Image data shape: (512, 640)\n",
      "No circles detected.\n"
     ]
    }
   ],
   "source": [
    "img_file = r\"C:\\Users\\EPL User\\Desktop\\desktop_drrp_data\\test_12_17_2024\\JHK_waveplate_measurement\\middle_position\\Cal_1950_Raw\\DRRP_JHK_Middle_Position_1950nm_FPS_10_tint_3_QWP1_position_96_QWP2_position_480.fits\"\n",
    "find_circles(img_file)"
   ]
  },
  {
   "cell_type": "markdown",
   "metadata": {},
   "source": [
    "# Looking at calibration data"
   ]
  },
  {
   "cell_type": "code",
   "execution_count": 25,
   "metadata": {},
   "outputs": [],
   "source": [
    "# reduced_filename = 'Reduced_DRRP_'\n",
    "reduced_filename = 'DRRP_'\n",
    "reduced_folder = \"D:\\\\desktop_drrp_data\\\\test_12_17_2024\\\\calibration\\\\calibration_raw\\\\Cal_1400_Raw\"\n",
    "lcenter = [200, 194]\n",
    "rcenter = [200, 391]\n",
    "maxradius = 65\n",
    "cutoff = 10000000\n",
    "\n",
    "extracted_data = extract_intensities(reduced_filename, reduced_folder, lcenter, rcenter, maxradius, cutoff)\n",
    "Cal_Il_1400 = extracted_data[0]\n",
    "Cal_Ir_1400 = extracted_data[1]\n",
    "Cal_theta1400 = extracted_data[2]"
   ]
  },
  {
   "cell_type": "code",
   "execution_count": 27,
   "metadata": {},
   "outputs": [
    {
     "name": "stdout",
     "output_type": "stream",
     "text": [
      "[ 7754022.   8627872.  24838492.  29274311.  17163783.   2866031.\n",
      "  2162686.   8603764.  10669063.5 12693247.  25721732.  46651370.\n",
      " 57914908.  50230602.  31578882.  15669874.   4683261.    603802.\n",
      " 10508571.  32904224.  47037706.  39099467.  16019697.   4803596.\n",
      " 15499917.5 28945411.  26038504.   9170305.    763562.   5674189.\n",
      " 10846550.  11183696.  17351642.  36098698.  55329966.  56867036.\n",
      " 41252654.5 23216429.   9533785.5  1364930.   3439137.  20215361.\n",
      " 41905459.  46155560.  28712818.   7921039. ]\n",
      "46\n"
     ]
    }
   ],
   "source": [
    "print(Cal_Il_1400)\n",
    "print(len(Cal_Il_1400))"
   ]
  },
  {
   "cell_type": "markdown",
   "metadata": {},
   "source": [
    "# Looking at sample data"
   ]
  },
  {
   "cell_type": "markdown",
   "metadata": {},
   "source": [
    "data_folder = \"\"D:\\desktop_drrp_data\\test_12_17_2024\\JHK_waveplate_measurement\\middle_position\\Cal_1400_Raw\""
   ]
  },
  {
   "cell_type": "code",
   "execution_count": 29,
   "metadata": {},
   "outputs": [],
   "source": [
    "reduced_filename = 'DRRP_'\n",
    "reduced_folder = \"D:\\\\desktop_drrp_data\\\\test_12_17_2024\\\\JHK_waveplate_measurement\\\\middle_position\\\\Cal_1400_Raw\"\n",
    "lcenter = [200, 194]\n",
    "rcenter = [200, 391]\n",
    "maxradius = 16\n",
    "cutoff = 90000\n",
    "\n",
    "extracted_data = extract_intensities(reduced_filename, reduced_folder, lcenter, rcenter, maxradius, cutoff)\n",
    "Il_1400 = extracted_data[0]\n",
    "Ir_1400 = extracted_data[1]\n",
    "theta1400 = extracted_data[2]"
   ]
  },
  {
   "cell_type": "code",
   "execution_count": 30,
   "metadata": {},
   "outputs": [
    {
     "name": "stdout",
     "output_type": "stream",
     "text": [
      "[-0.09450612 -0.25587673 -0.17918556 -0.02936682 -0.04962122] Fit parameters for a1, w1, w2, r1, and r2. 1 for generator, 2 for analyzer\n",
      "[[ 0.76765311  0.01587117 -0.09661647 -0.01138913]\n",
      " [ 0.16697467  0.02960208 -0.86084522 -0.03613853]\n",
      " [ 0.11590009 -1.          0.07945278 -0.02407883]\n",
      " [ 0.00537916  0.01045846  0.00350263 -0.80047537]] This is the Mueller matrix of the sample waveplate\n",
      "0.45372425143462447 This is the retardance of the sample\n",
      "[[ 0.89676117 -0.02458228  0.01767613 -0.00429988]\n",
      " [-0.06243619  0.92074268  0.07405617 -0.00324003]\n",
      " [ 0.01441358 -0.03792484  1.         -0.00182594]\n",
      " [-0.00239727 -0.00221436 -0.01226491  0.89208936]] This is the Mueller matrix for calibration (close to identity)\n",
      "0.050450133948103014 This is the RMS error in the calibration matrix\n",
      "0.1759809311231941 This is the retardance error in the sample waveplate\n"
     ]
    }
   ],
   "source": [
    "data1850 = q_ultimate_polarimetry(Cal_theta1400, Cal_Il_1400, Cal_Ir_1400, theta1400, Il_1400, Ir_1400)\n",
    "print(data1850[0], \"This is the Mueller matrix of the sample waveplate\")\n",
    "print(data1850[1], \"This is the retardance of the sample\")\n",
    "print(data1850[2], \"This is the Mueller matrix for calibration (close to identity)\")\n",
    "print(data1850[3], \"This is the RMS error in the calibration matrix\")\n",
    "print(data1850[4], \"This is the retardance error in the sample waveplate\")"
   ]
  },
  {
   "cell_type": "markdown",
   "metadata": {},
   "source": [
    "# Analysis"
   ]
  },
  {
   "cell_type": "markdown",
   "metadata": {},
   "source": [
    "Dodge for MgF2, Ghosh for SiO2 (quartz)"
   ]
  },
  {
   "cell_type": "code",
   "execution_count": null,
   "metadata": {},
   "outputs": [],
   "source": [
    "n_e = np.loadtxt(\"/home/shared/exoserver/Lab_Data/Mueller_Matrix_Polarimeter/L_Plate_Characterization/SuperK_Select_Data/Dodge-e.csv\", delimiter=\",\",skiprows=1)\n",
    "n_o = np.loadtxt(\"/home/shared/exoserver/Lab_Data/Mueller_Matrix_Polarimeter/L_Plate_Characterization/SuperK_Select_Data/Dodge-o.csv\", delimiter=\",\",skiprows=1)"
   ]
  },
  {
   "cell_type": "code",
   "execution_count": null,
   "metadata": {},
   "outputs": [],
   "source": []
  }
 ],
 "metadata": {
  "kernelspec": {
   "display_name": "First_Light_SDK",
   "language": "python",
   "name": "python3"
  },
  "language_info": {
   "codemirror_mode": {
    "name": "ipython",
    "version": 3
   },
   "file_extension": ".py",
   "mimetype": "text/x-python",
   "name": "python",
   "nbconvert_exporter": "python",
   "pygments_lexer": "ipython3",
   "version": "3.10.11"
  }
 },
 "nbformat": 4,
 "nbformat_minor": 2
}
