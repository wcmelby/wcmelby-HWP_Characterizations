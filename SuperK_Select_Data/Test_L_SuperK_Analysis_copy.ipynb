{
 "cells": [
  {
   "cell_type": "code",
   "execution_count": 1,
   "metadata": {},
   "outputs": [],
   "source": [
    "# Testing the modified Test_New_DRRP_Functions with the goal of checking the normalization and seeing if there's any diattenuation"
   ]
  },
  {
   "cell_type": "code",
   "execution_count": 2,
   "metadata": {},
   "outputs": [],
   "source": [
    "import sys\n",
    "sys.path.insert(0, '/home/wcmelby/Library/Python/wcmelby-HWP_Characterizations/SuperK_Select_Data/')\n",
    "from Test_New_DRRP_Functions import *"
   ]
  },
  {
   "cell_type": "markdown",
   "metadata": {},
   "source": [
    "This data is taken with the L band plate using the SuperK Select laser operating with main power at 5%, specific channel power at 40%"
   ]
  },
  {
   "cell_type": "markdown",
   "metadata": {},
   "source": [
    "Bring in the new SK calibration data"
   ]
  },
  {
   "cell_type": "code",
   "execution_count": 3,
   "metadata": {},
   "outputs": [
    {
     "name": "stdout",
     "output_type": "stream",
     "text": [
      "Warning: low flux detected, check the image Reduced_DRRP_Cal_1100nm_490_2_11.999992675781249.fits, index: 3\n",
      "Warning: low flux detected, check the image Reduced_DRRP_Cal_1100nm_490_2_43.999973144531246.fits, index: 11\n",
      "Warning: low flux detected, check the image Reduced_DRRP_Cal_1100nm_490_2_51.99996826171875.fits, index: 13\n",
      "Warning: low flux detected, check the image Reduced_DRRP_Cal_1100nm_490_2_63.99996093749999.fits, index: 16\n",
      "Warning: low flux detected, check the image Reduced_DRRP_Cal_1100nm_490_2_87.99994628906249.fits, index: 22\n",
      "Warning: low flux detected, check the image Reduced_DRRP_Cal_1100nm_490_2_99.99993896484375.fits, index: 25\n",
      "Warning: low flux detected, check the image Reduced_DRRP_Cal_1100nm_490_2_155.99990478515625.fits, index: 39\n"
     ]
    }
   ],
   "source": [
    "reduced_filename = 'Reduced_DRRP_'\n",
    "reduced_folder = \"/home/shared/exoserver/Lab_Data/Mueller_Matrix_Polarimeter/L_Plate_Characterization/SuperK_Select_Data/Calibrations/Calibration_Reduced/SK_Cal_1100_Reduced/\"\n",
    "lcenter = [315, 253]\n",
    "rcenter = [316, 329]\n",
    "maxradius = 17\n",
    "cutoff = 100000\n",
    "\n",
    "extracted_data = extract_intensities(reduced_filename, reduced_folder, lcenter, rcenter, maxradius, cutoff)\n",
    "Cal_Il_1100 = extracted_data[0]\n",
    "Cal_Ir_1100 = extracted_data[1]\n",
    "Cal_theta1100 = extracted_data[2]"
   ]
  },
  {
   "cell_type": "code",
   "execution_count": 4,
   "metadata": {},
   "outputs": [
    {
     "name": "stdout",
     "output_type": "stream",
     "text": [
      "Warning: low flux detected, check the image Reduced_DRRP_Cal_1200nm_490_2_71.9999560546875.fits, index: 18\n",
      "Warning: low flux detected, check the image Reduced_DRRP_Cal_1200nm_490_2_155.99990478515625.fits, index: 39\n",
      "Warning: low flux detected, check the image Reduced_DRRP_Cal_1200nm_490_2_159.99990234375.fits, index: 40\n"
     ]
    }
   ],
   "source": [
    "reduced_filename = 'Reduced_DRRP_'\n",
    "reduced_folder = \"/home/shared/exoserver/Lab_Data/Mueller_Matrix_Polarimeter/L_Plate_Characterization/SuperK_Select_Data/Calibrations/Calibration_Reduced/SK_Cal_1200_Reduced/\"\n",
    "lcenter = [315, 253]\n",
    "rcenter = [316, 329]\n",
    "maxradius = 17\n",
    "cutoff = 200000\n",
    "\n",
    "extracted_data = extract_intensities(reduced_filename, reduced_folder, lcenter, rcenter, maxradius, cutoff)\n",
    "Cal_Il_1200 = extracted_data[0]\n",
    "Cal_Ir_1200 = extracted_data[1]\n",
    "Cal_theta1200 = extracted_data[2]"
   ]
  },
  {
   "cell_type": "code",
   "execution_count": 5,
   "metadata": {},
   "outputs": [
    {
     "name": "stdout",
     "output_type": "stream",
     "text": [
      "Warning: low flux detected, check the image Reduced_DRRP_Cal_1300nm_490_2_7.999995117187499.fits, index: 2\n",
      "Warning: low flux detected, check the image Reduced_DRRP_Cal_1300nm_490_2_51.99996826171875.fits, index: 13\n",
      "Warning: low flux detected, check the image Reduced_DRRP_Cal_1300nm_490_2_63.99996093749999.fits, index: 16\n",
      "Warning: low flux detected, check the image Reduced_DRRP_Cal_1300nm_490_2_79.999951171875.fits, index: 20\n",
      "Warning: low flux detected, check the image Reduced_DRRP_Cal_1300nm_490_2_131.99991943359373.fits, index: 33\n",
      "Warning: low flux detected, check the image Reduced_DRRP_Cal_1300nm_490_2_135.99991699218748.fits, index: 34\n",
      "Warning: low flux detected, check the image Reduced_DRRP_Cal_1300nm_490_2_171.99989501953124.fits, index: 43\n"
     ]
    }
   ],
   "source": [
    "reduced_filename = 'Reduced_DRRP_'\n",
    "reduced_folder = \"/home/shared/exoserver/Lab_Data/Mueller_Matrix_Polarimeter/L_Plate_Characterization/SuperK_Select_Data/Calibrations/Calibration_Reduced/SK_Cal_1300_Reduced/\"\n",
    "lcenter = [315, 253]\n",
    "rcenter = [316, 329]\n",
    "maxradius = 17\n",
    "cutoff = 10000\n",
    "\n",
    "extracted_data = extract_intensities(reduced_filename, reduced_folder, lcenter, rcenter, maxradius, cutoff)\n",
    "Cal_Il_1300 = extracted_data[0]\n",
    "Cal_Ir_1300 = extracted_data[1]\n",
    "Cal_theta1300 = extracted_data[2]"
   ]
  },
  {
   "cell_type": "code",
   "execution_count": 6,
   "metadata": {},
   "outputs": [
    {
     "name": "stdout",
     "output_type": "stream",
     "text": [
      "Warning: low flux detected, check the image Reduced_DRRP_Cal_1400nm_490_2_39.9999755859375.fits, index: 10\n",
      "Warning: low flux detected, check the image Reduced_DRRP_Cal_1400nm_490_2_47.999970703124994.fits, index: 12\n",
      "Warning: low flux detected, check the image Reduced_DRRP_Cal_1400nm_490_2_99.99993896484375.fits, index: 25\n",
      "Warning: low flux detected, check the image Reduced_DRRP_Cal_1400nm_490_2_103.9999365234375.fits, index: 26\n",
      "Warning: low flux detected, check the image Reduced_DRRP_Cal_1400nm_490_2_175.99989257812499.fits, index: 44\n"
     ]
    }
   ],
   "source": [
    "reduced_filename = 'Reduced_DRRP_'\n",
    "reduced_folder = \"/home/shared/exoserver/Lab_Data/Mueller_Matrix_Polarimeter/L_Plate_Characterization/SuperK_Select_Data/Calibrations/Calibration_Reduced/SK_Cal_1400_Reduced/\"\n",
    "lcenter = [315, 253]\n",
    "rcenter = [316, 329]\n",
    "maxradius = 17\n",
    "cutoff = 30000\n",
    "\n",
    "extracted_data = extract_intensities(reduced_filename, reduced_folder, lcenter, rcenter, maxradius, cutoff)\n",
    "Cal_Il_1400 = extracted_data[0]\n",
    "Cal_Ir_1400 = extracted_data[1]\n",
    "Cal_theta1400 = extracted_data[2]"
   ]
  },
  {
   "cell_type": "code",
   "execution_count": 7,
   "metadata": {},
   "outputs": [
    {
     "name": "stdout",
     "output_type": "stream",
     "text": [
      "Warning: low flux detected, check the image Reduced_DRRP_Cal_1500nm_490_2_27.99998291015625.fits, index: 7\n",
      "Warning: low flux detected, check the image Reduced_DRRP_Cal_1500nm_490_2_59.999963378906244.fits, index: 15\n",
      "Warning: low flux detected, check the image Reduced_DRRP_Cal_1500nm_490_2_87.99994628906249.fits, index: 22\n",
      "Warning: low flux detected, check the image Reduced_DRRP_Cal_1500nm_490_2_123.99992431640624.fits, index: 31\n",
      "Warning: low flux detected, check the image Reduced_DRRP_Cal_1500nm_490_2_159.99990234375.fits, index: 40\n"
     ]
    }
   ],
   "source": [
    "reduced_filename = 'Reduced_DRRP_'\n",
    "reduced_folder = \"/home/shared/exoserver/Lab_Data/Mueller_Matrix_Polarimeter/L_Plate_Characterization/SuperK_Select_Data/Calibrations/Calibration_Reduced/SK_Cal_1500_Reduced/\"\n",
    "lcenter = [315, 253]\n",
    "rcenter = [316, 329]\n",
    "maxradius = 17\n",
    "cutoff = 10000\n",
    "\n",
    "extracted_data = extract_intensities(reduced_filename, reduced_folder, lcenter, rcenter, maxradius, cutoff)\n",
    "Cal_Il_1500 = extracted_data[0]\n",
    "Cal_Ir_1500 = extracted_data[1]\n",
    "Cal_theta1500 = extracted_data[2]"
   ]
  },
  {
   "cell_type": "code",
   "execution_count": 8,
   "metadata": {},
   "outputs": [
    {
     "name": "stdout",
     "output_type": "stream",
     "text": [
      "Warning: low flux detected, check the image Reduced_DRRP_Cal_1600nm_490_2_3.9999975585937495.fits, index: 1\n",
      "Warning: low flux detected, check the image Reduced_DRRP_Cal_1600nm_490_2_27.99998291015625.fits, index: 7\n",
      "Warning: low flux detected, check the image Reduced_DRRP_Cal_1600nm_490_2_43.999973144531246.fits, index: 11\n",
      "Warning: low flux detected, check the image Reduced_DRRP_Cal_1600nm_490_2_47.999970703124994.fits, index: 12\n",
      "Warning: low flux detected, check the image Reduced_DRRP_Cal_1600nm_490_2_123.99992431640624.fits, index: 31\n",
      "Warning: low flux detected, check the image Reduced_DRRP_Cal_1600nm_490_2_155.99990478515625.fits, index: 39\n"
     ]
    }
   ],
   "source": [
    "reduced_filename = 'Reduced_DRRP_'\n",
    "reduced_folder = \"/home/shared/exoserver/Lab_Data/Mueller_Matrix_Polarimeter/L_Plate_Characterization/SuperK_Select_Data/Calibrations/Calibration_Reduced/SK_Cal_1600_Reduced/\"\n",
    "lcenter = [315, 253]\n",
    "rcenter = [316, 329]\n",
    "maxradius = 17\n",
    "cutoff = 10000\n",
    "\n",
    "extracted_data = extract_intensities(reduced_filename, reduced_folder, lcenter, rcenter, maxradius, cutoff)\n",
    "Cal_Il_1600 = extracted_data[0]\n",
    "Cal_Ir_1600 = extracted_data[1]\n",
    "Cal_theta1600 = extracted_data[2]"
   ]
  },
  {
   "cell_type": "code",
   "execution_count": 9,
   "metadata": {},
   "outputs": [
    {
     "name": "stdout",
     "output_type": "stream",
     "text": [
      "Warning: low flux detected, check the image Reduced_DRRP_Cal_1750nm_490_2_7.999995117187499.fits, index: 2\n",
      "Warning: low flux detected, check the image Reduced_DRRP_Cal_1750nm_490_2_15.999990234374998.fits, index: 4\n",
      "Warning: low flux detected, check the image Reduced_DRRP_Cal_1750nm_490_2_79.999951171875.fits, index: 20\n",
      "Warning: low flux detected, check the image Reduced_DRRP_Cal_1750nm_490_2_103.9999365234375.fits, index: 26\n",
      "Warning: low flux detected, check the image Reduced_DRRP_Cal_1750nm_490_2_131.99991943359373.fits, index: 33\n"
     ]
    }
   ],
   "source": [
    "reduced_filename = 'Reduced_DRRP_'\n",
    "reduced_folder = \"/home/shared/exoserver/Lab_Data/Mueller_Matrix_Polarimeter/L_Plate_Characterization/SuperK_Select_Data/Calibrations/Calibration_Reduced/SK_Cal_1750_Reduced/\"\n",
    "lcenter = [315, 253]\n",
    "rcenter = [316, 329]\n",
    "maxradius = 17\n",
    "cutoff = 90000\n",
    "\n",
    "extracted_data = extract_intensities(reduced_filename, reduced_folder, lcenter, rcenter, maxradius, cutoff)\n",
    "Cal_Il_1750 = extracted_data[0]\n",
    "Cal_Ir_1750 = extracted_data[1]\n",
    "Cal_theta1750 = extracted_data[2]"
   ]
  },
  {
   "cell_type": "code",
   "execution_count": 10,
   "metadata": {},
   "outputs": [
    {
     "name": "stdout",
     "output_type": "stream",
     "text": [
      "Warning: low flux detected, check the image Reduced_DRRP_Cal_1850nm_490_2_27.99998291015625.fits, index: 7\n",
      "Warning: low flux detected, check the image Reduced_DRRP_Cal_1850nm_490_2_95.99994140624999.fits, index: 24\n",
      "Warning: low flux detected, check the image Reduced_DRRP_Cal_1850nm_490_2_107.99993408203125.fits, index: 27\n"
     ]
    }
   ],
   "source": [
    "reduced_filename = 'Reduced_DRRP_'\n",
    "reduced_folder = \"/home/shared/exoserver/Lab_Data/Mueller_Matrix_Polarimeter/L_Plate_Characterization/SuperK_Select_Data/Calibrations/Calibration_Reduced/SK_Cal_1850_Reduced/\"\n",
    "lcenter = [315, 253]\n",
    "rcenter = [316, 329]\n",
    "maxradius = 17\n",
    "cutoff = 20000\n",
    "\n",
    "extracted_data = extract_intensities(reduced_filename, reduced_folder, lcenter, rcenter, maxradius, cutoff)\n",
    "Cal_Il_1850 = extracted_data[0]\n",
    "Cal_Ir_1850 = extracted_data[1]\n",
    "Cal_theta1850 = extracted_data[2]"
   ]
  },
  {
   "cell_type": "code",
   "execution_count": 11,
   "metadata": {},
   "outputs": [
    {
     "name": "stdout",
     "output_type": "stream",
     "text": [
      "Warning: low flux detected, check the image Reduced_DRRP_Cal_1950nm_490_2_59.999963378906244.fits, index: 15\n",
      "Warning: low flux detected, check the image Reduced_DRRP_Cal_1950nm_490_2_71.9999560546875.fits, index: 18\n",
      "Warning: low flux detected, check the image Reduced_DRRP_Cal_1950nm_490_2_75.99995361328125.fits, index: 19\n",
      "Warning: low flux detected, check the image Reduced_DRRP_Cal_1950nm_490_2_171.99989501953124.fits, index: 43\n"
     ]
    }
   ],
   "source": [
    "reduced_filename = 'Reduced_DRRP_'\n",
    "reduced_folder = \"/home/shared/exoserver/Lab_Data/Mueller_Matrix_Polarimeter/L_Plate_Characterization/SuperK_Select_Data/Calibrations/Calibration_Reduced/SK_Cal_1950_Reduced/\"\n",
    "lcenter = [315, 253]\n",
    "rcenter = [316, 329]\n",
    "maxradius = 17\n",
    "cutoff = 40000\n",
    "\n",
    "extracted_data = extract_intensities(reduced_filename, reduced_folder, lcenter, rcenter, maxradius, cutoff)\n",
    "Cal_Il_1950 = extracted_data[0]\n",
    "Cal_Ir_1950 = extracted_data[1]\n",
    "Cal_theta1950 = extracted_data[2]"
   ]
  },
  {
   "cell_type": "markdown",
   "metadata": {},
   "source": [
    "Bring in calibration data from the old broadband light source"
   ]
  },
  {
   "cell_type": "code",
   "execution_count": 12,
   "metadata": {},
   "outputs": [
    {
     "name": "stdout",
     "output_type": "stream",
     "text": [
      "Warning: low flux detected, check the image Reduced_DRRP_L_1550nm_600_0.1_23.999985351562497.fits, index: 6\n",
      "Warning: low flux detected, check the image Reduced_DRRP_L_1550nm_600_0.1_155.99990478515625.fits, index: 39\n",
      "Warning: low flux detected, check the image Reduced_DRRP_L_1550nm_600_0.1_171.99989501953124.fits, index: 43\n"
     ]
    }
   ],
   "source": [
    "reduced_filename = 'Reduced_DRRP_'\n",
    "reduced_folder = \"/home/shared/exoserver/Lab_Data/Mueller_Matrix_Polarimeter/L_Plate_Characterization/Calibration/Calibration_Reduced/Cal_1550_Reduced/\"\n",
    "lcenter = [258, 255]\n",
    "rcenter = [258, 332]\n",
    "maxradius = 10\n",
    "cutoff = 5000\n",
    "\n",
    "extracted_data = extract_intensities(reduced_filename, reduced_folder, lcenter, rcenter, maxradius, cutoff)\n",
    "Cal_Il_1550 = extracted_data[0]\n",
    "Cal_Ir_1550 = extracted_data[1]\n",
    "Cal_theta1550 = extracted_data[2]"
   ]
  },
  {
   "cell_type": "code",
   "execution_count": 13,
   "metadata": {},
   "outputs": [
    {
     "name": "stdout",
     "output_type": "stream",
     "text": [
      "Warning: low flux detected, check the image Reduced_DRRP_L_1620nm_550_1.8_0.0.fits, index: 0\n",
      "Warning: low flux detected, check the image Reduced_DRRP_L_1620nm_550_1.8_11.999992675781249.fits, index: 3\n",
      "Warning: low flux detected, check the image Reduced_DRRP_L_1620nm_550_1.8_63.99996093749999.fits, index: 16\n",
      "Warning: low flux detected, check the image Reduced_DRRP_L_1620nm_550_1.8_95.99994140624999.fits, index: 24\n",
      "Warning: low flux detected, check the image Reduced_DRRP_L_1620nm_550_1.8_99.99993896484375.fits, index: 25\n",
      "Warning: low flux detected, check the image Reduced_DRRP_L_1620nm_550_1.8_103.9999365234375.fits, index: 26\n",
      "Warning: low flux detected, check the image Reduced_DRRP_L_1620nm_550_1.8_135.99991699218748.fits, index: 34\n"
     ]
    }
   ],
   "source": [
    "reduced_filename = 'Reduced_DRRP_'\n",
    "reduced_folder = \"/home/shared/exoserver/Lab_Data/Mueller_Matrix_Polarimeter/L_Plate_Characterization/Calibration/Calibration_Reduced/Cal_1620_Reduced/\"\n",
    "lcenter = [258, 255]\n",
    "rcenter = [258, 332]\n",
    "maxradius = 12\n",
    "cutoff = 5000\n",
    "\n",
    "extracted_data = extract_intensities(reduced_filename, reduced_folder, lcenter, rcenter, maxradius, cutoff)\n",
    "Cal_Il_1620 = extracted_data[0]\n",
    "Cal_Ir_1620 = extracted_data[1]\n",
    "Cal_theta1620 = extracted_data[2]"
   ]
  },
  {
   "cell_type": "code",
   "execution_count": 14,
   "metadata": {},
   "outputs": [
    {
     "name": "stdout",
     "output_type": "stream",
     "text": [
      "Warning: low flux detected, check the image Reduced_DRRP_L_1650nm_550_1.8_0.0.fits, index: 0\n",
      "Warning: low flux detected, check the image Reduced_DRRP_L_1650nm_550_1.8_83.99994873046874.fits, index: 21\n",
      "Warning: low flux detected, check the image Reduced_DRRP_L_1650nm_550_1.8_115.99992919921874.fits, index: 29\n",
      "Warning: low flux detected, check the image Reduced_DRRP_L_1650nm_550_1.8_119.99992675781249.fits, index: 30\n",
      "Warning: low flux detected, check the image Reduced_DRRP_L_1650nm_550_1.8_171.99989501953124.fits, index: 43\n"
     ]
    }
   ],
   "source": [
    "reduced_filename = 'Reduced_DRRP_'\n",
    "reduced_folder = \"/home/shared/exoserver/Lab_Data/Mueller_Matrix_Polarimeter/L_Plate_Characterization/Calibration/Calibration_Reduced/Cal_1650_Reduced/\"\n",
    "lcenter = [258, 255]\n",
    "rcenter = [258, 332]\n",
    "maxradius = 12\n",
    "cutoff = 5000\n",
    "\n",
    "extracted_data = extract_intensities(reduced_filename, reduced_folder, lcenter, rcenter, maxradius, cutoff)\n",
    "Cal_Il_1650 = extracted_data[0]\n",
    "Cal_Ir_1650 = extracted_data[1]\n",
    "Cal_theta1650 = extracted_data[2]"
   ]
  },
  {
   "cell_type": "markdown",
   "metadata": {},
   "source": [
    "1100 nm SK data, 490 fps, 2 ms tint"
   ]
  },
  {
   "cell_type": "code",
   "execution_count": 15,
   "metadata": {},
   "outputs": [
    {
     "name": "stdout",
     "output_type": "stream",
     "text": [
      "Warning: low flux detected, check the image Reduced_DRRP_L_1100nm_490_2_19.99998779296875.fits, index: 5\n",
      "Warning: low flux detected, check the image Reduced_DRRP_L_1100nm_490_2_91.99994384765624.fits, index: 23\n"
     ]
    }
   ],
   "source": [
    "reduced_filename = 'Reduced_DRRP_'\n",
    "reduced_folder = \"/home/shared/exoserver/Lab_Data/Mueller_Matrix_Polarimeter/L_Plate_Characterization/SuperK_Select_Data/Reduced_Data/Reduced_L_1100/\"\n",
    "lcenter = [316, 248]\n",
    "rcenter = [316, 326]\n",
    "maxradius = 15\n",
    "cutoff = 90000\n",
    "\n",
    "extracted_data = extract_intensities(reduced_filename, reduced_folder, lcenter, rcenter, maxradius, cutoff)\n",
    "Il_1100 = extracted_data[0]\n",
    "Ir_1100 = extracted_data[1]\n",
    "theta1100 = extracted_data[2]"
   ]
  },
  {
   "cell_type": "code",
   "execution_count": 16,
   "metadata": {},
   "outputs": [
    {
     "name": "stdout",
     "output_type": "stream",
     "text": [
      "[-0.06629533 -0.07032739 -0.21502365 -0.00825635 -0.00502625] Fit parameters for a1, w1, w2, r1, and r2. 1 for generator, 2 for analyzer\n",
      "[[ 0.80344258 -0.00631081 -0.01502175  0.00346067]\n",
      " [-0.13146143  0.89104106 -0.00246165 -0.03486847]\n",
      " [ 0.00873835 -0.07838426  1.          0.15297338]\n",
      " [ 0.00171649  0.04774866 -0.10218981  0.77834129]] This is the Mueller matrix of the sample waveplate\n",
      "0.11849196466018601 This is the retardance of the sample\n",
      "[[ 0.72839723  0.03641251 -0.0448865  -0.03249888]\n",
      " [-0.06426761  0.81537177 -0.03129416 -0.06252467]\n",
      " [ 0.0222635  -0.06000468  1.         -0.00678439]\n",
      " [ 0.0003733  -0.03218761 -0.03829804  0.73155251]] This is the Mueller matrix for calibration (close to identity)\n",
      "0.11179800739432431 This is the RMS error in the calibration matrix\n",
      "0.16498888955699562 This is the retardance error in the sample waveplate\n"
     ]
    }
   ],
   "source": [
    "data1100 = q_ultimate_polarimetry(Cal_theta1100, Cal_Il_1100, Cal_Ir_1100, theta1100, Il_1100, Ir_1100)\n",
    "print(data1100[0], \"This is the Mueller matrix of the sample waveplate\")\n",
    "print(data1100[1], \"This is the retardance of the sample\")\n",
    "print(data1100[2], \"This is the Mueller matrix for calibration (close to identity)\")\n",
    "print(data1100[3], \"This is the RMS error in the calibration matrix\")\n",
    "print(data1100[4], \"This is the retardance error in the sample waveplate\")"
   ]
  },
  {
   "cell_type": "code",
   "execution_count": 17,
   "metadata": {},
   "outputs": [
    {
     "data": {
      "text/plain": [
       "0.28429650194976125"
      ]
     },
     "execution_count": 17,
     "metadata": {},
     "output_type": "execute_result"
    }
   ],
   "source": [
    "(173611- 124254)/173611"
   ]
  },
  {
   "cell_type": "code",
   "execution_count": 18,
   "metadata": {},
   "outputs": [
    {
     "name": "stdout",
     "output_type": "stream",
     "text": [
      "[[ 0.89867088  0.05229602 -0.04770978 -0.04028024]\n",
      " [ 0.00314966  0.82568648 -0.26082041 -0.02055559]\n",
      " [-0.14464137  0.846614    1.         -0.11975092]\n",
      " [ 0.00477734 -0.03673744 -0.08704248  0.84899964]]\n",
      "0.23710661726815088\n"
     ]
    }
   ],
   "source": [
    "uncalibrated = q_calibrated_full_mueller_polarimetry(Cal_theta1100, 0, 0, 0, 0, 0, Cal_Il_1100, Cal_Ir_1100, M_in=None)\n",
    "uncalibrated = uncalibrated/np.max(np.abs(uncalibrated))\n",
    "print(uncalibrated)\n",
    "print(RMS_calculator(uncalibrated))"
   ]
  },
  {
   "cell_type": "code",
   "execution_count": 19,
   "metadata": {},
   "outputs": [
    {
     "name": "stdout",
     "output_type": "stream",
     "text": [
      "0.23710661726815088\n"
     ]
    }
   ],
   "source": [
    "print(RMS_calculator(uncalibrated))"
   ]
  },
  {
   "cell_type": "markdown",
   "metadata": {},
   "source": [
    "1200 nm SK data, 490 fps, 2 ms tint"
   ]
  },
  {
   "cell_type": "code",
   "execution_count": 20,
   "metadata": {},
   "outputs": [
    {
     "name": "stdout",
     "output_type": "stream",
     "text": [
      "Warning: low flux detected, check the image Reduced_DRRP_L_1200nm_490_2_11.999992675781249.fits, index: 3\n",
      "Warning: low flux detected, check the image Reduced_DRRP_L_1200nm_490_2_95.99994140624999.fits, index: 24\n"
     ]
    }
   ],
   "source": [
    "reduced_filename = 'Reduced_DRRP_'\n",
    "reduced_folder = \"/home/shared/exoserver/Lab_Data/Mueller_Matrix_Polarimeter/L_Plate_Characterization/SuperK_Select_Data/Reduced_Data/Reduced_L_1200/\"\n",
    "lcenter = [316, 248]\n",
    "rcenter = [316, 326]\n",
    "maxradius = 15\n",
    "cutoff = 90000\n",
    "\n",
    "extracted_data = extract_intensities(reduced_filename, reduced_folder, lcenter, rcenter, maxradius, cutoff)\n",
    "Il_1200 = extracted_data[0]\n",
    "Ir_1200 = extracted_data[1]\n",
    "theta1200 = extracted_data[2]"
   ]
  },
  {
   "cell_type": "code",
   "execution_count": 21,
   "metadata": {},
   "outputs": [
    {
     "name": "stdout",
     "output_type": "stream",
     "text": [
      "[-0.02955874 -0.18611057  0.0193779   0.04398571 -0.0002426 ] Fit parameters for a1, w1, w2, r1, and r2. 1 for generator, 2 for analyzer\n",
      "[[ 1.         -0.0057001   0.04878937  0.02694554]\n",
      " [-0.06672264  0.95880391  0.22757653 -0.27241903]\n",
      " [-0.00580521  0.27151719  0.49587507  0.94542556]\n",
      " [-0.00827798  0.31406875 -0.92394811  0.37442388]] This is the Mueller matrix of the sample waveplate\n",
      "0.18164644415294073 This is the retardance of the sample\n",
      "[[ 0.87560049 -0.04239429 -0.0231472  -0.01349578]\n",
      " [-0.05844006  0.87459753  0.02006892 -0.00538209]\n",
      " [ 0.00562386 -0.00724955  1.          0.00393994]\n",
      " [-0.006537    0.00303086  0.01863074  0.85577252]] This is the Mueller matrix for calibration (close to identity)\n",
      "0.06065449656248201 This is the RMS error in the calibration matrix\n",
      "0.06671317288683754 This is the retardance error in the sample waveplate\n"
     ]
    }
   ],
   "source": [
    "data1200 = q_ultimate_polarimetry(Cal_theta1200, Cal_Il_1200, Cal_Ir_1200, theta1200, Il_1200, Ir_1200)\n",
    "print(data1200[0], \"This is the Mueller matrix of the sample waveplate\")\n",
    "print(data1200[1], \"This is the retardance of the sample\")\n",
    "print(data1200[2], \"This is the Mueller matrix for calibration (close to identity)\")\n",
    "print(data1200[3], \"This is the RMS error in the calibration matrix\")\n",
    "print(data1200[4], \"This is the retardance error in the sample waveplate\")"
   ]
  },
  {
   "cell_type": "code",
   "execution_count": 22,
   "metadata": {},
   "outputs": [
    {
     "name": "stdout",
     "output_type": "stream",
     "text": [
      "[[ 1.         -0.02136532 -0.05312491 -0.008352  ]\n",
      " [ 0.0127117   0.78349263  0.74752092  0.0155977 ]\n",
      " [ 0.38386259 -0.84411657  0.75384418 -0.03796   ]\n",
      " [ 0.01292084 -0.01352344 -0.03027734  0.92636915]]\n",
      "0.3100424680534318\n"
     ]
    }
   ],
   "source": [
    "uncalibrated = q_calibrated_full_mueller_polarimetry(Cal_theta1200, 0, 0, 0, 0, 0, Cal_Il_1200, Cal_Ir_1200, M_in=None)\n",
    "uncalibrated = uncalibrated/np.max(np.abs(uncalibrated))\n",
    "print(uncalibrated)\n",
    "print(RMS_calculator(uncalibrated))"
   ]
  },
  {
   "cell_type": "markdown",
   "metadata": {},
   "source": [
    "1300 nm SK data, 490 fps, 2 ms tint"
   ]
  },
  {
   "cell_type": "code",
   "execution_count": 23,
   "metadata": {},
   "outputs": [
    {
     "name": "stdout",
     "output_type": "stream",
     "text": [
      "Warning: low flux detected, check the image Reduced_DRRP_L_1300nm_490_2_39.9999755859375.fits, index: 10\n",
      "Warning: low flux detected, check the image Reduced_DRRP_L_1300nm_490_2_51.99996826171875.fits, index: 13\n",
      "Warning: low flux detected, check the image Reduced_DRRP_L_1300nm_490_2_91.99994384765624.fits, index: 23\n",
      "Warning: low flux detected, check the image Reduced_DRRP_L_1300nm_490_2_131.99991943359373.fits, index: 33\n"
     ]
    }
   ],
   "source": [
    "reduced_filename = 'Reduced_DRRP_'\n",
    "reduced_folder = \"/home/shared/exoserver/Lab_Data/Mueller_Matrix_Polarimeter/L_Plate_Characterization/SuperK_Select_Data/Reduced_Data/Reduced_L_1300/\"\n",
    "lcenter = [316, 248]\n",
    "rcenter = [316, 326]\n",
    "maxradius = 15\n",
    "cutoff = 90000\n",
    "\n",
    "extracted_data = extract_intensities(reduced_filename, reduced_folder, lcenter, rcenter, maxradius, cutoff)\n",
    "Il_1300 = extracted_data[0]\n",
    "Ir_1300 = extracted_data[1]\n",
    "theta1300 = extracted_data[2]"
   ]
  },
  {
   "cell_type": "code",
   "execution_count": 24,
   "metadata": {},
   "outputs": [
    {
     "name": "stdout",
     "output_type": "stream",
     "text": [
      "[-0.04482421 -0.00424306 -0.14207516 -0.02805287 -0.03898115] Fit parameters for a1, w1, w2, r1, and r2. 1 for generator, 2 for analyzer\n",
      "[[ 1.         -0.00136329 -0.01801518 -0.01105594]\n",
      " [-0.02000787  0.57466251  0.74602658 -0.44947269]\n",
      " [-0.07501446  0.8047703  -0.10654338  0.79751033]\n",
      " [-0.08112766  0.54740078 -0.76814766 -0.49355147]] This is the Mueller matrix of the sample waveplate\n",
      "0.3358942165509894 This is the retardance of the sample\n",
      "[[ 0.85824197 -0.02807833 -0.01469263 -0.00984922]\n",
      " [-0.11513431  0.90949217  0.02782327 -0.00452446]\n",
      " [ 0.05256164 -0.03866327  1.         -0.01323241]\n",
      " [ 0.00378397 -0.00792821 -0.024525    0.84408737]] This is the Mueller matrix for calibration (close to identity)\n",
      "0.06748095324259377 This is the RMS error in the calibration matrix\n",
      "0.07866119538248209 This is the retardance error in the sample waveplate\n"
     ]
    }
   ],
   "source": [
    "data1300 = q_ultimate_polarimetry(Cal_theta1300, Cal_Il_1300, Cal_Ir_1300, theta1300, Il_1300, Ir_1300)\n",
    "print(data1300[0], \"This is the Mueller matrix of the sample waveplate\")\n",
    "print(data1300[1], \"This is the retardance of the sample\")\n",
    "print(data1300[2], \"This is the Mueller matrix for calibration (close to identity)\")\n",
    "print(data1300[3], \"This is the RMS error in the calibration matrix\")\n",
    "print(data1300[4], \"This is the retardance error in the sample waveplate\")"
   ]
  },
  {
   "cell_type": "markdown",
   "metadata": {},
   "source": [
    "1400 nm SK data, 490 fps, 2 ms tint"
   ]
  },
  {
   "cell_type": "code",
   "execution_count": 25,
   "metadata": {},
   "outputs": [
    {
     "name": "stdout",
     "output_type": "stream",
     "text": [
      "Warning: low flux detected, check the image Reduced_DRRP_L_1400nm_490_2_0.0.fits, index: 0\n",
      "Warning: low flux detected, check the image Reduced_DRRP_L_1400nm_490_2_31.999980468749996.fits, index: 8\n",
      "Warning: low flux detected, check the image Reduced_DRRP_L_1400nm_490_2_47.999970703124994.fits, index: 12\n",
      "Warning: low flux detected, check the image Reduced_DRRP_L_1400nm_490_2_111.999931640625.fits, index: 28\n",
      "Warning: low flux detected, check the image Reduced_DRRP_L_1400nm_490_2_159.99990234375.fits, index: 40\n"
     ]
    }
   ],
   "source": [
    "reduced_filename = 'Reduced_DRRP_'\n",
    "reduced_folder = \"/home/shared/exoserver/Lab_Data/Mueller_Matrix_Polarimeter/L_Plate_Characterization/SuperK_Select_Data/Reduced_Data/Reduced_L_1400/\"\n",
    "lcenter = [316, 248]\n",
    "rcenter = [316, 326]\n",
    "maxradius = 15\n",
    "cutoff = 290000\n",
    "\n",
    "extracted_data = extract_intensities(reduced_filename, reduced_folder, lcenter, rcenter, maxradius, cutoff)\n",
    "Il_1400 = extracted_data[0]\n",
    "Ir_1400 = extracted_data[1]\n",
    "theta1400 = extracted_data[2]"
   ]
  },
  {
   "cell_type": "code",
   "execution_count": 26,
   "metadata": {},
   "outputs": [
    {
     "name": "stdout",
     "output_type": "stream",
     "text": [
      "[-0.10004007 -0.25958733 -0.17526774  0.01147297 -0.02385953] Fit parameters for a1, w1, w2, r1, and r2. 1 for generator, 2 for analyzer\n",
      "[[ 0.99320438 -0.01056154  0.01258363  0.00232319]\n",
      " [-0.03012515  0.98135094 -0.14451852  0.02836734]\n",
      " [-0.01498993 -0.09113912 -1.          0.27820013]\n",
      " [-0.00072757 -0.00764026 -0.25868758 -0.93845856]] This is the Mueller matrix of the sample waveplate\n",
      "0.4698319593066134 This is the retardance of the sample\n",
      "[[ 0.94632738 -0.03927671 -0.00638663 -0.02710743]\n",
      " [-0.09151469  0.93486864  0.05464456 -0.0122417 ]\n",
      " [-0.00108627 -0.03954125  1.         -0.00719974]\n",
      " [-0.03401331  0.05877576 -0.01914534  0.90691565]] This is the Mueller matrix for calibration (close to identity)\n",
      "0.04757309644214829 This is the RMS error in the calibration matrix\n",
      "0.25248655024730243 This is the retardance error in the sample waveplate\n"
     ]
    }
   ],
   "source": [
    "data1400 = q_ultimate_polarimetry(Cal_theta1400, Cal_Il_1400, Cal_Ir_1400, theta1400, Il_1400, Ir_1400)\n",
    "print(data1400[0], \"This is the Mueller matrix of the sample waveplate\")\n",
    "print(data1400[1], \"This is the retardance of the sample\")\n",
    "print(data1400[2], \"This is the Mueller matrix for calibration (close to identity)\")\n",
    "print(data1400[3], \"This is the RMS error in the calibration matrix\")\n",
    "print(data1400[4], \"This is the retardance error in the sample waveplate\")"
   ]
  },
  {
   "cell_type": "code",
   "execution_count": 27,
   "metadata": {},
   "outputs": [
    {
     "data": {
      "text/plain": [
       "0.4420456085661005"
      ]
     },
     "execution_count": 27,
     "metadata": {},
     "output_type": "execute_result"
    }
   ],
   "source": [
    "np.arccos(-0.93443104)/(2*np.pi)"
   ]
  },
  {
   "cell_type": "code",
   "execution_count": 28,
   "metadata": {},
   "outputs": [
    {
     "data": {
      "text/plain": [
       "array([[ 0.9931849 ,  0.        ,  0.        , -0.        ],\n",
       "       [-0.01792965,  0.98121311, -0.14423139,  0.02842695],\n",
       "       [-0.00394111, -0.09125072, -1.        ,  0.27825565],\n",
       "       [ 0.00466502, -0.00762024, -0.25874355, -0.93857573]])"
      ]
     },
     "execution_count": 28,
     "metadata": {},
     "output_type": "execute_result"
    }
   ],
   "source": [
    "decompose_retarder(data1400[0])"
   ]
  },
  {
   "cell_type": "code",
   "execution_count": 29,
   "metadata": {},
   "outputs": [
    {
     "name": "stdout",
     "output_type": "stream",
     "text": [
      "[[ 0.90787107 -0.01967382 -0.03144262 -0.02594075]\n",
      " [-0.03843987  0.7239786   0.47275011 -0.02639184]\n",
      " [ 0.11447954  0.02593507  1.         -0.1432737 ]\n",
      " [-0.00902061 -0.02154271 -0.03100246  0.80018996]]\n",
      "0.15574964046922304\n"
     ]
    }
   ],
   "source": [
    "uncalibrated = q_calibrated_full_mueller_polarimetry(Cal_theta1400, 0, 0, 0, 0, 0, Cal_Il_1400, Cal_Ir_1400, M_in=None)\n",
    "uncalibrated = uncalibrated/np.max(np.abs(uncalibrated))\n",
    "print(uncalibrated)\n",
    "print(RMS_calculator(uncalibrated))"
   ]
  },
  {
   "cell_type": "markdown",
   "metadata": {},
   "source": [
    "1500 nm SK data, 490 fps, 2 ms tint"
   ]
  },
  {
   "cell_type": "code",
   "execution_count": 30,
   "metadata": {},
   "outputs": [
    {
     "name": "stdout",
     "output_type": "stream",
     "text": [
      "Warning: low flux detected, check the image Reduced_DRRP_L_1500nm_490_2_7.999995117187499.fits, index: 2\n",
      "Warning: low flux detected, check the image Reduced_DRRP_L_1500nm_490_2_151.9999072265625.fits, index: 38\n",
      "Warning: low flux detected, check the image Reduced_DRRP_L_1500nm_490_2_163.99989990234374.fits, index: 41\n"
     ]
    }
   ],
   "source": [
    "reduced_filename = 'Reduced_DRRP_'\n",
    "reduced_folder = \"/home/shared/exoserver/Lab_Data/Mueller_Matrix_Polarimeter/L_Plate_Characterization/SuperK_Select_Data/Reduced_Data/Reduced_L_1500/\"\n",
    "lcenter = [316, 248]\n",
    "rcenter = [316, 326]\n",
    "maxradius = 17\n",
    "cutoff = 290000\n",
    "\n",
    "extracted_data = extract_intensities(reduced_filename, reduced_folder, lcenter, rcenter, maxradius, cutoff)\n",
    "Il_1500 = extracted_data[0]\n",
    "Ir_1500 = extracted_data[1]\n",
    "theta1500 = extracted_data[2]"
   ]
  },
  {
   "cell_type": "code",
   "execution_count": 31,
   "metadata": {},
   "outputs": [
    {
     "name": "stdout",
     "output_type": "stream",
     "text": [
      "[ 0.01892256 -0.07964739  0.06223213  0.06128931  0.03399826] Fit parameters for a1, w1, w2, r1, and r2. 1 for generator, 2 for analyzer\n",
      "[[ 1.          0.02151726  0.01150116 -0.02057898]\n",
      " [-0.02940521  0.37776036  0.89862112  0.22062824]\n",
      " [ 0.03327884  0.86154143 -0.26479802 -0.31347376]\n",
      " [ 0.01337106 -0.24286907  0.29584334 -0.91269026]] This is the Mueller matrix of the sample waveplate\n",
      "0.4281271420445055 This is the retardance of the sample\n",
      "[[ 1.         -0.03625623 -0.02877839 -0.04460569]\n",
      " [-0.06482046  0.94345233  0.02359738 -0.00245509]\n",
      " [-0.00650155 -0.03516443  0.92565501 -0.00234752]\n",
      " [-0.03948413  0.04385806  0.00496601  0.97412841]] This is the Mueller matrix for calibration (close to identity)\n",
      "0.03798239305204027 This is the RMS error in the calibration matrix\n",
      "0.08703630328884053 This is the retardance error in the sample waveplate\n"
     ]
    }
   ],
   "source": [
    "data1500 = q_ultimate_polarimetry(Cal_theta1500, Cal_Il_1500, Cal_Ir_1500, theta1500, Il_1500, Ir_1500)\n",
    "print(data1500[0], \"This is the Mueller matrix of the sample waveplate\")\n",
    "print(data1500[1], \"This is the retardance of the sample\")\n",
    "print(data1500[2], \"This is the Mueller matrix for calibration (close to identity)\")\n",
    "print(data1500[3], \"This is the RMS error in the calibration matrix\")\n",
    "print(data1500[4], \"This is the retardance error in the sample waveplate\")"
   ]
  },
  {
   "cell_type": "markdown",
   "metadata": {},
   "source": [
    "1600 nm SK data, 550 fps, 1.8 ms tint"
   ]
  },
  {
   "cell_type": "code",
   "execution_count": 32,
   "metadata": {},
   "outputs": [
    {
     "name": "stdout",
     "output_type": "stream",
     "text": [
      "Warning: low flux detected, check the image Reduced_DRRP_L_1600nm_550_1.8_75.99995361328125.fits, index: 19\n",
      "Warning: low flux detected, check the image Reduced_DRRP_L_1600nm_550_1.8_87.99994628906249.fits, index: 22\n",
      "Warning: low flux detected, check the image Reduced_DRRP_L_1600nm_550_1.8_123.99992431640624.fits, index: 31\n",
      "Warning: low flux detected, check the image Reduced_DRRP_L_1600nm_550_1.8_151.9999072265625.fits, index: 38\n",
      "Warning: low flux detected, check the image Reduced_DRRP_L_1600nm_550_1.8_175.99989257812499.fits, index: 44\n"
     ]
    }
   ],
   "source": [
    "reduced_filename = 'Reduced_DRRP_'\n",
    "reduced_folder = \"/home/shared/exoserver/Lab_Data/Mueller_Matrix_Polarimeter/L_Plate_Characterization/SuperK_Select_Data/Reduced_Data/Reduced_L_1600/\"\n",
    "lcenter = [268, 268]\n",
    "rcenter = [268, 344]\n",
    "maxradius = 20\n",
    "cutoff = 50000\n",
    "\n",
    "extracted_data = extract_intensities(reduced_filename, reduced_folder, lcenter, rcenter, maxradius, cutoff)\n",
    "Il_1600 = extracted_data[0]\n",
    "Ir_1600 = extracted_data[1]\n",
    "theta1600 = extracted_data[2]"
   ]
  },
  {
   "cell_type": "code",
   "execution_count": 33,
   "metadata": {},
   "outputs": [
    {
     "name": "stdout",
     "output_type": "stream",
     "text": [
      "[-0.01431684  0.01576147 -0.09016179  0.02620278  0.05023619] Fit parameters for a1, w1, w2, r1, and r2. 1 for generator, 2 for analyzer\n",
      "[[ 1.         -0.05988062 -0.02825704 -0.03454141]\n",
      " [-0.07648199  0.38341641  0.67589144  0.48298225]\n",
      " [ 0.03079845  0.73119384  0.12381035 -0.55198157]\n",
      " [ 0.00122684 -0.43035142  0.62833724 -0.51212766]] This is the Mueller matrix of the sample waveplate\n",
      "0.33396596321738636 This is the retardance of the sample\n",
      "[[ 0.98493961 -0.0204749  -0.01292995 -0.02725377]\n",
      " [-0.08879659  0.97255066 -0.02113516  0.00142279]\n",
      " [ 0.02448229 -0.00287291  1.          0.00148569]\n",
      " [-0.0310243   0.03535124  0.01685632  0.94692116]] This is the Mueller matrix for calibration (close to identity)\n",
      "0.03217779646599448 This is the RMS error in the calibration matrix\n",
      "0.03724147937683159 This is the retardance error in the sample waveplate\n"
     ]
    }
   ],
   "source": [
    "data1600 = q_ultimate_polarimetry(Cal_theta1600, Cal_Il_1600, Cal_Ir_1600, theta1600, Il_1600, Ir_1600)\n",
    "print(data1600[0], \"This is the Mueller matrix of the sample waveplate\")\n",
    "print(data1600[1], \"This is the retardance of the sample\")\n",
    "print(data1600[2], \"This is the Mueller matrix for calibration (close to identity)\")\n",
    "print(data1600[3], \"This is the RMS error in the calibration matrix\")\n",
    "print(data1600[4], \"This is the retardance error in the sample waveplate\")"
   ]
  },
  {
   "cell_type": "code",
   "execution_count": 34,
   "metadata": {},
   "outputs": [
    {
     "name": "stdout",
     "output_type": "stream",
     "text": [
      "[ 0.94914983 -0.14636128 -0.49729035 -0.09519108  0.61499797  0.99836271\n",
      "  0.50689438  0.10840792 -0.45429714 -0.38242407  0.13310187  0.42332721\n",
      "  0.66932851  0.97256685  0.83387496  0.16073396 -0.31554315 -0.08393517\n",
      "  0.64618714  0.95763718  0.25365594 -0.40940236 -0.37680653  0.26134345\n",
      "  0.89703987  0.9591277   0.66500758 -0.15535921 -0.7268607  -0.99643091\n",
      " -0.66422964 -0.10064404  0.30157723  0.53473244  0.98751077  0.51198985\n",
      " -0.14038605 -0.29340596  0.26039733  0.95137214]\n",
      "[-0.01430817  0.01575372 -0.09014418  0.0261929   0.05023069]\n",
      "[0.23630707 0.19993033 0.08692384 0.25537375 0.24376282]\n"
     ]
    }
   ],
   "source": [
    "parameter_bounds = ([-np.pi, -np.pi, -np.pi, -np.pi/2, -np.pi/2], [np.pi, np.pi, np.pi, np.pi/2, np.pi/2])\n",
    "#initial_guess = [0, 0, 0, 0, 0]\n",
    "initial_guess = [random.uniform(-0.05, 0.05), random.uniform(-0.05, 0.05), random.uniform(-0.05, 0.05), random.uniform(-0.05, 0.05), random.uniform(-0.05, 0.05)] # randomizing the initial guess doesn't change RMS significantly\n",
    "Q = (Cal_Ir_1600 - Cal_Il_1600)/(Cal_Ir_1600 + Cal_Il_1600) # This normalization made it better\n",
    "print(Q)\n",
    "\n",
    "popt, pcov = curve_fit(q_calibration_function, Cal_theta1600, Q, p0=initial_guess, bounds =parameter_bounds)\n",
    "print(popt)\n",
    "print(np.sqrt(np.diagonal(pcov)))"
   ]
  },
  {
   "cell_type": "code",
   "execution_count": 35,
   "metadata": {},
   "outputs": [
    {
     "name": "stdout",
     "output_type": "stream",
     "text": [
      "[[ 0.98491111 -0.02047509 -0.01292873 -0.02725306]\n",
      " [-0.08881021  0.97253906 -0.02121293  0.00142732]\n",
      " [ 0.02444843 -0.00275695  1.          0.00147728]\n",
      " [-0.03102691  0.03535142  0.01685623  0.94688794]]\n",
      "0.032186072736545626\n"
     ]
    }
   ],
   "source": [
    "calibrated = q_calibrated_full_mueller_polarimetry(Cal_theta1600, popt[0], popt[1], popt[2], popt[3], popt[4], Cal_Il_1600, Cal_Ir_1600, M_in=None)\n",
    "calibrated = calibrated/np.max(np.abs(calibrated))\n",
    "print(calibrated)\n",
    "print(RMS_calculator(calibrated))"
   ]
  },
  {
   "cell_type": "markdown",
   "metadata": {},
   "source": [
    "1750 nm SK data, 490 fps, 2 ms tint"
   ]
  },
  {
   "cell_type": "code",
   "execution_count": 36,
   "metadata": {},
   "outputs": [
    {
     "name": "stdout",
     "output_type": "stream",
     "text": [
      "Warning: low flux detected, check the image Reduced_DRRP_L_1750nm_490_2_111.999931640625.fits, index: 28\n"
     ]
    }
   ],
   "source": [
    "reduced_filename = 'Reduced_DRRP_'\n",
    "reduced_folder = \"/home/shared/exoserver/Lab_Data/Mueller_Matrix_Polarimeter/L_Plate_Characterization/SuperK_Select_Data/Reduced_Data/Reduced_L_1750/\"\n",
    "lcenter = [316, 250]\n",
    "rcenter = [316, 326]\n",
    "maxradius = 16\n",
    "cutoff = 290000\n",
    "\n",
    "extracted_data = extract_intensities(reduced_filename, reduced_folder, lcenter, rcenter, maxradius, cutoff)\n",
    "Il_1750 = extracted_data[0]\n",
    "Ir_1750 = extracted_data[1]\n",
    "theta1750 = extracted_data[2]"
   ]
  },
  {
   "cell_type": "code",
   "execution_count": 37,
   "metadata": {},
   "outputs": [
    {
     "name": "stdout",
     "output_type": "stream",
     "text": [
      "[-0.10720699 -0.24288235 -0.2173842   0.00854366 -0.02246199] Fit parameters for a1, w1, w2, r1, and r2. 1 for generator, 2 for analyzer\n",
      "[[ 0.98527948  0.01637047 -0.04935256  0.00951386]\n",
      " [-0.02682254  1.         -0.02605367 -0.11293172]\n",
      " [-0.01180501 -0.09263452  0.18718383 -0.95339955]\n",
      " [ 0.00782873 -0.00540416  0.95532585  0.16384422]] This is the Mueller matrix of the sample waveplate\n",
      "0.22331866166247863 This is the retardance of the sample\n",
      "[[ 1.         -0.06831087 -0.05657441 -0.03613203]\n",
      " [-0.09628942  0.93020973  0.08277794 -0.00577638]\n",
      " [-0.01608443 -0.04159955  0.96926446 -0.00728479]\n",
      " [-0.03647932  0.02069147 -0.01746227  0.95593757]] This is the Mueller matrix for calibration (close to identity)\n",
      "0.048213541901173225 This is the RMS error in the calibration matrix\n",
      "0.04889907468751932 This is the retardance error in the sample waveplate\n"
     ]
    }
   ],
   "source": [
    "data1750 = q_ultimate_polarimetry(Cal_theta1750, Cal_Il_1750, Cal_Ir_1750, theta1750, Il_1750, Ir_1750)\n",
    "print(data1750[0], \"This is the Mueller matrix of the sample waveplate\")\n",
    "print(data1750[1], \"This is the retardance of the sample\")\n",
    "print(data1750[2], \"This is the Mueller matrix for calibration (close to identity)\")\n",
    "print(data1750[3], \"This is the RMS error in the calibration matrix\")\n",
    "print(data1750[4], \"This is the retardance error in the sample waveplate\")"
   ]
  },
  {
   "cell_type": "code",
   "execution_count": 38,
   "metadata": {},
   "outputs": [
    {
     "name": "stdout",
     "output_type": "stream",
     "text": [
      "[[ 0.99832915 -0.01121512 -0.09147972 -0.04260057]\n",
      " [-0.04413663  0.73931208  0.43282716  0.00562301]\n",
      " [ 0.11707543  0.19884792  1.          0.04210994]\n",
      " [-0.0827423   0.07475683  0.0318913   0.87623415]]\n",
      "0.14819316472834299\n"
     ]
    }
   ],
   "source": [
    "uncalibrated = q_calibrated_full_mueller_polarimetry(Cal_theta1750, 0, 0, 0, 0, 0, Cal_Il_1750, Cal_Ir_1750, M_in=None)\n",
    "uncalibrated = uncalibrated/np.max(np.abs(uncalibrated))\n",
    "print(uncalibrated)\n",
    "print(RMS_calculator(uncalibrated))"
   ]
  },
  {
   "cell_type": "markdown",
   "metadata": {},
   "source": [
    "1850 nm SK data, 490 fps, 2 ms tint"
   ]
  },
  {
   "cell_type": "code",
   "execution_count": 39,
   "metadata": {},
   "outputs": [
    {
     "name": "stdout",
     "output_type": "stream",
     "text": [
      "Warning: low flux detected, check the image Reduced_DRRP_L_1850nm_490_2_15.999990234374998.fits, index: 4\n",
      "Warning: low flux detected, check the image Reduced_DRRP_L_1850nm_490_2_71.9999560546875.fits, index: 18\n",
      "Warning: low flux detected, check the image Reduced_DRRP_L_1850nm_490_2_75.99995361328125.fits, index: 19\n",
      "Warning: low flux detected, check the image Reduced_DRRP_L_1850nm_490_2_151.9999072265625.fits, index: 38\n",
      "Warning: low flux detected, check the image Reduced_DRRP_L_1850nm_490_2_167.9998974609375.fits, index: 42\n",
      "Warning: low flux detected, check the image Reduced_DRRP_L_1850nm_490_2_179.99989013671873.fits, index: 45\n"
     ]
    }
   ],
   "source": [
    "reduced_filename = 'Reduced_DRRP_'\n",
    "reduced_folder = \"/home/shared/exoserver/Lab_Data/Mueller_Matrix_Polarimeter/L_Plate_Characterization/SuperK_Select_Data/Reduced_Data/Reduced_L_1850/\"\n",
    "lcenter = [316, 248]\n",
    "rcenter = [316, 326]\n",
    "maxradius = 16\n",
    "cutoff = 90000\n",
    "\n",
    "extracted_data = extract_intensities(reduced_filename, reduced_folder, lcenter, rcenter, maxradius, cutoff)\n",
    "Il_1850 = extracted_data[0]\n",
    "Ir_1850 = extracted_data[1]\n",
    "theta1850 = extracted_data[2]"
   ]
  },
  {
   "cell_type": "code",
   "execution_count": 40,
   "metadata": {},
   "outputs": [
    {
     "name": "stdout",
     "output_type": "stream",
     "text": [
      "[-0.04294656 -0.2073552  -0.02126397  0.03181942  0.05285449] Fit parameters for a1, w1, w2, r1, and r2. 1 for generator, 2 for analyzer\n",
      "[[ 1.         -0.04101494 -0.00948163 -0.00767352]\n",
      " [ 0.00009777  0.91596465  0.16793174  0.13918544]\n",
      " [ 0.01427974  0.02773106  0.5268214  -0.73743688]\n",
      " [-0.01013399 -0.19678031  0.78392564  0.58482162]] This is the Mueller matrix of the sample waveplate\n",
      "0.16386140312487404 This is the retardance of the sample\n",
      "[[ 1.         -0.02107098  0.00463684 -0.00803194]\n",
      " [-0.09691181  0.98027372  0.09428968  0.00771931]\n",
      " [-0.00772462 -0.03928616  0.9237161  -0.01955411]\n",
      " [-0.00889651  0.0179261  -0.00251997  0.98164638]] This is the Mueller matrix for calibration (close to identity)\n",
      "0.041690469380405375 This is the RMS error in the calibration matrix\n",
      "0.04864254216590826 This is the retardance error in the sample waveplate\n"
     ]
    }
   ],
   "source": [
    "data1850 = q_ultimate_polarimetry(Cal_theta1850, Cal_Il_1850, Cal_Ir_1850, theta1850, Il_1850, Ir_1850)\n",
    "print(data1850[0], \"This is the Mueller matrix of the sample waveplate\")\n",
    "print(data1850[1], \"This is the retardance of the sample\")\n",
    "print(data1850[2], \"This is the Mueller matrix for calibration (close to identity)\")\n",
    "print(data1850[3], \"This is the RMS error in the calibration matrix\")\n",
    "print(data1850[4], \"This is the retardance error in the sample waveplate\")"
   ]
  },
  {
   "cell_type": "code",
   "execution_count": 41,
   "metadata": {},
   "outputs": [
    {
     "name": "stdout",
     "output_type": "stream",
     "text": [
      "[[ 1.         -0.0184592  -0.01105158 -0.01183386]\n",
      " [ 0.02477634  0.67251815  0.71418205  0.01014307]\n",
      " [ 0.29939737 -0.71516999  0.71383107 -0.02527524]\n",
      " [ 0.018467   -0.03850861  0.03020308  0.94755113]]\n",
      "0.28589174900059855\n"
     ]
    }
   ],
   "source": [
    "uncalibrated = q_calibrated_full_mueller_polarimetry(Cal_theta1850, 0, 0, 0, 0, 0, Cal_Il_1850, Cal_Ir_1850, M_in=None)\n",
    "uncalibrated = uncalibrated/np.max(np.abs(uncalibrated))\n",
    "print(uncalibrated)\n",
    "print(RMS_calculator(uncalibrated))"
   ]
  },
  {
   "cell_type": "markdown",
   "metadata": {},
   "source": [
    "1950 nm SK data, 490 fps, 2 ms tint"
   ]
  },
  {
   "cell_type": "code",
   "execution_count": 42,
   "metadata": {},
   "outputs": [
    {
     "name": "stdout",
     "output_type": "stream",
     "text": [
      "Warning: low flux detected, check the image Reduced_DRRP_L_1950nm_490_2_31.999980468749996.fits, index: 8\n",
      "Warning: low flux detected, check the image Reduced_DRRP_L_1950nm_490_2_95.99994140624999.fits, index: 24\n",
      "Warning: low flux detected, check the image Reduced_DRRP_L_1950nm_490_2_107.99993408203125.fits, index: 27\n",
      "Warning: low flux detected, check the image Reduced_DRRP_L_1950nm_490_2_131.99991943359373.fits, index: 33\n"
     ]
    }
   ],
   "source": [
    "reduced_filename = 'Reduced_DRRP_'\n",
    "reduced_folder = \"/home/shared/exoserver/Lab_Data/Mueller_Matrix_Polarimeter/L_Plate_Characterization/SuperK_Select_Data/Reduced_Data/Reduced_L_1950/\"\n",
    "lcenter = [316, 248]\n",
    "rcenter = [316, 326]\n",
    "maxradius = 16\n",
    "cutoff = 90000\n",
    "\n",
    "extracted_data = extract_intensities(reduced_filename, reduced_folder, lcenter, rcenter, maxradius, cutoff)\n",
    "Il_1950 = extracted_data[0]\n",
    "Ir_1950 = extracted_data[1]\n",
    "theta1950 = extracted_data[2]"
   ]
  },
  {
   "cell_type": "code",
   "execution_count": 43,
   "metadata": {},
   "outputs": [
    {
     "name": "stdout",
     "output_type": "stream",
     "text": [
      "[-0.01309188 -0.05368939  0.05662203  0.00329704 -0.03897437] Fit parameters for a1, w1, w2, r1, and r2. 1 for generator, 2 for analyzer\n",
      "[[ 1.          0.00181628  0.01438865 -0.02049497]\n",
      " [-0.02289467  0.9280946   0.15069087  0.3251679 ]\n",
      " [ 0.06125337 -0.02852669  0.8796414  -0.44276204]\n",
      " [ 0.0156046  -0.3420483   0.39912405  0.84822106]] This is the Mueller matrix of the sample waveplate\n",
      "0.09466075504682014 This is the retardance of the sample\n",
      "[[ 0.88644983 -0.01442724 -0.11846126 -0.05391594]\n",
      " [-0.06003969  0.88195077 -0.01169104 -0.02381862]\n",
      " [ 0.05822426 -0.13250168  1.         -0.01505369]\n",
      " [-0.05383187  0.05645294  0.07927621  0.86420824]] This is the Mueller matrix for calibration (close to identity)\n",
      "0.07916299410434384 This is the RMS error in the calibration matrix\n",
      "0.14128197190127664 This is the retardance error in the sample waveplate\n"
     ]
    }
   ],
   "source": [
    "data1950 = q_ultimate_polarimetry(Cal_theta1950, Cal_Il_1950, Cal_Ir_1950, theta1950, Il_1950, Ir_1950)\n",
    "print(data1950[0], \"This is the Mueller matrix of the sample waveplate\")\n",
    "print(data1950[1], \"This is the retardance of the sample\")\n",
    "print(data1950[2], \"This is the Mueller matrix for calibration (close to identity)\")\n",
    "print(data1950[3], \"This is the RMS error in the calibration matrix\")\n",
    "print(data1950[4], \"This is the retardance error in the sample waveplate\")"
   ]
  },
  {
   "cell_type": "code",
   "execution_count": 44,
   "metadata": {},
   "outputs": [
    {
     "name": "stdout",
     "output_type": "stream",
     "text": [
      "0.07916299410434383\n"
     ]
    }
   ],
   "source": [
    "print(np.sqrt(np.mean(np.square(data1950[2]-np.identity(4)))))"
   ]
  },
  {
   "cell_type": "code",
   "execution_count": 45,
   "metadata": {},
   "outputs": [
    {
     "name": "stdout",
     "output_type": "stream",
     "text": [
      "[[ 1.          0.00946586 -0.13785797 -0.05633032]\n",
      " [-0.05371579  0.98874959  0.22643171 -0.01796157]\n",
      " [ 0.13837433 -0.54034842  0.97801944 -0.03867811]\n",
      " [-0.06639719  0.05492189  0.13424506  0.96011563]]\n",
      "0.1614415407445742\n"
     ]
    }
   ],
   "source": [
    "uncalibrated = q_calibrated_full_mueller_polarimetry(Cal_theta1950, 0, 0, 0, 0, 0, Cal_Il_1950, Cal_Ir_1950, M_in=None)\n",
    "uncalibrated = uncalibrated/np.max(np.abs(uncalibrated))\n",
    "print(uncalibrated)\n",
    "print(RMS_calculator(uncalibrated))"
   ]
  },
  {
   "cell_type": "code",
   "execution_count": 46,
   "metadata": {},
   "outputs": [
    {
     "name": "stdout",
     "output_type": "stream",
     "text": [
      "0.1614415407445742\n"
     ]
    }
   ],
   "source": [
    "print(np.sqrt(np.mean(np.square(uncalibrated-np.identity(4)))))"
   ]
  },
  {
   "cell_type": "code",
   "execution_count": 47,
   "metadata": {},
   "outputs": [
    {
     "name": "stdout",
     "output_type": "stream",
     "text": [
      "[0.0, 0.009465857236823878, -0.13785796790003832, -0.056330318392842645, -0.05371578822857675, -0.011250406842353233, 0.2264317118652838, -0.01796157329220182, 0.1383743268562796, -0.5403484237406341, -0.021980563588188118, -0.038678108368182154, -0.06639719471662536, 0.05492189038267925, 0.13424506007589743, -0.039884365601950855]\n",
      "[0.0, 8.960245322793098e-05, 0.019004819313527994, 0.003173104770239026, 0.0028853859050173044, 0.00012657165411846845, 0.051271320138242905, 0.00032261811513113774, 0.019147454332928502, 0.29197641903898786, 0.0004831451756543813, 0.0014959960669408423, 0.004408587466237463, 0.0030164140432070354, 0.01802173615478131, 0.0015907626194700806]\n",
      "0.1614415407445742\n"
     ]
    }
   ],
   "source": [
    "differences = []\n",
    "for i in range(0, 4):\n",
    "    for j in range(0, 4):\n",
    "        differences.append(uncalibrated[i, j]-M_identity[i, j])\n",
    "print(differences)\n",
    "\n",
    "differences_squared = [x**2 for x in differences]\n",
    "print(differences_squared)\n",
    "RMS = np.sqrt(sum(differences_squared)/16)\n",
    "print(RMS)"
   ]
  },
  {
   "cell_type": "markdown",
   "metadata": {},
   "source": [
    "Plot the data"
   ]
  },
  {
   "cell_type": "code",
   "execution_count": 48,
   "metadata": {},
   "outputs": [],
   "source": [
    "old_q_measured_retardance = [0.427, 0.423, 0.120, 0.336, 0.164, 0.198, 0.220, 0.139, 0.127]"
   ]
  },
  {
   "cell_type": "code",
   "execution_count": 49,
   "metadata": {},
   "outputs": [],
   "source": [
    "# From regular I measurements\n",
    "old_wavelength_bins = np.array([1400, 1500, 1550, 1600, 1620, 1650, 1750, 1900, 2000])\n",
    "old_retardance = np.array([0.456, 0.432, 0.122, 0.338, 0.162, 0.198, 0.221, 0.127, 0.131])"
   ]
  },
  {
   "cell_type": "code",
   "execution_count": 50,
   "metadata": {},
   "outputs": [],
   "source": [
    "new_wavelength_bins = [1400, 1500, 1550, 1600, 1620, 1650, 1750, 1850, 1950]\n",
    "new_retardance = [0.447, 0.433, 0.376, 0.336, 0.322, 0.297, 0.224, 0.150, 0.089]"
   ]
  },
  {
   "cell_type": "code",
   "execution_count": 51,
   "metadata": {},
   "outputs": [
    {
     "data": {
      "image/png": "[encoded data removed]",
      "text/plain": [
       "<Figure size 640x480 with 1 Axes>"
      ]
     },
     "metadata": {},
     "output_type": "display_data"
    }
   ],
   "source": [
    "plt.ylim(0, 0.5)\n",
    "plt.xlim(1300, 2050)\n",
    "plt.xlabel(\"Wavelength (nm)\", fontsize=12, fontweight='bold')\n",
    "plt.ylabel(\"Retardance (waves)\", fontsize=12, fontweight='bold')\n",
    "\n",
    "plt.plot(old_wavelength_bins, old_retardance, marker='o', linestyle=' ', color = 'purple', label = 'L HWP: Thorlabs Lamp, Initial')\n",
    "plt.plot(old_wavelength_bins, old_q_measured_retardance, marker='o', linestyle=' ', color = 'green', label = 'L HWP: Thorlabs Lamp, Q measured')\n",
    "plt.plot(new_wavelength_bins, new_retardance, marker='x', linestyle=' ', color = 'orange', label = 'L HWP: SuperK Laser, Q measured')\n",
    "plt.legend()\n",
    "\n",
    "caption = \"Characterization for the L-band half-wave plate (centered). 1cm beam diameter.\"\n",
    "\n",
    "text_width = 70  # Speify desired text width box in characters\n",
    "wrapped_text = textwrap.fill(caption, width=text_width)\n",
    "plt.text(1650, -0.09, wrapped_text, ha='center', va='center')\n",
    "\n",
    "folder_path = \"/home/shared/exoserver/Lab_Data/Mueller_Matrix_Polarimeter/L_Plate_Characterization/SuperK_Select_Data/\"\n",
    "file_name = 'L_HWP_Retardance_Comparison.png'\n",
    "#plt.savefig(folder_path + file_name, bbox_inches='tight', dpi=300)"
   ]
  },
  {
   "cell_type": "code",
   "execution_count": 52,
   "metadata": {},
   "outputs": [],
   "source": [
    "# wavelength_bins = [1100, 1200, 1300, 1400, 1500, 1550, 1600, 1620, 1650, 1750, 1850, 1950]\n",
    "# retardance = np.array([1+data1100[1], 1-data1200[1], 1-data1300[1], 1-data1400[1], data1500[1], data1550[1], data1600[1], data1620[1], data1650[1], data1750[1], data1850[1], data1950[1]])+1\n",
    "\n",
    "wavelength_bins = [1.1, 1.2, 1.3, 1.4, 1.5, 1.6, 1.75, 1.85, 1.95]\n",
    "retardance = np.array([1-data1100[1], 1-data1200[1], 1-data1300[1], 1-data1400[1], data1500[1], data1600[1], data1750[1], data1850[1], data1950[1]])+1"
   ]
  },
  {
   "cell_type": "code",
   "execution_count": 53,
   "metadata": {},
   "outputs": [
    {
     "name": "stdout",
     "output_type": "stream",
     "text": [
      "[1.88150804 1.81835356 1.66410578 1.53016804 1.42812714 1.33396596\n",
      " 1.22331866 1.1638614  1.09466076]\n"
     ]
    }
   ],
   "source": [
    "print(retardance)"
   ]
  },
  {
   "cell_type": "code",
   "execution_count": 54,
   "metadata": {},
   "outputs": [
    {
     "name": "stdout",
     "output_type": "stream",
     "text": [
      "[0.16498888955699562, 0.06671317288683754, 0.07866119538248209, 0.25248655024730243, 0.08703630328884053, 0.03724147937683159, 0.04889907468751932, 0.04864254216590826, 0.14128197190127664]\n"
     ]
    }
   ],
   "source": [
    "y_err1 = [data1100[4], data1200[4], data1300[4], data1400[4], data1500[4], data1600[4], data1750[4], data1850[4], data1950[4]]\n",
    "print(y_err1)"
   ]
  },
  {
   "cell_type": "code",
   "execution_count": 55,
   "metadata": {},
   "outputs": [],
   "source": [
    "# Import the theoretical values\n",
    "#d = 185.63 #um Estimate by William Chang\n",
    "\n",
    "#Ordinary and Extraordinary indices of refraction takeing from refractiveindex.info\n",
    "n_e = np.loadtxt(\"/home/shared/exoserver/Lab_Data/Mueller_Matrix_Polarimeter/L_Plate_Characterization/SuperK_Select_Data/Dodge-e.csv\", delimiter=\",\",skiprows=1)\n",
    "n_o = np.loadtxt(\"/home/shared/exoserver/Lab_Data/Mueller_Matrix_Polarimeter/L_Plate_Characterization/SuperK_Select_Data/Dodge-o.csv\", delimiter=\",\",skiprows=1)"
   ]
  },
  {
   "cell_type": "code",
   "execution_count": 56,
   "metadata": {},
   "outputs": [],
   "source": [
    "# Since the data doesn't have the same wavelengths I've measured, interpolate to get the specific values\n",
    "specific_ne = np.interp(wavelength_bins, n_e[:,0], n_e[:,1])\n",
    "specific_no = np.interp(wavelength_bins, n_o[:,0], n_o[:,1])"
   ]
  },
  {
   "cell_type": "code",
   "execution_count": 57,
   "metadata": {},
   "outputs": [
    {
     "name": "stdout",
     "output_type": "stream",
     "text": [
      "[188.0357552] This is the best fit value of d\n",
      "[0.733579138374166] This is the uncertainty in the best fit values\n"
     ]
    }
   ],
   "source": [
    "# Find d, the difference in plate thickness\n",
    "initial_guess = [185] # initial guess for d, in microns\n",
    "popt, pcov = curve_fit(lambda w, d: d*(specific_ne - specific_no)/w, wavelength_bins, retardance, sigma=y_err1, p0=initial_guess)\n",
    "print(popt, \"This is the best fit value of d\")\n",
    "print(list(np.sqrt(np.diagonal(pcov))), \"This is the uncertainty in the best fit values\")"
   ]
  },
  {
   "cell_type": "code",
   "execution_count": 58,
   "metadata": {},
   "outputs": [],
   "source": [
    "d = popt[0]"
   ]
  },
  {
   "cell_type": "code",
   "execution_count": 59,
   "metadata": {},
   "outputs": [],
   "source": [
    "def theoretical_retardance(w, d):\n",
    "    specific_ne = np.interp(w, n_e[:,0], n_e[:,1])\n",
    "    specific_no = np.interp(w, n_o[:,0], n_o[:,1])\n",
    "    return d*(specific_ne - specific_no)/w"
   ]
  },
  {
   "cell_type": "code",
   "execution_count": 60,
   "metadata": {},
   "outputs": [
    {
     "name": "stdout",
     "output_type": "stream",
     "text": [
      "0.5752839158946168\n",
      "[0.00224434]\n",
      "[-0.00224434]\n",
      "0.44972549013793495\n",
      "[0.0017545]\n",
      "[-0.0017545]\n"
     ]
    }
   ],
   "source": [
    "print(theoretical_retardance(3.4, d)) \n",
    "print(theoretical_retardance(3.4, d+list(np.sqrt(np.diagonal(pcov)))) - theoretical_retardance(3.4, d))\n",
    "print(theoretical_retardance(3.4, d) - theoretical_retardance(3.4, d+list(np.sqrt(np.diagonal(pcov)))))\n",
    "\n",
    "print(theoretical_retardance(4.1, d))\n",
    "print(theoretical_retardance(4.1, d+list(np.sqrt(np.diagonal(pcov)))) - theoretical_retardance(4.1, d))\n",
    "print(theoretical_retardance(4.1, d) - theoretical_retardance(4.1, d+list(np.sqrt(np.diagonal(pcov)))))"
   ]
  },
  {
   "cell_type": "code",
   "execution_count": 61,
   "metadata": {},
   "outputs": [
    {
     "data": {
      "text/plain": [
       "0.5091579273597902"
      ]
     },
     "execution_count": 61,
     "metadata": {},
     "output_type": "execute_result"
    }
   ],
   "source": [
    "L_wavelengths = np.linspace(3.4, 4.1, 100)\n",
    "np.mean(theoretical_retardance(L_wavelengths, d))"
   ]
  },
  {
   "cell_type": "code",
   "execution_count": 62,
   "metadata": {},
   "outputs": [
    {
     "data": {
      "image/png": "[encoded data removed]",
      "text/plain": [
       "<Figure size 640x480 with 1 Axes>"
      ]
     },
     "metadata": {},
     "output_type": "display_data"
    }
   ],
   "source": [
    "plt.ylim(0.4, 2.4)\n",
    "plt.xlim(0.9, 4.2)\n",
    "plt.xlabel(\"Wavelength $(\\mu m)$\", fontsize=12, fontweight='bold')\n",
    "plt.ylabel(\"Retardance $(waves)$\", fontsize=12, fontweight='bold')\n",
    "\n",
    "plt.errorbar(wavelength_bins, retardance, yerr=y_err1, marker='o', capsize=2, linestyle=' ', color = 'purple', label = 'Lab Measurements')\n",
    "plt.plot(n_e[:,0], 1/n_e[:,0]*d*(n_e[:,1]-n_o[:,1]),label=\"Design\")\n",
    "plt.fill_between([3.4, 4.1],0,2,color='r',alpha=0.3,label=\"Keck L'\")\n",
    "\n",
    "caption = \"Characterization for the L-band half-wave plate. Data taken with SuperK SELECT laser.\"\n",
    "\n",
    "text_width = 70  # Speify desired text width box in characters\n",
    "wrapped_text = textwrap.fill(caption, width=text_width)\n",
    "#plt.text(2.5, 0, wrapped_text, ha='center', va='center')\n",
    "\n",
    "plt.legend(fontsize=12)\n",
    "#plt.grid(True)\n",
    "\n",
    "folder_path = \"/home/shared/exoserver/Lab_Data/Mueller_Matrix_Polarimeter/L_Plate_Characterization/SuperK_Select_Data/\"\n",
    "file_name = 'Final_L_Band_HWP_Retardance.png'\n",
    "#plt.savefig(folder_path + file_name, bbox_inches='tight', dpi=300)"
   ]
  },
  {
   "cell_type": "markdown",
   "metadata": {},
   "source": [
    "Testing Jaren's Katsu polar decomposition"
   ]
  },
  {
   "cell_type": "code",
   "execution_count": 63,
   "metadata": {},
   "outputs": [
    {
     "name": "stdout",
     "output_type": "stream",
     "text": [
      "[[ 0.99320438 -0.01056154  0.01258363  0.00232319]\n",
      " [-0.03012515  0.98135094 -0.14451852  0.02836734]\n",
      " [-0.01498993 -0.09113912 -1.          0.27820013]\n",
      " [-0.00072757 -0.00764026 -0.25868758 -0.93845856]] M\n",
      "[[ 0.9931849   0.          0.         -0.        ]\n",
      " [-0.01792965  0.98121311 -0.14423139  0.02842695]\n",
      " [-0.00394111 -0.09125072 -1.          0.27825565]\n",
      " [ 0.00466502 -0.00762024 -0.25874355 -0.93857573]] Retarder\n",
      "[[ 1.         -0.01063381  0.01266972  0.00233908]\n",
      " [-0.01063381  0.999917   -0.00006737 -0.00001244]\n",
      " [ 0.01266972 -0.00006737  0.99994072  0.00001482]\n",
      " [ 0.00233908 -0.00001244  0.00001482  0.99986319]] Diattenuator\n"
     ]
    }
   ],
   "source": [
    "print(data1400[0], \"M\")\n",
    "print(decompose_retarder((data1400[0]), True)[0], \"Retarder\")\n",
    "print(decompose_retarder((data1400[0]), True)[1], \"Diattenuator\")"
   ]
  },
  {
   "cell_type": "code",
   "execution_count": 64,
   "metadata": {},
   "outputs": [
    {
     "name": "stdout",
     "output_type": "stream",
     "text": [
      "[[ 1.         -0.05988062 -0.02825704 -0.03454141]\n",
      " [-0.07648199  0.38341641  0.67589144  0.48298225]\n",
      " [ 0.03079845  0.73119384  0.12381035 -0.55198157]\n",
      " [ 0.00122684 -0.43035142  0.62833724 -0.51212766]] M\n",
      "[[ 1.         -0.         -0.          0.        ]\n",
      " [-0.0178407   0.38165569  0.67644664  0.48269977]\n",
      " [ 0.05934607  0.73594675  0.12543367 -0.55196678]\n",
      " [-0.02461481 -0.43225767  0.62976595 -0.51396622]] Retarder\n",
      "[[ 1.         -0.05988062 -0.02825704 -0.03454141]\n",
      " [-0.05988062  0.99900282  0.00084721  0.00103563]\n",
      " [-0.02825704  0.00084721  0.99760726  0.0004887 ]\n",
      " [-0.03454141  0.00103563  0.0004887   0.99780486]] Diattenuator\n"
     ]
    }
   ],
   "source": [
    "print(data1600[0], \"M\")\n",
    "print(decompose_retarder((data1600[0]), True)[0], \"Retarder\")\n",
    "print(decompose_retarder((data1600[0]), True)[1], \"Diattenuator\")"
   ]
  },
  {
   "cell_type": "markdown",
   "metadata": {},
   "source": [
    "Testing the calibration matrix reconstruction"
   ]
  },
  {
   "cell_type": "code",
   "execution_count": 65,
   "metadata": {},
   "outputs": [],
   "source": [
    "def I_output_simulation_function(t, a1, w1, w2, r1, r2, M_in=None):\n",
    "    if M_in is None:\n",
    "        M = M_identity\n",
    "    else:\n",
    "        M = M_in\n",
    "\n",
    "    prediction = [None]*len(t)\n",
    "    for i in range(len(t)):\n",
    "        prediction[i] = float(A @ linear_retarder(5*t[i]+w2, np.pi/2+r2) @ M_identity @ linear_retarder(t[i]+w1, np.pi/2+r1) @ linear_polarizer(a1) @ B)\n",
    "    return prediction"
   ]
  },
  {
   "cell_type": "code",
   "execution_count": 66,
   "metadata": {},
   "outputs": [],
   "source": [
    "def test_q_calibrated_full_mueller_polarimetry(thetas, a1, w1, w2, r1, r2, I, Q, M_in=None):\n",
    "    nmeas = len(thetas)  # Number of measurements\n",
    "    Wmat1 = np.zeros([nmeas, 16])\n",
    "    Pmat1 = np.zeros([nmeas])\n",
    "    Wmat2 = np.zeros([nmeas, 16])\n",
    "    Pmat2 = np.zeros([nmeas])\n",
    "    th = thetas\n",
    "\n",
    "    for i in range(nmeas):\n",
    "        # Mueller Matrix of generator (linear polarizer and a quarter wave plate)\n",
    "        Mg = linear_retarder(th[i]+w1, np.pi/2+r1) @ linear_polarizer(0+a1)\n",
    "\n",
    "        # Mueller Matrix of analyzer (one channel of the Wollaston prism is treated as a linear polarizer. The right spot is horizontal (0) and the left spot is vertical(pi/2))\n",
    "        Ma = linear_retarder(th[i]*5+w2, np.pi/2+r2)\n",
    "\n",
    "        # Data reduction matrix. Taking the 0 index ensures that intensity is the output\n",
    "        Wmat1[i,:] = np.kron((Ma)[0,:], Mg[:,0]) # for the top row, using intensities\n",
    "        Wmat2[i,:] = np.kron((Ma)[1,:], Mg[:,0]) # for the bottom 3 rows, using Q\n",
    "\n",
    "        # M_in is some example Mueller matrix. Providing this input will test theoretical Mueller matrix. Otherwise, the raw data is used\n",
    "        if M_in is not None:\n",
    "            Pmat1[i] = (Ma[0,:] @ M_in @ Mg[:,0])\n",
    "            Pmat2[i] = (Ma[1,:] @ M_in @ Mg[:,0])\n",
    "        else:\n",
    "            Pmat1[i] = I[i]  #Pmat is a vector of measurements (either I or Q)\n",
    "            Pmat2[i] = Q[i] \n",
    "\n",
    "    # Compute Mueller matrix using Moore-Penrose pseudo invervse\n",
    "    M1 = np.linalg.pinv(Wmat1) @ Pmat1\n",
    "    M1 = np.reshape(M1, [4,4])\n",
    "\n",
    "    M2 = np.linalg.pinv(Wmat2) @ Pmat2\n",
    "    M2 = np.reshape(M2, [4,4])\n",
    "\n",
    "    M = np.zeros([4,4])\n",
    "    M[0,:] = M1[0,:]\n",
    "    M[1:4,:] = M2[1:4,:]\n",
    "\n",
    "    return M"
   ]
  },
  {
   "cell_type": "code",
   "execution_count": 67,
   "metadata": {},
   "outputs": [
    {
     "name": "stdout",
     "output_type": "stream",
     "text": [
      "[0.         0.13962634 0.20943951 0.27925268 0.34906585 0.41887902\n",
      " 0.55850536 0.62831853 0.6981317  0.90757121 0.97738438 1.04719755\n",
      " 1.11701072 1.18682389 1.25663706 1.32645023 1.3962634  1.46607657\n",
      " 1.53588974 1.60570291 1.67551608 1.74532925 1.81514242 1.88495559\n",
      " 1.95476876 2.02458193 2.0943951  2.23402144 2.30383461 2.37364778\n",
      " 2.44346095 2.51327412 2.58308729 2.65290046 2.7925268  2.86233997\n",
      " 2.93215314 3.00196631 3.07177948 3.14159265]\n"
     ]
    }
   ],
   "source": [
    "print(Cal_theta1600)\n"
   ]
  },
  {
   "cell_type": "code",
   "execution_count": 68,
   "metadata": {},
   "outputs": [],
   "source": [
    "simulated_q = q_output_simulation_function(Cal_theta1600, 0.1, 0.5, -0.5, 0.1, 0.5)"
   ]
  },
  {
   "cell_type": "code",
   "execution_count": 69,
   "metadata": {},
   "outputs": [],
   "source": [
    "simulated_I = I_output_simulation_function(Cal_theta1600, 0.1, 0.5, -0.5, 0.1, 0.5)"
   ]
  },
  {
   "cell_type": "code",
   "execution_count": 70,
   "metadata": {},
   "outputs": [
    {
     "data": {
      "text/plain": [
       "array([[ 1.,  0., -0.,  0.],\n",
       "       [-0.,  1., -0.,  0.],\n",
       "       [-0.,  0.,  1., -0.],\n",
       "       [ 0., -0., -0.,  1.]])"
      ]
     },
     "execution_count": 70,
     "metadata": {},
     "output_type": "execute_result"
    }
   ],
   "source": [
    "test_q_calibrated_full_mueller_polarimetry(Cal_theta1600, 0.1, 0.5, -0.5, 0.1, 0.5, simulated_I, simulated_q)"
   ]
  },
  {
   "cell_type": "code",
   "execution_count": 71,
   "metadata": {},
   "outputs": [
    {
     "name": "stdout",
     "output_type": "stream",
     "text": [
      "[[ 0.98493961 -0.0204749  -0.01292995 -0.02725377]\n",
      " [-0.08879659  0.97255066 -0.02113516  0.00142279]\n",
      " [ 0.02448229 -0.00287291  1.          0.00148569]\n",
      " [-0.0310243   0.03535124  0.01685632  0.94692116]]\n",
      "0.03217779646599448\n"
     ]
    }
   ],
   "source": [
    "print(data1600[2])\n",
    "print(data1600[3])"
   ]
  },
  {
   "cell_type": "code",
   "execution_count": 72,
   "metadata": {},
   "outputs": [
    {
     "name": "stdout",
     "output_type": "stream",
     "text": [
      "[[ 0.9615384  -0.02156725 -0.01103457 -0.02667166]\n",
      " [-0.12402778  0.9467621  -0.26230087  0.0281769 ]\n",
      " [-0.06157619  0.46055893  1.         -0.04059958]\n",
      " [-0.06109745  0.06655095 -0.00628914  0.86503715]]\n",
      "0.1446031974468584\n"
     ]
    }
   ],
   "source": [
    "uncalibrated = q_calibrated_full_mueller_polarimetry(Cal_theta1600, 0, 0, 0, 0, 0, Cal_Il_1600, Cal_Ir_1600, M_in=None)\n",
    "uncalibrated = uncalibrated/np.max(np.abs(uncalibrated))\n",
    "print(uncalibrated)\n",
    "print(RMS_calculator(uncalibrated))"
   ]
  },
  {
   "cell_type": "code",
   "execution_count": 73,
   "metadata": {},
   "outputs": [
    {
     "name": "stdout",
     "output_type": "stream",
     "text": [
      "[ 0.1  0.5 -0.5  0.1  0.5]\n"
     ]
    }
   ],
   "source": [
    "parameter_bounds = ([-np.pi, -np.pi, -np.pi, -np.pi/2, -np.pi/2], [np.pi, np.pi, np.pi, np.pi/2, np.pi/2])\n",
    "initial_guess = [0, 0, 0, 0, 0]\n",
    "\n",
    "popt, pcov = curve_fit(q_calibration_function, Cal_theta1600, simulated_q, p0=initial_guess, bounds =parameter_bounds)\n",
    "print(popt)"
   ]
  },
  {
   "cell_type": "code",
   "execution_count": 74,
   "metadata": {},
   "outputs": [
    {
     "name": "stdout",
     "output_type": "stream",
     "text": [
      "[ 0.04585305 -0.00281087 -0.25381309 -0.43060062 -0.30968376 -0.02169915\n",
      "  0.35393158  0.45980153  0.36423067 -0.32619702  0.18098666  0.4846869\n",
      "  0.2199951  -0.21356831 -0.21012926  0.21114455  0.4950172   0.35994825\n",
      "  0.10305107  0.04286496  0.0553582  -0.11537555 -0.37279489 -0.40688863\n",
      " -0.16907487  0.10561608  0.28352798  0.45090729  0.19337867 -0.26318992\n",
      " -0.44670913 -0.09142505  0.39787636  0.41470084 -0.28487664 -0.02071035\n",
      "  0.40300863  0.47100892  0.21840923  0.04585305]\n",
      "[ 0.07868393  0.49352974 -0.51529873  0.04753104  0.3311065 ] Fit parameters for a1, w1, w2, r1, and r2. 1 for generator, 2 for analyzer\n"
     ]
    }
   ],
   "source": [
    "# # Find parameters from calibration\n",
    "QCal = np.array(simulated_q)\n",
    "print(QCal)\n",
    "normalized_QCal = QCal/(max(QCal))\n",
    "popt, pcov = curve_fit(q_calibration_function, Cal_theta1600, normalized_QCal, p0=initial_guess)\n",
    "print(popt, \"Fit parameters for a1, w1, w2, r1, and r2. 1 for generator, 2 for analyzer\")"
   ]
  },
  {
   "cell_type": "code",
   "execution_count": null,
   "metadata": {},
   "outputs": [],
   "source": []
  }
 ],
 "metadata": {
  "kernelspec": {
   "display_name": "Python 3",
   "language": "python",
   "name": "python3"
  },
  "language_info": {
   "codemirror_mode": {
    "name": "ipython",
    "version": 3
   },
   "file_extension": ".py",
   "mimetype": "text/x-python",
   "name": "python",
   "nbconvert_exporter": "python",
   "pygments_lexer": "ipython3",
   "version": "3.8.10"
  }
 },
 "nbformat": 4,
 "nbformat_minor": 2
}
