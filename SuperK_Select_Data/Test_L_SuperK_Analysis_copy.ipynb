{
 "cells": [
  {
   "cell_type": "code",
   "execution_count": 54,
   "metadata": {},
   "outputs": [],
   "source": [
    "# Testing the modified Test_New_DRRP_Functions with the goal of checking the normalization and seeing if there's any diattenuation"
   ]
  },
  {
   "cell_type": "code",
   "execution_count": 1,
   "metadata": {},
   "outputs": [],
   "source": [
    "import sys\n",
    "sys.path.insert(0, '/home/wcmelby/Library/Python/wcmelby-HWP_Characterizations/SuperK_Select_Data/')\n",
    "from Test_New_DRRP_Functions import *"
   ]
  },
  {
   "cell_type": "markdown",
   "metadata": {},
   "source": [
    "This data is taken with the L band plate using the SuperK Select laser operating with main power at 5%, specific channel power at 40%"
   ]
  },
  {
   "cell_type": "markdown",
   "metadata": {},
   "source": [
    "Bring in the new SK calibration data"
   ]
  },
  {
   "cell_type": "code",
   "execution_count": 2,
   "metadata": {},
   "outputs": [
    {
     "name": "stdout",
     "output_type": "stream",
     "text": [
      "Warning: low flux detected, check the image Reduced_DRRP_Cal_1100nm_490_2_11.999992675781249.fits, index: 3\n",
      "Warning: low flux detected, check the image Reduced_DRRP_Cal_1100nm_490_2_43.999973144531246.fits, index: 11\n",
      "Warning: low flux detected, check the image Reduced_DRRP_Cal_1100nm_490_2_51.99996826171875.fits, index: 13\n",
      "Warning: low flux detected, check the image Reduced_DRRP_Cal_1100nm_490_2_63.99996093749999.fits, index: 16\n",
      "Warning: low flux detected, check the image Reduced_DRRP_Cal_1100nm_490_2_87.99994628906249.fits, index: 22\n",
      "Warning: low flux detected, check the image Reduced_DRRP_Cal_1100nm_490_2_99.99993896484375.fits, index: 25\n",
      "Warning: low flux detected, check the image Reduced_DRRP_Cal_1100nm_490_2_155.99990478515625.fits, index: 39\n"
     ]
    }
   ],
   "source": [
    "reduced_filename = 'Reduced_DRRP_'\n",
    "reduced_folder = \"/home/shared/exoserver/Lab_Data/Mueller_Matrix_Polarimeter/L_Plate_Characterization/SuperK_Select_Data/Calibrations/Calibration_Reduced/SK_Cal_1100_Reduced/\"\n",
    "lcenter = [315, 253]\n",
    "rcenter = [316, 329]\n",
    "maxradius = 17\n",
    "cutoff = 100000\n",
    "\n",
    "extracted_data = extract_intensities(reduced_filename, reduced_folder, lcenter, rcenter, maxradius, cutoff)\n",
    "Cal_Il_1100 = extracted_data[0]\n",
    "Cal_Ir_1100 = extracted_data[1]\n",
    "Cal_theta1100 = extracted_data[2]"
   ]
  },
  {
   "cell_type": "code",
   "execution_count": 3,
   "metadata": {},
   "outputs": [
    {
     "name": "stdout",
     "output_type": "stream",
     "text": [
      "Warning: low flux detected, check the image Reduced_DRRP_Cal_1200nm_490_2_71.9999560546875.fits, index: 18\n",
      "Warning: low flux detected, check the image Reduced_DRRP_Cal_1200nm_490_2_155.99990478515625.fits, index: 39\n",
      "Warning: low flux detected, check the image Reduced_DRRP_Cal_1200nm_490_2_159.99990234375.fits, index: 40\n"
     ]
    }
   ],
   "source": [
    "reduced_filename = 'Reduced_DRRP_'\n",
    "reduced_folder = \"/home/shared/exoserver/Lab_Data/Mueller_Matrix_Polarimeter/L_Plate_Characterization/SuperK_Select_Data/Calibrations/Calibration_Reduced/SK_Cal_1200_Reduced/\"\n",
    "lcenter = [315, 253]\n",
    "rcenter = [316, 329]\n",
    "maxradius = 17\n",
    "cutoff = 200000\n",
    "\n",
    "extracted_data = extract_intensities(reduced_filename, reduced_folder, lcenter, rcenter, maxradius, cutoff)\n",
    "Cal_Il_1200 = extracted_data[0]\n",
    "Cal_Ir_1200 = extracted_data[1]\n",
    "Cal_theta1200 = extracted_data[2]"
   ]
  },
  {
   "cell_type": "code",
   "execution_count": 4,
   "metadata": {},
   "outputs": [
    {
     "name": "stdout",
     "output_type": "stream",
     "text": [
      "Warning: low flux detected, check the image Reduced_DRRP_Cal_1300nm_490_2_7.999995117187499.fits, index: 2\n",
      "Warning: low flux detected, check the image Reduced_DRRP_Cal_1300nm_490_2_51.99996826171875.fits, index: 13\n",
      "Warning: low flux detected, check the image Reduced_DRRP_Cal_1300nm_490_2_63.99996093749999.fits, index: 16\n",
      "Warning: low flux detected, check the image Reduced_DRRP_Cal_1300nm_490_2_79.999951171875.fits, index: 20\n",
      "Warning: low flux detected, check the image Reduced_DRRP_Cal_1300nm_490_2_131.99991943359373.fits, index: 33\n",
      "Warning: low flux detected, check the image Reduced_DRRP_Cal_1300nm_490_2_135.99991699218748.fits, index: 34\n",
      "Warning: low flux detected, check the image Reduced_DRRP_Cal_1300nm_490_2_171.99989501953124.fits, index: 43\n"
     ]
    }
   ],
   "source": [
    "reduced_filename = 'Reduced_DRRP_'\n",
    "reduced_folder = \"/home/shared/exoserver/Lab_Data/Mueller_Matrix_Polarimeter/L_Plate_Characterization/SuperK_Select_Data/Calibrations/Calibration_Reduced/SK_Cal_1300_Reduced/\"\n",
    "lcenter = [315, 253]\n",
    "rcenter = [316, 329]\n",
    "maxradius = 17\n",
    "cutoff = 10000\n",
    "\n",
    "extracted_data = extract_intensities(reduced_filename, reduced_folder, lcenter, rcenter, maxradius, cutoff)\n",
    "Cal_Il_1300 = extracted_data[0]\n",
    "Cal_Ir_1300 = extracted_data[1]\n",
    "Cal_theta1300 = extracted_data[2]"
   ]
  },
  {
   "cell_type": "code",
   "execution_count": 5,
   "metadata": {},
   "outputs": [
    {
     "name": "stdout",
     "output_type": "stream",
     "text": [
      "Warning: low flux detected, check the image Reduced_DRRP_Cal_1400nm_490_2_39.9999755859375.fits, index: 10\n",
      "Warning: low flux detected, check the image Reduced_DRRP_Cal_1400nm_490_2_47.999970703124994.fits, index: 12\n",
      "Warning: low flux detected, check the image Reduced_DRRP_Cal_1400nm_490_2_99.99993896484375.fits, index: 25\n",
      "Warning: low flux detected, check the image Reduced_DRRP_Cal_1400nm_490_2_103.9999365234375.fits, index: 26\n",
      "Warning: low flux detected, check the image Reduced_DRRP_Cal_1400nm_490_2_175.99989257812499.fits, index: 44\n"
     ]
    }
   ],
   "source": [
    "reduced_filename = 'Reduced_DRRP_'\n",
    "reduced_folder = \"/home/shared/exoserver/Lab_Data/Mueller_Matrix_Polarimeter/L_Plate_Characterization/SuperK_Select_Data/Calibrations/Calibration_Reduced/SK_Cal_1400_Reduced/\"\n",
    "lcenter = [315, 253]\n",
    "rcenter = [316, 329]\n",
    "maxradius = 17\n",
    "cutoff = 30000\n",
    "\n",
    "extracted_data = extract_intensities(reduced_filename, reduced_folder, lcenter, rcenter, maxradius, cutoff)\n",
    "Cal_Il_1400 = extracted_data[0]\n",
    "Cal_Ir_1400 = extracted_data[1]\n",
    "Cal_theta1400 = extracted_data[2]"
   ]
  },
  {
   "cell_type": "code",
   "execution_count": 6,
   "metadata": {},
   "outputs": [
    {
     "name": "stdout",
     "output_type": "stream",
     "text": [
      "Warning: low flux detected, check the image Reduced_DRRP_Cal_1500nm_490_2_27.99998291015625.fits, index: 7\n",
      "Warning: low flux detected, check the image Reduced_DRRP_Cal_1500nm_490_2_59.999963378906244.fits, index: 15\n",
      "Warning: low flux detected, check the image Reduced_DRRP_Cal_1500nm_490_2_87.99994628906249.fits, index: 22\n",
      "Warning: low flux detected, check the image Reduced_DRRP_Cal_1500nm_490_2_123.99992431640624.fits, index: 31\n",
      "Warning: low flux detected, check the image Reduced_DRRP_Cal_1500nm_490_2_159.99990234375.fits, index: 40\n"
     ]
    }
   ],
   "source": [
    "reduced_filename = 'Reduced_DRRP_'\n",
    "reduced_folder = \"/home/shared/exoserver/Lab_Data/Mueller_Matrix_Polarimeter/L_Plate_Characterization/SuperK_Select_Data/Calibrations/Calibration_Reduced/SK_Cal_1500_Reduced/\"\n",
    "lcenter = [315, 253]\n",
    "rcenter = [316, 329]\n",
    "maxradius = 17\n",
    "cutoff = 10000\n",
    "\n",
    "extracted_data = extract_intensities(reduced_filename, reduced_folder, lcenter, rcenter, maxradius, cutoff)\n",
    "Cal_Il_1500 = extracted_data[0]\n",
    "Cal_Ir_1500 = extracted_data[1]\n",
    "Cal_theta1500 = extracted_data[2]"
   ]
  },
  {
   "cell_type": "code",
   "execution_count": 7,
   "metadata": {},
   "outputs": [
    {
     "name": "stdout",
     "output_type": "stream",
     "text": [
      "Warning: low flux detected, check the image Reduced_DRRP_Cal_1600nm_490_2_3.9999975585937495.fits, index: 1\n",
      "Warning: low flux detected, check the image Reduced_DRRP_Cal_1600nm_490_2_27.99998291015625.fits, index: 7\n",
      "Warning: low flux detected, check the image Reduced_DRRP_Cal_1600nm_490_2_43.999973144531246.fits, index: 11\n",
      "Warning: low flux detected, check the image Reduced_DRRP_Cal_1600nm_490_2_47.999970703124994.fits, index: 12\n",
      "Warning: low flux detected, check the image Reduced_DRRP_Cal_1600nm_490_2_123.99992431640624.fits, index: 31\n",
      "Warning: low flux detected, check the image Reduced_DRRP_Cal_1600nm_490_2_155.99990478515625.fits, index: 39\n"
     ]
    }
   ],
   "source": [
    "reduced_filename = 'Reduced_DRRP_'\n",
    "reduced_folder = \"/home/shared/exoserver/Lab_Data/Mueller_Matrix_Polarimeter/L_Plate_Characterization/SuperK_Select_Data/Calibrations/Calibration_Reduced/SK_Cal_1600_Reduced/\"\n",
    "lcenter = [315, 253]\n",
    "rcenter = [316, 329]\n",
    "maxradius = 17\n",
    "cutoff = 10000\n",
    "\n",
    "extracted_data = extract_intensities(reduced_filename, reduced_folder, lcenter, rcenter, maxradius, cutoff)\n",
    "Cal_Il_1600 = extracted_data[0]\n",
    "Cal_Ir_1600 = extracted_data[1]\n",
    "Cal_theta1600 = extracted_data[2]"
   ]
  },
  {
   "cell_type": "code",
   "execution_count": 8,
   "metadata": {},
   "outputs": [
    {
     "name": "stdout",
     "output_type": "stream",
     "text": [
      "Warning: low flux detected, check the image Reduced_DRRP_Cal_1750nm_490_2_7.999995117187499.fits, index: 2\n",
      "Warning: low flux detected, check the image Reduced_DRRP_Cal_1750nm_490_2_15.999990234374998.fits, index: 4\n",
      "Warning: low flux detected, check the image Reduced_DRRP_Cal_1750nm_490_2_79.999951171875.fits, index: 20\n",
      "Warning: low flux detected, check the image Reduced_DRRP_Cal_1750nm_490_2_103.9999365234375.fits, index: 26\n",
      "Warning: low flux detected, check the image Reduced_DRRP_Cal_1750nm_490_2_131.99991943359373.fits, index: 33\n"
     ]
    }
   ],
   "source": [
    "reduced_filename = 'Reduced_DRRP_'\n",
    "reduced_folder = \"/home/shared/exoserver/Lab_Data/Mueller_Matrix_Polarimeter/L_Plate_Characterization/SuperK_Select_Data/Calibrations/Calibration_Reduced/SK_Cal_1750_Reduced/\"\n",
    "lcenter = [315, 253]\n",
    "rcenter = [316, 329]\n",
    "maxradius = 17\n",
    "cutoff = 90000\n",
    "\n",
    "extracted_data = extract_intensities(reduced_filename, reduced_folder, lcenter, rcenter, maxradius, cutoff)\n",
    "Cal_Il_1750 = extracted_data[0]\n",
    "Cal_Ir_1750 = extracted_data[1]\n",
    "Cal_theta1750 = extracted_data[2]"
   ]
  },
  {
   "cell_type": "code",
   "execution_count": 9,
   "metadata": {},
   "outputs": [
    {
     "name": "stdout",
     "output_type": "stream",
     "text": [
      "Warning: low flux detected, check the image Reduced_DRRP_Cal_1850nm_490_2_27.99998291015625.fits, index: 7\n",
      "Warning: low flux detected, check the image Reduced_DRRP_Cal_1850nm_490_2_95.99994140624999.fits, index: 24\n",
      "Warning: low flux detected, check the image Reduced_DRRP_Cal_1850nm_490_2_107.99993408203125.fits, index: 27\n"
     ]
    }
   ],
   "source": [
    "reduced_filename = 'Reduced_DRRP_'\n",
    "reduced_folder = \"/home/shared/exoserver/Lab_Data/Mueller_Matrix_Polarimeter/L_Plate_Characterization/SuperK_Select_Data/Calibrations/Calibration_Reduced/SK_Cal_1850_Reduced/\"\n",
    "lcenter = [315, 253]\n",
    "rcenter = [316, 329]\n",
    "maxradius = 17\n",
    "cutoff = 20000\n",
    "\n",
    "extracted_data = extract_intensities(reduced_filename, reduced_folder, lcenter, rcenter, maxradius, cutoff)\n",
    "Cal_Il_1850 = extracted_data[0]\n",
    "Cal_Ir_1850 = extracted_data[1]\n",
    "Cal_theta1850 = extracted_data[2]"
   ]
  },
  {
   "cell_type": "code",
   "execution_count": 10,
   "metadata": {},
   "outputs": [
    {
     "name": "stdout",
     "output_type": "stream",
     "text": [
      "Warning: low flux detected, check the image Reduced_DRRP_Cal_1950nm_490_2_59.999963378906244.fits, index: 15\n",
      "Warning: low flux detected, check the image Reduced_DRRP_Cal_1950nm_490_2_71.9999560546875.fits, index: 18\n",
      "Warning: low flux detected, check the image Reduced_DRRP_Cal_1950nm_490_2_75.99995361328125.fits, index: 19\n",
      "Warning: low flux detected, check the image Reduced_DRRP_Cal_1950nm_490_2_171.99989501953124.fits, index: 43\n"
     ]
    }
   ],
   "source": [
    "reduced_filename = 'Reduced_DRRP_'\n",
    "reduced_folder = \"/home/shared/exoserver/Lab_Data/Mueller_Matrix_Polarimeter/L_Plate_Characterization/SuperK_Select_Data/Calibrations/Calibration_Reduced/SK_Cal_1950_Reduced/\"\n",
    "lcenter = [315, 253]\n",
    "rcenter = [316, 329]\n",
    "maxradius = 17\n",
    "cutoff = 40000\n",
    "\n",
    "extracted_data = extract_intensities(reduced_filename, reduced_folder, lcenter, rcenter, maxradius, cutoff)\n",
    "Cal_Il_1950 = extracted_data[0]\n",
    "Cal_Ir_1950 = extracted_data[1]\n",
    "Cal_theta1950 = extracted_data[2]"
   ]
  },
  {
   "cell_type": "markdown",
   "metadata": {},
   "source": [
    "Bring in calibration data from the old broadband light source"
   ]
  },
  {
   "cell_type": "code",
   "execution_count": 11,
   "metadata": {},
   "outputs": [
    {
     "name": "stdout",
     "output_type": "stream",
     "text": [
      "Warning: low flux detected, check the image Reduced_DRRP_L_1550nm_600_0.1_23.999985351562497.fits, index: 6\n",
      "Warning: low flux detected, check the image Reduced_DRRP_L_1550nm_600_0.1_155.99990478515625.fits, index: 39\n",
      "Warning: low flux detected, check the image Reduced_DRRP_L_1550nm_600_0.1_171.99989501953124.fits, index: 43\n"
     ]
    }
   ],
   "source": [
    "reduced_filename = 'Reduced_DRRP_'\n",
    "reduced_folder = \"/home/shared/exoserver/Lab_Data/Mueller_Matrix_Polarimeter/L_Plate_Characterization/Calibration/Calibration_Reduced/Cal_1550_Reduced/\"\n",
    "lcenter = [258, 255]\n",
    "rcenter = [258, 332]\n",
    "maxradius = 10\n",
    "cutoff = 5000\n",
    "\n",
    "extracted_data = extract_intensities(reduced_filename, reduced_folder, lcenter, rcenter, maxradius, cutoff)\n",
    "Cal_Il_1550 = extracted_data[0]\n",
    "Cal_Ir_1550 = extracted_data[1]\n",
    "Cal_theta1550 = extracted_data[2]"
   ]
  },
  {
   "cell_type": "code",
   "execution_count": 12,
   "metadata": {},
   "outputs": [
    {
     "name": "stdout",
     "output_type": "stream",
     "text": [
      "Warning: low flux detected, check the image Reduced_DRRP_L_1620nm_550_1.8_0.0.fits, index: 0\n",
      "Warning: low flux detected, check the image Reduced_DRRP_L_1620nm_550_1.8_11.999992675781249.fits, index: 3\n",
      "Warning: low flux detected, check the image Reduced_DRRP_L_1620nm_550_1.8_63.99996093749999.fits, index: 16\n",
      "Warning: low flux detected, check the image Reduced_DRRP_L_1620nm_550_1.8_95.99994140624999.fits, index: 24\n",
      "Warning: low flux detected, check the image Reduced_DRRP_L_1620nm_550_1.8_99.99993896484375.fits, index: 25\n",
      "Warning: low flux detected, check the image Reduced_DRRP_L_1620nm_550_1.8_103.9999365234375.fits, index: 26\n",
      "Warning: low flux detected, check the image Reduced_DRRP_L_1620nm_550_1.8_135.99991699218748.fits, index: 34\n"
     ]
    }
   ],
   "source": [
    "reduced_filename = 'Reduced_DRRP_'\n",
    "reduced_folder = \"/home/shared/exoserver/Lab_Data/Mueller_Matrix_Polarimeter/L_Plate_Characterization/Calibration/Calibration_Reduced/Cal_1620_Reduced/\"\n",
    "lcenter = [258, 255]\n",
    "rcenter = [258, 332]\n",
    "maxradius = 12\n",
    "cutoff = 5000\n",
    "\n",
    "extracted_data = extract_intensities(reduced_filename, reduced_folder, lcenter, rcenter, maxradius, cutoff)\n",
    "Cal_Il_1620 = extracted_data[0]\n",
    "Cal_Ir_1620 = extracted_data[1]\n",
    "Cal_theta1620 = extracted_data[2]"
   ]
  },
  {
   "cell_type": "code",
   "execution_count": 13,
   "metadata": {},
   "outputs": [
    {
     "name": "stdout",
     "output_type": "stream",
     "text": [
      "Warning: low flux detected, check the image Reduced_DRRP_L_1650nm_550_1.8_0.0.fits, index: 0\n",
      "Warning: low flux detected, check the image Reduced_DRRP_L_1650nm_550_1.8_83.99994873046874.fits, index: 21\n",
      "Warning: low flux detected, check the image Reduced_DRRP_L_1650nm_550_1.8_115.99992919921874.fits, index: 29\n",
      "Warning: low flux detected, check the image Reduced_DRRP_L_1650nm_550_1.8_119.99992675781249.fits, index: 30\n",
      "Warning: low flux detected, check the image Reduced_DRRP_L_1650nm_550_1.8_171.99989501953124.fits, index: 43\n"
     ]
    }
   ],
   "source": [
    "reduced_filename = 'Reduced_DRRP_'\n",
    "reduced_folder = \"/home/shared/exoserver/Lab_Data/Mueller_Matrix_Polarimeter/L_Plate_Characterization/Calibration/Calibration_Reduced/Cal_1650_Reduced/\"\n",
    "lcenter = [258, 255]\n",
    "rcenter = [258, 332]\n",
    "maxradius = 12\n",
    "cutoff = 5000\n",
    "\n",
    "extracted_data = extract_intensities(reduced_filename, reduced_folder, lcenter, rcenter, maxradius, cutoff)\n",
    "Cal_Il_1650 = extracted_data[0]\n",
    "Cal_Ir_1650 = extracted_data[1]\n",
    "Cal_theta1650 = extracted_data[2]"
   ]
  },
  {
   "cell_type": "markdown",
   "metadata": {},
   "source": [
    "1100 nm SK data, 490 fps, 2 ms tint"
   ]
  },
  {
   "cell_type": "code",
   "execution_count": 14,
   "metadata": {},
   "outputs": [
    {
     "name": "stdout",
     "output_type": "stream",
     "text": [
      "Warning: low flux detected, check the image Reduced_DRRP_L_1100nm_490_2_19.99998779296875.fits, index: 5\n",
      "Warning: low flux detected, check the image Reduced_DRRP_L_1100nm_490_2_91.99994384765624.fits, index: 23\n"
     ]
    }
   ],
   "source": [
    "reduced_filename = 'Reduced_DRRP_'\n",
    "reduced_folder = \"/home/shared/exoserver/Lab_Data/Mueller_Matrix_Polarimeter/L_Plate_Characterization/SuperK_Select_Data/Reduced_Data/Reduced_L_1100/\"\n",
    "lcenter = [316, 248]\n",
    "rcenter = [316, 326]\n",
    "maxradius = 15\n",
    "cutoff = 90000\n",
    "\n",
    "extracted_data = extract_intensities(reduced_filename, reduced_folder, lcenter, rcenter, maxradius, cutoff)\n",
    "Il_1100 = extracted_data[0]\n",
    "Ir_1100 = extracted_data[1]\n",
    "theta1100 = extracted_data[2]"
   ]
  },
  {
   "cell_type": "code",
   "execution_count": 15,
   "metadata": {},
   "outputs": [
    {
     "name": "stdout",
     "output_type": "stream",
     "text": [
      "[-0.06629533 -0.07032739 -0.21502365 -0.00825635 -0.00502625] Fit parameters for a1, w1, w2, r1, and r2. 1 for generator, 2 for analyzer\n",
      "[138043.5 140194.  131209.  126390.5 129209.  137514.  134656.  129855.5\n",
      " 124254.  124012.5 148736.5 123905.5 127344.5 134747.5 162172.  156576.\n",
      " 155637.  128386.5 141650.5 135616.5 162163.5 133406.5 168921.  143095.\n",
      " 140147.5 147760.  132200.  136071.  131546.5 134399.5 134330.5 168436.5\n",
      " 143256.  144178.  173611.5 137028.5 136648.5 137525.  145039.5]\n",
      "[ 120372.5  122490.    14757.   -30799.5   68869.   133559.   122432.\n",
      "   80945.5   29249.   -37682.5 -136660.5  -11184.5   32129.5  125403.5\n",
      "  146217.    46073.   -55639.   -25112.5  140206.5   66733.5  -75887.5\n",
      "   28148.5  143849.   140161.   110835.5   78390.    11622.   -74238.\n",
      " -126005.5 -104633.5  -30372.5   36199.5   67540.   143390.   125033.5\n",
      "   -1712.5  -54071.5   17153.   125779.5]\n",
      "[ 0.87198963  0.87371785  0.11246942 -0.24368525  0.53300467  0.97123929\n",
      "  0.90922053  0.62335057  0.23539685 -0.3038605  -0.91880944 -0.09026637\n",
      "  0.25230379  0.93065549  0.9016168   0.29425327 -0.35749211 -0.19560078\n",
      "  0.9898059   0.49207508 -0.46796906  0.21099796  0.85157559  0.97949614\n",
      "  0.79084893  0.53052247  0.08791225 -0.54558282 -0.95787801 -0.77852596\n",
      " -0.22610278  0.21491482  0.47146367  0.99453453  0.72019135 -0.0124974\n",
      " -0.39569772  0.12472641  0.86720859]\n",
      "[[ 0.65292475 -0.00512854 -0.01220756  0.00281234]\n",
      " [-0.10841664  0.84417048  0.02532691 -0.02616675]\n",
      " [ 0.03293645 -0.0774184   1.          0.10955444]\n",
      " [-0.0078097   0.04162091 -0.10738666  0.75737099]] This is the Mueller matrix of the sample waveplate\n",
      "0.14236703851906662 This is the retardance of the sample\n",
      "[[ 0.63669085  0.03182812 -0.03923522 -0.02840722]\n",
      " [-0.08838985  0.87744013  0.01198884 -0.04544949]\n",
      " [ 0.00135668 -0.02331581  1.          0.01023236]\n",
      " [-0.00460543 -0.00062087 -0.00284644  0.79378431]] This is the Mueller matrix for calibration (close to identity)\n",
      "0.11280536057852246 This is the RMS error in the calibration matrix\n",
      "0.1446393554112129 This is the retardance error in the sample waveplate\n"
     ]
    }
   ],
   "source": [
    "data1100 = q_ultimate_polarimetry(Cal_theta1100, Cal_Il_1100, Cal_Ir_1100, theta1100, Il_1100, Ir_1100)\n",
    "print(data1100[0], \"This is the Mueller matrix of the sample waveplate\")\n",
    "print(data1100[1], \"This is the retardance of the sample\")\n",
    "print(data1100[2], \"This is the Mueller matrix for calibration (close to identity)\")\n",
    "print(data1100[3], \"This is the RMS error in the calibration matrix\")\n",
    "print(data1100[4], \"This is the retardance error in the sample waveplate\")"
   ]
  },
  {
   "cell_type": "code",
   "execution_count": 55,
   "metadata": {},
   "outputs": [
    {
     "data": {
      "text/plain": [
       "0.28429650194976125"
      ]
     },
     "execution_count": 55,
     "metadata": {},
     "output_type": "execute_result"
    }
   ],
   "source": [
    "(173611- 124254)/173611"
   ]
  },
  {
   "cell_type": "code",
   "execution_count": 16,
   "metadata": {},
   "outputs": [
    {
     "name": "stdout",
     "output_type": "stream",
     "text": [
      "[[ 0.74008999  0.04306778 -0.03929083 -0.03317232]\n",
      " [-0.008615    0.82160624 -0.19952416  0.00010902]\n",
      " [-0.18984675  0.87659227  1.         -0.10639289]\n",
      " [ 0.00722145 -0.02167789 -0.02995506  0.86979637]]\n",
      "0.2472231144112697\n"
     ]
    }
   ],
   "source": [
    "uncalibrated = q_calibrated_full_mueller_polarimetry(Cal_theta1100, 0, 0, 0, 0, 0, Cal_Il_1100, Cal_Ir_1100, M_in=None)\n",
    "uncalibrated = uncalibrated/np.max(np.abs(uncalibrated))\n",
    "print(uncalibrated)\n",
    "print(RMS_calculator(uncalibrated))"
   ]
  },
  {
   "cell_type": "code",
   "execution_count": 17,
   "metadata": {},
   "outputs": [
    {
     "name": "stdout",
     "output_type": "stream",
     "text": [
      "0.2472231144112697\n"
     ]
    }
   ],
   "source": [
    "print(RMS_calculator(uncalibrated))"
   ]
  },
  {
   "cell_type": "markdown",
   "metadata": {},
   "source": [
    "1200 nm SK data, 490 fps, 2 ms tint"
   ]
  },
  {
   "cell_type": "code",
   "execution_count": 18,
   "metadata": {},
   "outputs": [
    {
     "name": "stdout",
     "output_type": "stream",
     "text": [
      "Warning: low flux detected, check the image Reduced_DRRP_L_1200nm_490_2_11.999992675781249.fits, index: 3\n",
      "Warning: low flux detected, check the image Reduced_DRRP_L_1200nm_490_2_95.99994140624999.fits, index: 24\n"
     ]
    }
   ],
   "source": [
    "reduced_filename = 'Reduced_DRRP_'\n",
    "reduced_folder = \"/home/shared/exoserver/Lab_Data/Mueller_Matrix_Polarimeter/L_Plate_Characterization/SuperK_Select_Data/Reduced_Data/Reduced_L_1200/\"\n",
    "lcenter = [316, 248]\n",
    "rcenter = [316, 326]\n",
    "maxradius = 15\n",
    "cutoff = 90000\n",
    "\n",
    "extracted_data = extract_intensities(reduced_filename, reduced_folder, lcenter, rcenter, maxradius, cutoff)\n",
    "Il_1200 = extracted_data[0]\n",
    "Ir_1200 = extracted_data[1]\n",
    "theta1200 = extracted_data[2]"
   ]
  },
  {
   "cell_type": "code",
   "execution_count": 19,
   "metadata": {},
   "outputs": [
    {
     "name": "stdout",
     "output_type": "stream",
     "text": [
      "[-0.02955874 -0.18611057  0.0193779   0.04398571 -0.0002426 ] Fit parameters for a1, w1, w2, r1, and r2. 1 for generator, 2 for analyzer\n",
      "[315224.   322591.   322517.   317173.   322192.5  322327.5  321529.5\n",
      " 327613.   318971.5  318656.5  338482.   332538.   339840.   338710.\n",
      " 331259.5  332756.5  326090.5  327792.   333431.5  313932.   318483.5\n",
      " 313468.   315334.   317874.   316750.   318342.5  319525.   316719.5\n",
      " 323145.5  322480.   331522.   329746.75 331297.   337071.   338575.5\n",
      " 335560.5  340900.5  337887.   347986.   351056.25 354356.5  347116.5\n",
      " 346997.  ]\n",
      "[ 271088.    146445.    -23161.     24226.    226244.5   321371.5\n",
      "  246913.5   161056.    150463.5   106264.5   -78716.   -286495.\n",
      " -321750.   -147541.     71464.5   238431.5   319766.5   286181.\n",
      " -191090.5  -228936.     -7257.5   236016.    232535.     43432.\n",
      "  -32373.    119609.5   294347.    293475.5   193613.5   148861.\n",
      "  147363.     30343.75 -193525.   -334391.   -252622.5   -35767.5\n",
      "  168009.5   298767.    -73635.   -272160.25 -161084.5   147294.5\n",
      "  297694.  ]\n",
      "[ 0.85998528  0.45396493 -0.07181327  0.07638103  0.70220288  0.99703407\n",
      "  0.7679342   0.49160442  0.47171456  0.33347664 -0.23255594 -0.86154064\n",
      " -0.94676907 -0.43559682  0.2157357   0.71653446  0.98060661  0.87305669\n",
      " -0.57310272 -0.72925347 -0.02278768  0.75291896  0.73742445  0.13663275\n",
      " -0.10220363  0.37572583  0.92120178  0.92661014  0.5991527   0.46161312\n",
      "  0.44450444  0.09202138 -0.58414353 -0.99204915 -0.74613343 -0.10659032\n",
      "  0.49284029  0.88422165 -0.21160334 -0.77526109 -0.45458317  0.42433736\n",
      "  0.8579152 ]\n",
      "[[ 0.9838798  -0.00560822  0.04800287  0.02651117]\n",
      " [-0.06417889  1.          0.20933218 -0.28687274]\n",
      " [-0.02048618  0.26971709  0.52079275  0.97524242]\n",
      " [-0.00855941  0.33208884 -0.95461054  0.375008  ]] This is the Mueller matrix of the sample waveplate\n",
      "0.17742299099241202 This is the retardance of the sample\n",
      "[[ 0.82960788 -0.04016745 -0.02193135 -0.01278688]\n",
      " [-0.05815886  0.90842619  0.03352855  0.0020789 ]\n",
      " [-0.00536954  0.02274401  1.         -0.00845156]\n",
      " [ 0.00256976 -0.00453963 -0.00321947  0.86232117]] This is the Mueller matrix for calibration (close to identity)\n",
      "0.0631459974595322 This is the RMS error in the calibration matrix\n",
      "0.07033300349450405 This is the retardance error in the sample waveplate\n"
     ]
    }
   ],
   "source": [
    "data1200 = q_ultimate_polarimetry(Cal_theta1200, Cal_Il_1200, Cal_Ir_1200, theta1200, Il_1200, Ir_1200)\n",
    "print(data1200[0], \"This is the Mueller matrix of the sample waveplate\")\n",
    "print(data1200[1], \"This is the retardance of the sample\")\n",
    "print(data1200[2], \"This is the Mueller matrix for calibration (close to identity)\")\n",
    "print(data1200[3], \"This is the RMS error in the calibration matrix\")\n",
    "print(data1200[4], \"This is the retardance error in the sample waveplate\")"
   ]
  },
  {
   "cell_type": "code",
   "execution_count": 20,
   "metadata": {},
   "outputs": [
    {
     "name": "stdout",
     "output_type": "stream",
     "text": [
      "[[ 1.         -0.02136532 -0.05312491 -0.008352  ]\n",
      " [ 0.02196153  0.84958566  0.8286145   0.02040734]\n",
      " [ 0.39379312 -0.86434109  0.8216437  -0.05033009]\n",
      " [ 0.0159412  -0.00491575 -0.05786263  0.98791152]]\n",
      "0.3214954161812468\n"
     ]
    }
   ],
   "source": [
    "uncalibrated = q_calibrated_full_mueller_polarimetry(Cal_theta1200, 0, 0, 0, 0, 0, Cal_Il_1200, Cal_Ir_1200, M_in=None)\n",
    "uncalibrated = uncalibrated/np.max(np.abs(uncalibrated))\n",
    "print(uncalibrated)\n",
    "print(RMS_calculator(uncalibrated))"
   ]
  },
  {
   "cell_type": "markdown",
   "metadata": {},
   "source": [
    "1300 nm SK data, 490 fps, 2 ms tint"
   ]
  },
  {
   "cell_type": "code",
   "execution_count": 21,
   "metadata": {},
   "outputs": [
    {
     "name": "stdout",
     "output_type": "stream",
     "text": [
      "Warning: low flux detected, check the image Reduced_DRRP_L_1300nm_490_2_39.9999755859375.fits, index: 10\n",
      "Warning: low flux detected, check the image Reduced_DRRP_L_1300nm_490_2_51.99996826171875.fits, index: 13\n",
      "Warning: low flux detected, check the image Reduced_DRRP_L_1300nm_490_2_91.99994384765624.fits, index: 23\n",
      "Warning: low flux detected, check the image Reduced_DRRP_L_1300nm_490_2_131.99991943359373.fits, index: 33\n"
     ]
    }
   ],
   "source": [
    "reduced_filename = 'Reduced_DRRP_'\n",
    "reduced_folder = \"/home/shared/exoserver/Lab_Data/Mueller_Matrix_Polarimeter/L_Plate_Characterization/SuperK_Select_Data/Reduced_Data/Reduced_L_1300/\"\n",
    "lcenter = [316, 248]\n",
    "rcenter = [316, 326]\n",
    "maxradius = 15\n",
    "cutoff = 90000\n",
    "\n",
    "extracted_data = extract_intensities(reduced_filename, reduced_folder, lcenter, rcenter, maxradius, cutoff)\n",
    "Il_1300 = extracted_data[0]\n",
    "Ir_1300 = extracted_data[1]\n",
    "theta1300 = extracted_data[2]"
   ]
  },
  {
   "cell_type": "code",
   "execution_count": 22,
   "metadata": {},
   "outputs": [
    {
     "name": "stdout",
     "output_type": "stream",
     "text": [
      "[-0.04482421 -0.00424306 -0.14207516 -0.02805287 -0.03898115] Fit parameters for a1, w1, w2, r1, and r2. 1 for generator, 2 for analyzer\n",
      "[100108.5 100206.5 109832.  106711.5 105144.5 102683.5 104102.5 104467.\n",
      " 107474.5 111978.5 114909.5 114544.  108402.5 108009.  106624.5 108309.5\n",
      " 108514.5 110892.5 106185.  105535.5 108498.  111551.5 114885.5 108403.\n",
      " 108191.5 108500.  106139.5 108598.  113947.  114478.  113603.5 110331.\n",
      " 108789.5 106868.5 106598.  108558.5 111052.5 113138.  108902.5]\n",
      "[  93367.5   77819.5  -59154.   -16427.5   64635.5  101921.5   91519.5\n",
      "   61524.    19140.5  -46435.5 -104222.5 -105814.    10624.5   44090.\n",
      "  102185.5   96151.5   27821.5  -14607.5   69620.   103999.5   40892.\n",
      "  -45867.5  -50836.5   25446.    95026.5  105623.    78133.5   44352.\n",
      "  -12475.   -82230.   -16841.5   30774.    58111.5   88658.5  105976.\n",
      "   68061.5  -10894.5   27473.   101424.5]\n",
      "[ 0.93266306  0.77659134 -0.5385862  -0.15394311  0.6147302   0.99257914\n",
      "  0.87912874  0.58893239  0.17809341 -0.41468228 -0.90699638 -0.92378475\n",
      "  0.09800973  0.40820672  0.95836792  0.88774761  0.25638509 -0.13172667\n",
      "  0.65564816  0.98544566  0.37689174 -0.4111778  -0.44249709  0.2347352\n",
      "  0.87831761  0.97348387  0.7361397   0.40840531 -0.10948072 -0.71830395\n",
      " -0.14824807  0.27892433  0.5341646   0.82960367  0.99416499  0.62695689\n",
      " -0.09810225  0.24282734  0.93133307]\n",
      "[[ 1.         -0.00136329 -0.01801518 -0.01105594]\n",
      " [-0.02778765  0.63873941  0.80299525 -0.47214518]\n",
      " [-0.07759322  0.86566656 -0.07896477  0.87343813]\n",
      " [-0.08946368  0.58095756 -0.8440013  -0.53791375]] This is the Mueller matrix of the sample waveplate\n",
      "0.3315546586784209 This is the retardance of the sample\n",
      "[[ 0.7818712  -0.02557977 -0.01338521 -0.00897279]\n",
      " [-0.10547793  0.89267053  0.03880292  0.0028568 ]\n",
      " [ 0.0390126  -0.01753393  1.          0.00797856]\n",
      " [-0.00147445 -0.00108639 -0.00701266  0.8106273 ]] This is the Mueller matrix for calibration (close to identity)\n",
      "0.08308912398578693 This is the RMS error in the calibration matrix\n",
      "0.09533389779494833 This is the retardance error in the sample waveplate\n"
     ]
    }
   ],
   "source": [
    "data1300 = q_ultimate_polarimetry(Cal_theta1300, Cal_Il_1300, Cal_Ir_1300, theta1300, Il_1300, Ir_1300)\n",
    "print(data1300[0], \"This is the Mueller matrix of the sample waveplate\")\n",
    "print(data1300[1], \"This is the retardance of the sample\")\n",
    "print(data1300[2], \"This is the Mueller matrix for calibration (close to identity)\")\n",
    "print(data1300[3], \"This is the RMS error in the calibration matrix\")\n",
    "print(data1300[4], \"This is the retardance error in the sample waveplate\")"
   ]
  },
  {
   "cell_type": "markdown",
   "metadata": {},
   "source": [
    "1400 nm SK data, 490 fps, 2 ms tint"
   ]
  },
  {
   "cell_type": "code",
   "execution_count": 23,
   "metadata": {},
   "outputs": [
    {
     "name": "stdout",
     "output_type": "stream",
     "text": [
      "Warning: low flux detected, check the image Reduced_DRRP_L_1400nm_490_2_0.0.fits, index: 0\n",
      "Warning: low flux detected, check the image Reduced_DRRP_L_1400nm_490_2_31.999980468749996.fits, index: 8\n",
      "Warning: low flux detected, check the image Reduced_DRRP_L_1400nm_490_2_47.999970703124994.fits, index: 12\n",
      "Warning: low flux detected, check the image Reduced_DRRP_L_1400nm_490_2_111.999931640625.fits, index: 28\n",
      "Warning: low flux detected, check the image Reduced_DRRP_L_1400nm_490_2_159.99990234375.fits, index: 40\n"
     ]
    }
   ],
   "source": [
    "reduced_filename = 'Reduced_DRRP_'\n",
    "reduced_folder = \"/home/shared/exoserver/Lab_Data/Mueller_Matrix_Polarimeter/L_Plate_Characterization/SuperK_Select_Data/Reduced_Data/Reduced_L_1400/\"\n",
    "lcenter = [316, 248]\n",
    "rcenter = [316, 326]\n",
    "maxradius = 15\n",
    "cutoff = 290000\n",
    "\n",
    "extracted_data = extract_intensities(reduced_filename, reduced_folder, lcenter, rcenter, maxradius, cutoff)\n",
    "Il_1400 = extracted_data[0]\n",
    "Ir_1400 = extracted_data[1]\n",
    "theta1400 = extracted_data[2]"
   ]
  },
  {
   "cell_type": "code",
   "execution_count": 24,
   "metadata": {},
   "outputs": [
    {
     "name": "stdout",
     "output_type": "stream",
     "text": [
      "[-0.10004007 -0.25958733 -0.17526774  0.01147297 -0.02385953] Fit parameters for a1, w1, w2, r1, and r2. 1 for generator, 2 for analyzer\n",
      "[323670.5  325684.5  341144.5  338438.   330301.   306033.5  312200.\n",
      " 322843.5  328434.75 332234.5  346185.5  356026.   343889.5  330358.\n",
      " 313114.   319531.5  331754.   340014.   340740.   338413.   347251.5\n",
      " 315905.5  334916.   334425.5  336267.   342388.5  337617.5  334402.\n",
      " 344403.   368721.   352395.5  363726.5  358269.5  355189.   347498.5\n",
      " 329657.   327967.   365440.   359275.5  358319.5  350881.  ]\n",
      "[ 227772.5   214198.5    26292.5   -35919.    110186.    273625.5\n",
      "  287271.    208559.5   185504.25  168983.5  -216392.5  -253996.\n",
      "  -45939.5   132417.    259350.    313809.5   192732.    -66037.\n",
      " -240008.   -141181.    127893.5   254546.5   122179.    215658.5\n",
      "  327989.    267634.5   193712.5   189384.    115484.   -104093.\n",
      " -309648.5  -335893.5  -155360.5    52850.    219726.5   315194.\n",
      "  285251.     74085.   -188255.5  -239731.5   244392.  ]\n",
      "[ 0.70371721  0.65768712  0.07707145 -0.1061317   0.33359269  0.8941031\n",
      "  0.92015054  0.64600805  0.5648131   0.50862719 -0.62507673 -0.71341981\n",
      " -0.13358797  0.4008288   0.82829257  0.98209253  0.58094853 -0.19421847\n",
      " -0.70437284 -0.41718551  0.36830222  0.80576786  0.36480491  0.64486261\n",
      "  0.97538266  0.78166907  0.57376321  0.56633633  0.33531648 -0.2823083\n",
      " -0.87869595 -0.92347822 -0.43364143  0.14879402  0.6323092   0.95612713\n",
      "  0.86975519  0.20272822 -0.52398647 -0.66904397  0.69650964]\n",
      "[[ 0.94980914 -0.01010009  0.01203382  0.00222168]\n",
      " [-0.03117492  0.98133458 -0.1519253   0.02784169]\n",
      " [-0.0062906  -0.10532748 -1.          0.27189384]\n",
      " [ 0.00275621 -0.01006651 -0.25739634 -0.93443104]] This is the Mueller matrix of the sample waveplate\n",
      "nan This is the retardance of the sample\n",
      "[[ 0.85798208 -0.03561    -0.0057904  -0.02457679]\n",
      " [-0.0758739   0.9385788   0.06992023 -0.00252077]\n",
      " [-0.02762481  0.01761742  1.          0.0062585 ]\n",
      " [-0.01131967  0.04296035 -0.01516262  0.89601148]] This is the Mueller matrix for calibration (close to identity)\n",
      "0.05625235039461322 This is the RMS error in the calibration matrix\n",
      "nan This is the retardance error in the sample waveplate\n"
     ]
    },
    {
     "name": "stderr",
     "output_type": "stream",
     "text": [
      "/home/wcmelby/Library/Python/wcmelby-HWP_Characterizations/SuperK_Select_Data/Test_New_DRRP_Functions.py:310: RuntimeWarning: invalid value encountered in arccos\n",
      "  retardance = np.arccos(np.trace(decompose_retarder(r_decomposed_MSample))/2 - 1)/(2*np.pi)\n",
      "/home/wcmelby/Library/Python/wcmelby-HWP_Characterizations/SuperK_Select_Data/Test_New_DRRP_Functions.py:272: RuntimeWarning: invalid value encountered in sqrt\n",
      "  return 2*RMS/np.sqrt(4*x-x**2)\n"
     ]
    }
   ],
   "source": [
    "data1400 = q_ultimate_polarimetry(Cal_theta1400, Cal_Il_1400, Cal_Ir_1400, theta1400, Il_1400, Ir_1400)\n",
    "print(data1400[0], \"This is the Mueller matrix of the sample waveplate\")\n",
    "print(data1400[1], \"This is the retardance of the sample\")\n",
    "print(data1400[2], \"This is the Mueller matrix for calibration (close to identity)\")\n",
    "print(data1400[3], \"This is the RMS error in the calibration matrix\")\n",
    "print(data1400[4], \"This is the retardance error in the sample waveplate\")"
   ]
  },
  {
   "cell_type": "code",
   "execution_count": 25,
   "metadata": {},
   "outputs": [
    {
     "data": {
      "text/plain": [
       "0.4420456085661005"
      ]
     },
     "execution_count": 25,
     "metadata": {},
     "output_type": "execute_result"
    }
   ],
   "source": [
    "np.arccos(-0.93443104)/(2*np.pi)"
   ]
  },
  {
   "cell_type": "code",
   "execution_count": 26,
   "metadata": {},
   "outputs": [
    {
     "data": {
      "text/plain": [
       "array([[ 0.94968663, -0.        , -0.        ,  0.        ],\n",
       "       [-0.0188827 ,  0.98107878, -0.15160977,  0.02790054],\n",
       "       [ 0.0046238 , -0.10533745, -1.        ,  0.27189866],\n",
       "       [ 0.00809723, -0.0100089 , -0.25746782, -0.9344536 ]])"
      ]
     },
     "execution_count": 26,
     "metadata": {},
     "output_type": "execute_result"
    }
   ],
   "source": [
    "decompose_retarder(data1400[0])"
   ]
  },
  {
   "cell_type": "code",
   "execution_count": 27,
   "metadata": {},
   "outputs": [
    {
     "name": "stdout",
     "output_type": "stream",
     "text": [
      "[[ 0.77110624 -0.01671009 -0.026706   -0.02203294]\n",
      " [-0.01389129  0.6625334   0.44256696 -0.01842013]\n",
      " [ 0.08149886  0.06603908  1.         -0.11661621]\n",
      " [ 0.00916689 -0.02704664 -0.03004007  0.74227598]]\n",
      "0.16898482077796198\n"
     ]
    }
   ],
   "source": [
    "uncalibrated = q_calibrated_full_mueller_polarimetry(Cal_theta1400, 0, 0, 0, 0, 0, Cal_Il_1400, Cal_Ir_1400, M_in=None)\n",
    "uncalibrated = uncalibrated/np.max(np.abs(uncalibrated))\n",
    "print(uncalibrated)\n",
    "print(RMS_calculator(uncalibrated))"
   ]
  },
  {
   "cell_type": "markdown",
   "metadata": {},
   "source": [
    "1500 nm SK data, 490 fps, 2 ms tint"
   ]
  },
  {
   "cell_type": "code",
   "execution_count": 28,
   "metadata": {},
   "outputs": [
    {
     "name": "stdout",
     "output_type": "stream",
     "text": [
      "Warning: low flux detected, check the image Reduced_DRRP_L_1500nm_490_2_7.999995117187499.fits, index: 2\n",
      "Warning: low flux detected, check the image Reduced_DRRP_L_1500nm_490_2_151.9999072265625.fits, index: 38\n",
      "Warning: low flux detected, check the image Reduced_DRRP_L_1500nm_490_2_163.99989990234374.fits, index: 41\n"
     ]
    }
   ],
   "source": [
    "reduced_filename = 'Reduced_DRRP_'\n",
    "reduced_folder = \"/home/shared/exoserver/Lab_Data/Mueller_Matrix_Polarimeter/L_Plate_Characterization/SuperK_Select_Data/Reduced_Data/Reduced_L_1500/\"\n",
    "lcenter = [316, 248]\n",
    "rcenter = [316, 326]\n",
    "maxradius = 17\n",
    "cutoff = 290000\n",
    "\n",
    "extracted_data = extract_intensities(reduced_filename, reduced_folder, lcenter, rcenter, maxradius, cutoff)\n",
    "Il_1500 = extracted_data[0]\n",
    "Ir_1500 = extracted_data[1]\n",
    "theta1500 = extracted_data[2]"
   ]
  },
  {
   "cell_type": "code",
   "execution_count": 29,
   "metadata": {},
   "outputs": [
    {
     "name": "stdout",
     "output_type": "stream",
     "text": [
      "[ 0.01892256 -0.07964739  0.06223213  0.06128931  0.03399826] Fit parameters for a1, w1, w2, r1, and r2. 1 for generator, 2 for analyzer\n",
      "[189178.5  209735.   219075.   222439.5  207112.75 190187.5  191751.5\n",
      " 210553.   213423.5  217544.   212380.   220488.5  215136.5  215410.\n",
      " 194631.   196415.   212627.5  225023.   223274.   225591.5  210505.\n",
      " 230972.5  225110.   223677.   209325.   203451.   209162.   221646.\n",
      " 235634.5  238243.   240900.   241301.   229395.5  227552.5  217234.\n",
      " 216800.   234709.5  235018.   235546.5  220176.   209646.5 ]\n",
      "[ 177227.5    77112.    -38410.     -7936.5   124826.75  189572.5\n",
      "  153196.5    78520.     17391.5  -106981.   -204389.   -185615.5\n",
      "  -64743.5    59581.    190961.    172170.     44192.5  -108986.\n",
      " -127491.     20721.5   154325.      7917.5   -44899.     57186.\n",
      "  186419.    193305.    130406.     95474.    -44175.5  -182196.\n",
      " -238146.   -142907.       877.5   115864.5   191084.    215030.\n",
      "  -40590.5  -147839.    -72027.5   116109.    195723.5 ]\n",
      "[ 0.93682686  0.36766396 -0.17532808 -0.03567936  0.6026995   0.99676635\n",
      "  0.79893247  0.37292273  0.08148821 -0.49176718 -0.96237405 -0.84183756\n",
      " -0.3009415   0.27659347  0.98114381  0.87656238  0.20784    -0.48433271\n",
      " -0.57100692  0.09185408  0.73311798  0.03427897 -0.1994536   0.2556633\n",
      "  0.89057208  0.9501305   0.62346889  0.43074993 -0.18747467 -0.7647486\n",
      " -0.98856787 -0.59223542  0.00382527  0.509177    0.8796229   0.99183579\n",
      " -0.17293931 -0.62905394 -0.30578888  0.5273463   0.93358821]\n",
      "[[ 0.98924902  0.02128593  0.01137751 -0.02035774]\n",
      " [-0.01129143  0.38279727  0.95617219  0.24222658]\n",
      " [ 0.03018538  0.94654967 -0.28759629 -0.34414544]\n",
      " [-0.012258   -0.23762388  0.33825363 -1.        ]] This is the Mueller matrix of the sample waveplate\n",
      "0.45380825510020634 This is the retardance of the sample\n",
      "[[ 0.88425207 -0.03205965 -0.02544735 -0.03944267]\n",
      " [-0.04674154  0.95905164  0.02921946 -0.00215412]\n",
      " [-0.04331373  0.05715727  1.         -0.00314966]\n",
      " [ 0.00397222 -0.00196918  0.00212632  0.95688941]] This is the Mueller matrix for calibration (close to identity)\n",
      "0.042119106002226896 This is the RMS error in the calibration matrix\n",
      "0.14718013419083759 This is the retardance error in the sample waveplate\n"
     ]
    }
   ],
   "source": [
    "data1500 = q_ultimate_polarimetry(Cal_theta1500, Cal_Il_1500, Cal_Ir_1500, theta1500, Il_1500, Ir_1500)\n",
    "print(data1500[0], \"This is the Mueller matrix of the sample waveplate\")\n",
    "print(data1500[1], \"This is the retardance of the sample\")\n",
    "print(data1500[2], \"This is the Mueller matrix for calibration (close to identity)\")\n",
    "print(data1500[3], \"This is the RMS error in the calibration matrix\")\n",
    "print(data1500[4], \"This is the retardance error in the sample waveplate\")"
   ]
  },
  {
   "cell_type": "markdown",
   "metadata": {},
   "source": [
    "1600 nm SK data, 550 fps, 1.8 ms tint"
   ]
  },
  {
   "cell_type": "code",
   "execution_count": 30,
   "metadata": {},
   "outputs": [
    {
     "name": "stdout",
     "output_type": "stream",
     "text": [
      "Warning: low flux detected, check the image Reduced_DRRP_L_1600nm_550_1.8_75.99995361328125.fits, index: 19\n",
      "Warning: low flux detected, check the image Reduced_DRRP_L_1600nm_550_1.8_87.99994628906249.fits, index: 22\n",
      "Warning: low flux detected, check the image Reduced_DRRP_L_1600nm_550_1.8_123.99992431640624.fits, index: 31\n",
      "Warning: low flux detected, check the image Reduced_DRRP_L_1600nm_550_1.8_151.9999072265625.fits, index: 38\n",
      "Warning: low flux detected, check the image Reduced_DRRP_L_1600nm_550_1.8_175.99989257812499.fits, index: 44\n"
     ]
    }
   ],
   "source": [
    "reduced_filename = 'Reduced_DRRP_'\n",
    "reduced_folder = \"/home/shared/exoserver/Lab_Data/Mueller_Matrix_Polarimeter/L_Plate_Characterization/SuperK_Select_Data/Reduced_Data/Reduced_L_1600/\"\n",
    "lcenter = [268, 268]\n",
    "rcenter = [268, 344]\n",
    "maxradius = 20\n",
    "cutoff = 50000\n",
    "\n",
    "extracted_data = extract_intensities(reduced_filename, reduced_folder, lcenter, rcenter, maxradius, cutoff)\n",
    "Il_1600 = extracted_data[0]\n",
    "Ir_1600 = extracted_data[1]\n",
    "theta1600 = extracted_data[2]"
   ]
  },
  {
   "cell_type": "code",
   "execution_count": 31,
   "metadata": {},
   "outputs": [
    {
     "name": "stdout",
     "output_type": "stream",
     "text": [
      "[-0.01431684  0.01576147 -0.09016179  0.02620278  0.05023619] Fit parameters for a1, w1, w2, r1, and r2. 1 for generator, 2 for analyzer\n",
      "[202988.5  219740.5  224199.   223834.   209495.   211325.   210660.75\n",
      " 221220.   221490.5  228033.5  229985.5  217981.5  213511.   215651.5\n",
      " 209246.   216034.   224243.5  227914.   214966.75 204306.5  226036.5\n",
      " 237302.   236260.5  234232.   208741.   212197.5  223918.5  231447.5\n",
      " 240057.   228349.5  238952.   234768.   230087.   227669.   215225.5\n",
      " 221479.   229164.5  239201.   232752.   217653.  ]\n",
      "[ 192666.5   -32161.5  -111492.    -21307.    128839.    210979.\n",
      "  106782.75   23982.   -100622.5   -87205.5    30611.5    92277.5\n",
      "  142909.    209735.5   174485.     34724.    -70758.5   -19130.\n",
      "  138908.75  195651.5    57335.5   -97152.    -89024.5    61215.\n",
      "  187249.    203524.5   148907.5   -35957.5  -174488.   -227534.5\n",
      " -158719.    -23628.     69389.    121742.    212537.5   113395.\n",
      "  -32171.5   -70183.     60608.    207069.  ]\n",
      "[ 0.94914983 -0.14636128 -0.49729035 -0.09519108  0.61499797  0.99836271\n",
      "  0.50689438  0.10840792 -0.45429714 -0.38242407  0.13310187  0.42332721\n",
      "  0.66932851  0.97256685  0.83387496  0.16073396 -0.31554315 -0.08393517\n",
      "  0.64618714  0.95763718  0.25365594 -0.40940236 -0.37680653  0.26134345\n",
      "  0.89703987  0.9591277   0.66500758 -0.15535921 -0.7268607  -0.99643091\n",
      " -0.66422964 -0.10064404  0.30157723  0.53473244  0.98751077  0.51198985\n",
      " -0.14038605 -0.29340596  0.26039733  0.95137214]\n",
      "[[ 1.         -0.05988062 -0.02825704 -0.03454141]\n",
      " [-0.03737387  0.42923172  0.78491298  0.54813786]\n",
      " [-0.03719773  0.86411196  0.02079752 -0.64349573]\n",
      " [-0.00374915 -0.53607979  0.69226541 -0.5665284 ]] This is the Mueller matrix of the sample waveplate\n",
      "0.3444437658434241 This is the retardance of the sample\n",
      "[[ 0.85161761 -0.0177034  -0.01117975 -0.02356468]\n",
      " [-0.07775201  0.94221107 -0.01123921  0.00238153]\n",
      " [ 0.02990762 -0.00620411  1.         -0.00835386]\n",
      " [-0.00401549  0.00662937  0.00819172  0.8885499 ]] This is the Mueller matrix for calibration (close to identity)\n",
      "0.053665046879696025 This is the RMS error in the calibration matrix\n",
      "0.06473155658925399 This is the retardance error in the sample waveplate\n"
     ]
    }
   ],
   "source": [
    "data1600 = q_ultimate_polarimetry(Cal_theta1600, Cal_Il_1600, Cal_Ir_1600, theta1600, Il_1600, Ir_1600)\n",
    "print(data1600[0], \"This is the Mueller matrix of the sample waveplate\")\n",
    "print(data1600[1], \"This is the retardance of the sample\")\n",
    "print(data1600[2], \"This is the Mueller matrix for calibration (close to identity)\")\n",
    "print(data1600[3], \"This is the RMS error in the calibration matrix\")\n",
    "print(data1600[4], \"This is the retardance error in the sample waveplate\")"
   ]
  },
  {
   "cell_type": "markdown",
   "metadata": {},
   "source": [
    "1750 nm SK data, 490 fps, 2 ms tint"
   ]
  },
  {
   "cell_type": "code",
   "execution_count": 32,
   "metadata": {},
   "outputs": [
    {
     "name": "stdout",
     "output_type": "stream",
     "text": [
      "Warning: low flux detected, check the image Reduced_DRRP_L_1750nm_490_2_111.999931640625.fits, index: 28\n"
     ]
    }
   ],
   "source": [
    "reduced_filename = 'Reduced_DRRP_'\n",
    "reduced_folder = \"/home/shared/exoserver/Lab_Data/Mueller_Matrix_Polarimeter/L_Plate_Characterization/SuperK_Select_Data/Reduced_Data/Reduced_L_1750/\"\n",
    "lcenter = [316, 250]\n",
    "rcenter = [316, 326]\n",
    "maxradius = 16\n",
    "cutoff = 290000\n",
    "\n",
    "extracted_data = extract_intensities(reduced_filename, reduced_folder, lcenter, rcenter, maxradius, cutoff)\n",
    "Il_1750 = extracted_data[0]\n",
    "Ir_1750 = extracted_data[1]\n",
    "theta1750 = extracted_data[2]"
   ]
  },
  {
   "cell_type": "code",
   "execution_count": 33,
   "metadata": {},
   "outputs": [
    {
     "name": "stdout",
     "output_type": "stream",
     "text": [
      "[-0.10720699 -0.24288235 -0.2173842   0.00854366 -0.02246199] Fit parameters for a1, w1, w2, r1, and r2. 1 for generator, 2 for analyzer\n",
      "[176874.5 164492.  195791.5 177385.5 176072.  183136.5 177270.  183544.\n",
      " 199808.5 209708.  200673.  194074.  211477.  197883.  198058.5 191126.5\n",
      " 195321.5 210040.  211597.5 205410.  203835.  200910.  209142.5 198918.\n",
      " 192837.5 201142.  199688.  204080.  203965.  211889.  209724.  224363.5\n",
      " 208655.5 219710.5 203179.5 198574.  210109.5 224844.  217069.  226764.5\n",
      " 202260. ]\n",
      "[ 115824.5  114702.   -33874.5  140311.5  166880.   125060.5  102354.\n",
      "   90044.     7605.5 -128853.  -199162.  -144404.   -39747.    64008.\n",
      "  143619.5  187570.5  126991.5  -18725.   -92735.5   64351.   165258.\n",
      "   83667.   -23918.5  101387.   184763.5  164610.   120818.   114480.\n",
      "   64839.  -187704.  -198287.  -105189.5   17158.5  118770.5  183468.5\n",
      "  179682.    64248.5  -93206.  -137522.   -21330.5  132748. ]\n",
      "[ 0.65484001  0.69731051 -0.17301313  0.79099757  0.94779408  0.68288135\n",
      "  0.57739042  0.49058536  0.03806395 -0.61444008 -0.99247034 -0.7440667\n",
      " -0.18794952  0.32346387  0.72513677  0.98139452  0.65016652 -0.08914969\n",
      " -0.43826368  0.31328076  0.81074398  0.4164402  -0.11436461  0.50969244\n",
      "  0.95813055  0.81837707  0.60503385  0.56095649  0.31789278 -0.88586005\n",
      " -0.94546642 -0.46883517  0.08223363  0.54057726  0.90298726  0.90486166\n",
      "  0.30578579 -0.4145363  -0.63354049 -0.09406455  0.65632354]\n",
      "[[ 0.90075636  0.01496612 -0.0451188   0.0086977 ]\n",
      " [-0.01409778  1.          0.00448436 -0.12013572]\n",
      " [ 0.00437256 -0.11222798  0.16964342 -0.97450035]\n",
      " [ 0.00657795  0.01855481  0.98121919  0.17708856]] This is the Mueller matrix of the sample waveplate\n",
      "0.23036103512867193 This is the retardance of the sample\n",
      "[[ 0.89177906 -0.0609182  -0.05045187 -0.03222179]\n",
      " [-0.08707311  0.98532979  0.10500303 -0.00154359]\n",
      " [-0.03716614  0.03348734  1.          0.00115965]\n",
      " [-0.00096048 -0.00724271  0.00257592  0.95807843]] This is the Mueller matrix for calibration (close to identity)\n",
      "0.05132792678110762 This is the RMS error in the calibration matrix\n",
      "0.05172119088987874 This is the retardance error in the sample waveplate\n"
     ]
    }
   ],
   "source": [
    "data1750 = q_ultimate_polarimetry(Cal_theta1750, Cal_Il_1750, Cal_Ir_1750, theta1750, Il_1750, Ir_1750)\n",
    "print(data1750[0], \"This is the Mueller matrix of the sample waveplate\")\n",
    "print(data1750[1], \"This is the retardance of the sample\")\n",
    "print(data1750[2], \"This is the Mueller matrix for calibration (close to identity)\")\n",
    "print(data1750[3], \"This is the RMS error in the calibration matrix\")\n",
    "print(data1750[4], \"This is the retardance error in the sample waveplate\")"
   ]
  },
  {
   "cell_type": "code",
   "execution_count": 34,
   "metadata": {},
   "outputs": [
    {
     "name": "stdout",
     "output_type": "stream",
     "text": [
      "[[ 0.82206847 -0.00923502 -0.07532846 -0.03507919]\n",
      " [-0.01898052  0.69433934  0.43125337  0.01617458]\n",
      " [ 0.09450202  0.23667389  1.          0.05069924]\n",
      " [-0.04660521  0.04007215  0.03095886  0.81692353]]\n",
      "0.16287427526874027\n"
     ]
    }
   ],
   "source": [
    "uncalibrated = q_calibrated_full_mueller_polarimetry(Cal_theta1750, 0, 0, 0, 0, 0, Cal_Il_1750, Cal_Ir_1750, M_in=None)\n",
    "uncalibrated = uncalibrated/np.max(np.abs(uncalibrated))\n",
    "print(uncalibrated)\n",
    "print(RMS_calculator(uncalibrated))"
   ]
  },
  {
   "cell_type": "markdown",
   "metadata": {},
   "source": [
    "1850 nm SK data, 490 fps, 2 ms tint"
   ]
  },
  {
   "cell_type": "code",
   "execution_count": 35,
   "metadata": {},
   "outputs": [
    {
     "name": "stdout",
     "output_type": "stream",
     "text": [
      "Warning: low flux detected, check the image Reduced_DRRP_L_1850nm_490_2_15.999990234374998.fits, index: 4\n",
      "Warning: low flux detected, check the image Reduced_DRRP_L_1850nm_490_2_71.9999560546875.fits, index: 18\n",
      "Warning: low flux detected, check the image Reduced_DRRP_L_1850nm_490_2_75.99995361328125.fits, index: 19\n",
      "Warning: low flux detected, check the image Reduced_DRRP_L_1850nm_490_2_151.9999072265625.fits, index: 38\n",
      "Warning: low flux detected, check the image Reduced_DRRP_L_1850nm_490_2_167.9998974609375.fits, index: 42\n",
      "Warning: low flux detected, check the image Reduced_DRRP_L_1850nm_490_2_179.99989013671873.fits, index: 45\n"
     ]
    }
   ],
   "source": [
    "reduced_filename = 'Reduced_DRRP_'\n",
    "reduced_folder = \"/home/shared/exoserver/Lab_Data/Mueller_Matrix_Polarimeter/L_Plate_Characterization/SuperK_Select_Data/Reduced_Data/Reduced_L_1850/\"\n",
    "lcenter = [316, 248]\n",
    "rcenter = [316, 326]\n",
    "maxradius = 16\n",
    "cutoff = 90000\n",
    "\n",
    "extracted_data = extract_intensities(reduced_filename, reduced_folder, lcenter, rcenter, maxradius, cutoff)\n",
    "Il_1850 = extracted_data[0]\n",
    "Ir_1850 = extracted_data[1]\n",
    "theta1850 = extracted_data[2]"
   ]
  },
  {
   "cell_type": "code",
   "execution_count": 36,
   "metadata": {},
   "outputs": [
    {
     "name": "stdout",
     "output_type": "stream",
     "text": [
      "[-0.04294656 -0.2073552  -0.02126397  0.03181942  0.05285449] Fit parameters for a1, w1, w2, r1, and r2. 1 for generator, 2 for analyzer\n",
      "[139125.   143328.   151763.5  151664.5  143551.   140000.   134117.5\n",
      " 144195.   146026.   152106.5  149911.   147343.   154174.5  147963.\n",
      " 144919.5  140699.5  139247.   145556.5  155403.25 148686.5  154233.5\n",
      " 145205.   143287.   159114.   148728.   137665.   145426.   152703.\n",
      " 143519.   156140.5  149595.5  155894.   155256.5  155515.5  145347.\n",
      " 148858.5  136797.   139881.   155296.   147136.75 158440.5  148221.5\n",
      " 133931.  ]\n",
      "[ 109233.     61137.     -8360.5     8216.5    92379.    138728.\n",
      "   98317.5    71000.     52999.    -32079.5  -129125.   -140888.\n",
      "  -73183.5    21963.     95086.5   135792.5   121623.     31158.5\n",
      "  -83674.25 -114667.5   -26444.5    88398.     99205.    -14482.\n",
      "   47483.    124373.     80668.     69901.     68783.     17982.5\n",
      "  -84832.5  -153649.   -120591.5   -24120.5    61397.    125236.5\n",
      "  135094.     81441.    -29343.   -112699.25  -85979.5    36545.5\n",
      "   99987.5 ]\n",
      "[ 0.78514286  0.42655308 -0.055089    0.0541755   0.64352739  0.99091429\n",
      "  0.73306988  0.49238878  0.36294222 -0.21090157 -0.8613444  -0.95619066\n",
      " -0.47467966  0.14843576  0.65613323  0.96512425  0.87343354  0.21406464\n",
      " -0.53843308 -0.77120317 -0.17145756  0.60878069  0.69235171 -0.0910165\n",
      "  0.31926066  0.90344677  0.55470136  0.45775787  0.47926059  0.11516871\n",
      " -0.56707922 -0.98559919 -0.77672432 -0.1551003   0.4224167   0.84131239\n",
      "  0.9875509   0.58221631 -0.18894885 -0.76594902 -0.54266113  0.24656005\n",
      "  0.7465598 ]\n",
      "[[ 0.94784287 -0.03887572 -0.00898709 -0.00727329]\n",
      " [ 0.0021502   1.          0.16918068  0.15666729]\n",
      " [-0.00065465  0.04051484  0.601669   -0.78574455]\n",
      " [-0.00406463 -0.22341103  0.79358698  0.59466182]] This is the Mueller matrix of the sample waveplate\n",
      "0.15335826489959883 This is the retardance of the sample\n",
      "[[ 0.92251248 -0.01943825  0.00427755 -0.00740957]\n",
      " [-0.08316979  1.          0.0863316   0.00525397]\n",
      " [-0.04546183  0.0439785   0.96693583 -0.00316057]\n",
      " [ 0.00007507  0.01497455  0.00692154  0.98131539]] This is the Mueller matrix for calibration (close to identity)\n",
      "0.04075744098728481 This is the RMS error in the calibration matrix\n",
      "0.04962923190744036 This is the retardance error in the sample waveplate\n"
     ]
    }
   ],
   "source": [
    "data1850 = q_ultimate_polarimetry(Cal_theta1850, Cal_Il_1850, Cal_Ir_1850, theta1850, Il_1850, Ir_1850)\n",
    "print(data1850[0], \"This is the Mueller matrix of the sample waveplate\")\n",
    "print(data1850[1], \"This is the retardance of the sample\")\n",
    "print(data1850[2], \"This is the Mueller matrix for calibration (close to identity)\")\n",
    "print(data1850[3], \"This is the RMS error in the calibration matrix\")\n",
    "print(data1850[4], \"This is the retardance error in the sample waveplate\")"
   ]
  },
  {
   "cell_type": "code",
   "execution_count": 37,
   "metadata": {},
   "outputs": [
    {
     "name": "stdout",
     "output_type": "stream",
     "text": [
      "[[ 0.97285941 -0.01795821 -0.01075163 -0.01151268]\n",
      " [ 0.04179535  0.72862425  0.75691844  0.0099531 ]\n",
      " [ 0.29649094 -0.71463972  0.85656636 -0.01159339]\n",
      " [ 0.03165062 -0.05043703  0.03704009  1.        ]]\n",
      "0.28217520513285094\n"
     ]
    }
   ],
   "source": [
    "uncalibrated = q_calibrated_full_mueller_polarimetry(Cal_theta1850, 0, 0, 0, 0, 0, Cal_Il_1850, Cal_Ir_1850, M_in=None)\n",
    "uncalibrated = uncalibrated/np.max(np.abs(uncalibrated))\n",
    "print(uncalibrated)\n",
    "print(RMS_calculator(uncalibrated))"
   ]
  },
  {
   "cell_type": "markdown",
   "metadata": {},
   "source": [
    "1950 nm SK data, 490 fps, 2 ms tint"
   ]
  },
  {
   "cell_type": "code",
   "execution_count": 38,
   "metadata": {},
   "outputs": [
    {
     "name": "stdout",
     "output_type": "stream",
     "text": [
      "Warning: low flux detected, check the image Reduced_DRRP_L_1950nm_490_2_31.999980468749996.fits, index: 8\n",
      "Warning: low flux detected, check the image Reduced_DRRP_L_1950nm_490_2_95.99994140624999.fits, index: 24\n",
      "Warning: low flux detected, check the image Reduced_DRRP_L_1950nm_490_2_107.99993408203125.fits, index: 27\n",
      "Warning: low flux detected, check the image Reduced_DRRP_L_1950nm_490_2_131.99991943359373.fits, index: 33\n"
     ]
    }
   ],
   "source": [
    "reduced_filename = 'Reduced_DRRP_'\n",
    "reduced_folder = \"/home/shared/exoserver/Lab_Data/Mueller_Matrix_Polarimeter/L_Plate_Characterization/SuperK_Select_Data/Reduced_Data/Reduced_L_1950/\"\n",
    "lcenter = [316, 248]\n",
    "rcenter = [316, 326]\n",
    "maxradius = 16\n",
    "cutoff = 90000\n",
    "\n",
    "extracted_data = extract_intensities(reduced_filename, reduced_folder, lcenter, rcenter, maxradius, cutoff)\n",
    "Il_1950 = extracted_data[0]\n",
    "Ir_1950 = extracted_data[1]\n",
    "theta1950 = extracted_data[2]"
   ]
  },
  {
   "cell_type": "code",
   "execution_count": 39,
   "metadata": {},
   "outputs": [
    {
     "name": "stdout",
     "output_type": "stream",
     "text": [
      "[-0.01309188 -0.05368939  0.05662203  0.00329704 -0.03897437] Fit parameters for a1, w1, w2, r1, and r2. 1 for generator, 2 for analyzer\n",
      "[132867.5  148349.   144879.5  150906.5  143958.5  137958.   136854.\n",
      " 147879.   146215.5  146024.75 139393.5  148037.5  136851.5  145366.5\n",
      " 145344.75 136941.   138827.   146743.5  145972.5  140505.   139810.5\n",
      " 147444.5  143203.5  144281.   144594.   147039.5  140889.   138328.5\n",
      " 150644.5  143296.5  138982.5  151832.   176675.   174875.   180510.\n",
      " 176484.   165109.   169934.   178970.5  181112.5  178605.   166768.  ]\n",
      "[ 127873.5    59467.    -30423.5   -15776.5    77146.5   135939.\n",
      "  118734.     85386.     56113.5     4895.25  -80747.5  -145136.5\n",
      " -115301.5   -37535.5    42954.25  131521.    126530.    -74200.5\n",
      "   25685.5   127625.    106328.5     4971.5   -36433.5    29077.\n",
      "  121971.    142835.5   100445.     67466.5    40387.5   -34779.5\n",
      " -117370.5  -148508.    -96608.     12598.     94140.    149941.\n",
      "  165608.    115703.     -8360.5   -99022.5   104578.    161853.  ]\n",
      "[ 0.96241368  0.40085879 -0.20999175 -0.10454487  0.53589403  0.98536511\n",
      "  0.86759612  0.5774045   0.38377258  0.03352343 -0.57927737 -0.98040361\n",
      " -0.84253004 -0.25821286  0.29553355  0.96042091  0.91142213 -0.50564761\n",
      "  0.17596123  0.90833066  0.7605187   0.03371777 -0.25441766  0.20153035\n",
      "  0.84354123  0.97140904  0.71293713  0.48772668  0.26809807 -0.24271005\n",
      " -0.84449841 -0.97810738 -0.54681194  0.07204003  0.52152235  0.8496011\n",
      "  1.00302225  0.68087022 -0.0467144  -0.54674581  0.58552672  0.97052792]\n",
      "[[ 0.95236513  0.00172976  0.01370325 -0.01951869]\n",
      " [-0.0082035   0.96755621  0.15826671  0.33822339]\n",
      " [ 0.04875155 -0.01078551  1.         -0.44646637]\n",
      " [ 0.02996345 -0.37731047  0.39757343  0.88754392]] This is the Mueller matrix of the sample waveplate\n",
      "0.07004332785051447 This is the retardance of the sample\n",
      "[[ 0.73572303 -0.01197411 -0.0983188  -0.04474838]\n",
      " [-0.06766895  0.90543912  0.03687626 -0.01018903]\n",
      " [ 0.01447301 -0.02985197  1.          0.00992374]\n",
      " [-0.00138524  0.00969298 -0.00671017  0.87375435]] This is the Mueller matrix for calibration (close to identity)\n",
      "0.08437904526929925 This is the RMS error in the calibration matrix\n",
      "0.19806097251819785 This is the retardance error in the sample waveplate\n"
     ]
    }
   ],
   "source": [
    "data1950 = q_ultimate_polarimetry(Cal_theta1950, Cal_Il_1950, Cal_Ir_1950, theta1950, Il_1950, Ir_1950)\n",
    "print(data1950[0], \"This is the Mueller matrix of the sample waveplate\")\n",
    "print(data1950[1], \"This is the retardance of the sample\")\n",
    "print(data1950[2], \"This is the Mueller matrix for calibration (close to identity)\")\n",
    "print(data1950[3], \"This is the RMS error in the calibration matrix\")\n",
    "print(data1950[4], \"This is the retardance error in the sample waveplate\")"
   ]
  },
  {
   "cell_type": "code",
   "execution_count": 40,
   "metadata": {},
   "outputs": [
    {
     "name": "stdout",
     "output_type": "stream",
     "text": [
      "0.08437904526929925\n"
     ]
    }
   ],
   "source": [
    "print(np.sqrt(np.mean(np.square(data1950[2]-np.identity(4)))))"
   ]
  },
  {
   "cell_type": "code",
   "execution_count": 41,
   "metadata": {},
   "outputs": [
    {
     "name": "stdout",
     "output_type": "stream",
     "text": [
      "[[ 0.81877277  0.00775039 -0.11287435 -0.04612173]\n",
      " [-0.05991116  1.          0.27981052 -0.00169104]\n",
      " [ 0.0867876  -0.41687802  0.97506536 -0.00081006]\n",
      " [-0.01284836  0.01435003  0.02659408  0.95750374]]\n",
      "0.1401970236183801\n"
     ]
    }
   ],
   "source": [
    "uncalibrated = q_calibrated_full_mueller_polarimetry(Cal_theta1950, 0, 0, 0, 0, 0, Cal_Il_1950, Cal_Ir_1950, M_in=None)\n",
    "uncalibrated = uncalibrated/np.max(np.abs(uncalibrated))\n",
    "print(uncalibrated)\n",
    "print(RMS_calculator(uncalibrated))"
   ]
  },
  {
   "cell_type": "code",
   "execution_count": 42,
   "metadata": {},
   "outputs": [
    {
     "name": "stdout",
     "output_type": "stream",
     "text": [
      "0.14019702361838007\n"
     ]
    }
   ],
   "source": [
    "print(np.sqrt(np.mean(np.square(uncalibrated-np.identity(4)))))"
   ]
  },
  {
   "cell_type": "code",
   "execution_count": 43,
   "metadata": {},
   "outputs": [
    {
     "name": "stdout",
     "output_type": "stream",
     "text": [
      "[-0.1812272321815429, 0.0077503861295686585, -0.11287434994334238, -0.04612173070260271, -0.05991115886150531, 0.0, 0.2798105153080173, -0.0016910397493814558, 0.0867876021924295, -0.41687801956595055, -0.024934642520993755, -0.000810058875682095, -0.012848364513281392, 0.014350030725149902, 0.026594084869601183, -0.0424962572488774]\n",
      "[0.032843309684182864, 6.006848515741025e-05, 0.012740618875132115, 0.0021272140430034056, 0.0035893469561285264, 0.0, 0.0782939244769382, 2.859615433988097e-06, 0.007532087894311393, 0.17378728319722905, 0.0006217363976497498, 6.561953820713398e-07, 0.0001650804706661486, 0.00020592338181274621, 0.0007072453500515506, 0.001805931880162765]\n",
      "0.1401970236183801\n"
     ]
    }
   ],
   "source": [
    "differences = []\n",
    "for i in range(0, 4):\n",
    "    for j in range(0, 4):\n",
    "        differences.append(uncalibrated[i, j]-M_identity[i, j])\n",
    "print(differences)\n",
    "\n",
    "differences_squared = [x**2 for x in differences]\n",
    "print(differences_squared)\n",
    "RMS = np.sqrt(sum(differences_squared)/16)\n",
    "print(RMS)"
   ]
  },
  {
   "cell_type": "markdown",
   "metadata": {},
   "source": [
    "Plot the data"
   ]
  },
  {
   "cell_type": "code",
   "execution_count": 44,
   "metadata": {},
   "outputs": [],
   "source": [
    "old_q_measured_retardance = [0.427, 0.423, 0.120, 0.336, 0.164, 0.198, 0.220, 0.139, 0.127]"
   ]
  },
  {
   "cell_type": "code",
   "execution_count": 45,
   "metadata": {},
   "outputs": [],
   "source": [
    "# From regular I measurements\n",
    "old_wavelength_bins = np.array([1400, 1500, 1550, 1600, 1620, 1650, 1750, 1900, 2000])\n",
    "old_retardance = np.array([0.456, 0.432, 0.122, 0.338, 0.162, 0.198, 0.221, 0.127, 0.131])"
   ]
  },
  {
   "cell_type": "code",
   "execution_count": 46,
   "metadata": {},
   "outputs": [],
   "source": [
    "new_wavelength_bins = [1400, 1500, 1550, 1600, 1620, 1650, 1750, 1850, 1950]\n",
    "new_retardance = [0.447, 0.433, 0.376, 0.336, 0.322, 0.297, 0.224, 0.150, 0.089]"
   ]
  },
  {
   "cell_type": "code",
   "execution_count": 47,
   "metadata": {},
   "outputs": [
    {
     "data": {
      "image/png": "[encoded data removed]",
      "text/plain": [
       "<Figure size 640x480 with 1 Axes>"
      ]
     },
     "metadata": {},
     "output_type": "display_data"
    }
   ],
   "source": [
    "plt.ylim(0, 0.5)\n",
    "plt.xlim(1300, 2050)\n",
    "plt.xlabel(\"Wavelength (nm)\", fontsize=12, fontweight='bold')\n",
    "plt.ylabel(\"Retardance (waves)\", fontsize=12, fontweight='bold')\n",
    "\n",
    "plt.plot(old_wavelength_bins, old_retardance, marker='o', linestyle=' ', color = 'purple', label = 'L HWP: Thorlabs Lamp, Initial')\n",
    "plt.plot(old_wavelength_bins, old_q_measured_retardance, marker='o', linestyle=' ', color = 'green', label = 'L HWP: Thorlabs Lamp, Q measured')\n",
    "plt.plot(new_wavelength_bins, new_retardance, marker='x', linestyle=' ', color = 'orange', label = 'L HWP: SuperK Laser, Q measured')\n",
    "plt.legend()\n",
    "\n",
    "caption = \"Characterization for the L-band half-wave plate (centered). 1cm beam diameter.\"\n",
    "\n",
    "text_width = 70  # Speify desired text width box in characters\n",
    "wrapped_text = textwrap.fill(caption, width=text_width)\n",
    "plt.text(1650, -0.09, wrapped_text, ha='center', va='center')\n",
    "\n",
    "folder_path = \"/home/shared/exoserver/Lab_Data/Mueller_Matrix_Polarimeter/L_Plate_Characterization/SuperK_Select_Data/\"\n",
    "file_name = 'L_HWP_Retardance_Comparison.png'\n",
    "#plt.savefig(folder_path + file_name, bbox_inches='tight', dpi=300)"
   ]
  },
  {
   "cell_type": "code",
   "execution_count": 48,
   "metadata": {},
   "outputs": [],
   "source": [
    "# wavelength_bins = [1100, 1200, 1300, 1400, 1500, 1550, 1600, 1620, 1650, 1750, 1850, 1950]\n",
    "# retardance = np.array([1+data1100[1], 1-data1200[1], 1-data1300[1], 1-data1400[1], data1500[1], data1550[1], data1600[1], data1620[1], data1650[1], data1750[1], data1850[1], data1950[1]])+1\n",
    "\n",
    "wavelength_bins = [1.1, 1.2, 1.3, 1.4, 1.5, 1.6, 1.75, 1.85, 1.95]\n",
    "retardance = np.array([1-data1100[1], 1-data1200[1], 1-data1300[1], 1-data1400[1], data1500[1], data1600[1], data1750[1], data1850[1], data1950[1]])+1"
   ]
  },
  {
   "cell_type": "code",
   "execution_count": 49,
   "metadata": {},
   "outputs": [
    {
     "name": "stdout",
     "output_type": "stream",
     "text": [
      "[1.85763296 1.82257701 1.66844534        nan 1.45380826 1.34444377\n",
      " 1.23036104 1.15335826 1.07004333]\n"
     ]
    }
   ],
   "source": [
    "print(retardance)"
   ]
  },
  {
   "cell_type": "code",
   "execution_count": 50,
   "metadata": {},
   "outputs": [
    {
     "name": "stdout",
     "output_type": "stream",
     "text": [
      "[0.1446393554112129, 0.07033300349450405, 0.09533389779494833, nan, 0.14718013419083759, 0.06473155658925399, 0.05172119088987874, 0.04962923190744036, 0.19806097251819785]\n"
     ]
    }
   ],
   "source": [
    "y_err1 = [data1100[4], data1200[4], data1300[4], data1400[4], data1500[4], data1600[4], data1750[4], data1850[4], data1950[4]]\n",
    "print(y_err1)"
   ]
  },
  {
   "cell_type": "code",
   "execution_count": 51,
   "metadata": {},
   "outputs": [],
   "source": [
    "# Import the theoretical values\n",
    "#d = 185.63 #um Estimate by William Chang\n",
    "\n",
    "#Ordinary and Extraordinary indices of refraction takeing from refractiveindex.info\n",
    "n_e = np.loadtxt(\"/home/shared/exoserver/Lab_Data/Mueller_Matrix_Polarimeter/L_Plate_Characterization/SuperK_Select_Data/Dodge-e.csv\", delimiter=\",\",skiprows=1)\n",
    "n_o = np.loadtxt(\"/home/shared/exoserver/Lab_Data/Mueller_Matrix_Polarimeter/L_Plate_Characterization/SuperK_Select_Data/Dodge-o.csv\", delimiter=\",\",skiprows=1)"
   ]
  },
  {
   "cell_type": "code",
   "execution_count": 52,
   "metadata": {},
   "outputs": [],
   "source": [
    "# Since the data doesn't have the same wavelengths I've measured, interpolate to get the specific values\n",
    "specific_ne = np.interp(wavelength_bins, n_e[:,0], n_e[:,1])\n",
    "specific_no = np.interp(wavelength_bins, n_o[:,0], n_o[:,1])"
   ]
  },
  {
   "cell_type": "code",
   "execution_count": 53,
   "metadata": {},
   "outputs": [
    {
     "ename": "ValueError",
     "evalue": "array must not contain infs or NaNs",
     "output_type": "error",
     "traceback": [
      "\u001b[0;31m---------------------------------------------------------------------------\u001b[0m",
      "\u001b[0;31mValueError\u001b[0m                                Traceback (most recent call last)",
      "Cell \u001b[0;32mIn[53], line 3\u001b[0m\n\u001b[1;32m      1\u001b[0m \u001b[38;5;66;03m# Find d, the difference in plate thickness\u001b[39;00m\n\u001b[1;32m      2\u001b[0m initial_guess \u001b[38;5;241m=\u001b[39m [\u001b[38;5;241m185\u001b[39m] \u001b[38;5;66;03m# initial guess for d, in microns\u001b[39;00m\n\u001b[0;32m----> 3\u001b[0m popt, pcov \u001b[38;5;241m=\u001b[39m \u001b[43mcurve_fit\u001b[49m\u001b[43m(\u001b[49m\u001b[38;5;28;43;01mlambda\u001b[39;49;00m\u001b[43m \u001b[49m\u001b[43mw\u001b[49m\u001b[43m,\u001b[49m\u001b[43m \u001b[49m\u001b[43md\u001b[49m\u001b[43m:\u001b[49m\u001b[43m \u001b[49m\u001b[43md\u001b[49m\u001b[38;5;241;43m*\u001b[39;49m\u001b[43m(\u001b[49m\u001b[43mspecific_ne\u001b[49m\u001b[43m \u001b[49m\u001b[38;5;241;43m-\u001b[39;49m\u001b[43m \u001b[49m\u001b[43mspecific_no\u001b[49m\u001b[43m)\u001b[49m\u001b[38;5;241;43m/\u001b[39;49m\u001b[43mw\u001b[49m\u001b[43m,\u001b[49m\u001b[43m \u001b[49m\u001b[43mwavelength_bins\u001b[49m\u001b[43m,\u001b[49m\u001b[43m \u001b[49m\u001b[43mretardance\u001b[49m\u001b[43m,\u001b[49m\u001b[43m \u001b[49m\u001b[43msigma\u001b[49m\u001b[38;5;241;43m=\u001b[39;49m\u001b[43my_err1\u001b[49m\u001b[43m,\u001b[49m\u001b[43m \u001b[49m\u001b[43mp0\u001b[49m\u001b[38;5;241;43m=\u001b[39;49m\u001b[43minitial_guess\u001b[49m\u001b[43m)\u001b[49m\n\u001b[1;32m      4\u001b[0m \u001b[38;5;28mprint\u001b[39m(popt, \u001b[38;5;124m\"\u001b[39m\u001b[38;5;124mThis is the best fit value of d\u001b[39m\u001b[38;5;124m\"\u001b[39m)\n\u001b[1;32m      5\u001b[0m \u001b[38;5;28mprint\u001b[39m(\u001b[38;5;28mlist\u001b[39m(np\u001b[38;5;241m.\u001b[39msqrt(np\u001b[38;5;241m.\u001b[39mdiagonal(pcov))), \u001b[38;5;124m\"\u001b[39m\u001b[38;5;124mThis is the uncertainty in the best fit values\u001b[39m\u001b[38;5;124m\"\u001b[39m)\n",
      "File \u001b[0;32m~/.local/lib/python3.8/site-packages/scipy/optimize/_minpack_py.py:807\u001b[0m, in \u001b[0;36mcurve_fit\u001b[0;34m(f, xdata, ydata, p0, sigma, absolute_sigma, check_finite, bounds, method, jac, full_output, **kwargs)\u001b[0m\n\u001b[1;32m    803\u001b[0m \u001b[38;5;66;03m# optimization may produce garbage for float32 inputs, cast them to float64\u001b[39;00m\n\u001b[1;32m    804\u001b[0m \n\u001b[1;32m    805\u001b[0m \u001b[38;5;66;03m# NaNs cannot be handled\u001b[39;00m\n\u001b[1;32m    806\u001b[0m \u001b[38;5;28;01mif\u001b[39;00m check_finite:\n\u001b[0;32m--> 807\u001b[0m     ydata \u001b[38;5;241m=\u001b[39m \u001b[43mnp\u001b[49m\u001b[38;5;241;43m.\u001b[39;49m\u001b[43masarray_chkfinite\u001b[49m\u001b[43m(\u001b[49m\u001b[43mydata\u001b[49m\u001b[43m,\u001b[49m\u001b[43m \u001b[49m\u001b[38;5;28;43mfloat\u001b[39;49m\u001b[43m)\u001b[49m\n\u001b[1;32m    808\u001b[0m \u001b[38;5;28;01melse\u001b[39;00m:\n\u001b[1;32m    809\u001b[0m     ydata \u001b[38;5;241m=\u001b[39m np\u001b[38;5;241m.\u001b[39masarray(ydata, \u001b[38;5;28mfloat\u001b[39m)\n",
      "File \u001b[0;32m~/.local/lib/python3.8/site-packages/numpy/lib/function_base.py:628\u001b[0m, in \u001b[0;36masarray_chkfinite\u001b[0;34m(a, dtype, order)\u001b[0m\n\u001b[1;32m    626\u001b[0m a \u001b[38;5;241m=\u001b[39m asarray(a, dtype\u001b[38;5;241m=\u001b[39mdtype, order\u001b[38;5;241m=\u001b[39morder)\n\u001b[1;32m    627\u001b[0m \u001b[38;5;28;01mif\u001b[39;00m a\u001b[38;5;241m.\u001b[39mdtype\u001b[38;5;241m.\u001b[39mchar \u001b[38;5;129;01min\u001b[39;00m typecodes[\u001b[38;5;124m'\u001b[39m\u001b[38;5;124mAllFloat\u001b[39m\u001b[38;5;124m'\u001b[39m] \u001b[38;5;129;01mand\u001b[39;00m \u001b[38;5;129;01mnot\u001b[39;00m np\u001b[38;5;241m.\u001b[39misfinite(a)\u001b[38;5;241m.\u001b[39mall():\n\u001b[0;32m--> 628\u001b[0m     \u001b[38;5;28;01mraise\u001b[39;00m \u001b[38;5;167;01mValueError\u001b[39;00m(\n\u001b[1;32m    629\u001b[0m         \u001b[38;5;124m\"\u001b[39m\u001b[38;5;124marray must not contain infs or NaNs\u001b[39m\u001b[38;5;124m\"\u001b[39m)\n\u001b[1;32m    630\u001b[0m \u001b[38;5;28;01mreturn\u001b[39;00m a\n",
      "\u001b[0;31mValueError\u001b[0m: array must not contain infs or NaNs"
     ]
    }
   ],
   "source": [
    "# Find d, the difference in plate thickness\n",
    "initial_guess = [185] # initial guess for d, in microns\n",
    "popt, pcov = curve_fit(lambda w, d: d*(specific_ne - specific_no)/w, wavelength_bins, retardance, sigma=y_err1, p0=initial_guess)\n",
    "print(popt, \"This is the best fit value of d\")\n",
    "print(list(np.sqrt(np.diagonal(pcov))), \"This is the uncertainty in the best fit values\")"
   ]
  },
  {
   "cell_type": "code",
   "execution_count": null,
   "metadata": {},
   "outputs": [],
   "source": [
    "d = popt[0]"
   ]
  },
  {
   "cell_type": "code",
   "execution_count": null,
   "metadata": {},
   "outputs": [],
   "source": [
    "def theoretical_retardance(w, d):\n",
    "    specific_ne = np.interp(w, n_e[:,0], n_e[:,1])\n",
    "    specific_no = np.interp(w, n_o[:,0], n_o[:,1])\n",
    "    return d*(specific_ne - specific_no)/w"
   ]
  },
  {
   "cell_type": "code",
   "execution_count": null,
   "metadata": {},
   "outputs": [
    {
     "name": "stdout",
     "output_type": "stream",
     "text": [
      "0.5766610568942538\n",
      "[0.0028994]\n",
      "[-0.0028994]\n",
      "0.4508020636244154\n",
      "[0.00226659]\n",
      "[-0.00226659]\n"
     ]
    }
   ],
   "source": [
    "print(theoretical_retardance(3.4, d)) \n",
    "print(theoretical_retardance(3.4, d+list(np.sqrt(np.diagonal(pcov)))) - theoretical_retardance(3.4, d))\n",
    "print(theoretical_retardance(3.4, d) - theoretical_retardance(3.4, d+list(np.sqrt(np.diagonal(pcov)))))\n",
    "\n",
    "print(theoretical_retardance(4.1, d))\n",
    "print(theoretical_retardance(4.1, d+list(np.sqrt(np.diagonal(pcov)))) - theoretical_retardance(4.1, d))\n",
    "print(theoretical_retardance(4.1, d) - theoretical_retardance(4.1, d+list(np.sqrt(np.diagonal(pcov)))))"
   ]
  },
  {
   "cell_type": "code",
   "execution_count": null,
   "metadata": {},
   "outputs": [
    {
     "data": {
      "text/plain": [
       "0.5103767729379199"
      ]
     },
     "execution_count": 57,
     "metadata": {},
     "output_type": "execute_result"
    }
   ],
   "source": [
    "L_wavelengths = np.linspace(3.4, 4.1, 100)\n",
    "np.mean(theoretical_retardance(L_wavelengths, d))"
   ]
  },
  {
   "cell_type": "code",
   "execution_count": null,
   "metadata": {},
   "outputs": [
    {
     "data": {
      "image/png": "[encoded data removed]",
      "text/plain": [
       "<Figure size 640x480 with 1 Axes>"
      ]
     },
     "metadata": {},
     "output_type": "display_data"
    }
   ],
   "source": [
    "plt.ylim(0.4, 2.4)\n",
    "plt.xlim(0.9, 4.2)\n",
    "plt.xlabel(\"Wavelength $(\\mu m)$\", fontsize=12, fontweight='bold')\n",
    "plt.ylabel(\"Retardance $(waves)$\", fontsize=12, fontweight='bold')\n",
    "\n",
    "plt.errorbar(wavelength_bins, retardance, yerr=y_err1, marker='o', capsize=2, linestyle=' ', color = 'purple', label = 'Lab Measurements')\n",
    "plt.plot(n_e[:,0], 1/n_e[:,0]*d*(n_e[:,1]-n_o[:,1]),label=\"Design\")\n",
    "plt.fill_between([3.4, 4.1],0,2,color='r',alpha=0.3,label=\"Keck L'\")\n",
    "\n",
    "caption = \"Characterization for the L-band half-wave plate. Data taken with SuperK SELECT laser.\"\n",
    "\n",
    "text_width = 70  # Speify desired text width box in characters\n",
    "wrapped_text = textwrap.fill(caption, width=text_width)\n",
    "#plt.text(2.5, 0, wrapped_text, ha='center', va='center')\n",
    "\n",
    "plt.legend(fontsize=12)\n",
    "#plt.grid(True)\n",
    "\n",
    "folder_path = \"/home/shared/exoserver/Lab_Data/Mueller_Matrix_Polarimeter/L_Plate_Characterization/SuperK_Select_Data/\"\n",
    "file_name = 'Final_L_Band_HWP_Retardance.png'\n",
    "#plt.savefig(folder_path + file_name, bbox_inches='tight', dpi=300)"
   ]
  },
  {
   "cell_type": "markdown",
   "metadata": {},
   "source": [
    "Testing Jaren's Katsu polar decomposition"
   ]
  },
  {
   "cell_type": "code",
   "execution_count": null,
   "metadata": {},
   "outputs": [
    {
     "name": "stdout",
     "output_type": "stream",
     "text": [
      "[[ 0.98507403 -0.00998114  0.01241987  0.00231202]\n",
      " [-0.01006089  1.         -0.18020207  0.03007225]\n",
      " [-0.00371429 -0.14075797 -0.98518046  0.27647512]\n",
      " [ 0.00250261 -0.01668844 -0.26482599 -0.97149938]] M\n",
      "[[ 0.98498131 -0.         -0.          0.        ]\n",
      " [ 0.0022733   1.         -0.18016008  0.03008258]\n",
      " [ 0.00663296 -0.14074874 -0.98523774  0.2764826 ]\n",
      " [ 0.00795399 -0.01663612 -0.26490237 -0.97154999]] Retarder\n",
      "[[ 1.         -0.01013238  0.01260806  0.00234705]\n",
      " [-0.01013238  0.99991776 -0.00006388 -0.00001189]\n",
      " [ 0.01260806 -0.00006388  0.99994591  0.0000148 ]\n",
      " [ 0.00234705 -0.00001189  0.0000148   0.99986918]] Diattenuator\n"
     ]
    }
   ],
   "source": [
    "print(data1400[0], \"M\")\n",
    "print(decompose_retarder((data1400[0]), True)[0], \"Retarder\")\n",
    "print(decompose_retarder((data1400[0]), True)[1], \"Diattenuator\")"
   ]
  },
  {
   "cell_type": "code",
   "execution_count": null,
   "metadata": {},
   "outputs": [
    {
     "name": "stdout",
     "output_type": "stream",
     "text": [
      "[[ 1.         -0.05878907 -0.02804011 -0.0345803 ]\n",
      " [-0.03164396  0.42099181  0.77633889  0.55022915]\n",
      " [-0.02138408  0.83870672  0.01930516 -0.63882632]\n",
      " [-0.01556764 -0.53059359  0.6809289  -0.56711032]] M\n",
      "[[ 1.         -0.         -0.          0.        ]\n",
      " [ 0.03408685  0.42221058  0.77849156  0.55177221]\n",
      " [ 0.00640807  0.84055406  0.01914679 -0.64083077]\n",
      " [-0.04753678 -0.53390095  0.68190147 -0.56975198]] Retarder\n",
      "[[ 1.         -0.05878907 -0.02804011 -0.0345803 ]\n",
      " [-0.05878907  0.99900763  0.00082535  0.00101786]\n",
      " [-0.02804011  0.00082535  0.99767085  0.00048548]\n",
      " [-0.0345803   0.00101786  0.00048548  0.99787591]] Diattenuator\n"
     ]
    }
   ],
   "source": [
    "print(data1600[0], \"M\")\n",
    "print(decompose_retarder((data1600[0]), True)[0], \"Retarder\")\n",
    "print(decompose_retarder((data1600[0]), True)[1], \"Diattenuator\")"
   ]
  },
  {
   "cell_type": "markdown",
   "metadata": {},
   "source": [
    "Testing the calibration matrix reconstruction"
   ]
  },
  {
   "cell_type": "code",
   "execution_count": null,
   "metadata": {},
   "outputs": [],
   "source": [
    "def I_output_simulation_function(t, a1, w1, w2, r1, r2, M_in=None):\n",
    "    if M_in is None:\n",
    "        M = M_identity\n",
    "    else:\n",
    "        M = M_in\n",
    "\n",
    "    prediction = [None]*len(t)\n",
    "    for i in range(len(t)):\n",
    "        prediction[i] = float(A @ linear_retarder(5*t[i]+w2, np.pi/2+r2) @ M_identity @ linear_retarder(t[i]+w1, np.pi/2+r1) @ linear_polarizer(a1) @ B)\n",
    "    return prediction"
   ]
  },
  {
   "cell_type": "code",
   "execution_count": null,
   "metadata": {},
   "outputs": [],
   "source": [
    "def test_q_calibrated_full_mueller_polarimetry(thetas, a1, w1, w2, r1, r2, I, Q, M_in=None):\n",
    "    nmeas = len(thetas)  # Number of measurements\n",
    "    Wmat1 = np.zeros([nmeas, 16])\n",
    "    Pmat1 = np.zeros([nmeas])\n",
    "    Wmat2 = np.zeros([nmeas, 16])\n",
    "    Pmat2 = np.zeros([nmeas])\n",
    "    th = thetas\n",
    "\n",
    "    for i in range(nmeas):\n",
    "        # Mueller Matrix of generator (linear polarizer and a quarter wave plate)\n",
    "        Mg = linear_retarder(th[i]+w1, np.pi/2+r1) @ linear_polarizer(0+a1)\n",
    "\n",
    "        # Mueller Matrix of analyzer (one channel of the Wollaston prism is treated as a linear polarizer. The right spot is horizontal (0) and the left spot is vertical(pi/2))\n",
    "        Ma = linear_retarder(th[i]*5+w2, np.pi/2+r2)\n",
    "\n",
    "        # Data reduction matrix. Taking the 0 index ensures that intensity is the output\n",
    "        Wmat1[i,:] = np.kron((Ma)[0,:], Mg[:,0]) # for the top row, using intensities\n",
    "        Wmat2[i,:] = np.kron((Ma)[1,:], Mg[:,0]) # for the bottom 3 rows, using Q\n",
    "\n",
    "        # M_in is some example Mueller matrix. Providing this input will test theoretical Mueller matrix. Otherwise, the raw data is used\n",
    "        if M_in is not None:\n",
    "            Pmat1[i] = (Ma[0,:] @ M_in @ Mg[:,0])\n",
    "            Pmat2[i] = (Ma[1,:] @ M_in @ Mg[:,0])\n",
    "        else:\n",
    "            Pmat1[i] = I[i]  #Pmat is a vector of measurements (either I or Q)\n",
    "            Pmat2[i] = Q[i] \n",
    "\n",
    "    # Compute Mueller matrix using Moore-Penrose pseudo invervse\n",
    "    M1 = np.linalg.pinv(Wmat1) @ Pmat1\n",
    "    M1 = np.reshape(M1, [4,4])\n",
    "\n",
    "    M2 = np.linalg.pinv(Wmat2) @ Pmat2\n",
    "    M2 = np.reshape(M2, [4,4])\n",
    "\n",
    "    M = np.zeros([4,4])\n",
    "    M[0,:] = M1[0,:]\n",
    "    M[1:4,:] = M2[1:4,:]\n",
    "\n",
    "    return M"
   ]
  },
  {
   "cell_type": "code",
   "execution_count": null,
   "metadata": {},
   "outputs": [
    {
     "name": "stdout",
     "output_type": "stream",
     "text": [
      "[0.         0.13962634 0.20943951 0.27925268 0.34906585 0.41887902\n",
      " 0.55850536 0.62831853 0.6981317  0.90757121 0.97738438 1.04719755\n",
      " 1.11701072 1.18682389 1.25663706 1.32645023 1.3962634  1.46607657\n",
      " 1.53588974 1.60570291 1.67551608 1.74532925 1.81514242 1.88495559\n",
      " 1.95476876 2.02458193 2.0943951  2.23402144 2.30383461 2.37364778\n",
      " 2.44346095 2.51327412 2.58308729 2.65290046 2.7925268  2.86233997\n",
      " 2.93215314 3.00196631 3.07177948 3.14159265]\n"
     ]
    }
   ],
   "source": [
    "print(Cal_theta1600)\n"
   ]
  },
  {
   "cell_type": "code",
   "execution_count": null,
   "metadata": {},
   "outputs": [],
   "source": [
    "simulated_q = q_output_simulation_function(Cal_theta1600, 0.1, 0.5, -0.5, 0.1, 0.5)"
   ]
  },
  {
   "cell_type": "code",
   "execution_count": null,
   "metadata": {},
   "outputs": [],
   "source": [
    "simulated_I = I_output_simulation_function(Cal_theta1600, 0.1, 0.5, -0.5, 0.1, 0.5)"
   ]
  },
  {
   "cell_type": "code",
   "execution_count": null,
   "metadata": {},
   "outputs": [
    {
     "data": {
      "text/plain": [
       "array([[ 1.,  0., -0.,  0.],\n",
       "       [-0.,  1., -0.,  0.],\n",
       "       [-0.,  0.,  1., -0.],\n",
       "       [ 0., -0., -0.,  1.]])"
      ]
     },
     "execution_count": 66,
     "metadata": {},
     "output_type": "execute_result"
    }
   ],
   "source": [
    "test_q_calibrated_full_mueller_polarimetry(Cal_theta1600, 0.1, 0.5, -0.5, 0.1, 0.5, simulated_I, simulated_q)"
   ]
  },
  {
   "cell_type": "code",
   "execution_count": null,
   "metadata": {},
   "outputs": [
    {
     "name": "stdout",
     "output_type": "stream",
     "text": [
      "[[ 0.87743907 -0.01787999 -0.01139817 -0.02430893]\n",
      " [-0.06324085  0.95742377 -0.00679458  0.00242588]\n",
      " [ 0.02794443 -0.01214313  1.         -0.00847804]\n",
      " [-0.00475187  0.00759831  0.00694879  0.91615574]]\n",
      "0.04336227783803385\n"
     ]
    }
   ],
   "source": [
    "print(data1600[2])\n",
    "print(data1600[3])"
   ]
  },
  {
   "cell_type": "code",
   "execution_count": null,
   "metadata": {},
   "outputs": [
    {
     "name": "stdout",
     "output_type": "stream",
     "text": [
      "[[ 0.83524691 -0.01873454 -0.00958525 -0.02316852]\n",
      " [-0.10945439  0.91753058 -0.24642861  0.02640809]\n",
      " [-0.06459617  0.45706246  1.         -0.04023461]\n",
      " [-0.0352903   0.03877136 -0.01000249  0.81550839]]\n",
      "0.1499817785599496\n"
     ]
    }
   ],
   "source": [
    "uncalibrated = q_calibrated_full_mueller_polarimetry(Cal_theta1600, 0, 0, 0, 0, 0, Cal_Il_1600, Cal_Ir_1600, M_in=None)\n",
    "uncalibrated = uncalibrated/np.max(np.abs(uncalibrated))\n",
    "print(uncalibrated)\n",
    "print(RMS_calculator(uncalibrated))"
   ]
  },
  {
   "cell_type": "code",
   "execution_count": null,
   "metadata": {},
   "outputs": [
    {
     "name": "stdout",
     "output_type": "stream",
     "text": [
      "[ 0.1  0.5 -0.5  0.1  0.5]\n"
     ]
    }
   ],
   "source": [
    "parameter_bounds = ([-np.pi, -np.pi, -np.pi, -np.pi/2, -np.pi/2], [np.pi, np.pi, np.pi, np.pi/2, np.pi/2])\n",
    "initial_guess = [0, 0, 0, 0, 0]\n",
    "\n",
    "popt, pcov = curve_fit(q_calibration_function, Cal_theta1600, simulated_q, p0=initial_guess, bounds =parameter_bounds)\n",
    "print(popt)"
   ]
  },
  {
   "cell_type": "code",
   "execution_count": null,
   "metadata": {},
   "outputs": [
    {
     "name": "stdout",
     "output_type": "stream",
     "text": [
      "[ 0.04585305 -0.00281087 -0.25381309 -0.43060062 -0.30968376 -0.02169915\n",
      "  0.35393158  0.45980153  0.36423067 -0.32619702  0.18098666  0.4846869\n",
      "  0.2199951  -0.21356831 -0.21012926  0.21114455  0.4950172   0.35994825\n",
      "  0.10305107  0.04286496  0.0553582  -0.11537555 -0.37279489 -0.40688863\n",
      " -0.16907487  0.10561608  0.28352798  0.45090729  0.19337867 -0.26318992\n",
      " -0.44670913 -0.09142505  0.39787636  0.41470084 -0.28487664 -0.02071035\n",
      "  0.40300863  0.47100892  0.21840923  0.04585305]\n"
     ]
    },
    {
     "name": "stdout",
     "output_type": "stream",
     "text": [
      "[ 0.07868393  0.49352974 -0.51529873  0.04753104  0.3311065 ] Fit parameters for a1, w1, w2, r1, and r2. 1 for generator, 2 for analyzer\n"
     ]
    }
   ],
   "source": [
    "# # Find parameters from calibration\n",
    "QCal = np.array(simulated_q)\n",
    "print(QCal)\n",
    "normalized_QCal = QCal/(max(QCal))\n",
    "popt, pcov = curve_fit(q_calibration_function, Cal_theta1600, normalized_QCal, p0=initial_guess)\n",
    "print(popt, \"Fit parameters for a1, w1, w2, r1, and r2. 1 for generator, 2 for analyzer\")"
   ]
  },
  {
   "cell_type": "code",
   "execution_count": null,
   "metadata": {},
   "outputs": [],
   "source": []
  }
 ],
 "metadata": {
  "kernelspec": {
   "display_name": "Python 3",
   "language": "python",
   "name": "python3"
  },
  "language_info": {
   "codemirror_mode": {
    "name": "ipython",
    "version": 3
   },
   "file_extension": ".py",
   "mimetype": "text/x-python",
   "name": "python",
   "nbconvert_exporter": "python",
   "pygments_lexer": "ipython3",
   "version": "3.8.10"
  }
 },
 "nbformat": 4,
 "nbformat_minor": 2
}
