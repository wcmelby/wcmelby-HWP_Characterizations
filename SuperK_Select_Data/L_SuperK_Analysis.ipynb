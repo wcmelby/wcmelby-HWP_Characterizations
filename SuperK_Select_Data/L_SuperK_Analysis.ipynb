{
 "cells": [
  {
   "cell_type": "code",
   "execution_count": 1,
   "metadata": {},
   "outputs": [],
   "source": [
    "import sys\n",
    "sys.path.insert(0, '/home/wcmelby/Library/Python/wcmelby-HWP_Characterizations/')\n",
    "from New_DRRP_Functions import *"
   ]
  },
  {
   "cell_type": "markdown",
   "metadata": {},
   "source": [
    "This data is taken with the L band plate using the SuperK Select laser operating with main power at 5%, specific channel power at 40%"
   ]
  },
  {
   "cell_type": "markdown",
   "metadata": {},
   "source": [
    "Bring in the new SK calibration data"
   ]
  },
  {
   "cell_type": "code",
   "execution_count": 2,
   "metadata": {},
   "outputs": [
    {
     "name": "stdout",
     "output_type": "stream",
     "text": [
      "Warning: low flux detected, check the image Reduced_DRRP_Cal_1100nm_490_2_11.999992675781249.fits, index: 3\n",
      "Warning: low flux detected, check the image Reduced_DRRP_Cal_1100nm_490_2_43.999973144531246.fits, index: 11\n",
      "Warning: low flux detected, check the image Reduced_DRRP_Cal_1100nm_490_2_51.99996826171875.fits, index: 13\n",
      "Warning: low flux detected, check the image Reduced_DRRP_Cal_1100nm_490_2_63.99996093749999.fits, index: 16\n",
      "Warning: low flux detected, check the image Reduced_DRRP_Cal_1100nm_490_2_87.99994628906249.fits, index: 22\n",
      "Warning: low flux detected, check the image Reduced_DRRP_Cal_1100nm_490_2_99.99993896484375.fits, index: 25\n",
      "Warning: low flux detected, check the image Reduced_DRRP_Cal_1100nm_490_2_155.99990478515625.fits, index: 39\n"
     ]
    }
   ],
   "source": [
    "reduced_filename = 'Reduced_DRRP_'\n",
    "reduced_folder = \"/home/shared/exoserver/Lab_Data/Mueller_Matrix_Polarimeter/L_Plate_Characterization/SuperK_Select_Data/Calibrations/Calibration_Reduced/SK_Cal_1100_Reduced/\"\n",
    "lcenter = [315, 253]\n",
    "rcenter = [316, 329]\n",
    "maxradius = 17\n",
    "cutoff = 100000\n",
    "\n",
    "extracted_data = extract_intensities(reduced_filename, reduced_folder, lcenter, rcenter, maxradius, cutoff)\n",
    "Cal_Il_1100 = extracted_data[0]\n",
    "Cal_Ir_1100 = extracted_data[1]\n",
    "Cal_theta1100 = extracted_data[2]"
   ]
  },
  {
   "cell_type": "code",
   "execution_count": 3,
   "metadata": {},
   "outputs": [
    {
     "name": "stdout",
     "output_type": "stream",
     "text": [
      "Warning: low flux detected, check the image Reduced_DRRP_Cal_1200nm_490_2_71.9999560546875.fits, index: 18\n",
      "Warning: low flux detected, check the image Reduced_DRRP_Cal_1200nm_490_2_155.99990478515625.fits, index: 39\n",
      "Warning: low flux detected, check the image Reduced_DRRP_Cal_1200nm_490_2_159.99990234375.fits, index: 40\n"
     ]
    }
   ],
   "source": [
    "reduced_filename = 'Reduced_DRRP_'\n",
    "reduced_folder = \"/home/shared/exoserver/Lab_Data/Mueller_Matrix_Polarimeter/L_Plate_Characterization/SuperK_Select_Data/Calibrations/Calibration_Reduced/SK_Cal_1200_Reduced/\"\n",
    "lcenter = [315, 253]\n",
    "rcenter = [316, 329]\n",
    "maxradius = 17\n",
    "cutoff = 200000\n",
    "\n",
    "extracted_data = extract_intensities(reduced_filename, reduced_folder, lcenter, rcenter, maxradius, cutoff)\n",
    "Cal_Il_1200 = extracted_data[0]\n",
    "Cal_Ir_1200 = extracted_data[1]\n",
    "Cal_theta1200 = extracted_data[2]"
   ]
  },
  {
   "cell_type": "code",
   "execution_count": 4,
   "metadata": {},
   "outputs": [
    {
     "name": "stdout",
     "output_type": "stream",
     "text": [
      "Warning: low flux detected, check the image Reduced_DRRP_Cal_1300nm_490_2_7.999995117187499.fits, index: 2\n",
      "Warning: low flux detected, check the image Reduced_DRRP_Cal_1300nm_490_2_51.99996826171875.fits, index: 13\n",
      "Warning: low flux detected, check the image Reduced_DRRP_Cal_1300nm_490_2_63.99996093749999.fits, index: 16\n",
      "Warning: low flux detected, check the image Reduced_DRRP_Cal_1300nm_490_2_79.999951171875.fits, index: 20\n",
      "Warning: low flux detected, check the image Reduced_DRRP_Cal_1300nm_490_2_131.99991943359373.fits, index: 33\n",
      "Warning: low flux detected, check the image Reduced_DRRP_Cal_1300nm_490_2_135.99991699218748.fits, index: 34\n",
      "Warning: low flux detected, check the image Reduced_DRRP_Cal_1300nm_490_2_171.99989501953124.fits, index: 43\n"
     ]
    }
   ],
   "source": [
    "reduced_filename = 'Reduced_DRRP_'\n",
    "reduced_folder = \"/home/shared/exoserver/Lab_Data/Mueller_Matrix_Polarimeter/L_Plate_Characterization/SuperK_Select_Data/Calibrations/Calibration_Reduced/SK_Cal_1300_Reduced/\"\n",
    "lcenter = [315, 253]\n",
    "rcenter = [316, 329]\n",
    "maxradius = 17\n",
    "cutoff = 10000\n",
    "\n",
    "extracted_data = extract_intensities(reduced_filename, reduced_folder, lcenter, rcenter, maxradius, cutoff)\n",
    "Cal_Il_1300 = extracted_data[0]\n",
    "Cal_Ir_1300 = extracted_data[1]\n",
    "Cal_theta1300 = extracted_data[2]"
   ]
  },
  {
   "cell_type": "code",
   "execution_count": 5,
   "metadata": {},
   "outputs": [
    {
     "name": "stdout",
     "output_type": "stream",
     "text": [
      "Warning: low flux detected, check the image Reduced_DRRP_Cal_1400nm_490_2_39.9999755859375.fits, index: 10\n",
      "Warning: low flux detected, check the image Reduced_DRRP_Cal_1400nm_490_2_47.999970703124994.fits, index: 12\n",
      "Warning: low flux detected, check the image Reduced_DRRP_Cal_1400nm_490_2_99.99993896484375.fits, index: 25\n",
      "Warning: low flux detected, check the image Reduced_DRRP_Cal_1400nm_490_2_103.9999365234375.fits, index: 26\n",
      "Warning: low flux detected, check the image Reduced_DRRP_Cal_1400nm_490_2_175.99989257812499.fits, index: 44\n"
     ]
    }
   ],
   "source": [
    "reduced_filename = 'Reduced_DRRP_'\n",
    "reduced_folder = \"/home/shared/exoserver/Lab_Data/Mueller_Matrix_Polarimeter/L_Plate_Characterization/SuperK_Select_Data/Calibrations/Calibration_Reduced/SK_Cal_1400_Reduced/\"\n",
    "lcenter = [315, 253]\n",
    "rcenter = [316, 329]\n",
    "maxradius = 17\n",
    "cutoff = 30000\n",
    "\n",
    "extracted_data = extract_intensities(reduced_filename, reduced_folder, lcenter, rcenter, maxradius, cutoff)\n",
    "Cal_Il_1400 = extracted_data[0]\n",
    "Cal_Ir_1400 = extracted_data[1]\n",
    "Cal_theta1400 = extracted_data[2]"
   ]
  },
  {
   "cell_type": "code",
   "execution_count": 6,
   "metadata": {},
   "outputs": [
    {
     "name": "stdout",
     "output_type": "stream",
     "text": [
      "Warning: low flux detected, check the image Reduced_DRRP_Cal_1500nm_490_2_27.99998291015625.fits, index: 7\n",
      "Warning: low flux detected, check the image Reduced_DRRP_Cal_1500nm_490_2_59.999963378906244.fits, index: 15\n",
      "Warning: low flux detected, check the image Reduced_DRRP_Cal_1500nm_490_2_87.99994628906249.fits, index: 22\n",
      "Warning: low flux detected, check the image Reduced_DRRP_Cal_1500nm_490_2_123.99992431640624.fits, index: 31\n",
      "Warning: low flux detected, check the image Reduced_DRRP_Cal_1500nm_490_2_159.99990234375.fits, index: 40\n"
     ]
    }
   ],
   "source": [
    "reduced_filename = 'Reduced_DRRP_'\n",
    "reduced_folder = \"/home/shared/exoserver/Lab_Data/Mueller_Matrix_Polarimeter/L_Plate_Characterization/SuperK_Select_Data/Calibrations/Calibration_Reduced/SK_Cal_1500_Reduced/\"\n",
    "lcenter = [315, 253]\n",
    "rcenter = [316, 329]\n",
    "maxradius = 17\n",
    "cutoff = 10000\n",
    "\n",
    "extracted_data = extract_intensities(reduced_filename, reduced_folder, lcenter, rcenter, maxradius, cutoff)\n",
    "Cal_Il_1500 = extracted_data[0]\n",
    "Cal_Ir_1500 = extracted_data[1]\n",
    "Cal_theta1500 = extracted_data[2]"
   ]
  },
  {
   "cell_type": "code",
   "execution_count": 7,
   "metadata": {},
   "outputs": [
    {
     "name": "stdout",
     "output_type": "stream",
     "text": [
      "Warning: low flux detected, check the image Reduced_DRRP_Cal_1600nm_490_2_3.9999975585937495.fits, index: 1\n",
      "Warning: low flux detected, check the image Reduced_DRRP_Cal_1600nm_490_2_27.99998291015625.fits, index: 7\n",
      "Warning: low flux detected, check the image Reduced_DRRP_Cal_1600nm_490_2_43.999973144531246.fits, index: 11\n",
      "Warning: low flux detected, check the image Reduced_DRRP_Cal_1600nm_490_2_47.999970703124994.fits, index: 12\n",
      "Warning: low flux detected, check the image Reduced_DRRP_Cal_1600nm_490_2_123.99992431640624.fits, index: 31\n",
      "Warning: low flux detected, check the image Reduced_DRRP_Cal_1600nm_490_2_155.99990478515625.fits, index: 39\n"
     ]
    }
   ],
   "source": [
    "reduced_filename = 'Reduced_DRRP_'\n",
    "reduced_folder = \"/home/shared/exoserver/Lab_Data/Mueller_Matrix_Polarimeter/L_Plate_Characterization/SuperK_Select_Data/Calibrations/Calibration_Reduced/SK_Cal_1600_Reduced/\"\n",
    "lcenter = [315, 253]\n",
    "rcenter = [316, 329]\n",
    "maxradius = 17\n",
    "cutoff = 10000\n",
    "\n",
    "extracted_data = extract_intensities(reduced_filename, reduced_folder, lcenter, rcenter, maxradius, cutoff)\n",
    "Cal_Il_1600 = extracted_data[0]\n",
    "Cal_Ir_1600 = extracted_data[1]\n",
    "Cal_theta1600 = extracted_data[2]"
   ]
  },
  {
   "cell_type": "code",
   "execution_count": 8,
   "metadata": {},
   "outputs": [
    {
     "name": "stdout",
     "output_type": "stream",
     "text": [
      "Warning: low flux detected, check the image Reduced_DRRP_Cal_1750nm_490_2_7.999995117187499.fits, index: 2\n",
      "Warning: low flux detected, check the image Reduced_DRRP_Cal_1750nm_490_2_15.999990234374998.fits, index: 4\n",
      "Warning: low flux detected, check the image Reduced_DRRP_Cal_1750nm_490_2_79.999951171875.fits, index: 20\n",
      "Warning: low flux detected, check the image Reduced_DRRP_Cal_1750nm_490_2_103.9999365234375.fits, index: 26\n",
      "Warning: low flux detected, check the image Reduced_DRRP_Cal_1750nm_490_2_131.99991943359373.fits, index: 33\n"
     ]
    }
   ],
   "source": [
    "reduced_filename = 'Reduced_DRRP_'\n",
    "reduced_folder = \"/home/shared/exoserver/Lab_Data/Mueller_Matrix_Polarimeter/L_Plate_Characterization/SuperK_Select_Data/Calibrations/Calibration_Reduced/SK_Cal_1750_Reduced/\"\n",
    "lcenter = [315, 253]\n",
    "rcenter = [316, 329]\n",
    "maxradius = 17\n",
    "cutoff = 90000\n",
    "\n",
    "extracted_data = extract_intensities(reduced_filename, reduced_folder, lcenter, rcenter, maxradius, cutoff)\n",
    "Cal_Il_1750 = extracted_data[0]\n",
    "Cal_Ir_1750 = extracted_data[1]\n",
    "Cal_theta1750 = extracted_data[2]"
   ]
  },
  {
   "cell_type": "code",
   "execution_count": 9,
   "metadata": {},
   "outputs": [
    {
     "name": "stdout",
     "output_type": "stream",
     "text": [
      "Warning: low flux detected, check the image Reduced_DRRP_Cal_1850nm_490_2_27.99998291015625.fits, index: 7\n",
      "Warning: low flux detected, check the image Reduced_DRRP_Cal_1850nm_490_2_95.99994140624999.fits, index: 24\n",
      "Warning: low flux detected, check the image Reduced_DRRP_Cal_1850nm_490_2_107.99993408203125.fits, index: 27\n"
     ]
    }
   ],
   "source": [
    "reduced_filename = 'Reduced_DRRP_'\n",
    "reduced_folder = \"/home/shared/exoserver/Lab_Data/Mueller_Matrix_Polarimeter/L_Plate_Characterization/SuperK_Select_Data/Calibrations/Calibration_Reduced/SK_Cal_1850_Reduced/\"\n",
    "lcenter = [315, 253]\n",
    "rcenter = [316, 329]\n",
    "maxradius = 17\n",
    "cutoff = 20000\n",
    "\n",
    "extracted_data = extract_intensities(reduced_filename, reduced_folder, lcenter, rcenter, maxradius, cutoff)\n",
    "Cal_Il_1850 = extracted_data[0]\n",
    "Cal_Ir_1850 = extracted_data[1]\n",
    "Cal_theta1850 = extracted_data[2]"
   ]
  },
  {
   "cell_type": "code",
   "execution_count": 10,
   "metadata": {},
   "outputs": [
    {
     "name": "stdout",
     "output_type": "stream",
     "text": [
      "Warning: low flux detected, check the image Reduced_DRRP_Cal_1950nm_490_2_59.999963378906244.fits, index: 15\n",
      "Warning: low flux detected, check the image Reduced_DRRP_Cal_1950nm_490_2_71.9999560546875.fits, index: 18\n",
      "Warning: low flux detected, check the image Reduced_DRRP_Cal_1950nm_490_2_75.99995361328125.fits, index: 19\n",
      "Warning: low flux detected, check the image Reduced_DRRP_Cal_1950nm_490_2_171.99989501953124.fits, index: 43\n"
     ]
    }
   ],
   "source": [
    "reduced_filename = 'Reduced_DRRP_'\n",
    "reduced_folder = \"/home/shared/exoserver/Lab_Data/Mueller_Matrix_Polarimeter/L_Plate_Characterization/SuperK_Select_Data/Calibrations/Calibration_Reduced/SK_Cal_1950_Reduced/\"\n",
    "lcenter = [315, 253]\n",
    "rcenter = [316, 329]\n",
    "maxradius = 17\n",
    "cutoff = 40000\n",
    "\n",
    "extracted_data = extract_intensities(reduced_filename, reduced_folder, lcenter, rcenter, maxradius, cutoff)\n",
    "Cal_Il_1950 = extracted_data[0]\n",
    "Cal_Ir_1950 = extracted_data[1]\n",
    "Cal_theta1950 = extracted_data[2]"
   ]
  },
  {
   "cell_type": "markdown",
   "metadata": {},
   "source": [
    "Bring in calibration data from the old broadband light source"
   ]
  },
  {
   "cell_type": "code",
   "execution_count": 11,
   "metadata": {},
   "outputs": [],
   "source": [
    "# reduced_filename = 'Reduced_DRRP_'\n",
    "# reduced_folder = \"/home/shared/exoserver/Lab_Data/Mueller_Matrix_Polarimeter/L_Plate_Characterization/Calibration/Calibration_Reduced/Cal_1400_Reduced/\"\n",
    "# lcenter = [258, 255]\n",
    "# rcenter = [258, 332]\n",
    "# maxradius = 10\n",
    "# cutoff = 5000\n",
    "\n",
    "# extracted_data = extract_intensities(reduced_filename, reduced_folder, lcenter, rcenter, maxradius, cutoff)\n",
    "# Cal_Il_1400 = extracted_data[0]\n",
    "# Cal_Ir_1400 = extracted_data[1]\n",
    "# Cal_theta1400 = extracted_data[2]"
   ]
  },
  {
   "cell_type": "code",
   "execution_count": 12,
   "metadata": {},
   "outputs": [],
   "source": [
    "# reduced_filename = 'Reduced_DRRP_'\n",
    "# reduced_folder = \"/home/shared/exoserver/Lab_Data/Mueller_Matrix_Polarimeter/L_Plate_Characterization/Calibration/Calibration_Reduced/Cal_1500_Reduced/\"\n",
    "# lcenter = [258, 255]\n",
    "# rcenter = [258, 332]\n",
    "# maxradius = 10\n",
    "# cutoff = 5000\n",
    "\n",
    "# extracted_data = extract_intensities(reduced_filename, reduced_folder, lcenter, rcenter, maxradius, cutoff)\n",
    "# Cal_Il_1500 = extracted_data[0]\n",
    "# Cal_Ir_1500 = extracted_data[1]\n",
    "# Cal_theta1500 = extracted_data[2]"
   ]
  },
  {
   "cell_type": "code",
   "execution_count": 13,
   "metadata": {},
   "outputs": [
    {
     "name": "stdout",
     "output_type": "stream",
     "text": [
      "Warning: low flux detected, check the image Reduced_DRRP_L_1550nm_600_0.1_23.999985351562497.fits, index: 6\n",
      "Warning: low flux detected, check the image Reduced_DRRP_L_1550nm_600_0.1_155.99990478515625.fits, index: 39\n",
      "Warning: low flux detected, check the image Reduced_DRRP_L_1550nm_600_0.1_171.99989501953124.fits, index: 43\n"
     ]
    }
   ],
   "source": [
    "reduced_filename = 'Reduced_DRRP_'\n",
    "reduced_folder = \"/home/shared/exoserver/Lab_Data/Mueller_Matrix_Polarimeter/L_Plate_Characterization/Calibration/Calibration_Reduced/Cal_1550_Reduced/\"\n",
    "lcenter = [258, 255]\n",
    "rcenter = [258, 332]\n",
    "maxradius = 10\n",
    "cutoff = 5000\n",
    "\n",
    "extracted_data = extract_intensities(reduced_filename, reduced_folder, lcenter, rcenter, maxradius, cutoff)\n",
    "Cal_Il_1550 = extracted_data[0]\n",
    "Cal_Ir_1550 = extracted_data[1]\n",
    "Cal_theta1550 = extracted_data[2]"
   ]
  },
  {
   "cell_type": "code",
   "execution_count": 14,
   "metadata": {},
   "outputs": [],
   "source": [
    "# reduced_filename = 'Reduced_DRRP_'\n",
    "# reduced_folder = \"/home/shared/exoserver/Lab_Data/Mueller_Matrix_Polarimeter/L_Plate_Characterization/Calibration/Calibration_Reduced/Cal_1600_Reduced/\"\n",
    "# lcenter = [258, 255]\n",
    "# rcenter = [258, 332]\n",
    "# maxradius = 10\n",
    "# cutoff = 5000\n",
    "\n",
    "# extracted_data = extract_intensities(reduced_filename, reduced_folder, lcenter, rcenter, maxradius, cutoff)\n",
    "# Cal_Il_1600 = extracted_data[0]\n",
    "# Cal_Ir_1600 = extracted_data[1]\n",
    "# Cal_theta1600 = extracted_data[2]"
   ]
  },
  {
   "cell_type": "code",
   "execution_count": 15,
   "metadata": {},
   "outputs": [
    {
     "name": "stdout",
     "output_type": "stream",
     "text": [
      "Warning: low flux detected, check the image Reduced_DRRP_L_1620nm_550_1.8_0.0.fits, index: 0\n",
      "Warning: low flux detected, check the image Reduced_DRRP_L_1620nm_550_1.8_11.999992675781249.fits, index: 3\n",
      "Warning: low flux detected, check the image Reduced_DRRP_L_1620nm_550_1.8_63.99996093749999.fits, index: 16\n",
      "Warning: low flux detected, check the image Reduced_DRRP_L_1620nm_550_1.8_95.99994140624999.fits, index: 24\n",
      "Warning: low flux detected, check the image Reduced_DRRP_L_1620nm_550_1.8_99.99993896484375.fits, index: 25\n",
      "Warning: low flux detected, check the image Reduced_DRRP_L_1620nm_550_1.8_103.9999365234375.fits, index: 26\n",
      "Warning: low flux detected, check the image Reduced_DRRP_L_1620nm_550_1.8_135.99991699218748.fits, index: 34\n"
     ]
    }
   ],
   "source": [
    "reduced_filename = 'Reduced_DRRP_'\n",
    "reduced_folder = \"/home/shared/exoserver/Lab_Data/Mueller_Matrix_Polarimeter/L_Plate_Characterization/Calibration/Calibration_Reduced/Cal_1620_Reduced/\"\n",
    "lcenter = [258, 255]\n",
    "rcenter = [258, 332]\n",
    "maxradius = 12\n",
    "cutoff = 5000\n",
    "\n",
    "extracted_data = extract_intensities(reduced_filename, reduced_folder, lcenter, rcenter, maxradius, cutoff)\n",
    "Cal_Il_1620 = extracted_data[0]\n",
    "Cal_Ir_1620 = extracted_data[1]\n",
    "Cal_theta1620 = extracted_data[2]"
   ]
  },
  {
   "cell_type": "code",
   "execution_count": 16,
   "metadata": {},
   "outputs": [
    {
     "name": "stdout",
     "output_type": "stream",
     "text": [
      "Warning: low flux detected, check the image Reduced_DRRP_L_1650nm_550_1.8_0.0.fits, index: 0\n",
      "Warning: low flux detected, check the image Reduced_DRRP_L_1650nm_550_1.8_83.99994873046874.fits, index: 21\n",
      "Warning: low flux detected, check the image Reduced_DRRP_L_1650nm_550_1.8_115.99992919921874.fits, index: 29\n",
      "Warning: low flux detected, check the image Reduced_DRRP_L_1650nm_550_1.8_119.99992675781249.fits, index: 30\n",
      "Warning: low flux detected, check the image Reduced_DRRP_L_1650nm_550_1.8_171.99989501953124.fits, index: 43\n"
     ]
    }
   ],
   "source": [
    "reduced_filename = 'Reduced_DRRP_'\n",
    "reduced_folder = \"/home/shared/exoserver/Lab_Data/Mueller_Matrix_Polarimeter/L_Plate_Characterization/Calibration/Calibration_Reduced/Cal_1650_Reduced/\"\n",
    "lcenter = [258, 255]\n",
    "rcenter = [258, 332]\n",
    "maxradius = 12\n",
    "cutoff = 5000\n",
    "\n",
    "extracted_data = extract_intensities(reduced_filename, reduced_folder, lcenter, rcenter, maxradius, cutoff)\n",
    "Cal_Il_1650 = extracted_data[0]\n",
    "Cal_Ir_1650 = extracted_data[1]\n",
    "Cal_theta1650 = extracted_data[2]"
   ]
  },
  {
   "cell_type": "code",
   "execution_count": 17,
   "metadata": {},
   "outputs": [],
   "source": [
    "# reduced_filename = 'Reduced_DRRP_'\n",
    "# reduced_folder = \"/home/shared/exoserver/Lab_Data/Mueller_Matrix_Polarimeter/L_Plate_Characterization/Calibration/Calibration_Reduced/Cal_1750_Reduced/\"\n",
    "# lcenter = [258, 255]\n",
    "# rcenter = [258, 332]\n",
    "# maxradius = 12\n",
    "# cutoff = 5000\n",
    "\n",
    "# extracted_data = extract_intensities(reduced_filename, reduced_folder, lcenter, rcenter, maxradius, cutoff)\n",
    "# Cal_Il_1750 = extracted_data[0]\n",
    "# Cal_Ir_1750 = extracted_data[1]\n",
    "# Cal_theta1750 = extracted_data[2]"
   ]
  },
  {
   "cell_type": "markdown",
   "metadata": {},
   "source": [
    "1100 nm SK data, 490 fps, 2 ms tint"
   ]
  },
  {
   "cell_type": "code",
   "execution_count": 18,
   "metadata": {},
   "outputs": [
    {
     "name": "stdout",
     "output_type": "stream",
     "text": [
      "Warning: low flux detected, check the image Reduced_DRRP_L_1100nm_490_2_19.99998779296875.fits, index: 5\n",
      "Warning: low flux detected, check the image Reduced_DRRP_L_1100nm_490_2_91.99994384765624.fits, index: 23\n"
     ]
    }
   ],
   "source": [
    "reduced_filename = 'Reduced_DRRP_'\n",
    "reduced_folder = \"/home/shared/exoserver/Lab_Data/Mueller_Matrix_Polarimeter/L_Plate_Characterization/SuperK_Select_Data/Reduced_Data/Reduced_L_1100/\"\n",
    "lcenter = [316, 248]\n",
    "rcenter = [316, 326]\n",
    "maxradius = 15\n",
    "cutoff = 90000\n",
    "\n",
    "extracted_data = extract_intensities(reduced_filename, reduced_folder, lcenter, rcenter, maxradius, cutoff)\n",
    "Il_1100 = extracted_data[0]\n",
    "Ir_1100 = extracted_data[1]\n",
    "theta1100 = extracted_data[2]"
   ]
  },
  {
   "cell_type": "code",
   "execution_count": 19,
   "metadata": {},
   "outputs": [
    {
     "name": "stdout",
     "output_type": "stream",
     "text": [
      "[-0.05908553 -0.05936308 -0.21453974 -0.02544268  0.01892765] Fit parameters for a1, w1, w2, r1, and r2. 1 for generator, 2 for analyzer\n",
      "[[ 0.81100901 -0.00602731 -0.01559973  0.00372638]\n",
      " [-0.14900218  0.92683075  0.02798794 -0.03466432]\n",
      " [ 0.01915577 -0.10518088  1.          0.15019244]\n",
      " [ 0.00004422  0.05147648 -0.10360334  0.78597589]] This is the Mueller matrix of the sample waveplate\n",
      "0.11245158399593246 This is the retardance of the sample\n",
      "[[ 0.7341205   0.03881729 -0.0449899  -0.03295398]\n",
      " [-0.07889098  0.84444335 -0.00823363 -0.06323334]\n",
      " [ 0.0321252  -0.08766381  1.         -0.00659411]\n",
      " [ 0.00059295 -0.03196342 -0.04087233  0.73874547]] This is the Mueller matrix for calibration (close to identity)\n",
      "0.10883002643756175 This is the RMS error in the calibration matrix\n",
      "0.16763282094776294 This is the retardance error in the sample waveplate\n"
     ]
    }
   ],
   "source": [
    "data1100 = q_ultimate_polarimetry(Cal_theta1100, Cal_Il_1100, Cal_Ir_1100, theta1100, Il_1100, Ir_1100)\n",
    "print(data1100[0], \"This is the Mueller matrix of the sample waveplate\")\n",
    "print(data1100[1], \"This is the retardance of the sample\")\n",
    "print(data1100[2], \"This is the Mueller matrix for calibration (close to identity)\")\n",
    "print(data1100[3], \"This is the RMS error in the calibration matrix\")\n",
    "print(data1100[4], \"This is the retardance error in the sample waveplate\")"
   ]
  },
  {
   "cell_type": "code",
   "execution_count": 20,
   "metadata": {},
   "outputs": [
    {
     "name": "stdout",
     "output_type": "stream",
     "text": [
      "[[ 0.89867088  0.05229602 -0.04770978 -0.04028024]\n",
      " [ 0.00314966  0.82568648 -0.26082041 -0.02055559]\n",
      " [-0.14464137  0.846614    1.         -0.11975092]\n",
      " [ 0.00477734 -0.03673744 -0.08704248  0.84899964]]\n",
      "0.23710661726815088\n"
     ]
    }
   ],
   "source": [
    "uncalibrated = q_calibrated_full_mueller_polarimetry(Cal_theta1100, 0, 0, 0, 0, 0, Cal_Il_1100, Cal_Ir_1100, M_in=None)\n",
    "uncalibrated = uncalibrated/np.max(np.abs(uncalibrated))\n",
    "print(uncalibrated)\n",
    "print(RMS_calculator(uncalibrated))"
   ]
  },
  {
   "cell_type": "code",
   "execution_count": 21,
   "metadata": {},
   "outputs": [
    {
     "name": "stdout",
     "output_type": "stream",
     "text": [
      "0.23710661726815088\n"
     ]
    }
   ],
   "source": [
    "print(RMS_calculator(uncalibrated))"
   ]
  },
  {
   "cell_type": "markdown",
   "metadata": {},
   "source": [
    "1200 nm SK data, 490 fps, 2 ms tint"
   ]
  },
  {
   "cell_type": "code",
   "execution_count": 22,
   "metadata": {},
   "outputs": [
    {
     "name": "stdout",
     "output_type": "stream",
     "text": [
      "Warning: low flux detected, check the image Reduced_DRRP_L_1200nm_490_2_11.999992675781249.fits, index: 3\n",
      "Warning: low flux detected, check the image Reduced_DRRP_L_1200nm_490_2_95.99994140624999.fits, index: 24\n"
     ]
    }
   ],
   "source": [
    "reduced_filename = 'Reduced_DRRP_'\n",
    "reduced_folder = \"/home/shared/exoserver/Lab_Data/Mueller_Matrix_Polarimeter/L_Plate_Characterization/SuperK_Select_Data/Reduced_Data/Reduced_L_1200/\"\n",
    "lcenter = [316, 248]\n",
    "rcenter = [316, 326]\n",
    "maxradius = 15\n",
    "cutoff = 90000\n",
    "\n",
    "extracted_data = extract_intensities(reduced_filename, reduced_folder, lcenter, rcenter, maxradius, cutoff)\n",
    "Il_1200 = extracted_data[0]\n",
    "Ir_1200 = extracted_data[1]\n",
    "theta1200 = extracted_data[2]"
   ]
  },
  {
   "cell_type": "code",
   "execution_count": 23,
   "metadata": {},
   "outputs": [
    {
     "name": "stdout",
     "output_type": "stream",
     "text": [
      "[-0.02669696 -0.18563512  0.02120903  0.05086853  0.0074898 ] Fit parameters for a1, w1, w2, r1, and r2. 1 for generator, 2 for analyzer\n",
      "[[ 1.         -0.00546885  0.04849341  0.0270083 ]\n",
      " [-0.06190177  0.95556607  0.22199392 -0.27600067]\n",
      " [-0.00690798  0.27723186  0.48960791  0.93598992]\n",
      " [-0.00184544  0.30868014 -0.91919506  0.37464254]] This is the Mueller matrix of the sample waveplate\n",
      "0.18247003521584784 This is the retardance of the sample\n",
      "[[ 0.88871679 -0.04285805 -0.02318301 -0.01379486]\n",
      " [-0.05475807  0.8853882   0.01619637 -0.00553171]\n",
      " [ 0.00072236  0.00333284  1.          0.00340412]\n",
      " [-0.00652811  0.00291063  0.01854559  0.86874165]] This is the Mueller matrix for calibration (close to identity)\n",
      "0.05535270368284331 This is the RMS error in the calibration matrix\n",
      "0.060738656494718005 This is the retardance error in the sample waveplate\n"
     ]
    }
   ],
   "source": [
    "data1200 = q_ultimate_polarimetry(Cal_theta1200, Cal_Il_1200, Cal_Ir_1200, theta1200, Il_1200, Ir_1200)\n",
    "print(data1200[0], \"This is the Mueller matrix of the sample waveplate\")\n",
    "print(data1200[1], \"This is the retardance of the sample\")\n",
    "print(data1200[2], \"This is the Mueller matrix for calibration (close to identity)\")\n",
    "print(data1200[3], \"This is the RMS error in the calibration matrix\")\n",
    "print(data1200[4], \"This is the retardance error in the sample waveplate\")"
   ]
  },
  {
   "cell_type": "code",
   "execution_count": 24,
   "metadata": {},
   "outputs": [
    {
     "name": "stdout",
     "output_type": "stream",
     "text": [
      "[[ 1.         -0.02136532 -0.05312491 -0.008352  ]\n",
      " [ 0.0127117   0.78349263  0.74752092  0.0155977 ]\n",
      " [ 0.38386259 -0.84411657  0.75384418 -0.03796   ]\n",
      " [ 0.01292084 -0.01352344 -0.03027734  0.92636915]]\n",
      "0.3100424680534317\n"
     ]
    }
   ],
   "source": [
    "uncalibrated = q_calibrated_full_mueller_polarimetry(Cal_theta1200, 0, 0, 0, 0, 0, Cal_Il_1200, Cal_Ir_1200, M_in=None)\n",
    "uncalibrated = uncalibrated/np.max(np.abs(uncalibrated))\n",
    "print(uncalibrated)\n",
    "print(RMS_calculator(uncalibrated))"
   ]
  },
  {
   "cell_type": "markdown",
   "metadata": {},
   "source": [
    "1300 nm SK data, 490 fps, 2 ms tint"
   ]
  },
  {
   "cell_type": "code",
   "execution_count": 25,
   "metadata": {},
   "outputs": [
    {
     "name": "stdout",
     "output_type": "stream",
     "text": [
      "Warning: low flux detected, check the image Reduced_DRRP_L_1300nm_490_2_39.9999755859375.fits, index: 10\n",
      "Warning: low flux detected, check the image Reduced_DRRP_L_1300nm_490_2_51.99996826171875.fits, index: 13\n",
      "Warning: low flux detected, check the image Reduced_DRRP_L_1300nm_490_2_91.99994384765624.fits, index: 23\n",
      "Warning: low flux detected, check the image Reduced_DRRP_L_1300nm_490_2_131.99991943359373.fits, index: 33\n"
     ]
    }
   ],
   "source": [
    "reduced_filename = 'Reduced_DRRP_'\n",
    "reduced_folder = \"/home/shared/exoserver/Lab_Data/Mueller_Matrix_Polarimeter/L_Plate_Characterization/SuperK_Select_Data/Reduced_Data/Reduced_L_1300/\"\n",
    "lcenter = [316, 248]\n",
    "rcenter = [316, 326]\n",
    "maxradius = 15\n",
    "cutoff = 90000\n",
    "\n",
    "extracted_data = extract_intensities(reduced_filename, reduced_folder, lcenter, rcenter, maxradius, cutoff)\n",
    "Il_1300 = extracted_data[0]\n",
    "Ir_1300 = extracted_data[1]\n",
    "theta1300 = extracted_data[2]"
   ]
  },
  {
   "cell_type": "code",
   "execution_count": 26,
   "metadata": {},
   "outputs": [
    {
     "name": "stdout",
     "output_type": "stream",
     "text": [
      "[-0.04300919 -0.00138119 -0.14152718 -0.02159642 -0.03156965] Fit parameters for a1, w1, w2, r1, and r2. 1 for generator, 2 for analyzer\n",
      "[[ 1.         -0.00120432 -0.01790461 -0.01111196]\n",
      " [-0.01536633  0.56766909  0.74832355 -0.45140817]\n",
      " [-0.06959914  0.79624711 -0.09690639  0.79011875]\n",
      " [-0.07864678  0.54974188 -0.75862445 -0.49330066]] This is the Mueller matrix of the sample waveplate\n",
      "0.3356131790855248 This is the retardance of the sample\n",
      "[[ 0.87032538 -0.02817906 -0.01502675 -0.01000646]\n",
      " [-0.11018158  0.91759304  0.03458816 -0.00447889]\n",
      " [ 0.05373048 -0.04572022  1.         -0.01432848]\n",
      " [ 0.00336048 -0.00689849 -0.0232939   0.85568693]] This is the Mueller matrix for calibration (close to identity)\n",
      "0.0635871190864427 This is the RMS error in the calibration matrix\n",
      "0.07404402754557039 This is the retardance error in the sample waveplate\n"
     ]
    }
   ],
   "source": [
    "data1300 = q_ultimate_polarimetry(Cal_theta1300, Cal_Il_1300, Cal_Ir_1300, theta1300, Il_1300, Ir_1300)\n",
    "print(data1300[0], \"This is the Mueller matrix of the sample waveplate\")\n",
    "print(data1300[1], \"This is the retardance of the sample\")\n",
    "print(data1300[2], \"This is the Mueller matrix for calibration (close to identity)\")\n",
    "print(data1300[3], \"This is the RMS error in the calibration matrix\")\n",
    "print(data1300[4], \"This is the retardance error in the sample waveplate\")"
   ]
  },
  {
   "cell_type": "markdown",
   "metadata": {},
   "source": [
    "1400 nm SK data, 490 fps, 2 ms tint"
   ]
  },
  {
   "cell_type": "code",
   "execution_count": 27,
   "metadata": {},
   "outputs": [
    {
     "name": "stdout",
     "output_type": "stream",
     "text": [
      "Warning: low flux detected, check the image Reduced_DRRP_L_1400nm_490_2_0.0.fits, index: 0\n",
      "Warning: low flux detected, check the image Reduced_DRRP_L_1400nm_490_2_31.999980468749996.fits, index: 8\n",
      "Warning: low flux detected, check the image Reduced_DRRP_L_1400nm_490_2_47.999970703124994.fits, index: 12\n",
      "Warning: low flux detected, check the image Reduced_DRRP_L_1400nm_490_2_111.999931640625.fits, index: 28\n",
      "Warning: low flux detected, check the image Reduced_DRRP_L_1400nm_490_2_159.99990234375.fits, index: 40\n"
     ]
    }
   ],
   "source": [
    "reduced_filename = 'Reduced_DRRP_'\n",
    "reduced_folder = \"/home/shared/exoserver/Lab_Data/Mueller_Matrix_Polarimeter/L_Plate_Characterization/SuperK_Select_Data/Reduced_Data/Reduced_L_1400/\"\n",
    "lcenter = [316, 248]\n",
    "rcenter = [316, 326]\n",
    "maxradius = 15\n",
    "cutoff = 290000\n",
    "\n",
    "extracted_data = extract_intensities(reduced_filename, reduced_folder, lcenter, rcenter, maxradius, cutoff)\n",
    "Il_1400 = extracted_data[0]\n",
    "Ir_1400 = extracted_data[1]\n",
    "theta1400 = extracted_data[2]"
   ]
  },
  {
   "cell_type": "code",
   "execution_count": 28,
   "metadata": {},
   "outputs": [
    {
     "name": "stdout",
     "output_type": "stream",
     "text": [
      "[-0.1056389  -0.26478333 -0.17704355  0.02432625 -0.01314497] Fit parameters for a1, w1, w2, r1, and r2. 1 for generator, 2 for analyzer\n",
      "[[ 1.         -0.01038186  0.01261315  0.00234233]\n",
      " [-0.01819335  0.97887287 -0.15528618  0.02909484]\n",
      " [-0.01319851 -0.10553962 -0.97959213  0.27711735]\n",
      " [-0.00072955 -0.01050786 -0.2590399  -0.94589683]] This is the Mueller matrix of the sample waveplate\n",
      "0.4632006475730089 This is the retardance of the sample\n",
      "[[ 0.96899654 -0.03978727 -0.00608122 -0.02778008]\n",
      " [-0.08140678  0.94856085  0.0493807  -0.0121758 ]\n",
      " [-0.00299695 -0.03429532  1.         -0.00765074]\n",
      " [-0.03315073  0.05484339 -0.01873042  0.92971624]] This is the Mueller matrix for calibration (close to identity)\n",
      "0.040197789951175546 This is the RMS error in the calibration matrix\n",
      "0.17541176332828828 This is the retardance error in the sample waveplate\n"
     ]
    }
   ],
   "source": [
    "data1400 = q_ultimate_polarimetry(Cal_theta1400, Cal_Il_1400, Cal_Ir_1400, theta1400, Il_1400, Ir_1400)\n",
    "print(data1400[0], \"This is the Mueller matrix of the sample waveplate\")\n",
    "print(data1400[1], \"This is the retardance of the sample\")\n",
    "print(data1400[2], \"This is the Mueller matrix for calibration (close to identity)\")\n",
    "print(data1400[3], \"This is the RMS error in the calibration matrix\")\n",
    "print(data1400[4], \"This is the retardance error in the sample waveplate\")"
   ]
  },
  {
   "cell_type": "code",
   "execution_count": 29,
   "metadata": {},
   "outputs": [
    {
     "name": "stdout",
     "output_type": "stream",
     "text": [
      "[[ 0.90787107 -0.01967382 -0.03144262 -0.02594075]\n",
      " [-0.03843987  0.7239786   0.47275011 -0.02639184]\n",
      " [ 0.11447954  0.02593507  1.         -0.1432737 ]\n",
      " [-0.00902061 -0.02154271 -0.03100246  0.80018996]]\n",
      "0.15574964046922302\n"
     ]
    }
   ],
   "source": [
    "uncalibrated = q_calibrated_full_mueller_polarimetry(Cal_theta1400, 0, 0, 0, 0, 0, Cal_Il_1400, Cal_Ir_1400, M_in=None)\n",
    "uncalibrated = uncalibrated/np.max(np.abs(uncalibrated))\n",
    "print(uncalibrated)\n",
    "print(RMS_calculator(uncalibrated))"
   ]
  },
  {
   "cell_type": "markdown",
   "metadata": {},
   "source": [
    "1500 nm SK data, 490 fps, 2 ms tint"
   ]
  },
  {
   "cell_type": "code",
   "execution_count": 30,
   "metadata": {},
   "outputs": [
    {
     "name": "stdout",
     "output_type": "stream",
     "text": [
      "Warning: low flux detected, check the image Reduced_DRRP_L_1500nm_490_2_7.999995117187499.fits, index: 2\n",
      "Warning: low flux detected, check the image Reduced_DRRP_L_1500nm_490_2_151.9999072265625.fits, index: 38\n",
      "Warning: low flux detected, check the image Reduced_DRRP_L_1500nm_490_2_163.99989990234374.fits, index: 41\n"
     ]
    }
   ],
   "source": [
    "reduced_filename = 'Reduced_DRRP_'\n",
    "reduced_folder = \"/home/shared/exoserver/Lab_Data/Mueller_Matrix_Polarimeter/L_Plate_Characterization/SuperK_Select_Data/Reduced_Data/Reduced_L_1500/\"\n",
    "lcenter = [316, 248]\n",
    "rcenter = [316, 326]\n",
    "maxradius = 17\n",
    "cutoff = 290000\n",
    "\n",
    "extracted_data = extract_intensities(reduced_filename, reduced_folder, lcenter, rcenter, maxradius, cutoff)\n",
    "Il_1500 = extracted_data[0]\n",
    "Ir_1500 = extracted_data[1]\n",
    "theta1500 = extracted_data[2]"
   ]
  },
  {
   "cell_type": "code",
   "execution_count": 31,
   "metadata": {},
   "outputs": [
    {
     "name": "stdout",
     "output_type": "stream",
     "text": [
      "[ 0.01945935 -0.08392845  0.06489509  0.07222271  0.04745658] Fit parameters for a1, w1, w2, r1, and r2. 1 for generator, 2 for analyzer\n",
      "[[ 1.          0.02148235  0.01096346 -0.02076232]\n",
      " [-0.03298808  0.38852529  0.88593098  0.22251794]\n",
      " [ 0.04436916  0.84044166 -0.2664656  -0.30783647]\n",
      " [ 0.00753589 -0.23113344  0.29778462 -0.91334418]] This is the Mueller matrix of the sample waveplate\n",
      "0.4266308176893483 This is the retardance of the sample\n",
      "[[ 1.         -0.03645235 -0.02780702 -0.04452043]\n",
      " [-0.05537841  0.93819178  0.00245368 -0.00144714]\n",
      " [-0.01194008 -0.0101328   0.90795332 -0.00056114]\n",
      " [-0.03885476  0.04239162  0.00034706  0.97470676]] This is the Mueller matrix for calibration (close to identity)\n",
      "0.038441486873489646 This is the RMS error in the calibration matrix\n",
      "0.08641703255678655 This is the retardance error in the sample waveplate\n"
     ]
    }
   ],
   "source": [
    "data1500 = q_ultimate_polarimetry(Cal_theta1500, Cal_Il_1500, Cal_Ir_1500, theta1500, Il_1500, Ir_1500)\n",
    "print(data1500[0], \"This is the Mueller matrix of the sample waveplate\")\n",
    "print(data1500[1], \"This is the retardance of the sample\")\n",
    "print(data1500[2], \"This is the Mueller matrix for calibration (close to identity)\")\n",
    "print(data1500[3], \"This is the RMS error in the calibration matrix\")\n",
    "print(data1500[4], \"This is the retardance error in the sample waveplate\")"
   ]
  },
  {
   "cell_type": "markdown",
   "metadata": {},
   "source": [
    "1550 nm SK data, 490 fps, 2 ms tint"
   ]
  },
  {
   "cell_type": "code",
   "execution_count": 32,
   "metadata": {},
   "outputs": [
    {
     "name": "stdout",
     "output_type": "stream",
     "text": [
      "Warning: low flux detected, check the image Reduced_DRRP_L_1550nm_490_2_23.999985351562497.fits, index: 6\n",
      "Warning: low flux detected, check the image Reduced_DRRP_L_1550nm_490_2_111.999931640625.fits, index: 28\n",
      "Warning: low flux detected, check the image Reduced_DRRP_L_1550nm_490_2_123.99992431640624.fits, index: 31\n",
      "Warning: low flux detected, check the image Reduced_DRRP_L_1550nm_490_2_155.99990478515625.fits, index: 39\n"
     ]
    }
   ],
   "source": [
    "reduced_filename = 'Reduced_DRRP_'\n",
    "reduced_folder = \"/home/shared/exoserver/Lab_Data/Mueller_Matrix_Polarimeter/L_Plate_Characterization/SuperK_Select_Data/Reduced_Data/Reduced_L_1550/\"\n",
    "lcenter = [266, 266]\n",
    "rcenter = [266, 342]\n",
    "maxradius = 17\n",
    "cutoff = 90000\n",
    "\n",
    "extracted_data = extract_intensities(reduced_filename, reduced_folder, lcenter, rcenter, maxradius, cutoff)\n",
    "Il_1550 = extracted_data[0]\n",
    "Ir_1550 = extracted_data[1]\n",
    "theta1550 = extracted_data[2]"
   ]
  },
  {
   "cell_type": "code",
   "execution_count": 33,
   "metadata": {},
   "outputs": [
    {
     "name": "stdout",
     "output_type": "stream",
     "text": [
      "[ 0.00100292 -0.03278435 -0.00783381 -0.10189227 -0.09701013] Fit parameters for a1, w1, w2, r1, and r2. 1 for generator, 2 for analyzer\n",
      "[[ 0.97635215 -0.02053157 -0.05625525 -0.02540627]\n",
      " [-0.21890953  0.34119565  0.90063811  0.406939  ]\n",
      " [-0.09661143  1.          0.07226618 -0.4938763 ]\n",
      " [ 0.03088617 -0.42670031  0.59999138 -0.71316301]] This is the Mueller matrix of the sample waveplate\n",
      "0.36604546283944056 This is the retardance of the sample\n",
      "[[ 0.92764119 -0.00441586  0.01990613  0.00593506]\n",
      " [-0.08971429  0.96128742 -0.00371296 -0.00812729]\n",
      " [ 0.03908392 -0.0539217   1.         -0.00815459]\n",
      " [-0.00239254  0.01875966 -0.01918307  0.89030943]] This is the Mueller matrix for calibration (close to identity)\n",
      "0.0451201132150235 This is the RMS error in the calibration matrix\n",
      "0.060502930893899486 This is the retardance error in the sample waveplate\n"
     ]
    }
   ],
   "source": [
    "data1550 = q_ultimate_polarimetry(Cal_theta1550, Cal_Il_1550, Cal_Ir_1550, theta1550, Il_1550, Ir_1550)\n",
    "print(data1550[0], \"This is the Mueller matrix of the sample waveplate\")\n",
    "print(data1550[1], \"This is the retardance of the sample\")\n",
    "print(data1550[2], \"This is the Mueller matrix for calibration (close to identity)\")\n",
    "print(data1550[3], \"This is the RMS error in the calibration matrix\")\n",
    "print(data1550[4], \"This is the retardance error in the sample waveplate\")"
   ]
  },
  {
   "cell_type": "markdown",
   "metadata": {},
   "source": [
    "1600 nm SK data, 550 fps, 1.8 ms tint"
   ]
  },
  {
   "cell_type": "code",
   "execution_count": 34,
   "metadata": {},
   "outputs": [
    {
     "name": "stdout",
     "output_type": "stream",
     "text": [
      "Warning: low flux detected, check the image Reduced_DRRP_L_1600nm_550_1.8_75.99995361328125.fits, index: 19\n",
      "Warning: low flux detected, check the image Reduced_DRRP_L_1600nm_550_1.8_87.99994628906249.fits, index: 22\n",
      "Warning: low flux detected, check the image Reduced_DRRP_L_1600nm_550_1.8_123.99992431640624.fits, index: 31\n",
      "Warning: low flux detected, check the image Reduced_DRRP_L_1600nm_550_1.8_151.9999072265625.fits, index: 38\n",
      "Warning: low flux detected, check the image Reduced_DRRP_L_1600nm_550_1.8_175.99989257812499.fits, index: 44\n"
     ]
    }
   ],
   "source": [
    "reduced_filename = 'Reduced_DRRP_'\n",
    "reduced_folder = \"/home/shared/exoserver/Lab_Data/Mueller_Matrix_Polarimeter/L_Plate_Characterization/SuperK_Select_Data/Reduced_Data/Reduced_L_1600/\"\n",
    "lcenter = [268, 268]\n",
    "rcenter = [268, 344]\n",
    "maxradius = 20\n",
    "cutoff = 50000\n",
    "\n",
    "extracted_data = extract_intensities(reduced_filename, reduced_folder, lcenter, rcenter, maxradius, cutoff)\n",
    "Il_1600 = extracted_data[0]\n",
    "Ir_1600 = extracted_data[1]\n",
    "theta1600 = extracted_data[2]"
   ]
  },
  {
   "cell_type": "code",
   "execution_count": 35,
   "metadata": {},
   "outputs": [
    {
     "name": "stdout",
     "output_type": "stream",
     "text": [
      "[-0.00974492  0.02032216 -0.08855809  0.0336184   0.05693244] Fit parameters for a1, w1, w2, r1, and r2. 1 for generator, 2 for analyzer\n",
      "[[ 1.         -0.05921861 -0.02860629 -0.03456353]\n",
      " [-0.07305214  0.37185857  0.67564756  0.48543644]\n",
      " [ 0.0352206   0.72488379  0.13096676 -0.54537032]\n",
      " [-0.00234209 -0.43334357  0.62085469 -0.51232291]] This is the Mueller matrix of the sample waveplate\n",
      "0.33436940669233894 This is the retardance of the sample\n",
      "[[ 0.99831171 -0.02048779 -0.01320039 -0.02763402]\n",
      " [-0.08335961  0.9810599  -0.01543631  0.00174932]\n",
      " [ 0.02457131 -0.00606707  1.          0.00029818]\n",
      " [-0.03174547  0.03620149  0.01654977  0.95933475]] This is the Mueller matrix for calibration (close to identity)\n",
      "0.029363995899055688 This is the RMS error in the calibration matrix\n",
      "0.034035262258542184 This is the retardance error in the sample waveplate\n"
     ]
    }
   ],
   "source": [
    "data1600 = q_ultimate_polarimetry(Cal_theta1600, Cal_Il_1600, Cal_Ir_1600, theta1600, Il_1600, Ir_1600)\n",
    "print(data1600[0], \"This is the Mueller matrix of the sample waveplate\")\n",
    "print(data1600[1], \"This is the retardance of the sample\")\n",
    "print(data1600[2], \"This is the Mueller matrix for calibration (close to identity)\")\n",
    "print(data1600[3], \"This is the RMS error in the calibration matrix\")\n",
    "print(data1600[4], \"This is the retardance error in the sample waveplate\")"
   ]
  },
  {
   "cell_type": "markdown",
   "metadata": {},
   "source": [
    "1620 nm SK data, 490 fps, 2 ms tint"
   ]
  },
  {
   "cell_type": "code",
   "execution_count": 36,
   "metadata": {},
   "outputs": [
    {
     "name": "stdout",
     "output_type": "stream",
     "text": [
      "Warning: low flux detected, check the image Reduced_DRRP_L_1620nm_490_2_0.0.fits, index: 0\n",
      "Warning: low flux detected, check the image Reduced_DRRP_L_1620nm_490_2_39.9999755859375.fits, index: 10\n",
      "Warning: low flux detected, check the image Reduced_DRRP_L_1620nm_490_2_91.99994384765624.fits, index: 23\n",
      "Warning: low flux detected, check the image Reduced_DRRP_L_1620nm_490_2_131.99991943359373.fits, index: 33\n",
      "Warning: low flux detected, check the image Reduced_DRRP_L_1620nm_490_2_155.99990478515625.fits, index: 39\n"
     ]
    }
   ],
   "source": [
    "reduced_filename = 'Reduced_DRRP_'\n",
    "reduced_folder = \"/home/shared/exoserver/Lab_Data/Mueller_Matrix_Polarimeter/L_Plate_Characterization/SuperK_Select_Data/Reduced_Data/Reduced_L_1620/\"\n",
    "lcenter = [268, 268]\n",
    "rcenter = [268, 344]\n",
    "maxradius = 17\n",
    "cutoff = 90000\n",
    "\n",
    "extracted_data = extract_intensities(reduced_filename, reduced_folder, lcenter, rcenter, maxradius, cutoff)\n",
    "Il_1620 = extracted_data[0]\n",
    "Ir_1620 = extracted_data[1]\n",
    "theta1620 = extracted_data[2]"
   ]
  },
  {
   "cell_type": "code",
   "execution_count": 37,
   "metadata": {},
   "outputs": [
    {
     "name": "stdout",
     "output_type": "stream",
     "text": [
      "[-0.02621028 -0.02349687 -0.1253957  -0.07154101 -0.12556395] Fit parameters for a1, w1, w2, r1, and r2. 1 for generator, 2 for analyzer\n",
      "[[ 1.         -0.07692301 -0.04206826 -0.04293383]\n",
      " [-0.22452712  0.60835961  0.5740047   0.39753001]\n",
      " [-0.03558418  0.77324558 -0.05107956 -0.80239392]\n",
      " [ 0.03152902 -0.42676863  0.83489109 -0.43483553]] This is the Mueller matrix of the sample waveplate\n",
      "0.32348639789593886 This is the retardance of the sample\n",
      "[[ 0.83966898  0.00451953  0.00233822  0.00087723]\n",
      " [-0.08377629  0.83739153 -0.04646898  0.00082792]\n",
      " [-0.02741565  0.06988904  1.          0.00426758]\n",
      " [-0.00128905  0.0222991   0.0119492   0.7832206 ]] This is the Mueller matrix for calibration (close to identity)\n",
      "0.08464707766633184 This is the RMS error in the calibration matrix\n",
      "0.0945477676323689 This is the retardance error in the sample waveplate\n"
     ]
    }
   ],
   "source": [
    "data1620 = q_ultimate_polarimetry(Cal_theta1620, Cal_Il_1620, Cal_Ir_1620, theta1620, Il_1620, Ir_1620)\n",
    "print(data1620[0], \"This is the Mueller matrix of the sample waveplate\")\n",
    "print(data1620[1], \"This is the retardance of the sample\")\n",
    "print(data1620[2], \"This is the Mueller matrix for calibration (close to identity)\")\n",
    "print(data1620[3], \"This is the RMS error in the calibration matrix\")\n",
    "print(data1620[4], \"This is the retardance error in the sample waveplate\")"
   ]
  },
  {
   "cell_type": "markdown",
   "metadata": {},
   "source": [
    "1650 nm SK data, 490 fps, 2 ms tint"
   ]
  },
  {
   "cell_type": "code",
   "execution_count": 38,
   "metadata": {},
   "outputs": [
    {
     "name": "stdout",
     "output_type": "stream",
     "text": [
      "Warning: low flux detected, check the image Reduced_DRRP_L_1650nm_490_2_39.9999755859375.fits, index: 10\n"
     ]
    }
   ],
   "source": [
    "reduced_filename = 'Reduced_DRRP_'\n",
    "reduced_folder = \"/home/shared/exoserver/Lab_Data/Mueller_Matrix_Polarimeter/L_Plate_Characterization/SuperK_Select_Data/Reduced_Data/Reduced_L_1650/\"\n",
    "lcenter = [266, 266]\n",
    "rcenter = [266, 342]\n",
    "maxradius = 15\n",
    "cutoff = 90000\n",
    "\n",
    "extracted_data = extract_intensities(reduced_filename, reduced_folder, lcenter, rcenter, maxradius, cutoff)\n",
    "Il_1650 = extracted_data[0]\n",
    "Ir_1650 = extracted_data[1]\n",
    "theta1650 = extracted_data[2]"
   ]
  },
  {
   "cell_type": "code",
   "execution_count": 39,
   "metadata": {},
   "outputs": [
    {
     "name": "stdout",
     "output_type": "stream",
     "text": [
      "[-0.01027744 -0.01166528 -0.1514654  -0.04565247 -0.06515382] Fit parameters for a1, w1, w2, r1, and r2. 1 for generator, 2 for analyzer\n",
      "[[ 1.         -0.04014522 -0.04208252 -0.03861489]\n",
      " [-0.2054723   0.77754709  0.50889711  0.32306078]\n",
      " [-0.04291736  0.68546307  0.01893629 -0.85700534]\n",
      " [ 0.04572128 -0.44587937  0.87754488 -0.29026765]] This is the Mueller matrix of the sample waveplate\n",
      "0.2901750772225908 This is the retardance of the sample\n",
      "[[ 0.87086002  0.00488993 -0.00214594  0.00164431]\n",
      " [-0.06499697  0.86964368  0.0246452   0.00072408]\n",
      " [-0.00398528  0.00947448  1.         -0.00560414]\n",
      " [ 0.00129188 -0.00275472  0.00030634  0.82897253]] This is the Mueller matrix for calibration (close to identity)\n",
      "0.06515867231724394 This is the RMS error in the calibration matrix\n",
      "0.06729119726851085 This is the retardance error in the sample waveplate\n"
     ]
    }
   ],
   "source": [
    "data1650 = q_ultimate_polarimetry(Cal_theta1650, Cal_Il_1650, Cal_Ir_1650, theta1650, Il_1650, Ir_1650)\n",
    "print(data1650[0], \"This is the Mueller matrix of the sample waveplate\")\n",
    "print(data1650[1], \"This is the retardance of the sample\")\n",
    "print(data1650[2], \"This is the Mueller matrix for calibration (close to identity)\")\n",
    "print(data1650[3], \"This is the RMS error in the calibration matrix\")\n",
    "print(data1650[4], \"This is the retardance error in the sample waveplate\")"
   ]
  },
  {
   "cell_type": "markdown",
   "metadata": {},
   "source": [
    "1750 nm SK data, 490 fps, 2 ms tint"
   ]
  },
  {
   "cell_type": "code",
   "execution_count": 40,
   "metadata": {},
   "outputs": [
    {
     "name": "stdout",
     "output_type": "stream",
     "text": [
      "Warning: low flux detected, check the image Reduced_DRRP_L_1750nm_490_2_111.999931640625.fits, index: 28\n"
     ]
    }
   ],
   "source": [
    "reduced_filename = 'Reduced_DRRP_'\n",
    "reduced_folder = \"/home/shared/exoserver/Lab_Data/Mueller_Matrix_Polarimeter/L_Plate_Characterization/SuperK_Select_Data/Reduced_Data/Reduced_L_1750/\"\n",
    "lcenter = [316, 250]\n",
    "rcenter = [316, 326]\n",
    "maxradius = 16\n",
    "cutoff = 290000\n",
    "\n",
    "extracted_data = extract_intensities(reduced_filename, reduced_folder, lcenter, rcenter, maxradius, cutoff)\n",
    "Il_1750 = extracted_data[0]\n",
    "Ir_1750 = extracted_data[1]\n",
    "theta1750 = extracted_data[2]"
   ]
  },
  {
   "cell_type": "code",
   "execution_count": 41,
   "metadata": {},
   "outputs": [
    {
     "name": "stdout",
     "output_type": "stream",
     "text": [
      "[-0.10725247 -0.24723204 -0.21644167  0.01628507 -0.00484514] Fit parameters for a1, w1, w2, r1, and r2. 1 for generator, 2 for analyzer\n",
      "[[ 0.98809004  0.01543983 -0.04936253  0.00955587]\n",
      " [-0.02067649  1.         -0.04349555 -0.11255134]\n",
      " [-0.01391989 -0.08363943  0.18443136 -0.93933429]\n",
      " [-0.00161556  0.01102164  0.9498342   0.16424015]] This is the Mueller matrix of the sample waveplate\n",
      "0.22326832118040285 This is the retardance of the sample\n",
      "[[ 1.         -0.06871478 -0.05495303 -0.03591433]\n",
      " [-0.09161698  0.93017279  0.06697369 -0.00580882]\n",
      " [-0.0254785  -0.02190771  0.95025171 -0.00877796]\n",
      " [-0.03579923  0.01981261 -0.0195928   0.95624283]] This is the Mueller matrix for calibration (close to identity)\n",
      "0.046417846608651565 This is the RMS error in the calibration matrix\n",
      "0.047080369451365324 This is the retardance error in the sample waveplate\n"
     ]
    }
   ],
   "source": [
    "data1750 = q_ultimate_polarimetry(Cal_theta1750, Cal_Il_1750, Cal_Ir_1750, theta1750, Il_1750, Ir_1750)\n",
    "print(data1750[0], \"This is the Mueller matrix of the sample waveplate\")\n",
    "print(data1750[1], \"This is the retardance of the sample\")\n",
    "print(data1750[2], \"This is the Mueller matrix for calibration (close to identity)\")\n",
    "print(data1750[3], \"This is the RMS error in the calibration matrix\")\n",
    "print(data1750[4], \"This is the retardance error in the sample waveplate\")"
   ]
  },
  {
   "cell_type": "code",
   "execution_count": 42,
   "metadata": {},
   "outputs": [
    {
     "name": "stdout",
     "output_type": "stream",
     "text": [
      "[[ 0.99832915 -0.01121512 -0.09147972 -0.04260057]\n",
      " [-0.04413663  0.73931208  0.43282716  0.00562301]\n",
      " [ 0.11707543  0.19884792  1.          0.04210994]\n",
      " [-0.0827423   0.07475683  0.0318913   0.87623415]]\n",
      "0.14819316472834299\n"
     ]
    }
   ],
   "source": [
    "uncalibrated = q_calibrated_full_mueller_polarimetry(Cal_theta1750, 0, 0, 0, 0, 0, Cal_Il_1750, Cal_Ir_1750, M_in=None)\n",
    "uncalibrated = uncalibrated/np.max(np.abs(uncalibrated))\n",
    "print(uncalibrated)\n",
    "print(RMS_calculator(uncalibrated))"
   ]
  },
  {
   "cell_type": "markdown",
   "metadata": {},
   "source": [
    "1850 nm SK data, 490 fps, 2 ms tint"
   ]
  },
  {
   "cell_type": "code",
   "execution_count": 43,
   "metadata": {},
   "outputs": [
    {
     "name": "stdout",
     "output_type": "stream",
     "text": [
      "Warning: low flux detected, check the image Reduced_DRRP_L_1850nm_490_2_15.999990234374998.fits, index: 4\n",
      "Warning: low flux detected, check the image Reduced_DRRP_L_1850nm_490_2_71.9999560546875.fits, index: 18\n",
      "Warning: low flux detected, check the image Reduced_DRRP_L_1850nm_490_2_75.99995361328125.fits, index: 19\n",
      "Warning: low flux detected, check the image Reduced_DRRP_L_1850nm_490_2_151.9999072265625.fits, index: 38\n",
      "Warning: low flux detected, check the image Reduced_DRRP_L_1850nm_490_2_167.9998974609375.fits, index: 42\n",
      "Warning: low flux detected, check the image Reduced_DRRP_L_1850nm_490_2_179.99989013671873.fits, index: 45\n"
     ]
    }
   ],
   "source": [
    "reduced_filename = 'Reduced_DRRP_'\n",
    "reduced_folder = \"/home/shared/exoserver/Lab_Data/Mueller_Matrix_Polarimeter/L_Plate_Characterization/SuperK_Select_Data/Reduced_Data/Reduced_L_1850/\"\n",
    "lcenter = [316, 248]\n",
    "rcenter = [316, 326]\n",
    "maxradius = 16\n",
    "cutoff = 90000\n",
    "\n",
    "extracted_data = extract_intensities(reduced_filename, reduced_folder, lcenter, rcenter, maxradius, cutoff)\n",
    "Il_1850 = extracted_data[0]\n",
    "Ir_1850 = extracted_data[1]\n",
    "theta1850 = extracted_data[2]"
   ]
  },
  {
   "cell_type": "code",
   "execution_count": 44,
   "metadata": {},
   "outputs": [
    {
     "name": "stdout",
     "output_type": "stream",
     "text": [
      "[-0.04882909 -0.21686622 -0.02167369  0.03999274  0.06054747] Fit parameters for a1, w1, w2, r1, and r2. 1 for generator, 2 for analyzer\n",
      "[[ 1.         -0.04094127 -0.00832686 -0.00788459]\n",
      " [ 0.00542166  0.91473984  0.14374617  0.13879518]\n",
      " [ 0.00997361  0.03959874  0.52048359 -0.73323441]\n",
      " [-0.01788681 -0.17427005  0.78326392  0.58615645]] This is the Mueller matrix of the sample waveplate\n",
      "0.16443333733995766 This is the retardance of the sample\n",
      "[[ 1.         -0.02078978  0.00515637 -0.00794456]\n",
      " [-0.0904304   0.9774558   0.06919538  0.00772495]\n",
      " [-0.01480483 -0.01558749  0.91131297 -0.01900483]\n",
      " [-0.00905067  0.01717914 -0.00490583  0.98192074]] This is the Mueller matrix for calibration (close to identity)\n",
      "0.03830158476649713 This is the RMS error in the calibration matrix\n",
      "0.04459251064603963 This is the retardance error in the sample waveplate\n"
     ]
    }
   ],
   "source": [
    "data1850 = q_ultimate_polarimetry(Cal_theta1850, Cal_Il_1850, Cal_Ir_1850, theta1850, Il_1850, Ir_1850)\n",
    "print(data1850[0], \"This is the Mueller matrix of the sample waveplate\")\n",
    "print(data1850[1], \"This is the retardance of the sample\")\n",
    "print(data1850[2], \"This is the Mueller matrix for calibration (close to identity)\")\n",
    "print(data1850[3], \"This is the RMS error in the calibration matrix\")\n",
    "print(data1850[4], \"This is the retardance error in the sample waveplate\")"
   ]
  },
  {
   "cell_type": "code",
   "execution_count": 45,
   "metadata": {},
   "outputs": [
    {
     "name": "stdout",
     "output_type": "stream",
     "text": [
      "[[ 1.         -0.0184592  -0.01105158 -0.01183386]\n",
      " [ 0.02477634  0.67251815  0.71418205  0.01014307]\n",
      " [ 0.29939737 -0.71516999  0.71383107 -0.02527524]\n",
      " [ 0.018467   -0.03850861  0.03020308  0.94755113]]\n",
      "0.28589174900059855\n"
     ]
    }
   ],
   "source": [
    "uncalibrated = q_calibrated_full_mueller_polarimetry(Cal_theta1850, 0, 0, 0, 0, 0, Cal_Il_1850, Cal_Ir_1850, M_in=None)\n",
    "uncalibrated = uncalibrated/np.max(np.abs(uncalibrated))\n",
    "print(uncalibrated)\n",
    "print(RMS_calculator(uncalibrated))"
   ]
  },
  {
   "cell_type": "markdown",
   "metadata": {},
   "source": [
    "1950 nm SK data, 490 fps, 2 ms tint"
   ]
  },
  {
   "cell_type": "code",
   "execution_count": 46,
   "metadata": {},
   "outputs": [
    {
     "name": "stdout",
     "output_type": "stream",
     "text": [
      "Warning: low flux detected, check the image Reduced_DRRP_L_1950nm_490_2_31.999980468749996.fits, index: 8\n",
      "Warning: low flux detected, check the image Reduced_DRRP_L_1950nm_490_2_95.99994140624999.fits, index: 24\n",
      "Warning: low flux detected, check the image Reduced_DRRP_L_1950nm_490_2_107.99993408203125.fits, index: 27\n",
      "Warning: low flux detected, check the image Reduced_DRRP_L_1950nm_490_2_131.99991943359373.fits, index: 33\n"
     ]
    }
   ],
   "source": [
    "reduced_filename = 'Reduced_DRRP_'\n",
    "reduced_folder = \"/home/shared/exoserver/Lab_Data/Mueller_Matrix_Polarimeter/L_Plate_Characterization/SuperK_Select_Data/Reduced_Data/Reduced_L_1950/\"\n",
    "lcenter = [316, 248]\n",
    "rcenter = [316, 326]\n",
    "maxradius = 16\n",
    "cutoff = 90000\n",
    "\n",
    "extracted_data = extract_intensities(reduced_filename, reduced_folder, lcenter, rcenter, maxradius, cutoff)\n",
    "Il_1950 = extracted_data[0]\n",
    "Ir_1950 = extracted_data[1]\n",
    "theta1950 = extracted_data[2]"
   ]
  },
  {
   "cell_type": "code",
   "execution_count": 47,
   "metadata": {},
   "outputs": [
    {
     "name": "stdout",
     "output_type": "stream",
     "text": [
      "[ 0.00133742 -0.04912211  0.06148891  0.00773512 -0.01860775] Fit parameters for a1, w1, w2, r1, and r2. 1 for generator, 2 for analyzer\n",
      "[[ 1.          0.00186494  0.01429114 -0.02072428]\n",
      " [-0.0233914   0.93462874  0.13568576  0.32739797]\n",
      " [ 0.0470344  -0.0044463   0.86826446 -0.42470768]\n",
      " [ 0.00533825 -0.33586896  0.39827511  0.84779401]] This is the Mueller matrix of the sample waveplate\n",
      "0.09540540113566601 This is the retardance of the sample\n",
      "[[ 0.90905147 -0.01596633 -0.12012513 -0.05624371]\n",
      " [-0.05798519  0.9034696  -0.02234876 -0.02535795]\n",
      " [ 0.03796228 -0.10368619  1.         -0.01504024]\n",
      " [-0.05410129  0.05391822  0.07881699  0.88682032]] This is the Mueller matrix for calibration (close to identity)\n",
      "0.069469824652198 This is the RMS error in the calibration matrix\n",
      "0.12313233827176819 This is the retardance error in the sample waveplate\n"
     ]
    }
   ],
   "source": [
    "data1950 = q_ultimate_polarimetry(Cal_theta1950, Cal_Il_1950, Cal_Ir_1950, theta1950, Il_1950, Ir_1950)\n",
    "print(data1950[0], \"This is the Mueller matrix of the sample waveplate\")\n",
    "print(data1950[1], \"This is the retardance of the sample\")\n",
    "print(data1950[2], \"This is the Mueller matrix for calibration (close to identity)\")\n",
    "print(data1950[3], \"This is the RMS error in the calibration matrix\")\n",
    "print(data1950[4], \"This is the retardance error in the sample waveplate\")"
   ]
  },
  {
   "cell_type": "code",
   "execution_count": 48,
   "metadata": {},
   "outputs": [
    {
     "name": "stdout",
     "output_type": "stream",
     "text": [
      "0.069469824652198\n"
     ]
    }
   ],
   "source": [
    "print(np.sqrt(np.mean(np.square(data1950[2]-np.identity(4)))))"
   ]
  },
  {
   "cell_type": "code",
   "execution_count": 49,
   "metadata": {},
   "outputs": [
    {
     "name": "stdout",
     "output_type": "stream",
     "text": [
      "[[ 1.          0.00946586 -0.13785797 -0.05633032]\n",
      " [-0.05371579  0.98874959  0.22643171 -0.01796157]\n",
      " [ 0.13837433 -0.54034842  0.97801944 -0.03867811]\n",
      " [-0.06639719  0.05492189  0.13424506  0.96011563]]\n",
      "0.16144154074457423\n"
     ]
    }
   ],
   "source": [
    "uncalibrated = q_calibrated_full_mueller_polarimetry(Cal_theta1950, 0, 0, 0, 0, 0, Cal_Il_1950, Cal_Ir_1950, M_in=None)\n",
    "uncalibrated = uncalibrated/np.max(np.abs(uncalibrated))\n",
    "print(uncalibrated)\n",
    "print(RMS_calculator(uncalibrated))"
   ]
  },
  {
   "cell_type": "code",
   "execution_count": 50,
   "metadata": {},
   "outputs": [
    {
     "name": "stdout",
     "output_type": "stream",
     "text": [
      "0.16144154074457423\n"
     ]
    }
   ],
   "source": [
    "print(np.sqrt(np.mean(np.square(uncalibrated-np.identity(4)))))"
   ]
  },
  {
   "cell_type": "code",
   "execution_count": 51,
   "metadata": {},
   "outputs": [
    {
     "name": "stdout",
     "output_type": "stream",
     "text": [
      "[0.0, 0.009465857236823848, -0.13785796790003832, -0.05633031839284265, -0.05371578822857675, -0.011250406842353233, 0.2264317118652839, -0.01796157329220181, 0.1383743268562796, -0.5403484237406341, -0.02198056358818823, -0.03867810836818215, -0.06639719471662532, 0.05492189038267912, 0.1342450600758974, -0.039884365601950966]\n",
      "[0.0, 8.960245322793042e-05, 0.019004819313527994, 0.003173104770239027, 0.0028853859050173044, 0.00012657165411846845, 0.051271320138242954, 0.00032261811513113736, 0.019147454332928502, 0.29197641903898786, 0.0004831451756543862, 0.0014959960669408418, 0.004408587466237458, 0.003016414043207021, 0.018021736154781302, 0.0015907626194700895]\n",
      "0.16144154074457423\n"
     ]
    }
   ],
   "source": [
    "differences = []\n",
    "for i in range(0, 4):\n",
    "    for j in range(0, 4):\n",
    "        differences.append(uncalibrated[i, j]-M_identity[i, j])\n",
    "print(differences)\n",
    "\n",
    "differences_squared = [x**2 for x in differences]\n",
    "print(differences_squared)\n",
    "RMS = np.sqrt(sum(differences_squared)/16)\n",
    "print(RMS)"
   ]
  },
  {
   "cell_type": "markdown",
   "metadata": {},
   "source": [
    "Try plotting the data"
   ]
  },
  {
   "cell_type": "code",
   "execution_count": 52,
   "metadata": {},
   "outputs": [],
   "source": [
    "old_q_measured_retardance = [0.427, 0.423, 0.120, 0.336, 0.164, 0.198, 0.220, 0.139, 0.127]"
   ]
  },
  {
   "cell_type": "code",
   "execution_count": 53,
   "metadata": {},
   "outputs": [],
   "source": [
    "# From regular I measurements\n",
    "old_wavelength_bins = np.array([1400, 1500, 1550, 1600, 1620, 1650, 1750, 1900, 2000])\n",
    "old_retardance = np.array([0.456, 0.432, 0.122, 0.338, 0.162, 0.198, 0.221, 0.127, 0.131])"
   ]
  },
  {
   "cell_type": "code",
   "execution_count": 54,
   "metadata": {},
   "outputs": [],
   "source": [
    "new_wavelength_bins = [1400, 1500, 1550, 1600, 1620, 1650, 1750, 1850, 1950]\n",
    "new_retardance = [0.447, 0.433, 0.376, 0.336, 0.322, 0.297, 0.224, 0.150, 0.089]"
   ]
  },
  {
   "cell_type": "code",
   "execution_count": 55,
   "metadata": {},
   "outputs": [
    {
     "data": {
      "image/png": "[encoded data removed]",
      "text/plain": [
       "<Figure size 640x480 with 1 Axes>"
      ]
     },
     "metadata": {},
     "output_type": "display_data"
    }
   ],
   "source": [
    "plt.ylim(0, 0.5)\n",
    "plt.xlim(1300, 2050)\n",
    "plt.xlabel(\"Wavelength (nm)\", fontsize=12, fontweight='bold')\n",
    "plt.ylabel(\"Retardance (waves)\", fontsize=12, fontweight='bold')\n",
    "\n",
    "plt.plot(old_wavelength_bins, old_retardance, marker='o', linestyle=' ', color = 'purple', label = 'L HWP: Thorlabs Lamp, Initial')\n",
    "plt.plot(old_wavelength_bins, old_q_measured_retardance, marker='o', linestyle=' ', color = 'green', label = 'L HWP: Thorlabs Lamp, Q measured')\n",
    "plt.plot(new_wavelength_bins, new_retardance, marker='x', linestyle=' ', color = 'orange', label = 'L HWP: SuperK Laser, Q measured')\n",
    "plt.legend()\n",
    "\n",
    "caption = \"Characterization for the L-band half-wave plate (centered). 1cm beam diameter.\"\n",
    "\n",
    "text_width = 70  # Speify desired text width box in characters\n",
    "wrapped_text = textwrap.fill(caption, width=text_width)\n",
    "plt.text(1650, -0.09, wrapped_text, ha='center', va='center')\n",
    "\n",
    "folder_path = \"/home/shared/exoserver/Lab_Data/Mueller_Matrix_Polarimeter/L_Plate_Characterization/SuperK_Select_Data/\"\n",
    "file_name = 'L_HWP_Retardance_Comparison.png'\n",
    "#plt.savefig(folder_path + file_name, bbox_inches='tight', dpi=300)"
   ]
  },
  {
   "cell_type": "code",
   "execution_count": 123,
   "metadata": {},
   "outputs": [],
   "source": [
    "# wavelength_bins = [1100, 1200, 1300, 1400, 1500, 1550, 1600, 1620, 1650, 1750, 1850, 1950]\n",
    "# retardance = np.array([1+data1100[1], 1-data1200[1], 1-data1300[1], 1-data1400[1], data1500[1], data1550[1], data1600[1], data1620[1], data1650[1], data1750[1], data1850[1], data1950[1]])+1\n",
    "\n",
    "wavelength_bins = [1.1, 1.2, 1.3, 1.4, 1.5, 1.6, 1.75, 1.85, 1.95]\n",
    "retardance = np.array([1+data1100[1], 1-data1200[1], 1-data1300[1], 1-data1400[1], data1500[1], data1600[1], data1750[1], data1850[1], data1950[1]])+1"
   ]
  },
  {
   "cell_type": "code",
   "execution_count": 118,
   "metadata": {},
   "outputs": [
    {
     "name": "stdout",
     "output_type": "stream",
     "text": [
      "[0.16763282094776294, 0.060738656494718005, 0.07404402754557039, 0.17541176332828828, 0.08641703255678655, 0.034035262258542184, 0.047080369451365324, 0.04459251064603963, 0.12313233827176819]\n"
     ]
    }
   ],
   "source": [
    "y_err1 = [data1100[4], data1200[4], data1300[4], data1400[4], data1500[4], data1600[4], data1750[4], data1850[4], data1950[4]]\n",
    "print(y_err1)"
   ]
  },
  {
   "cell_type": "code",
   "execution_count": 101,
   "metadata": {},
   "outputs": [],
   "source": [
    "# Import the theoretical values\n",
    "#d = 185.63 #um Estimate by William Chang\n",
    "\n",
    "#Ordinary and Extraordinary indices of refraction takeing from refractiveindex.info\n",
    "n_e = np.loadtxt(\"/home/shared/exoserver/Lab_Data/Mueller_Matrix_Polarimeter/L_Plate_Characterization/SuperK_Select_Data/Dodge-e.csv\", delimiter=\",\",skiprows=1)\n",
    "n_o = np.loadtxt(\"/home/shared/exoserver/Lab_Data/Mueller_Matrix_Polarimeter/L_Plate_Characterization/SuperK_Select_Data/Dodge-o.csv\", delimiter=\",\",skiprows=1)"
   ]
  },
  {
   "cell_type": "code",
   "execution_count": 113,
   "metadata": {},
   "outputs": [],
   "source": [
    "# Since the data doesn't have the same wavelengths I've measured, interpolate to get the specific values\n",
    "specific_ne = np.interp(wavelength_bins, n_e[:,0], n_e[:,1])\n",
    "specific_no = np.interp(wavelength_bins, n_o[:,0], n_o[:,1])"
   ]
  },
  {
   "cell_type": "code",
   "execution_count": 124,
   "metadata": {},
   "outputs": [
    {
     "name": "stdout",
     "output_type": "stream",
     "text": [
      "[188.74067411] This is the best fit value of d\n",
      "[0.8352198329839219] This is the uncertainty in the best fit values\n"
     ]
    }
   ],
   "source": [
    "# Find d, the difference in plate thickness\n",
    "initial_guess = [185] # initial guess for d, in microns\n",
    "popt, pcov = curve_fit(lambda w, d: d*(specific_ne - specific_no)/w, wavelength_bins, retardance, sigma=y_err1, p0=initial_guess)\n",
    "print(popt, \"This is the best fit value of d\")\n",
    "print(list(np.sqrt(np.diagonal(pcov))), \"This is the uncertainty in the best fit values\")"
   ]
  },
  {
   "cell_type": "code",
   "execution_count": 115,
   "metadata": {},
   "outputs": [],
   "source": [
    "d = popt[0]"
   ]
  },
  {
   "cell_type": "code",
   "execution_count": 136,
   "metadata": {},
   "outputs": [],
   "source": [
    "def theoretical_retardance(w, d):\n",
    "    specific_ne = np.interp(w, n_e[:,0], n_e[:,1])\n",
    "    specific_no = np.interp(w, n_o[:,0], n_o[:,1])\n",
    "    return d*(specific_ne - specific_no)/w"
   ]
  },
  {
   "cell_type": "code",
   "execution_count": 145,
   "metadata": {},
   "outputs": [
    {
     "name": "stdout",
     "output_type": "stream",
     "text": [
      "0.5774405722965417\n",
      "[0.0025553]\n",
      "[-0.0025553]\n",
      "0.45141144611656936\n",
      "[0.0019976]\n",
      "[-0.0019976]\n"
     ]
    }
   ],
   "source": [
    "print(theoretical_retardance(3.4, d)) \n",
    "print(theoretical_retardance(3.4, d+list(np.sqrt(np.diagonal(pcov)))) - theoretical_retardance(3.4, d))\n",
    "print(theoretical_retardance(3.4, d) - theoretical_retardance(3.4, d+list(np.sqrt(np.diagonal(pcov)))))\n",
    "\n",
    "print(theoretical_retardance(4.1, d))\n",
    "print(theoretical_retardance(4.1, d+list(np.sqrt(np.diagonal(pcov)))) - theoretical_retardance(4.1, d))\n",
    "print(theoretical_retardance(4.1, d) - theoretical_retardance(4.1, d+list(np.sqrt(np.diagonal(pcov)))))"
   ]
  },
  {
   "cell_type": "code",
   "execution_count": 139,
   "metadata": {},
   "outputs": [
    {
     "data": {
      "text/plain": [
       "0.5110666869709878"
      ]
     },
     "execution_count": 139,
     "metadata": {},
     "output_type": "execute_result"
    }
   ],
   "source": [
    "L_wavelengths = np.linspace(3.4, 4.1, 100)\n",
    "np.mean(theoretical_retardance(L_wavelengths, d))"
   ]
  },
  {
   "cell_type": "code",
   "execution_count": 129,
   "metadata": {},
   "outputs": [
    {
     "data": {
      "image/png": "[encoded data removed]",
      "text/plain": [
       "<Figure size 640x480 with 1 Axes>"
      ]
     },
     "metadata": {},
     "output_type": "display_data"
    }
   ],
   "source": [
    "plt.ylim(0.4, 2.4)\n",
    "plt.xlim(0.9, 4.2)\n",
    "plt.xlabel(\"Wavelength $(\\mu m)$\", fontsize=12, fontweight='bold')\n",
    "plt.ylabel(\"Retardance $(waves)$\", fontsize=12, fontweight='bold')\n",
    "\n",
    "plt.errorbar(wavelength_bins, retardance, yerr=y_err1, marker='o', capsize=2, linestyle=' ', color = 'purple', label = 'Lab Measurements')\n",
    "plt.plot(n_e[:,0], 1/n_e[:,0]*d*(n_e[:,1]-n_o[:,1]),label=\"Design\")\n",
    "plt.fill_between([3.4, 4.1],0,2,color='r',alpha=0.3,label=\"Keck L'\")\n",
    "\n",
    "caption = \"Characterization for the L-band half-wave plate. Data taken with SuperK SELECT laser.\"\n",
    "\n",
    "text_width = 70  # Speify desired text width box in characters\n",
    "wrapped_text = textwrap.fill(caption, width=text_width)\n",
    "#plt.text(2.5, 0, wrapped_text, ha='center', va='center')\n",
    "\n",
    "plt.legend(fontsize=12)\n",
    "#plt.grid(True)\n",
    "\n",
    "folder_path = \"/home/shared/exoserver/Lab_Data/Mueller_Matrix_Polarimeter/L_Plate_Characterization/SuperK_Select_Data/\"\n",
    "file_name = 'Final_L_Band_HWP_Retardance.png'\n",
    "#plt.savefig(folder_path + file_name, bbox_inches='tight', dpi=300)"
   ]
  },
  {
   "cell_type": "code",
   "execution_count": 62,
   "metadata": {},
   "outputs": [
    {
     "data": {
      "text/plain": [
       "0.11245158399593246"
      ]
     },
     "execution_count": 62,
     "metadata": {},
     "output_type": "execute_result"
    }
   ],
   "source": [
    "data1100[1]"
   ]
  },
  {
   "cell_type": "code",
   "execution_count": 63,
   "metadata": {},
   "outputs": [
    {
     "data": {
      "text/plain": [
       "0.11245158399593246"
      ]
     },
     "execution_count": 63,
     "metadata": {},
     "output_type": "execute_result"
    }
   ],
   "source": [
    "np.arccos(np.trace(decompose_retarder(data1100[0]))/2 - 1)/(2*np.pi)"
   ]
  },
  {
   "cell_type": "markdown",
   "metadata": {},
   "source": [
    "Testing Jaren's Katsu polar decomposition"
   ]
  },
  {
   "cell_type": "code",
   "execution_count": 64,
   "metadata": {},
   "outputs": [
    {
     "name": "stdout",
     "output_type": "stream",
     "text": [
      "[[ 1.         -0.05921861 -0.02860629 -0.03456353]\n",
      " [-0.07305214  0.37185857  0.67564756  0.48543644]\n",
      " [ 0.0352206   0.72488379  0.13096676 -0.54537032]\n",
      " [-0.00234209 -0.43334357  0.62085469 -0.51232291]]\n"
     ]
    }
   ],
   "source": [
    "print(data1600[0])"
   ]
  },
  {
   "cell_type": "code",
   "execution_count": 65,
   "metadata": {},
   "outputs": [
    {
     "name": "stdout",
     "output_type": "stream",
     "text": [
      "0.6756475553355552\n",
      "0.3718585744517433\n"
     ]
    }
   ],
   "source": [
    "print(data1600[0][1, 2])\n",
    "print(data1600[0][1, 1])\n",
    "R23 = data1600[0][1, 2]\n",
    "R22 = data1600[0][1, 1]\n",
    "R31 = data1600[0][3, 1]\n",
    "R32 = data1600[0][3, 2]\n",
    "R33 = data1600[0][3, 3]"
   ]
  },
  {
   "cell_type": "code",
   "execution_count": 66,
   "metadata": {},
   "outputs": [
    {
     "data": {
      "text/plain": [
       "0.3356074491440194"
      ]
     },
     "execution_count": 66,
     "metadata": {},
     "output_type": "execute_result"
    }
   ],
   "source": [
    "np.arccos(R33)/(2*np.pi)"
   ]
  },
  {
   "cell_type": "code",
   "execution_count": 67,
   "metadata": {},
   "outputs": [
    {
     "data": {
      "text/plain": [
       "0.13669975637596038"
      ]
     },
     "execution_count": 67,
     "metadata": {},
     "output_type": "execute_result"
    }
   ],
   "source": [
    "np.arcsin(np.sqrt(R31**2+R32**2))/(2*np.pi)"
   ]
  },
  {
   "cell_type": "code",
   "execution_count": 68,
   "metadata": {},
   "outputs": [
    {
     "data": {
      "text/plain": [
       "0.0849621871083175"
      ]
     },
     "execution_count": 68,
     "metadata": {},
     "output_type": "execute_result"
    }
   ],
   "source": [
    "0.5338331657048234/(2*np.pi)"
   ]
  },
  {
   "cell_type": "code",
   "execution_count": 69,
   "metadata": {},
   "outputs": [
    {
     "name": "stdout",
     "output_type": "stream",
     "text": [
      "[[ 0.81100901 -0.00602731 -0.01559973  0.00372638]\n",
      " [-0.14900218  0.92683075  0.02798794 -0.03466432]\n",
      " [ 0.01915577 -0.10518088  1.          0.15019244]\n",
      " [ 0.00004422  0.05147648 -0.10360334  0.78597589]]\n",
      "[[ 0.81039085 -0.         -0.         -0.        ]\n",
      " [-0.14137179  0.92525222  0.02518065 -0.03397864]\n",
      " [ 0.03690727 -0.10491586  1.          0.14998268]\n",
      " [-0.00517574  0.05142965 -0.10359685  0.78556393]] Retarder\n",
      "[[ 1.         -0.00743186 -0.01923496  0.00459475]\n",
      " [-0.00743186  0.99980443  0.00007148 -0.00001708]\n",
      " [-0.01923496  0.00007148  0.99996182 -0.00004419]\n",
      " [ 0.00459475 -0.00001708 -0.00004419  0.99978737]] Diattenuator\n"
     ]
    }
   ],
   "source": [
    "print(data1100[0])\n",
    "print(decompose_retarder((data1100[0]), True)[0], \"Retarder\")\n",
    "print(decompose_retarder((data1100[0]), True)[1], \"Diattenuator\")"
   ]
  },
  {
   "cell_type": "code",
   "execution_count": 70,
   "metadata": {},
   "outputs": [
    {
     "data": {
      "text/plain": [
       "0.10618648636953239"
      ]
     },
     "execution_count": 70,
     "metadata": {},
     "output_type": "execute_result"
    }
   ],
   "source": [
    "np.arccos(decompose_retarder(data1100[0])[3,3])/(2*np.pi)"
   ]
  },
  {
   "cell_type": "markdown",
   "metadata": {},
   "source": [
    "Testing Lu and Chipman retardance extraction"
   ]
  },
  {
   "cell_type": "code",
   "execution_count": 71,
   "metadata": {},
   "outputs": [
    {
     "name": "stdout",
     "output_type": "stream",
     "text": [
      "[[ 1.         -0.05921861 -0.02860629 -0.03456353]\n",
      " [-0.07305214  0.37185857  0.67564756  0.48543644]\n",
      " [ 0.0352206   0.72488379  0.13096676 -0.54537032]\n",
      " [-0.00234209 -0.43334357  0.62085469 -0.51232291]]\n"
     ]
    }
   ],
   "source": [
    "print(data1600[0])"
   ]
  },
  {
   "cell_type": "code",
   "execution_count": 72,
   "metadata": {},
   "outputs": [
    {
     "name": "stdout",
     "output_type": "stream",
     "text": [
      "[[ 1.          0.          0.         -0.        ]\n",
      " [-0.01500787  0.37027213  0.67625585  0.48525433]\n",
      " [ 0.06339368  0.72981955  0.13274356 -0.54517347]\n",
      " [-0.02810658 -0.43544753  0.6221391  -0.5142698 ]]\n"
     ]
    }
   ],
   "source": [
    "MR1600 = decompose_retarder(data1600[0])\n",
    "print(MR1600)"
   ]
  },
  {
   "cell_type": "code",
   "execution_count": 73,
   "metadata": {},
   "outputs": [
    {
     "data": {
      "text/plain": [
       "0.33436940669233894"
      ]
     },
     "execution_count": 73,
     "metadata": {},
     "output_type": "execute_result"
    }
   ],
   "source": [
    "np.arccos(np.trace(MR1600)/2 - 1)/(2*np.pi)"
   ]
  },
  {
   "cell_type": "code",
   "execution_count": null,
   "metadata": {},
   "outputs": [],
   "source": []
  }
 ],
 "metadata": {
  "kernelspec": {
   "display_name": "Python 3",
   "language": "python",
   "name": "python3"
  },
  "language_info": {
   "codemirror_mode": {
    "name": "ipython",
    "version": 3
   },
   "file_extension": ".py",
   "mimetype": "text/x-python",
   "name": "python",
   "nbconvert_exporter": "python",
   "pygments_lexer": "ipython3",
   "version": "3.8.10"
  }
 },
 "nbformat": 4,
 "nbformat_minor": 2
}
