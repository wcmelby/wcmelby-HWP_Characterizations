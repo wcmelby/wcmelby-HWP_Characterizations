{
 "cells": [
  {
   "cell_type": "code",
   "execution_count": 1,
   "metadata": {},
   "outputs": [],
   "source": [
    "import sys\n",
    "sys.path.insert(0, '/home/wcmelby/Library/Python/wcmelby-HWP_Characterizations/')\n",
    "from New_DRRP_Functions import *"
   ]
  },
  {
   "cell_type": "markdown",
   "metadata": {},
   "source": [
    "This data is taken with the L band plate using the SuperK Select laser operating with main power at 5%, specific channel power at 40%"
   ]
  },
  {
   "cell_type": "markdown",
   "metadata": {},
   "source": [
    "Bring in the new SK calibration data"
   ]
  },
  {
   "cell_type": "code",
   "execution_count": 2,
   "metadata": {},
   "outputs": [
    {
     "name": "stdout",
     "output_type": "stream",
     "text": [
      "Warning: low flux detected, check the image Reduced_DRRP_Cal_1100nm_490_2_11.999992675781249.fits, index: 3\n",
      "Warning: low flux detected, check the image Reduced_DRRP_Cal_1100nm_490_2_43.999973144531246.fits, index: 11\n",
      "Warning: low flux detected, check the image Reduced_DRRP_Cal_1100nm_490_2_51.99996826171875.fits, index: 13\n",
      "Warning: low flux detected, check the image Reduced_DRRP_Cal_1100nm_490_2_63.99996093749999.fits, index: 16\n",
      "Warning: low flux detected, check the image Reduced_DRRP_Cal_1100nm_490_2_87.99994628906249.fits, index: 22\n",
      "Warning: low flux detected, check the image Reduced_DRRP_Cal_1100nm_490_2_99.99993896484375.fits, index: 25\n",
      "Warning: low flux detected, check the image Reduced_DRRP_Cal_1100nm_490_2_155.99990478515625.fits, index: 39\n"
     ]
    }
   ],
   "source": [
    "reduced_filename = 'Reduced_DRRP_'\n",
    "reduced_folder = \"/home/shared/exoserver/Lab_Data/Mueller_Matrix_Polarimeter/L_Plate_Characterization/SuperK_Select_Data/Calibrations/Calibration_Reduced/SK_Cal_1100_Reduced/\"\n",
    "lcenter = [315, 253]\n",
    "rcenter = [316, 329]\n",
    "maxradius = 17\n",
    "cutoff = 100000\n",
    "\n",
    "extracted_data = extract_intensities(reduced_filename, reduced_folder, lcenter, rcenter, maxradius, cutoff)\n",
    "Cal_Il_1100 = extracted_data[0]\n",
    "Cal_Ir_1100 = extracted_data[1]\n",
    "Cal_theta1100 = extracted_data[2]"
   ]
  },
  {
   "cell_type": "code",
   "execution_count": 3,
   "metadata": {},
   "outputs": [
    {
     "name": "stdout",
     "output_type": "stream",
     "text": [
      "Warning: low flux detected, check the image Reduced_DRRP_Cal_1200nm_490_2_71.9999560546875.fits, index: 18\n",
      "Warning: low flux detected, check the image Reduced_DRRP_Cal_1200nm_490_2_155.99990478515625.fits, index: 39\n",
      "Warning: low flux detected, check the image Reduced_DRRP_Cal_1200nm_490_2_159.99990234375.fits, index: 40\n"
     ]
    }
   ],
   "source": [
    "reduced_filename = 'Reduced_DRRP_'\n",
    "reduced_folder = \"/home/shared/exoserver/Lab_Data/Mueller_Matrix_Polarimeter/L_Plate_Characterization/SuperK_Select_Data/Calibrations/Calibration_Reduced/SK_Cal_1200_Reduced/\"\n",
    "lcenter = [315, 253]\n",
    "rcenter = [316, 329]\n",
    "maxradius = 17\n",
    "cutoff = 200000\n",
    "\n",
    "extracted_data = extract_intensities(reduced_filename, reduced_folder, lcenter, rcenter, maxradius, cutoff)\n",
    "Cal_Il_1200 = extracted_data[0]\n",
    "Cal_Ir_1200 = extracted_data[1]\n",
    "Cal_theta1200 = extracted_data[2]"
   ]
  },
  {
   "cell_type": "code",
   "execution_count": 4,
   "metadata": {},
   "outputs": [
    {
     "name": "stdout",
     "output_type": "stream",
     "text": [
      "Warning: low flux detected, check the image Reduced_DRRP_Cal_1300nm_490_2_7.999995117187499.fits, index: 2\n",
      "Warning: low flux detected, check the image Reduced_DRRP_Cal_1300nm_490_2_51.99996826171875.fits, index: 13\n",
      "Warning: low flux detected, check the image Reduced_DRRP_Cal_1300nm_490_2_63.99996093749999.fits, index: 16\n",
      "Warning: low flux detected, check the image Reduced_DRRP_Cal_1300nm_490_2_79.999951171875.fits, index: 20\n",
      "Warning: low flux detected, check the image Reduced_DRRP_Cal_1300nm_490_2_131.99991943359373.fits, index: 33\n",
      "Warning: low flux detected, check the image Reduced_DRRP_Cal_1300nm_490_2_135.99991699218748.fits, index: 34\n",
      "Warning: low flux detected, check the image Reduced_DRRP_Cal_1300nm_490_2_171.99989501953124.fits, index: 43\n"
     ]
    }
   ],
   "source": [
    "reduced_filename = 'Reduced_DRRP_'\n",
    "reduced_folder = \"/home/shared/exoserver/Lab_Data/Mueller_Matrix_Polarimeter/L_Plate_Characterization/SuperK_Select_Data/Calibrations/Calibration_Reduced/SK_Cal_1300_Reduced/\"\n",
    "lcenter = [315, 253]\n",
    "rcenter = [316, 329]\n",
    "maxradius = 17\n",
    "cutoff = 10000\n",
    "\n",
    "extracted_data = extract_intensities(reduced_filename, reduced_folder, lcenter, rcenter, maxradius, cutoff)\n",
    "Cal_Il_1300 = extracted_data[0]\n",
    "Cal_Ir_1300 = extracted_data[1]\n",
    "Cal_theta1300 = extracted_data[2]"
   ]
  },
  {
   "cell_type": "code",
   "execution_count": 5,
   "metadata": {},
   "outputs": [
    {
     "name": "stdout",
     "output_type": "stream",
     "text": [
      "Warning: low flux detected, check the image Reduced_DRRP_Cal_1400nm_490_2_39.9999755859375.fits, index: 10\n",
      "Warning: low flux detected, check the image Reduced_DRRP_Cal_1400nm_490_2_47.999970703124994.fits, index: 12\n",
      "Warning: low flux detected, check the image Reduced_DRRP_Cal_1400nm_490_2_99.99993896484375.fits, index: 25\n",
      "Warning: low flux detected, check the image Reduced_DRRP_Cal_1400nm_490_2_103.9999365234375.fits, index: 26\n",
      "Warning: low flux detected, check the image Reduced_DRRP_Cal_1400nm_490_2_175.99989257812499.fits, index: 44\n"
     ]
    }
   ],
   "source": [
    "reduced_filename = 'Reduced_DRRP_'\n",
    "reduced_folder = \"/home/shared/exoserver/Lab_Data/Mueller_Matrix_Polarimeter/L_Plate_Characterization/SuperK_Select_Data/Calibrations/Calibration_Reduced/SK_Cal_1400_Reduced/\"\n",
    "lcenter = [315, 253]\n",
    "rcenter = [316, 329]\n",
    "maxradius = 17\n",
    "cutoff = 30000\n",
    "\n",
    "extracted_data = extract_intensities(reduced_filename, reduced_folder, lcenter, rcenter, maxradius, cutoff)\n",
    "Cal_Il_1400 = extracted_data[0]\n",
    "Cal_Ir_1400 = extracted_data[1]\n",
    "Cal_theta1400 = extracted_data[2]"
   ]
  },
  {
   "cell_type": "code",
   "execution_count": 6,
   "metadata": {},
   "outputs": [
    {
     "name": "stdout",
     "output_type": "stream",
     "text": [
      "Warning: low flux detected, check the image Reduced_DRRP_Cal_1500nm_490_2_27.99998291015625.fits, index: 7\n",
      "Warning: low flux detected, check the image Reduced_DRRP_Cal_1500nm_490_2_59.999963378906244.fits, index: 15\n",
      "Warning: low flux detected, check the image Reduced_DRRP_Cal_1500nm_490_2_87.99994628906249.fits, index: 22\n",
      "Warning: low flux detected, check the image Reduced_DRRP_Cal_1500nm_490_2_123.99992431640624.fits, index: 31\n",
      "Warning: low flux detected, check the image Reduced_DRRP_Cal_1500nm_490_2_159.99990234375.fits, index: 40\n"
     ]
    }
   ],
   "source": [
    "reduced_filename = 'Reduced_DRRP_'\n",
    "reduced_folder = \"/home/shared/exoserver/Lab_Data/Mueller_Matrix_Polarimeter/L_Plate_Characterization/SuperK_Select_Data/Calibrations/Calibration_Reduced/SK_Cal_1500_Reduced/\"\n",
    "lcenter = [315, 253]\n",
    "rcenter = [316, 329]\n",
    "maxradius = 17\n",
    "cutoff = 10000\n",
    "\n",
    "extracted_data = extract_intensities(reduced_filename, reduced_folder, lcenter, rcenter, maxradius, cutoff)\n",
    "Cal_Il_1500 = extracted_data[0]\n",
    "Cal_Ir_1500 = extracted_data[1]\n",
    "Cal_theta1500 = extracted_data[2]"
   ]
  },
  {
   "cell_type": "code",
   "execution_count": 7,
   "metadata": {},
   "outputs": [
    {
     "name": "stdout",
     "output_type": "stream",
     "text": [
      "Warning: low flux detected, check the image Reduced_DRRP_Cal_1600nm_490_2_3.9999975585937495.fits, index: 1\n",
      "Warning: low flux detected, check the image Reduced_DRRP_Cal_1600nm_490_2_27.99998291015625.fits, index: 7\n",
      "Warning: low flux detected, check the image Reduced_DRRP_Cal_1600nm_490_2_43.999973144531246.fits, index: 11\n",
      "Warning: low flux detected, check the image Reduced_DRRP_Cal_1600nm_490_2_47.999970703124994.fits, index: 12\n",
      "Warning: low flux detected, check the image Reduced_DRRP_Cal_1600nm_490_2_123.99992431640624.fits, index: 31\n",
      "Warning: low flux detected, check the image Reduced_DRRP_Cal_1600nm_490_2_155.99990478515625.fits, index: 39\n"
     ]
    }
   ],
   "source": [
    "reduced_filename = 'Reduced_DRRP_'\n",
    "reduced_folder = \"/home/shared/exoserver/Lab_Data/Mueller_Matrix_Polarimeter/L_Plate_Characterization/SuperK_Select_Data/Calibrations/Calibration_Reduced/SK_Cal_1600_Reduced/\"\n",
    "lcenter = [315, 253]\n",
    "rcenter = [316, 329]\n",
    "maxradius = 17\n",
    "cutoff = 10000\n",
    "\n",
    "extracted_data = extract_intensities(reduced_filename, reduced_folder, lcenter, rcenter, maxradius, cutoff)\n",
    "Cal_Il_1600 = extracted_data[0]\n",
    "Cal_Ir_1600 = extracted_data[1]\n",
    "Cal_theta1600 = extracted_data[2]"
   ]
  },
  {
   "cell_type": "code",
   "execution_count": 8,
   "metadata": {},
   "outputs": [
    {
     "name": "stdout",
     "output_type": "stream",
     "text": [
      "Warning: low flux detected, check the image Reduced_DRRP_Cal_1750nm_490_2_7.999995117187499.fits, index: 2\n",
      "Warning: low flux detected, check the image Reduced_DRRP_Cal_1750nm_490_2_15.999990234374998.fits, index: 4\n",
      "Warning: low flux detected, check the image Reduced_DRRP_Cal_1750nm_490_2_79.999951171875.fits, index: 20\n",
      "Warning: low flux detected, check the image Reduced_DRRP_Cal_1750nm_490_2_103.9999365234375.fits, index: 26\n",
      "Warning: low flux detected, check the image Reduced_DRRP_Cal_1750nm_490_2_131.99991943359373.fits, index: 33\n"
     ]
    }
   ],
   "source": [
    "reduced_filename = 'Reduced_DRRP_'\n",
    "reduced_folder = \"/home/shared/exoserver/Lab_Data/Mueller_Matrix_Polarimeter/L_Plate_Characterization/SuperK_Select_Data/Calibrations/Calibration_Reduced/SK_Cal_1750_Reduced/\"\n",
    "lcenter = [315, 253]\n",
    "rcenter = [316, 329]\n",
    "maxradius = 17\n",
    "cutoff = 90000\n",
    "\n",
    "extracted_data = extract_intensities(reduced_filename, reduced_folder, lcenter, rcenter, maxradius, cutoff)\n",
    "Cal_Il_1750 = extracted_data[0]\n",
    "Cal_Ir_1750 = extracted_data[1]\n",
    "Cal_theta1750 = extracted_data[2]"
   ]
  },
  {
   "cell_type": "code",
   "execution_count": 9,
   "metadata": {},
   "outputs": [
    {
     "name": "stdout",
     "output_type": "stream",
     "text": [
      "Warning: low flux detected, check the image Reduced_DRRP_Cal_1850nm_490_2_27.99998291015625.fits, index: 7\n",
      "Warning: low flux detected, check the image Reduced_DRRP_Cal_1850nm_490_2_95.99994140624999.fits, index: 24\n",
      "Warning: low flux detected, check the image Reduced_DRRP_Cal_1850nm_490_2_107.99993408203125.fits, index: 27\n"
     ]
    }
   ],
   "source": [
    "reduced_filename = 'Reduced_DRRP_'\n",
    "reduced_folder = \"/home/shared/exoserver/Lab_Data/Mueller_Matrix_Polarimeter/L_Plate_Characterization/SuperK_Select_Data/Calibrations/Calibration_Reduced/SK_Cal_1850_Reduced/\"\n",
    "lcenter = [315, 253]\n",
    "rcenter = [316, 329]\n",
    "maxradius = 17\n",
    "cutoff = 20000\n",
    "\n",
    "extracted_data = extract_intensities(reduced_filename, reduced_folder, lcenter, rcenter, maxradius, cutoff)\n",
    "Cal_Il_1850 = extracted_data[0]\n",
    "Cal_Ir_1850 = extracted_data[1]\n",
    "Cal_theta1850 = extracted_data[2]"
   ]
  },
  {
   "cell_type": "code",
   "execution_count": 10,
   "metadata": {},
   "outputs": [
    {
     "name": "stdout",
     "output_type": "stream",
     "text": [
      "Warning: low flux detected, check the image Reduced_DRRP_Cal_1950nm_490_2_59.999963378906244.fits, index: 15\n",
      "Warning: low flux detected, check the image Reduced_DRRP_Cal_1950nm_490_2_71.9999560546875.fits, index: 18\n",
      "Warning: low flux detected, check the image Reduced_DRRP_Cal_1950nm_490_2_75.99995361328125.fits, index: 19\n",
      "Warning: low flux detected, check the image Reduced_DRRP_Cal_1950nm_490_2_171.99989501953124.fits, index: 43\n"
     ]
    }
   ],
   "source": [
    "reduced_filename = 'Reduced_DRRP_'\n",
    "reduced_folder = \"/home/shared/exoserver/Lab_Data/Mueller_Matrix_Polarimeter/L_Plate_Characterization/SuperK_Select_Data/Calibrations/Calibration_Reduced/SK_Cal_1950_Reduced/\"\n",
    "lcenter = [315, 253]\n",
    "rcenter = [316, 329]\n",
    "maxradius = 17\n",
    "cutoff = 40000\n",
    "\n",
    "extracted_data = extract_intensities(reduced_filename, reduced_folder, lcenter, rcenter, maxradius, cutoff)\n",
    "Cal_Il_1950 = extracted_data[0]\n",
    "Cal_Ir_1950 = extracted_data[1]\n",
    "Cal_theta1950 = extracted_data[2]"
   ]
  },
  {
   "cell_type": "markdown",
   "metadata": {},
   "source": [
    "1100 nm SK data, 490 fps, 2 ms tint"
   ]
  },
  {
   "cell_type": "code",
   "execution_count": 11,
   "metadata": {},
   "outputs": [
    {
     "name": "stdout",
     "output_type": "stream",
     "text": [
      "Warning: low flux detected, check the image Reduced_DRRP_L_1100nm_490_2_19.99998779296875.fits, index: 5\n",
      "Warning: low flux detected, check the image Reduced_DRRP_L_1100nm_490_2_91.99994384765624.fits, index: 23\n"
     ]
    }
   ],
   "source": [
    "reduced_filename = 'Reduced_DRRP_'\n",
    "reduced_folder = \"/home/shared/exoserver/Lab_Data/Mueller_Matrix_Polarimeter/L_Plate_Characterization/SuperK_Select_Data/Reduced_Data/Reduced_L_1100/\"\n",
    "lcenter = [316, 248]\n",
    "rcenter = [316, 326]\n",
    "maxradius = 15\n",
    "cutoff = 90000\n",
    "\n",
    "extracted_data = extract_intensities(reduced_filename, reduced_folder, lcenter, rcenter, maxradius, cutoff)\n",
    "Il_1100 = extracted_data[0]\n",
    "Ir_1100 = extracted_data[1]\n",
    "theta1100 = extracted_data[2]"
   ]
  },
  {
   "cell_type": "code",
   "execution_count": 12,
   "metadata": {},
   "outputs": [
    {
     "name": "stdout",
     "output_type": "stream",
     "text": [
      "[-0.06048435 -0.05946848 -0.21254288 -0.00460739  0.03936115] Fit parameters for a1, w1, w2, r1, and r2. 1 for generator, 2 for analyzer\n",
      "[[ 0.84459154 -0.0061093  -0.01591711  0.00396326]\n",
      " [-0.13584636  0.95531235  0.03220691 -0.03581602]\n",
      " [ 0.01596087 -0.09859732  1.          0.15281187]\n",
      " [ 0.00123695  0.05229689 -0.10583262  0.81886441]] This is the Mueller matrix of the sample waveplate\n",
      "0.1002180119384693 This is the retardance of the sample\n",
      "[[ 0.76669209  0.03978302 -0.04585978 -0.03441794]\n",
      " [-0.06379287  0.8678417  -0.00935198 -0.06596266]\n",
      " [ 0.02895485 -0.08056601  1.         -0.00746877]\n",
      " [-0.00005027 -0.03216467 -0.04233931  0.77143418]] This is the Mueller matrix for calibration (close to identity)\n",
      "0.09608961647804717 This is the RMS error in the calibration matrix\n",
      "0.16316993556229248 This is the retardance error in the sample waveplate\n"
     ]
    }
   ],
   "source": [
    "data1100 = q_ultimate_polarimetry(Cal_theta1100, Cal_Il_1100, Cal_Ir_1100, theta1100, Il_1100, Ir_1100)\n",
    "print(data1100[0], \"This is the Mueller matrix of the sample waveplate\")\n",
    "print(data1100[1], \"This is the retardance of the sample\")\n",
    "print(data1100[2], \"This is the Mueller matrix for calibration (close to identity)\")\n",
    "print(data1100[3], \"This is the RMS error in the calibration matrix\")\n",
    "print(data1100[4], \"This is the retardance error in the sample waveplate\")"
   ]
  },
  {
   "cell_type": "code",
   "execution_count": 13,
   "metadata": {},
   "outputs": [
    {
     "name": "stdout",
     "output_type": "stream",
     "text": [
      "[[ 0.89867088  0.05229602 -0.04770978 -0.04028024]\n",
      " [ 0.00314966  0.82568648 -0.26082041 -0.02055559]\n",
      " [-0.14464137  0.846614    1.         -0.11975092]\n",
      " [ 0.00477734 -0.03673744 -0.08704248  0.84899964]]\n",
      "0.23710661726815088\n"
     ]
    }
   ],
   "source": [
    "uncalibrated = q_calibrated_full_mueller_polarimetry(Cal_theta1100, 0, 0, 0, 0, 0, Cal_Il_1100, Cal_Ir_1100, M_in=None)\n",
    "uncalibrated = uncalibrated/np.max(np.abs(uncalibrated))\n",
    "print(uncalibrated)\n",
    "print(RMS_calculator(uncalibrated))"
   ]
  },
  {
   "cell_type": "code",
   "execution_count": 14,
   "metadata": {},
   "outputs": [
    {
     "name": "stdout",
     "output_type": "stream",
     "text": [
      "0.23710661726815088\n"
     ]
    }
   ],
   "source": [
    "print(RMS_calculator(uncalibrated))"
   ]
  },
  {
   "cell_type": "markdown",
   "metadata": {},
   "source": [
    "1200 nm SK data, 490 fps, 2 ms tint"
   ]
  },
  {
   "cell_type": "code",
   "execution_count": 15,
   "metadata": {},
   "outputs": [
    {
     "name": "stdout",
     "output_type": "stream",
     "text": [
      "Warning: low flux detected, check the image Reduced_DRRP_L_1200nm_490_2_11.999992675781249.fits, index: 3\n",
      "Warning: low flux detected, check the image Reduced_DRRP_L_1200nm_490_2_95.99994140624999.fits, index: 24\n"
     ]
    }
   ],
   "source": [
    "reduced_filename = 'Reduced_DRRP_'\n",
    "reduced_folder = \"/home/shared/exoserver/Lab_Data/Mueller_Matrix_Polarimeter/L_Plate_Characterization/SuperK_Select_Data/Reduced_Data/Reduced_L_1200/\"\n",
    "lcenter = [316, 248]\n",
    "rcenter = [316, 326]\n",
    "maxradius = 15\n",
    "cutoff = 90000\n",
    "\n",
    "extracted_data = extract_intensities(reduced_filename, reduced_folder, lcenter, rcenter, maxradius, cutoff)\n",
    "Il_1200 = extracted_data[0]\n",
    "Ir_1200 = extracted_data[1]\n",
    "theta1200 = extracted_data[2]"
   ]
  },
  {
   "cell_type": "code",
   "execution_count": 16,
   "metadata": {},
   "outputs": [
    {
     "name": "stdout",
     "output_type": "stream",
     "text": [
      "[-0.03008648 -0.18819301  0.01939868  0.05653987  0.01564993] Fit parameters for a1, w1, w2, r1, and r2. 1 for generator, 2 for analyzer\n",
      "[[ 1.         -0.00527632  0.04825437  0.0269995 ]\n",
      " [-0.0563611   0.95365789  0.21970542 -0.27489971]\n",
      " [-0.00428333  0.26743041  0.48141847  0.93136747]\n",
      " [-0.00123652  0.3035816  -0.91513995  0.37480336]] This is the Mueller matrix of the sample waveplate\n",
      "0.1833501558538156 This is the retardance of the sample\n",
      "[[ 0.89916365 -0.04321762 -0.02318684 -0.01393367]\n",
      " [-0.04944729  0.89271774  0.01360209 -0.0055871 ]\n",
      " [ 0.00155841  0.00050558  1.          0.00441442]\n",
      " [-0.0069272   0.00344248  0.01911732  0.87997332]] This is the Mueller matrix for calibration (close to identity)\n",
      "0.05110781787416311 This is the RMS error in the calibration matrix\n",
      "0.0559418392368632 This is the retardance error in the sample waveplate\n"
     ]
    }
   ],
   "source": [
    "data1200 = q_ultimate_polarimetry(Cal_theta1200, Cal_Il_1200, Cal_Ir_1200, theta1200, Il_1200, Ir_1200)\n",
    "print(data1200[0], \"This is the Mueller matrix of the sample waveplate\")\n",
    "print(data1200[1], \"This is the retardance of the sample\")\n",
    "print(data1200[2], \"This is the Mueller matrix for calibration (close to identity)\")\n",
    "print(data1200[3], \"This is the RMS error in the calibration matrix\")\n",
    "print(data1200[4], \"This is the retardance error in the sample waveplate\")"
   ]
  },
  {
   "cell_type": "code",
   "execution_count": 17,
   "metadata": {},
   "outputs": [
    {
     "name": "stdout",
     "output_type": "stream",
     "text": [
      "[[ 1.         -0.02136532 -0.05312491 -0.008352  ]\n",
      " [ 0.0127117   0.78349263  0.74752092  0.0155977 ]\n",
      " [ 0.38386259 -0.84411657  0.75384418 -0.03796   ]\n",
      " [ 0.01292084 -0.01352344 -0.03027734  0.92636915]]\n",
      "0.3100424680534318\n"
     ]
    }
   ],
   "source": [
    "uncalibrated = q_calibrated_full_mueller_polarimetry(Cal_theta1200, 0, 0, 0, 0, 0, Cal_Il_1200, Cal_Ir_1200, M_in=None)\n",
    "uncalibrated = uncalibrated/np.max(np.abs(uncalibrated))\n",
    "print(uncalibrated)\n",
    "print(RMS_calculator(uncalibrated))"
   ]
  },
  {
   "cell_type": "markdown",
   "metadata": {},
   "source": [
    "1300 nm SK data, 490 fps, 2 ms tint"
   ]
  },
  {
   "cell_type": "code",
   "execution_count": 18,
   "metadata": {},
   "outputs": [
    {
     "name": "stdout",
     "output_type": "stream",
     "text": [
      "Warning: low flux detected, check the image Reduced_DRRP_L_1300nm_490_2_39.9999755859375.fits, index: 10\n",
      "Warning: low flux detected, check the image Reduced_DRRP_L_1300nm_490_2_51.99996826171875.fits, index: 13\n",
      "Warning: low flux detected, check the image Reduced_DRRP_L_1300nm_490_2_91.99994384765624.fits, index: 23\n",
      "Warning: low flux detected, check the image Reduced_DRRP_L_1300nm_490_2_131.99991943359373.fits, index: 33\n"
     ]
    }
   ],
   "source": [
    "reduced_filename = 'Reduced_DRRP_'\n",
    "reduced_folder = \"/home/shared/exoserver/Lab_Data/Mueller_Matrix_Polarimeter/L_Plate_Characterization/SuperK_Select_Data/Reduced_Data/Reduced_L_1300/\"\n",
    "lcenter = [316, 248]\n",
    "rcenter = [316, 326]\n",
    "maxradius = 15\n",
    "cutoff = 90000\n",
    "\n",
    "extracted_data = extract_intensities(reduced_filename, reduced_folder, lcenter, rcenter, maxradius, cutoff)\n",
    "Il_1300 = extracted_data[0]\n",
    "Ir_1300 = extracted_data[1]\n",
    "theta1300 = extracted_data[2]"
   ]
  },
  {
   "cell_type": "code",
   "execution_count": 19,
   "metadata": {},
   "outputs": [
    {
     "name": "stdout",
     "output_type": "stream",
     "text": [
      "[-0.04245423 -0.00207595 -0.14124294 -0.01082554 -0.0222979 ] Fit parameters for a1, w1, w2, r1, and r2. 1 for generator, 2 for analyzer\n",
      "[[ 1.         -0.00127191 -0.01770687 -0.01104098]\n",
      " [-0.01218469  0.56659006  0.74097581 -0.45348026]\n",
      " [-0.06091996  0.78179521 -0.09711513  0.78219483]\n",
      " [-0.07022046  0.54064202 -0.75227312 -0.49300372]] This is the Mueller matrix of the sample waveplate\n",
      "0.3356799742616054 This is the retardance of the sample\n",
      "[[ 0.88689507 -0.02846629 -0.01503846 -0.01017656]\n",
      " [-0.10230376  0.92747895  0.03151772 -0.00463817]\n",
      " [ 0.05108678 -0.04417026  1.         -0.01506519]\n",
      " [ 0.00355518 -0.00712148 -0.02284625  0.8722317 ]] This is the Mueller matrix for calibration (close to identity)\n",
      "0.05721171707298191 This is the RMS error in the calibration matrix\n",
      "0.06663688102946957 This is the retardance error in the sample waveplate\n"
     ]
    }
   ],
   "source": [
    "data1300 = q_ultimate_polarimetry(Cal_theta1300, Cal_Il_1300, Cal_Ir_1300, theta1300, Il_1300, Ir_1300)\n",
    "print(data1300[0], \"This is the Mueller matrix of the sample waveplate\")\n",
    "print(data1300[1], \"This is the retardance of the sample\")\n",
    "print(data1300[2], \"This is the Mueller matrix for calibration (close to identity)\")\n",
    "print(data1300[3], \"This is the RMS error in the calibration matrix\")\n",
    "print(data1300[4], \"This is the retardance error in the sample waveplate\")"
   ]
  },
  {
   "cell_type": "markdown",
   "metadata": {},
   "source": [
    "1400 nm SK data, 490 fps, 2 ms tint"
   ]
  },
  {
   "cell_type": "code",
   "execution_count": 20,
   "metadata": {},
   "outputs": [
    {
     "name": "stdout",
     "output_type": "stream",
     "text": [
      "Warning: low flux detected, check the image Reduced_DRRP_L_1400nm_490_2_0.0.fits, index: 0\n",
      "Warning: low flux detected, check the image Reduced_DRRP_L_1400nm_490_2_31.999980468749996.fits, index: 8\n",
      "Warning: low flux detected, check the image Reduced_DRRP_L_1400nm_490_2_47.999970703124994.fits, index: 12\n",
      "Warning: low flux detected, check the image Reduced_DRRP_L_1400nm_490_2_111.999931640625.fits, index: 28\n",
      "Warning: low flux detected, check the image Reduced_DRRP_L_1400nm_490_2_159.99990234375.fits, index: 40\n"
     ]
    }
   ],
   "source": [
    "reduced_filename = 'Reduced_DRRP_'\n",
    "reduced_folder = \"/home/shared/exoserver/Lab_Data/Mueller_Matrix_Polarimeter/L_Plate_Characterization/SuperK_Select_Data/Reduced_Data/Reduced_L_1400/\"\n",
    "lcenter = [316, 248]\n",
    "rcenter = [316, 326]\n",
    "maxradius = 15\n",
    "cutoff = 290000\n",
    "\n",
    "extracted_data = extract_intensities(reduced_filename, reduced_folder, lcenter, rcenter, maxradius, cutoff)\n",
    "Il_1400 = extracted_data[0]\n",
    "Ir_1400 = extracted_data[1]\n",
    "theta1400 = extracted_data[2]"
   ]
  },
  {
   "cell_type": "code",
   "execution_count": 21,
   "metadata": {},
   "outputs": [
    {
     "name": "stdout",
     "output_type": "stream",
     "text": [
      "[-0.11276795 -0.27127508 -0.17921312  0.03471436 -0.00412502] Fit parameters for a1, w1, w2, r1, and r2. 1 for generator, 2 for analyzer\n",
      "[[ 1.         -0.01013238  0.01260806  0.00234705]\n",
      " [-0.00860689  0.97090104 -0.16777501  0.0298208 ]\n",
      " [-0.01210384 -0.12277786 -0.95657676  0.27455669]\n",
      " [-0.00099809 -0.01384121 -0.25838482 -0.947174  ]] This is the Mueller matrix of the sample waveplate\n",
      "0.4586620900907122 This is the retardance of the sample\n",
      "[[ 0.98769835 -0.04022427 -0.0056708  -0.02834107]\n",
      " [-0.0727268   0.959894    0.04242766 -0.01201082]\n",
      " [-0.00383117 -0.02879239  1.         -0.00793836]\n",
      " [-0.03242805  0.0510585  -0.01844809  0.94880786]] This is the Mueller matrix for calibration (close to identity)\n",
      "0.03443558745240136 This is the RMS error in the calibration matrix\n",
      "0.13408283259229858 This is the retardance error in the sample waveplate\n"
     ]
    }
   ],
   "source": [
    "data1400 = q_ultimate_polarimetry(Cal_theta1400, Cal_Il_1400, Cal_Ir_1400, theta1400, Il_1400, Ir_1400)\n",
    "print(data1400[0], \"This is the Mueller matrix of the sample waveplate\")\n",
    "print(data1400[1], \"This is the retardance of the sample\")\n",
    "print(data1400[2], \"This is the Mueller matrix for calibration (close to identity)\")\n",
    "print(data1400[3], \"This is the RMS error in the calibration matrix\")\n",
    "print(data1400[4], \"This is the retardance error in the sample waveplate\")"
   ]
  },
  {
   "cell_type": "code",
   "execution_count": 22,
   "metadata": {},
   "outputs": [
    {
     "data": {
      "text/plain": [
       "array([[ 1.        , -0.        , -0.        , -0.        ],\n",
       "       [ 0.00327686,  0.97100374, -0.16776382,  0.02983104],\n",
       "       [-0.0019322 , -0.12286538, -0.95661606,  0.27460984],\n",
       "       [ 0.00434362, -0.01382611, -0.25844043, -0.94730446]])"
      ]
     },
     "execution_count": 22,
     "metadata": {},
     "output_type": "execute_result"
    }
   ],
   "source": [
    "decompose_retarder(data1400[0])"
   ]
  },
  {
   "cell_type": "code",
   "execution_count": 23,
   "metadata": {},
   "outputs": [
    {
     "name": "stdout",
     "output_type": "stream",
     "text": [
      "[[ 0.90787107 -0.01967382 -0.03144262 -0.02594075]\n",
      " [-0.03843987  0.7239786   0.47275011 -0.02639184]\n",
      " [ 0.11447954  0.02593507  1.         -0.1432737 ]\n",
      " [-0.00902061 -0.02154271 -0.03100246  0.80018996]]\n",
      "0.15574964046922304\n"
     ]
    }
   ],
   "source": [
    "uncalibrated = q_calibrated_full_mueller_polarimetry(Cal_theta1400, 0, 0, 0, 0, 0, Cal_Il_1400, Cal_Ir_1400, M_in=None)\n",
    "uncalibrated = uncalibrated/np.max(np.abs(uncalibrated))\n",
    "print(uncalibrated)\n",
    "print(RMS_calculator(uncalibrated))"
   ]
  },
  {
   "cell_type": "markdown",
   "metadata": {},
   "source": [
    "1500 nm SK data, 490 fps, 2 ms tint"
   ]
  },
  {
   "cell_type": "code",
   "execution_count": 24,
   "metadata": {},
   "outputs": [
    {
     "name": "stdout",
     "output_type": "stream",
     "text": [
      "Warning: low flux detected, check the image Reduced_DRRP_L_1500nm_490_2_7.999995117187499.fits, index: 2\n",
      "Warning: low flux detected, check the image Reduced_DRRP_L_1500nm_490_2_151.9999072265625.fits, index: 38\n",
      "Warning: low flux detected, check the image Reduced_DRRP_L_1500nm_490_2_163.99989990234374.fits, index: 41\n"
     ]
    }
   ],
   "source": [
    "reduced_filename = 'Reduced_DRRP_'\n",
    "reduced_folder = \"/home/shared/exoserver/Lab_Data/Mueller_Matrix_Polarimeter/L_Plate_Characterization/SuperK_Select_Data/Reduced_Data/Reduced_L_1500/\"\n",
    "lcenter = [316, 248]\n",
    "rcenter = [316, 326]\n",
    "maxradius = 17\n",
    "cutoff = 290000\n",
    "\n",
    "extracted_data = extract_intensities(reduced_filename, reduced_folder, lcenter, rcenter, maxradius, cutoff)\n",
    "Il_1500 = extracted_data[0]\n",
    "Ir_1500 = extracted_data[1]\n",
    "theta1500 = extracted_data[2]"
   ]
  },
  {
   "cell_type": "code",
   "execution_count": 25,
   "metadata": {},
   "outputs": [
    {
     "name": "stdout",
     "output_type": "stream",
     "text": [
      "[ 0.01693706 -0.08531261  0.06469031  0.077504    0.05439866] Fit parameters for a1, w1, w2, r1, and r2. 1 for generator, 2 for analyzer\n",
      "[[ 1.          0.0213839   0.01090492 -0.02072764]\n",
      " [-0.02921213  0.38799717  0.8833387   0.22316544]\n",
      " [ 0.04750437  0.830054   -0.2641689  -0.30600062]\n",
      " [ 0.00642194 -0.22900289  0.29740952 -0.913404  ]] This is the Mueller matrix of the sample waveplate\n",
      "0.42635063935348005 This is the retardance of the sample\n",
      "[[ 1.         -0.03628531 -0.02766565 -0.04457846]\n",
      " [-0.05049765  0.93570105  0.00230632 -0.0016989 ]\n",
      " [-0.01008303 -0.01041858  0.898227   -0.00055976]\n",
      " [-0.03885235  0.04235233  0.00035606  0.97561137]] This is the Mueller matrix for calibration (close to identity)\n",
      "0.039708509967530864 This is the RMS error in the calibration matrix\n",
      "0.08895018905287584 This is the retardance error in the sample waveplate\n"
     ]
    }
   ],
   "source": [
    "data1500 = q_ultimate_polarimetry(Cal_theta1500, Cal_Il_1500, Cal_Ir_1500, theta1500, Il_1500, Ir_1500)\n",
    "print(data1500[0], \"This is the Mueller matrix of the sample waveplate\")\n",
    "print(data1500[1], \"This is the retardance of the sample\")\n",
    "print(data1500[2], \"This is the Mueller matrix for calibration (close to identity)\")\n",
    "print(data1500[3], \"This is the RMS error in the calibration matrix\")\n",
    "print(data1500[4], \"This is the retardance error in the sample waveplate\")"
   ]
  },
  {
   "cell_type": "markdown",
   "metadata": {},
   "source": [
    "1600 nm SK data, 550 fps, 1.8 ms tint"
   ]
  },
  {
   "cell_type": "code",
   "execution_count": 26,
   "metadata": {},
   "outputs": [
    {
     "name": "stdout",
     "output_type": "stream",
     "text": [
      "Warning: low flux detected, check the image Reduced_DRRP_L_1600nm_550_1.8_75.99995361328125.fits, index: 19\n",
      "Warning: low flux detected, check the image Reduced_DRRP_L_1600nm_550_1.8_87.99994628906249.fits, index: 22\n",
      "Warning: low flux detected, check the image Reduced_DRRP_L_1600nm_550_1.8_123.99992431640624.fits, index: 31\n",
      "Warning: low flux detected, check the image Reduced_DRRP_L_1600nm_550_1.8_151.9999072265625.fits, index: 38\n",
      "Warning: low flux detected, check the image Reduced_DRRP_L_1600nm_550_1.8_175.99989257812499.fits, index: 44\n"
     ]
    }
   ],
   "source": [
    "reduced_filename = 'Reduced_DRRP_'\n",
    "reduced_folder = \"/home/shared/exoserver/Lab_Data/Mueller_Matrix_Polarimeter/L_Plate_Characterization/SuperK_Select_Data/Reduced_Data/Reduced_L_1600/\"\n",
    "lcenter = [268, 268]\n",
    "rcenter = [268, 344]\n",
    "maxradius = 20\n",
    "cutoff = 50000\n",
    "\n",
    "extracted_data = extract_intensities(reduced_filename, reduced_folder, lcenter, rcenter, maxradius, cutoff)\n",
    "Il_1600 = extracted_data[0]\n",
    "Ir_1600 = extracted_data[1]\n",
    "theta1600 = extracted_data[2]"
   ]
  },
  {
   "cell_type": "code",
   "execution_count": 27,
   "metadata": {},
   "outputs": [
    {
     "name": "stdout",
     "output_type": "stream",
     "text": [
      "[-0.00983848  0.01904681 -0.09069225  0.04437593  0.06283626] Fit parameters for a1, w1, w2, r1, and r2. 1 for generator, 2 for analyzer\n",
      "[[ 1.         -0.05878907 -0.02804011 -0.0345803 ]\n",
      " [-0.07092396  0.37532171  0.66871953  0.48501969]\n",
      " [ 0.0432129   0.70941324  0.11929706 -0.54814858]\n",
      " [-0.00854385 -0.42612856  0.61834916 -0.51266831]] This is the Mueller matrix of the sample waveplate\n",
      "0.3351532612521787 This is the retardance of the sample\n",
      "[[ 1.         -0.02037747 -0.01299027 -0.02770441]\n",
      " [-0.07274901  0.97367429 -0.0162463   0.00122155]\n",
      " [ 0.02201818 -0.00855546  0.98534582  0.00166156]\n",
      " [-0.03173435  0.03622535  0.01560658  0.96215909]] This is the Mueller matrix for calibration (close to identity)\n",
      "0.027808231862481356 This is the RMS error in the calibration matrix\n",
      "0.03232570230922157 This is the retardance error in the sample waveplate\n"
     ]
    }
   ],
   "source": [
    "data1600 = q_ultimate_polarimetry(Cal_theta1600, Cal_Il_1600, Cal_Ir_1600, theta1600, Il_1600, Ir_1600)\n",
    "print(data1600[0], \"This is the Mueller matrix of the sample waveplate\")\n",
    "print(data1600[1], \"This is the retardance of the sample\")\n",
    "print(data1600[2], \"This is the Mueller matrix for calibration (close to identity)\")\n",
    "print(data1600[3], \"This is the RMS error in the calibration matrix\")\n",
    "print(data1600[4], \"This is the retardance error in the sample waveplate\")"
   ]
  },
  {
   "cell_type": "code",
   "execution_count": 281,
   "metadata": {},
   "outputs": [
    {
     "name": "stdout",
     "output_type": "stream",
     "text": [
      "[[ 0.9615384  -0.02156725 -0.01103457 -0.02667166]\n",
      " [-0.12402778  0.9467621  -0.26230087  0.0281769 ]\n",
      " [-0.06157619  0.46055893  1.         -0.04059958]\n",
      " [-0.06109745  0.06655095 -0.00628914  0.86503715]]\n",
      "0.1446031974468584\n"
     ]
    }
   ],
   "source": [
    "uncalibrated = q_calibrated_full_mueller_polarimetry(Cal_theta1600, 0, 0, 0, 0, 0, Cal_Il_1600, Cal_Ir_1600, M_in=None)\n",
    "uncalibrated = uncalibrated/np.max(np.abs(uncalibrated))\n",
    "print(uncalibrated)\n",
    "print(RMS_calculator(uncalibrated))"
   ]
  },
  {
   "cell_type": "markdown",
   "metadata": {},
   "source": [
    "1750 nm SK data, 490 fps, 2 ms tint"
   ]
  },
  {
   "cell_type": "code",
   "execution_count": 28,
   "metadata": {},
   "outputs": [
    {
     "name": "stdout",
     "output_type": "stream",
     "text": [
      "Warning: low flux detected, check the image Reduced_DRRP_L_1750nm_490_2_111.999931640625.fits, index: 28\n"
     ]
    }
   ],
   "source": [
    "reduced_filename = 'Reduced_DRRP_'\n",
    "reduced_folder = \"/home/shared/exoserver/Lab_Data/Mueller_Matrix_Polarimeter/L_Plate_Characterization/SuperK_Select_Data/Reduced_Data/Reduced_L_1750/\"\n",
    "lcenter = [316, 250]\n",
    "rcenter = [316, 326]\n",
    "maxradius = 16\n",
    "cutoff = 290000\n",
    "\n",
    "extracted_data = extract_intensities(reduced_filename, reduced_folder, lcenter, rcenter, maxradius, cutoff)\n",
    "Il_1750 = extracted_data[0]\n",
    "Ir_1750 = extracted_data[1]\n",
    "theta1750 = extracted_data[2]"
   ]
  },
  {
   "cell_type": "code",
   "execution_count": 29,
   "metadata": {},
   "outputs": [
    {
     "name": "stdout",
     "output_type": "stream",
     "text": [
      "[-0.11862042 -0.25943348 -0.21845098  0.03377102  0.01103115] Fit parameters for a1, w1, w2, r1, and r2. 1 for generator, 2 for analyzer\n",
      "[[ 1.          0.01407089 -0.04947143  0.0096741 ]\n",
      " [-0.00411402  0.9981191  -0.06859043 -0.11704623]\n",
      " [-0.0163185  -0.08434557  0.18372558 -0.93505686]\n",
      " [-0.00640444  0.03556115  0.94390427  0.16625808]] This is the Mueller matrix of the sample waveplate\n",
      "0.22203268467423992 This is the retardance of the sample\n",
      "[[ 1.         -0.06899041 -0.05228824 -0.03591791]\n",
      " [-0.07608319  0.91973665  0.04633381 -0.00640827]\n",
      " [-0.02922138 -0.0045979   0.92553164 -0.01039814]\n",
      " [-0.03498848  0.01889187 -0.02053701  0.95780255]] This is the Mueller matrix for calibration (close to identity)\n",
      "0.0457675893048632 This is the RMS error in the calibration matrix\n",
      "0.0464834220498648 This is the retardance error in the sample waveplate\n"
     ]
    }
   ],
   "source": [
    "data1750 = q_ultimate_polarimetry(Cal_theta1750, Cal_Il_1750, Cal_Ir_1750, theta1750, Il_1750, Ir_1750)\n",
    "print(data1750[0], \"This is the Mueller matrix of the sample waveplate\")\n",
    "print(data1750[1], \"This is the retardance of the sample\")\n",
    "print(data1750[2], \"This is the Mueller matrix for calibration (close to identity)\")\n",
    "print(data1750[3], \"This is the RMS error in the calibration matrix\")\n",
    "print(data1750[4], \"This is the retardance error in the sample waveplate\")"
   ]
  },
  {
   "cell_type": "code",
   "execution_count": 30,
   "metadata": {},
   "outputs": [
    {
     "name": "stdout",
     "output_type": "stream",
     "text": [
      "[[ 0.99832915 -0.01121512 -0.09147972 -0.04260057]\n",
      " [-0.04413663  0.73931208  0.43282716  0.00562301]\n",
      " [ 0.11707543  0.19884792  1.          0.04210994]\n",
      " [-0.0827423   0.07475683  0.0318913   0.87623415]]\n",
      "0.14819316472834299\n"
     ]
    }
   ],
   "source": [
    "uncalibrated = q_calibrated_full_mueller_polarimetry(Cal_theta1750, 0, 0, 0, 0, 0, Cal_Il_1750, Cal_Ir_1750, M_in=None)\n",
    "uncalibrated = uncalibrated/np.max(np.abs(uncalibrated))\n",
    "print(uncalibrated)\n",
    "print(RMS_calculator(uncalibrated))"
   ]
  },
  {
   "cell_type": "markdown",
   "metadata": {},
   "source": [
    "1850 nm SK data, 490 fps, 2 ms tint"
   ]
  },
  {
   "cell_type": "code",
   "execution_count": 31,
   "metadata": {},
   "outputs": [
    {
     "name": "stdout",
     "output_type": "stream",
     "text": [
      "Warning: low flux detected, check the image Reduced_DRRP_L_1850nm_490_2_15.999990234374998.fits, index: 4\n",
      "Warning: low flux detected, check the image Reduced_DRRP_L_1850nm_490_2_71.9999560546875.fits, index: 18\n",
      "Warning: low flux detected, check the image Reduced_DRRP_L_1850nm_490_2_75.99995361328125.fits, index: 19\n",
      "Warning: low flux detected, check the image Reduced_DRRP_L_1850nm_490_2_151.9999072265625.fits, index: 38\n",
      "Warning: low flux detected, check the image Reduced_DRRP_L_1850nm_490_2_167.9998974609375.fits, index: 42\n",
      "Warning: low flux detected, check the image Reduced_DRRP_L_1850nm_490_2_179.99989013671873.fits, index: 45\n"
     ]
    }
   ],
   "source": [
    "reduced_filename = 'Reduced_DRRP_'\n",
    "reduced_folder = \"/home/shared/exoserver/Lab_Data/Mueller_Matrix_Polarimeter/L_Plate_Characterization/SuperK_Select_Data/Reduced_Data/Reduced_L_1850/\"\n",
    "lcenter = [316, 248]\n",
    "rcenter = [316, 326]\n",
    "maxradius = 16\n",
    "cutoff = 90000\n",
    "\n",
    "extracted_data = extract_intensities(reduced_filename, reduced_folder, lcenter, rcenter, maxradius, cutoff)\n",
    "Il_1850 = extracted_data[0]\n",
    "Ir_1850 = extracted_data[1]\n",
    "theta1850 = extracted_data[2]"
   ]
  },
  {
   "cell_type": "code",
   "execution_count": 32,
   "metadata": {},
   "outputs": [
    {
     "name": "stdout",
     "output_type": "stream",
     "text": [
      "[-0.05609499 -0.22383639 -0.02307349  0.05014211  0.06790175] Fit parameters for a1, w1, w2, r1, and r2. 1 for generator, 2 for analyzer\n",
      "[[ 1.         -0.04066793 -0.00770832 -0.0078744 ]\n",
      " [ 0.01442284  0.9097523   0.13119174  0.13772319]\n",
      " [ 0.01017948  0.0405773   0.51101506 -0.72999856]\n",
      " [-0.02015892 -0.16195715  0.77854444  0.58719868]] This is the Mueller matrix of the sample waveplate\n",
      "0.16564757608902447 This is the retardance of the sample\n",
      "[[ 1.         -0.02052255  0.00538147 -0.00795726]\n",
      " [-0.08082551  0.97069097  0.05805648  0.00765249]\n",
      " [-0.01464818 -0.0104579   0.89731005 -0.01893554]\n",
      " [-0.00877085  0.0157762  -0.00528169  0.98282784]] This is the Mueller matrix for calibration (close to identity)\n",
      "0.03808761587315295 This is the RMS error in the calibration matrix\n",
      "0.044143887794706335 This is the retardance error in the sample waveplate\n"
     ]
    }
   ],
   "source": [
    "data1850 = q_ultimate_polarimetry(Cal_theta1850, Cal_Il_1850, Cal_Ir_1850, theta1850, Il_1850, Ir_1850)\n",
    "print(data1850[0], \"This is the Mueller matrix of the sample waveplate\")\n",
    "print(data1850[1], \"This is the retardance of the sample\")\n",
    "print(data1850[2], \"This is the Mueller matrix for calibration (close to identity)\")\n",
    "print(data1850[3], \"This is the RMS error in the calibration matrix\")\n",
    "print(data1850[4], \"This is the retardance error in the sample waveplate\")"
   ]
  },
  {
   "cell_type": "code",
   "execution_count": 33,
   "metadata": {},
   "outputs": [
    {
     "name": "stdout",
     "output_type": "stream",
     "text": [
      "[[ 1.         -0.0184592  -0.01105158 -0.01183386]\n",
      " [ 0.02477634  0.67251815  0.71418205  0.01014307]\n",
      " [ 0.29939737 -0.71516999  0.71383107 -0.02527524]\n",
      " [ 0.018467   -0.03850861  0.03020308  0.94755113]]\n",
      "0.28589174900059855\n"
     ]
    }
   ],
   "source": [
    "uncalibrated = q_calibrated_full_mueller_polarimetry(Cal_theta1850, 0, 0, 0, 0, 0, Cal_Il_1850, Cal_Ir_1850, M_in=None)\n",
    "uncalibrated = uncalibrated/np.max(np.abs(uncalibrated))\n",
    "print(uncalibrated)\n",
    "print(RMS_calculator(uncalibrated))"
   ]
  },
  {
   "cell_type": "markdown",
   "metadata": {},
   "source": [
    "1950 nm SK data, 490 fps, 2 ms tint"
   ]
  },
  {
   "cell_type": "code",
   "execution_count": 34,
   "metadata": {},
   "outputs": [
    {
     "name": "stdout",
     "output_type": "stream",
     "text": [
      "Warning: low flux detected, check the image Reduced_DRRP_L_1950nm_490_2_31.999980468749996.fits, index: 8\n",
      "Warning: low flux detected, check the image Reduced_DRRP_L_1950nm_490_2_95.99994140624999.fits, index: 24\n",
      "Warning: low flux detected, check the image Reduced_DRRP_L_1950nm_490_2_107.99993408203125.fits, index: 27\n",
      "Warning: low flux detected, check the image Reduced_DRRP_L_1950nm_490_2_131.99991943359373.fits, index: 33\n"
     ]
    }
   ],
   "source": [
    "reduced_filename = 'Reduced_DRRP_'\n",
    "reduced_folder = \"/home/shared/exoserver/Lab_Data/Mueller_Matrix_Polarimeter/L_Plate_Characterization/SuperK_Select_Data/Reduced_Data/Reduced_L_1950/\"\n",
    "lcenter = [316, 248]\n",
    "rcenter = [316, 326]\n",
    "maxradius = 16\n",
    "cutoff = 90000\n",
    "\n",
    "extracted_data = extract_intensities(reduced_filename, reduced_folder, lcenter, rcenter, maxradius, cutoff)\n",
    "Il_1950 = extracted_data[0]\n",
    "Ir_1950 = extracted_data[1]\n",
    "theta1950 = extracted_data[2]"
   ]
  },
  {
   "cell_type": "code",
   "execution_count": 35,
   "metadata": {},
   "outputs": [
    {
     "name": "stdout",
     "output_type": "stream",
     "text": [
      "[ 0.00271387 -0.04903161  0.06197726  0.01508161 -0.0093532 ] Fit parameters for a1, w1, w2, r1, and r2. 1 for generator, 2 for analyzer\n",
      "[[ 1.          0.00187293  0.0141812  -0.02075488]\n",
      " [-0.01687212  0.93094524  0.13242477  0.32817747]\n",
      " [ 0.04580971 -0.00319951  0.85526162 -0.42008496]\n",
      " [ 0.00230895 -0.33371057  0.39577404  0.8475521 ]] This is the Mueller matrix of the sample waveplate\n",
      "0.0977761758669206 This is the retardance of the sample\n",
      "[[ 0.92448847 -0.01640632 -0.12117122 -0.05733576]\n",
      " [-0.05236752  0.91466275 -0.02458677 -0.02571854]\n",
      " [ 0.03480705 -0.09890947  1.         -0.01551143]\n",
      " [-0.05450754  0.05357669  0.07987859  0.90220676]] This is the Mueller matrix for calibration (close to identity)\n",
      "0.06531300950619215 This is the RMS error in the calibration matrix\n",
      "0.11330721680455656 This is the retardance error in the sample waveplate\n"
     ]
    }
   ],
   "source": [
    "data1950 = q_ultimate_polarimetry(Cal_theta1950, Cal_Il_1950, Cal_Ir_1950, theta1950, Il_1950, Ir_1950)\n",
    "print(data1950[0], \"This is the Mueller matrix of the sample waveplate\")\n",
    "print(data1950[1], \"This is the retardance of the sample\")\n",
    "print(data1950[2], \"This is the Mueller matrix for calibration (close to identity)\")\n",
    "print(data1950[3], \"This is the RMS error in the calibration matrix\")\n",
    "print(data1950[4], \"This is the retardance error in the sample waveplate\")"
   ]
  },
  {
   "cell_type": "code",
   "execution_count": 36,
   "metadata": {},
   "outputs": [
    {
     "name": "stdout",
     "output_type": "stream",
     "text": [
      "0.06531300950619215\n"
     ]
    }
   ],
   "source": [
    "print(np.sqrt(np.mean(np.square(data1950[2]-np.identity(4)))))"
   ]
  },
  {
   "cell_type": "code",
   "execution_count": 37,
   "metadata": {},
   "outputs": [
    {
     "name": "stdout",
     "output_type": "stream",
     "text": [
      "[[ 1.          0.00946586 -0.13785797 -0.05633032]\n",
      " [-0.05371579  0.98874959  0.22643171 -0.01796157]\n",
      " [ 0.13837433 -0.54034842  0.97801944 -0.03867811]\n",
      " [-0.06639719  0.05492189  0.13424506  0.96011563]]\n",
      "0.1614415407445742\n"
     ]
    }
   ],
   "source": [
    "uncalibrated = q_calibrated_full_mueller_polarimetry(Cal_theta1950, 0, 0, 0, 0, 0, Cal_Il_1950, Cal_Ir_1950, M_in=None)\n",
    "uncalibrated = uncalibrated/np.max(np.abs(uncalibrated))\n",
    "print(uncalibrated)\n",
    "print(RMS_calculator(uncalibrated))"
   ]
  },
  {
   "cell_type": "code",
   "execution_count": 38,
   "metadata": {},
   "outputs": [
    {
     "name": "stdout",
     "output_type": "stream",
     "text": [
      "0.1614415407445742\n"
     ]
    }
   ],
   "source": [
    "print(np.sqrt(np.mean(np.square(uncalibrated-np.identity(4)))))"
   ]
  },
  {
   "cell_type": "code",
   "execution_count": 39,
   "metadata": {},
   "outputs": [
    {
     "name": "stdout",
     "output_type": "stream",
     "text": [
      "[0.0, 0.009465857236823878, -0.13785796790003832, -0.056330318392842645, -0.05371578822857675, -0.011250406842353233, 0.2264317118652838, -0.01796157329220182, 0.1383743268562796, -0.5403484237406341, -0.021980563588188118, -0.038678108368182154, -0.06639719471662536, 0.05492189038267925, 0.13424506007589743, -0.039884365601950855]\n",
      "[0.0, 8.960245322793098e-05, 0.019004819313527994, 0.003173104770239026, 0.0028853859050173044, 0.00012657165411846845, 0.051271320138242905, 0.00032261811513113774, 0.019147454332928502, 0.29197641903898786, 0.0004831451756543813, 0.0014959960669408423, 0.004408587466237463, 0.0030164140432070354, 0.01802173615478131, 0.0015907626194700806]\n",
      "0.1614415407445742\n"
     ]
    }
   ],
   "source": [
    "differences = []\n",
    "for i in range(0, 4):\n",
    "    for j in range(0, 4):\n",
    "        differences.append(uncalibrated[i, j]-M_identity[i, j])\n",
    "print(differences)\n",
    "\n",
    "differences_squared = [x**2 for x in differences]\n",
    "print(differences_squared)\n",
    "RMS = np.sqrt(sum(differences_squared)/16)\n",
    "print(RMS)"
   ]
  },
  {
   "cell_type": "markdown",
   "metadata": {},
   "source": [
    "Plot the data"
   ]
  },
  {
   "cell_type": "code",
   "execution_count": 40,
   "metadata": {},
   "outputs": [],
   "source": [
    "old_q_measured_retardance = [0.427, 0.423, 0.120, 0.336, 0.164, 0.198, 0.220, 0.139, 0.127]"
   ]
  },
  {
   "cell_type": "code",
   "execution_count": 41,
   "metadata": {},
   "outputs": [],
   "source": [
    "# From regular I measurements\n",
    "old_wavelength_bins = np.array([1400, 1500, 1550, 1600, 1620, 1650, 1750, 1900, 2000])\n",
    "old_retardance = np.array([0.456, 0.432, 0.122, 0.338, 0.162, 0.198, 0.221, 0.127, 0.131])"
   ]
  },
  {
   "cell_type": "code",
   "execution_count": 42,
   "metadata": {},
   "outputs": [],
   "source": [
    "new_wavelength_bins = [1400, 1500, 1550, 1600, 1620, 1650, 1750, 1850, 1950]\n",
    "new_retardance = [0.447, 0.433, 0.376, 0.336, 0.322, 0.297, 0.224, 0.150, 0.089]"
   ]
  },
  {
   "cell_type": "code",
   "execution_count": 43,
   "metadata": {},
   "outputs": [
    {
     "data": {
      "image/png": "[encoded data removed]",
      "text/plain": [
       "<Figure size 640x480 with 1 Axes>"
      ]
     },
     "metadata": {},
     "output_type": "display_data"
    }
   ],
   "source": [
    "plt.ylim(0, 0.5)\n",
    "plt.xlim(1300, 2050)\n",
    "plt.xlabel(\"Wavelength (nm)\", fontsize=12, fontweight='bold')\n",
    "plt.ylabel(\"Retardance (waves)\", fontsize=12, fontweight='bold')\n",
    "\n",
    "plt.plot(old_wavelength_bins, old_retardance, marker='o', linestyle=' ', color = 'purple', label = 'L HWP: Thorlabs Lamp, Initial')\n",
    "plt.plot(old_wavelength_bins, old_q_measured_retardance, marker='o', linestyle=' ', color = 'green', label = 'L HWP: Thorlabs Lamp, Q measured')\n",
    "plt.plot(new_wavelength_bins, new_retardance, marker='x', linestyle=' ', color = 'orange', label = 'L HWP: SuperK Laser, Q measured')\n",
    "plt.legend()\n",
    "\n",
    "caption = \"Characterization for the L-band half-wave plate (centered). 1cm beam diameter.\"\n",
    "\n",
    "text_width = 70  # Speify desired text width box in characters\n",
    "wrapped_text = textwrap.fill(caption, width=text_width)\n",
    "plt.text(1650, -0.09, wrapped_text, ha='center', va='center')\n",
    "\n",
    "folder_path = \"/home/shared/exoserver/Lab_Data/Mueller_Matrix_Polarimeter/L_Plate_Characterization/SuperK_Select_Data/\"\n",
    "file_name = 'L_HWP_Retardance_Comparison.png'\n",
    "#plt.savefig(folder_path + file_name, bbox_inches='tight', dpi=300)"
   ]
  },
  {
   "cell_type": "code",
   "execution_count": 44,
   "metadata": {},
   "outputs": [],
   "source": [
    "# wavelength_bins = [1100, 1200, 1300, 1400, 1500, 1550, 1600, 1620, 1650, 1750, 1850, 1950]\n",
    "# retardance = np.array([1+data1100[1], 1-data1200[1], 1-data1300[1], 1-data1400[1], data1500[1], data1550[1], data1600[1], data1620[1], data1650[1], data1750[1], data1850[1], data1950[1]])+1\n",
    "\n",
    "wavelength_bins = [1.1, 1.2, 1.3, 1.4, 1.5, 1.6, 1.75, 1.85, 1.95]\n",
    "retardance = np.array([1-data1100[1], 1-data1200[1], 1-data1300[1], 1-data1400[1], data1500[1], data1600[1], data1750[1], data1850[1], data1950[1]])+1"
   ]
  },
  {
   "cell_type": "code",
   "execution_count": 45,
   "metadata": {},
   "outputs": [
    {
     "name": "stdout",
     "output_type": "stream",
     "text": [
      "[1.89978199 1.81664984 1.66432003 1.54133791 1.42635064 1.33515326\n",
      " 1.22203268 1.16564758 1.09777618]\n"
     ]
    }
   ],
   "source": [
    "print(retardance)"
   ]
  },
  {
   "cell_type": "code",
   "execution_count": 46,
   "metadata": {},
   "outputs": [
    {
     "name": "stdout",
     "output_type": "stream",
     "text": [
      "[0.0259693  0.00890342 0.01060559 0.02133995 0.01415686 0.0051448\n",
      " 0.00739807 0.00702572 0.0180334 ]\n"
     ]
    }
   ],
   "source": [
    "#y_err1 = [data1100[4], data1200[4], data1300[4], data1400[4], data1500[4], data1600[4], data1750[4], data1850[4], data1950[4]]\n",
    "y_err1 = np.array([data1100[4], data1200[4], data1300[4], data1400[4], data1500[4], data1600[4], data1750[4], data1850[4], data1950[4]])\n",
    "y_err1 = y_err1/(2*np.pi)\n",
    "print(y_err1)"
   ]
  },
  {
   "cell_type": "code",
   "execution_count": 47,
   "metadata": {},
   "outputs": [
    {
     "name": "stdout",
     "output_type": "stream",
     "text": [
      "0.09608961647804717 0.05110781787416311 0.05721171707298191 0.03443558745240136 0.039708509967530864 0.027808231862481356 0.0457675893048632 0.03808761587315295 0.06531300950619215\n"
     ]
    }
   ],
   "source": [
    "# Raw RMS errors of the calibration matrices (before effor propagation)\n",
    "print(data1100[3], data1200[3], data1300[3], data1400[3], data1500[3], data1600[3], data1750[3], data1850[3], data1950[3])"
   ]
  },
  {
   "cell_type": "code",
   "execution_count": 48,
   "metadata": {},
   "outputs": [],
   "source": [
    "# Import the theoretical values\n",
    "#d = 185.63 #um Estimate by William Chang\n",
    "\n",
    "#Ordinary and Extraordinary indices of refraction takeing from refractiveindex.info. Values for MgF2\n",
    "n_e = np.loadtxt(\"/home/shared/exoserver/Lab_Data/Mueller_Matrix_Polarimeter/L_Plate_Characterization/SuperK_Select_Data/Dodge-e.csv\", delimiter=\",\",skiprows=1)\n",
    "n_o = np.loadtxt(\"/home/shared/exoserver/Lab_Data/Mueller_Matrix_Polarimeter/L_Plate_Characterization/SuperK_Select_Data/Dodge-o.csv\", delimiter=\",\",skiprows=1)"
   ]
  },
  {
   "cell_type": "code",
   "execution_count": 49,
   "metadata": {},
   "outputs": [],
   "source": [
    "# Since the data doesn't have the same wavelengths I've measured, interpolate to get the specific values\n",
    "specific_ne = np.interp(wavelength_bins, n_e[:,0], n_e[:,1])\n",
    "specific_no = np.interp(wavelength_bins, n_o[:,0], n_o[:,1])"
   ]
  },
  {
   "cell_type": "code",
   "execution_count": 50,
   "metadata": {},
   "outputs": [
    {
     "name": "stdout",
     "output_type": "stream",
     "text": [
      "[188.18689923] This is the best fit value of d\n",
      "[0.6018157911288817] This is the uncertainty in the best fit values\n"
     ]
    }
   ],
   "source": [
    "# Find d, the difference in plate thickness\n",
    "initial_guess = [185] # initial guess for d, in microns\n",
    "popt, pcov = curve_fit(lambda w, d: d*(specific_ne - specific_no)/w, wavelength_bins, retardance, sigma=y_err1, p0=initial_guess)\n",
    "print(popt, \"This is the best fit value of d\")\n",
    "print(list(np.sqrt(np.diagonal(pcov))), \"This is the uncertainty in the best fit values\")"
   ]
  },
  {
   "cell_type": "code",
   "execution_count": 51,
   "metadata": {},
   "outputs": [],
   "source": [
    "d = popt[0]"
   ]
  },
  {
   "cell_type": "code",
   "execution_count": 52,
   "metadata": {},
   "outputs": [],
   "source": [
    "def theoretical_retardance(w, d):\n",
    "    specific_ne = np.interp(w, n_e[:,0], n_e[:,1])\n",
    "    specific_no = np.interp(w, n_o[:,0], n_o[:,1])\n",
    "    return d*(specific_ne - specific_no)/w"
   ]
  },
  {
   "cell_type": "code",
   "execution_count": 53,
   "metadata": {},
   "outputs": [
    {
     "name": "stdout",
     "output_type": "stream",
     "text": [
      "0.575746331842567\n",
      "[0.00184122]\n",
      "[-0.00184122]\n",
      "0.45008698162603966\n",
      "[0.00143936]\n",
      "[-0.00143936]\n"
     ]
    }
   ],
   "source": [
    "print(theoretical_retardance(3.4, d)) \n",
    "print(theoretical_retardance(3.4, d+list(np.sqrt(np.diagonal(pcov)))) - theoretical_retardance(3.4, d))\n",
    "print(theoretical_retardance(3.4, d) - theoretical_retardance(3.4, d+list(np.sqrt(np.diagonal(pcov)))))\n",
    "\n",
    "print(theoretical_retardance(4.1, d))\n",
    "print(theoretical_retardance(4.1, d+list(np.sqrt(np.diagonal(pcov)))) - theoretical_retardance(4.1, d))\n",
    "print(theoretical_retardance(4.1, d) - theoretical_retardance(4.1, d+list(np.sqrt(np.diagonal(pcov)))))"
   ]
  },
  {
   "cell_type": "code",
   "execution_count": 54,
   "metadata": {},
   "outputs": [
    {
     "data": {
      "text/plain": [
       "0.5095671909236258"
      ]
     },
     "execution_count": 54,
     "metadata": {},
     "output_type": "execute_result"
    }
   ],
   "source": [
    "L_wavelengths = np.linspace(3.4, 4.1, 100)\n",
    "np.mean(theoretical_retardance(L_wavelengths, d))"
   ]
  },
  {
   "cell_type": "code",
   "execution_count": 280,
   "metadata": {},
   "outputs": [
    {
     "data": {
      "image/png": "[encoded data removed]",
      "text/plain": [
       "<Figure size 640x480 with 1 Axes>"
      ]
     },
     "metadata": {},
     "output_type": "display_data"
    }
   ],
   "source": [
    "plt.ylim(0.4, 2.4)\n",
    "plt.xlim(0.9, 4.2)\n",
    "plt.xlabel(\"Wavelength $(\\mu m)$\", fontsize=12, fontweight='bold')\n",
    "plt.ylabel(\"Retardance $(waves)$\", fontsize=12, fontweight='bold')\n",
    "\n",
    "plt.errorbar(wavelength_bins, retardance, yerr=y_err1, marker='o', capsize=2, linestyle=' ', color = 'purple', label = 'Lab Measurements')\n",
    "plt.plot(n_e[:,0], 1/n_e[:,0]*d*(n_e[:,1]-n_o[:,1]), label=\"Design\", linestyle='--', color='gray')\n",
    "plt.fill_between([3.4, 4.1],0,2,color='r',alpha=0.3, label=\"Keck L'\")\n",
    "\n",
    "caption = \"Characterization for the L-band half-wave plate. Data taken with SuperK SELECT laser.\"\n",
    "\n",
    "text_width = 70  # Speify desired text width box in characters\n",
    "wrapped_text = textwrap.fill(caption, width=text_width)\n",
    "#plt.text(2.5, 0, wrapped_text, ha='center', va='center')\n",
    "\n",
    "plt.legend(fontsize=12)\n",
    "#plt.grid(True)\n",
    "\n",
    "folder_path = \"/home/shared/exoserver/Lab_Data/Mueller_Matrix_Polarimeter/L_Plate_Characterization/SuperK_Select_Data/\"\n",
    "file_name = 'Final_L_Band_HWP_Retardance_6_3.png'\n",
    "#plt.savefig(folder_path + file_name, bbox_inches='tight', dpi=300)"
   ]
  },
  {
   "cell_type": "markdown",
   "metadata": {},
   "source": [
    "Testing the calibration matrix reconstruction"
   ]
  },
  {
   "cell_type": "code",
   "execution_count": 184,
   "metadata": {},
   "outputs": [],
   "source": [
    "def test_q_calibrated_full_mueller_polarimetry(thetas, a1, w1, w2, r1, r2, I, Q, M_in=None):\n",
    "    nmeas = len(thetas)  # Number of measurements\n",
    "    Wmat1 = np.zeros([nmeas, 16])\n",
    "    Pmat1 = np.zeros([nmeas])\n",
    "    Wmat2 = np.zeros([nmeas, 16])\n",
    "    Pmat2 = np.zeros([nmeas])\n",
    "    th = thetas\n",
    "\n",
    "    for i in range(nmeas):\n",
    "        # Mueller Matrix of generator (linear polarizer and a quarter wave plate)\n",
    "        Mg = linear_retarder(th[i]+w1, np.pi/2+r1) @ linear_polarizer(0+a1)\n",
    "\n",
    "        # Mueller Matrix of analyzer (one channel of the Wollaston prism is treated as a linear polarizer. The right spot is horizontal (0) and the left spot is vertical(pi/2))\n",
    "        Ma = linear_retarder(th[i]*5+w2, np.pi/2+r2)\n",
    "\n",
    "        # Data reduction matrix. Taking the 0 index ensures that intensity is the output\n",
    "        Wmat1[i,:] = np.kron((Ma)[0,:], Mg[:,0]) # for the top row, using intensities\n",
    "        Wmat2[i,:] = np.kron((Ma)[1,:], Mg[:,0]) # for the bottom 3 rows, using Q\n",
    "\n",
    "        # M_in is some example Mueller matrix. Providing this input will test theoretical Mueller matrix. Otherwise, the raw data is used\n",
    "        if M_in is not None:\n",
    "            Pmat1[i] = (Ma[0,:] @ M_in @ Mg[:,0])\n",
    "            Pmat2[i] = (Ma[1,:] @ M_in @ Mg[:,0])\n",
    "        else:\n",
    "            Pmat1[i] = I[i]  #Pmat is a vector of measurements (either I or Q)\n",
    "            Pmat2[i] = Q[i] \n",
    "\n",
    "    # Compute Mueller matrix using Moore-Penrose pseudo invervse\n",
    "    M1 = np.linalg.pinv(Wmat1) @ Pmat1\n",
    "    M1 = np.reshape(M1, [4,4])\n",
    "\n",
    "    M2 = np.linalg.pinv(Wmat2) @ Pmat2\n",
    "    M2 = np.reshape(M2, [4,4])\n",
    "\n",
    "    M = np.zeros([4,4])\n",
    "    M[0,:] = M1[0,:]\n",
    "    M[1:4,:] = M2[1:4,:]\n",
    "\n",
    "    return M"
   ]
  },
  {
   "cell_type": "code",
   "execution_count": 59,
   "metadata": {},
   "outputs": [
    {
     "name": "stdout",
     "output_type": "stream",
     "text": [
      "40\n"
     ]
    }
   ],
   "source": [
    "print(len(Cal_theta1600))\n"
   ]
  },
  {
   "cell_type": "code",
   "execution_count": 60,
   "metadata": {},
   "outputs": [
    {
     "name": "stdout",
     "output_type": "stream",
     "text": [
      "[[1.  0.4 0.3 0.2]\n",
      " [0.4 0.9 0.2 0.3]\n",
      " [0.3 0.2 0.9 0.4]\n",
      " [0.2 0.3 0.4 0.9]]\n"
     ]
    }
   ],
   "source": [
    "M_ex = np.array([[1, 0.4, 0.3, 0.2],\n",
    "                 [0.4, 0.9, 0.2, 0.3],\n",
    "                 [0.3, 0.2, 0.9, 0.4],\n",
    "                 [0.2, 0.3, 0.4, 0.9]])\n",
    "print(M_ex)"
   ]
  },
  {
   "cell_type": "code",
   "execution_count": 270,
   "metadata": {},
   "outputs": [
    {
     "name": "stdout",
     "output_type": "stream",
     "text": [
      "[[ 0.76022233  0.72080215 -0.28773797 -0.41812537]\n",
      " [ 0.7124023   0.83357927  0.07828331 -0.37238078]\n",
      " [ 0.08723362  0.91102691  0.04744668  0.46245995]\n",
      " [-0.79508177 -0.88090707 -0.20446994  0.61738513]]\n"
     ]
    }
   ],
   "source": [
    "M_rand = np.random.uniform(-1, 1, (4, 4))\n",
    "print(M_rand)"
   ]
  },
  {
   "cell_type": "code",
   "execution_count": 271,
   "metadata": {},
   "outputs": [
    {
     "name": "stdout",
     "output_type": "stream",
     "text": [
      "[-0.5461135480737316, 0.3968655257315674, 0.21985638126312956, -0.06573005429532089, -0.07542239963520254, 0.14911654031032814, -0.14118068090959213, -0.377537181793781, 0.06591375222839022, 0.07973964163060024, 0.26610636592255804, 0.7158518721192059, 0.1433512139156155, -1.0114007401247926, -0.982549024989735, 0.28638392509357524, 1.0282734436522394, 0.6687312684835713, 0.42019044392094684, 0.7154478006537407, 0.5396262336591447, -0.3709096596336674, -0.8729308709323482, -0.3630020849930095, 0.3596212351211819, 0.5143992167800348, 0.34012520482744957, 0.6985306618080332, 0.6384124130048133, -0.1492720596190487, -1.0460408169909694, -0.9085498130315605, 0.2960036765309777, 1.1611193946156706, 0.23345654801830243, 0.355194885711656, 0.6273792349019985, 0.16449810026773623, -0.5523905926559364, -0.5461135480737324]\n",
      "1.1611193946156706\n"
     ]
    }
   ],
   "source": [
    "simulated_q = q_output_simulation_function(Cal_theta1600, 0.1, 0.5, -0.5, 0.1, 0.5, M_in=M_rand) # Varies between -1 and 1\n",
    "print(simulated_q)\n",
    "print(max(np.abs(simulated_q)))"
   ]
  },
  {
   "cell_type": "code",
   "execution_count": 272,
   "metadata": {},
   "outputs": [
    {
     "name": "stdout",
     "output_type": "stream",
     "text": [
      "[0.254924457487535, 0.1465544460562238, 0.11919514333152037, 0.11204291914637761, 0.1251832271986967, 0.1573589358846944, 0.2677789634392598, 0.33815731712764613, 0.4124351587115359, 0.6116609157278182, 0.6571509526095128, 0.6879446688810906, 0.7032559822119039, 0.7035558076116369, 0.6905033173382527, 0.6667846478235141, 0.635872187420741, 0.6017237290560645, 0.5684454157257938, 0.5399451847338262, 0.5196041139086313, 0.5099916365060118, 0.5126471333537582, 0.5279452001084259, 0.5550553293026452, 0.5919993507362551, 0.6358023143130254, 0.7285611870137904, 0.7689729800118784, 0.7998438737117592, 0.8176160260622133, 0.8195887757408923, 0.8041536452339682, 0.770947292508565, 0.6562446454641038, 0.5802785162469255, 0.4972383691164573, 0.41195519565118766, 0.3295211373358835, 0.25492445748753517]\n",
      "0.8195887757408923\n"
     ]
    }
   ],
   "source": [
    "simulated_I = I_output_simulation_function(Cal_theta1600, 0.1, 0.5, -0.5, 0.1, 0.5, M_in=M_rand) # Constant 0.5 with the identity matrix, but otherwise it can vary between 0 and 1\n",
    "print(simulated_I)\n",
    "print(max(simulated_I))"
   ]
  },
  {
   "cell_type": "code",
   "execution_count": 273,
   "metadata": {},
   "outputs": [
    {
     "data": {
      "text/plain": [
       "array([[ 0.76022233,  0.72080215, -0.28773797, -0.41812537],\n",
       "       [ 0.7124023 ,  0.83357927,  0.07828331, -0.37238078],\n",
       "       [ 0.08723362,  0.91102691,  0.04744668,  0.46245995],\n",
       "       [-0.79508177, -0.88090707, -0.20446994,  0.61738513]])"
      ]
     },
     "execution_count": 273,
     "metadata": {},
     "output_type": "execute_result"
    }
   ],
   "source": [
    "test_q_calibrated_full_mueller_polarimetry(Cal_theta1600, 0.1, 0.5, -0.5, 0.1, 0.5, simulated_I, simulated_q)"
   ]
  },
  {
   "cell_type": "markdown",
   "metadata": {},
   "source": [
    "Success! With a randomly generated matrix and the Q and I values from that, we are able to perfectly reconstruct the matrix"
   ]
  },
  {
   "cell_type": "markdown",
   "metadata": {},
   "source": [
    "Now try generating Q and I values that are multiplied by some large number to test the best method of normaliation"
   ]
  },
  {
   "cell_type": "code",
   "execution_count": 216,
   "metadata": {},
   "outputs": [],
   "source": [
    "def test_I_output_simulation_function(t, a1, w1, w2, r1, r2, Flux_in, M_in=None):\n",
    "    if M_in is None:\n",
    "        M = M_identity\n",
    "    else:\n",
    "        M = M_in\n",
    "\n",
    "    B = np.array([[Flux_in], [0], [0], [0]])\n",
    "\n",
    "    prediction = [None]*len(t)\n",
    "    for i in range(len(t)):\n",
    "        prediction[i] = float(A  @ linear_retarder(5*t[i]+w2, np.pi/2+r2) @ M @ linear_retarder(t[i]+w1, np.pi/2+r1) @ linear_polarizer(a1) @ B)\n",
    "    return prediction"
   ]
  },
  {
   "cell_type": "code",
   "execution_count": 217,
   "metadata": {},
   "outputs": [],
   "source": [
    "def test_q_output_simulation_function(t, a1, w1, w2, r1, r2, Flux_in, M_in=None):\n",
    "    if M_in is None:\n",
    "        M = M_identity\n",
    "    else:\n",
    "        M = M_in\n",
    "\n",
    "    B = np.array([[Flux_in], [0], [0], [0]])\n",
    "\n",
    "    prediction = [None]*len(t)\n",
    "    for i in range(len(t)):\n",
    "        prediction[i] = float(C @ linear_retarder(5*t[i]+w2, np.pi/2+r2) @ M @ linear_retarder(t[i]+w1, np.pi/2+r1) @ linear_polarizer(a1) @ B)\n",
    "    return prediction"
   ]
  },
  {
   "cell_type": "code",
   "execution_count": 274,
   "metadata": {},
   "outputs": [
    {
     "name": "stdout",
     "output_type": "stream",
     "text": [
      "[ 764.77337246  439.66333817  357.58542999  336.12875744  375.5496816\n",
      "  472.07680765  803.33689032 1014.47195138 1237.30547613 1834.98274718\n",
      " 1971.45285783 2063.83400664 2109.76794664 2110.66742283 2071.50995201\n",
      " 2000.35394347 1907.61656226 1805.17118717 1705.33624718 1619.8355542\n",
      " 1558.81234173 1529.97490952 1537.94140006 1583.83560033 1665.16598791\n",
      " 1775.99805221 1907.40694294 2185.68356104 2306.91894004 2399.53162114\n",
      " 2452.84807819 2458.76632722 2412.4609357  2312.84187753 1968.73393639\n",
      " 1740.83554874 1491.71510735 1235.86558695  988.56341201  764.77337246]\n",
      "2458.766327222677\n",
      "[0.31103947 0.17881461 0.14543286 0.13670626 0.15273907 0.19199743\n",
      " 0.32672356 0.41259389 0.50322207 0.74630221 0.8018057  0.83937786\n",
      " 0.85805956 0.85842538 0.84249972 0.81356    0.77584297 0.73417761\n",
      " 0.69357394 0.65880012 0.63398149 0.62225308 0.62549311 0.64415865\n",
      " 0.67723637 0.72231266 0.77575771 0.88893505 0.93824245 0.97590877\n",
      " 0.997593   1.         0.98116723 0.94065136 0.80069989 0.70801179\n",
      " 0.60669251 0.50263645 0.40205667 0.31103947]\n"
     ]
    }
   ],
   "source": [
    "simulated_I2 = test_I_output_simulation_function(Cal_theta1600, 0.1, 0.5, -0.5, 0.1, 0.5, Flux_in=3000, M_in=M_rand)\n",
    "simulated_I2 = np.array(simulated_I2)\n",
    "print(simulated_I2)\n",
    "print(max(simulated_I2))\n",
    "print(simulated_I2/max(simulated_I2))"
   ]
  },
  {
   "cell_type": "code",
   "execution_count": 275,
   "metadata": {},
   "outputs": [
    {
     "name": "stdout",
     "output_type": "stream",
     "text": [
      "[-1638.34064422  1190.59657719   659.56914379  -197.19016289\n",
      "  -226.26719891   447.34962093  -423.54204273 -1132.61154538\n",
      "   197.74125669   239.21892489   798.31909777  2147.55561636\n",
      "   430.05364175 -3034.20222037 -2947.64707497   859.15177528\n",
      "  3084.82033096  2006.19380545  1260.57133176  2146.34340196\n",
      "  1618.87870098 -1112.7289789  -2618.7926128  -1089.00625498\n",
      "  1078.86370536  1543.19765034  1020.37561448  2095.59198542\n",
      "  1915.23723901  -447.81617886 -3138.12245097 -2725.64943909\n",
      "   888.01102959  3483.35818385   700.36964405  1065.58465713\n",
      "  1882.13770471   493.4943008  -1657.17177797 -1638.34064422]\n",
      "[-2.14225639  2.70797329  1.84450788 -0.58665068 -0.60249605  0.94762042\n",
      " -0.52722842 -1.11645427  0.15981604  0.13036576  0.40493948  1.04056606\n",
      "  0.20383931 -1.43755581 -1.42294613  0.42949988  1.61710712  1.11135931\n",
      "  0.73919225  1.32503784  1.03853341 -0.72728577 -1.70279089 -0.68757531\n",
      "  0.6479016   0.86891855  0.53495434  0.95878105  0.83021436 -0.1866265\n",
      " -1.27937905 -1.1085435   0.36809343  1.50609439  0.35574621  0.61211104\n",
      "  1.26172732  0.39931066 -1.67634343 -2.14225639]\n"
     ]
    }
   ],
   "source": [
    "simulated_q2 = test_q_output_simulation_function(Cal_theta1600, 0.1, 0.5, -0.5, 0.1, 0.5, Flux_in=3000, M_in=M_rand)\n",
    "simulated_q2 = np.array(simulated_q2)\n",
    "print(simulated_q2)\n",
    "print(simulated_q2/simulated_I2)"
   ]
  },
  {
   "cell_type": "code",
   "execution_count": 276,
   "metadata": {},
   "outputs": [
    {
     "name": "stdout",
     "output_type": "stream",
     "text": [
      "[[ 0.76022233  0.72080215 -0.28773797 -0.41812537]\n",
      " [ 0.7124023   0.83357927  0.07828331 -0.37238078]\n",
      " [ 0.08723362  0.91102691  0.04744668  0.46245995]\n",
      " [-0.79508177 -0.88090707 -0.20446994  0.61738513]]\n"
     ]
    }
   ],
   "source": [
    "print(M_rand)"
   ]
  },
  {
   "cell_type": "code",
   "execution_count": 277,
   "metadata": {},
   "outputs": [
    {
     "name": "stdout",
     "output_type": "stream",
     "text": [
      "[[ 0.76022233  0.72080215 -0.28773797 -0.41812537]\n",
      " [ 0.7124023   0.83357927  0.07828331 -0.37238078]\n",
      " [ 0.08723362  0.91102691  0.04744668  0.46245995]\n",
      " [-0.79508177 -0.88090707 -0.20446994  0.61738513]]\n"
     ]
    }
   ],
   "source": [
    "test_M = test_q_calibrated_full_mueller_polarimetry(Cal_theta1600, 0.1, 0.5, -0.5, 0.1, 0.5, simulated_I2/3000, simulated_q2/3000)\n",
    "#test_M = test_M/np.max(np.abs(test_M))\n",
    "print(test_M)"
   ]
  },
  {
   "cell_type": "code",
   "execution_count": 278,
   "metadata": {},
   "outputs": [
    {
     "name": "stdout",
     "output_type": "stream",
     "text": [
      "[[ 0.83446748  0.79119743 -0.31583916 -0.4589605 ]\n",
      " [ 0.78197723  0.91498863  0.08592865 -0.40874838]\n",
      " [ 0.09575306  1.          0.05208044  0.5076249 ]\n",
      " [-0.87273138 -0.96693858 -0.22443897  0.67768045]]\n"
     ]
    }
   ],
   "source": [
    "test_M = test_q_calibrated_full_mueller_polarimetry(Cal_theta1600, 0.1, 0.5, -0.5, 0.1, 0.5, simulated_I2/max(simulated_I2), simulated_q2/max(simulated_I2))\n",
    "test_M = test_M/np.max(np.abs(test_M))\n",
    "print(test_M)"
   ]
  },
  {
   "cell_type": "code",
   "execution_count": 279,
   "metadata": {},
   "outputs": [],
   "source": [
    "# If you divide the intensity and Q by Flux_in, you get a perfect reconstruction on the top row. The better the overall transmission, this better the approximation becomes when using max of the measured intensity, instead of the input intensity"
   ]
  },
  {
   "cell_type": "code",
   "execution_count": 65,
   "metadata": {},
   "outputs": [
    {
     "name": "stdout",
     "output_type": "stream",
     "text": [
      "[[ 1.         -0.02037747 -0.01299027 -0.02770441]\n",
      " [-0.07274901  0.97367429 -0.0162463   0.00122155]\n",
      " [ 0.02201818 -0.00855546  0.98534582  0.00166156]\n",
      " [-0.03173435  0.03622535  0.01560658  0.96215909]]\n",
      "0.027808231862481356\n"
     ]
    }
   ],
   "source": [
    "print(data1600[2])\n",
    "print(data1600[3])"
   ]
  },
  {
   "cell_type": "code",
   "execution_count": 66,
   "metadata": {},
   "outputs": [
    {
     "name": "stdout",
     "output_type": "stream",
     "text": [
      "[[ 0.9615384  -0.02156725 -0.01103457 -0.02667166]\n",
      " [-0.12402778  0.9467621  -0.26230087  0.0281769 ]\n",
      " [-0.06157619  0.46055893  1.         -0.04059958]\n",
      " [-0.06109745  0.06655095 -0.00628914  0.86503715]]\n",
      "0.1446031974468584\n"
     ]
    }
   ],
   "source": [
    "uncalibrated = q_calibrated_full_mueller_polarimetry(Cal_theta1600, 0, 0, 0, 0, 0, Cal_Il_1600, Cal_Ir_1600, M_in=None)\n",
    "uncalibrated = uncalibrated/np.max(np.abs(uncalibrated))\n",
    "print(uncalibrated)\n",
    "print(RMS_calculator(uncalibrated))"
   ]
  },
  {
   "cell_type": "code",
   "execution_count": 67,
   "metadata": {},
   "outputs": [
    {
     "name": "stdout",
     "output_type": "stream",
     "text": [
      "[ 0.94914983 -0.14636128 -0.49729035 -0.09519108  0.61499797  0.99836271\n",
      "  0.50689438  0.10840792 -0.45429714 -0.38242407  0.13310187  0.42332721\n",
      "  0.66932851  0.97256685  0.83387496  0.16073396 -0.31554315 -0.08393517\n",
      "  0.64618714  0.95763718  0.25365594 -0.40940236 -0.37680653  0.26134345\n",
      "  0.89703987  0.9591277   0.66500758 -0.15535921 -0.7268607  -0.99643091\n",
      " -0.66422964 -0.10064404  0.30157723  0.53473244  0.98751077  0.51198985\n",
      " -0.14038605 -0.29340596  0.26039733  0.95137214]\n",
      "[-0.01431039  0.01575041 -0.09014184  0.02618675  0.0502464 ]\n",
      "[0.23630742 0.19993158 0.0869241  0.25537449 0.24376288]\n"
     ]
    }
   ],
   "source": [
    "parameter_bounds = ([-np.pi, -np.pi, -np.pi, -np.pi/2, -np.pi/2], [np.pi, np.pi, np.pi, np.pi/2, np.pi/2])\n",
    "#initial_guess = [0, 0, 0, 0, 0]\n",
    "initial_guess = [random.uniform(-0.05, 0.05), random.uniform(-0.05, 0.05), random.uniform(-0.05, 0.05), random.uniform(-0.05, 0.05), random.uniform(-0.05, 0.05)] # randomizing the initial guess doesn't change RMS significantly\n",
    "Q = (Cal_Ir_1600 - Cal_Il_1600)/(Cal_Ir_1600 + Cal_Il_1600) # This normalization made it better\n",
    "print(Q)\n",
    "\n",
    "popt, pcov = curve_fit(q_calibration_function, Cal_theta1600, Q, p0=initial_guess, bounds =parameter_bounds)\n",
    "print(popt)\n",
    "print(np.sqrt(np.diagonal(pcov)))"
   ]
  },
  {
   "cell_type": "code",
   "execution_count": 68,
   "metadata": {},
   "outputs": [
    {
     "name": "stdout",
     "output_type": "stream",
     "text": [
      "[[ 0.98492015 -0.02047551 -0.01292874 -0.0272533 ]\n",
      " [-0.0888175   0.97255822 -0.02122632  0.00142774]\n",
      " [ 0.02444659 -0.00273925  1.          0.00147555]\n",
      " [-0.03102866  0.03535365  0.01685449  0.94689499]]\n",
      "0.03218591384400731\n"
     ]
    }
   ],
   "source": [
    "calibrated = q_calibrated_full_mueller_polarimetry(Cal_theta1600, popt[0], popt[1], popt[2], popt[3], popt[4], Cal_Il_1600, Cal_Ir_1600, M_in=None)\n",
    "calibrated = calibrated/np.max(np.abs(calibrated))\n",
    "print(calibrated)\n",
    "print(RMS_calculator(calibrated))"
   ]
  },
  {
   "cell_type": "code",
   "execution_count": 69,
   "metadata": {},
   "outputs": [],
   "source": [
    "def test_q_calibration_function(t, a1, w1, w2, r1, r2):\n",
    "    prediction = [None]*len(t)\n",
    "    I = (Cal_Ir_1600 + Cal_Il_1600)\n",
    "    for i in range(len(t)):\n",
    "        B = np.array([[I[i]], [0], [0], [0]])\n",
    "        prediction[i] = float(C @ linear_retarder(5*t[i]+w2, np.pi/2+r2) @ M_identity @ linear_retarder(t[i]+w1, np.pi/2+r1) @ linear_polarizer(a1) @ B)\n",
    "    return prediction"
   ]
  },
  {
   "cell_type": "markdown",
   "metadata": {},
   "source": [
    "This can be done by define the calibration as a nested function within the larger function. "
   ]
  },
  {
   "cell_type": "code",
   "execution_count": 70,
   "metadata": {},
   "outputs": [
    {
     "name": "stdout",
     "output_type": "stream",
     "text": [
      "[-0.01044655  0.01880865 -0.09004509  0.03857535  0.05945612]\n",
      "[0.22980876 0.19303065 0.08401106 0.24597103 0.23243254]\n"
     ]
    }
   ],
   "source": [
    "parameter_bounds = ([-np.pi, -np.pi, -np.pi, -np.pi/2, -np.pi/2], [np.pi, np.pi, np.pi, np.pi/2, np.pi/2])\n",
    "#initial_guess = [0, 0, 0, 0, 0]\n",
    "initial_guess = [random.uniform(-0.05, 0.05), random.uniform(-0.05, 0.05), random.uniform(-0.05, 0.05), random.uniform(-0.05, 0.05), random.uniform(-0.05, 0.05)] # randomizing the initial guess doesn't change RMS significantly\n",
    "Q = (Cal_Ir_1600 - Cal_Il_1600)#/(Cal_Ir_1600 + Cal_Il_1600) # This normalization made it better\n",
    "#print(Q)\n",
    "\n",
    "popt, pcov = curve_fit(test_q_calibration_function, Cal_theta1600, Q, p0=initial_guess, bounds =parameter_bounds)\n",
    "print(popt)\n",
    "print(np.sqrt(np.diagonal(pcov)))"
   ]
  },
  {
   "cell_type": "code",
   "execution_count": 71,
   "metadata": {},
   "outputs": [
    {
     "name": "stdout",
     "output_type": "stream",
     "text": [
      "[[ 1.         -0.02048608 -0.01306641 -0.0276927 ]\n",
      " [-0.07839208  0.97836374 -0.01722309  0.00139882]\n",
      " [ 0.02288829 -0.00663195  0.99427224  0.00129451]\n",
      " [-0.03174039  0.03619199  0.01607686  0.96168581]]\n",
      "0.02841151702619013\n"
     ]
    }
   ],
   "source": [
    "test_calibrated = q_calibrated_full_mueller_polarimetry(Cal_theta1600, popt[0], popt[1], popt[2], popt[3], popt[4], Cal_Il_1600, Cal_Ir_1600, M_in=None)\n",
    "test_calibrated = test_calibrated/np.max(np.abs(test_calibrated))\n",
    "print(test_calibrated)\n",
    "print(RMS_calculator(test_calibrated))"
   ]
  },
  {
   "cell_type": "markdown",
   "metadata": {},
   "source": [
    "Try simulating the intensity data and see what happens"
   ]
  },
  {
   "cell_type": "code",
   "execution_count": 72,
   "metadata": {},
   "outputs": [
    {
     "name": "stdout",
     "output_type": "stream",
     "text": [
      "[0 1 0 0]\n"
     ]
    }
   ],
   "source": [
    "print(C)"
   ]
  },
  {
   "cell_type": "code",
   "execution_count": 73,
   "metadata": {},
   "outputs": [
    {
     "data": {
      "text/plain": [
       "array([0.        , 0.06981317, 0.13962634, 0.20943951, 0.27925268,\n",
       "       0.34906585, 0.41887902, 0.48869219, 0.55850536, 0.62831853,\n",
       "       0.6981317 , 0.76794487, 0.83775804, 0.90757121, 0.97738438,\n",
       "       1.04719755, 1.11701072, 1.18682389, 1.25663706, 1.32645023,\n",
       "       1.3962634 , 1.46607657, 1.53588974, 1.60570291, 1.67551608,\n",
       "       1.74532925, 1.81514242, 1.88495559, 1.95476876, 2.02458193,\n",
       "       2.0943951 , 2.16420827, 2.23402144, 2.30383461, 2.37364778,\n",
       "       2.44346095, 2.51327412, 2.58308729, 2.65290046, 2.72271363,\n",
       "       2.7925268 , 2.86233997, 2.93215314, 3.00196631, 3.07177948,\n",
       "       3.14159265])"
      ]
     },
     "execution_count": 73,
     "metadata": {},
     "output_type": "execute_result"
    }
   ],
   "source": [
    "np.linspace(0, np.pi, 46)"
   ]
  },
  {
   "cell_type": "code",
   "execution_count": 74,
   "metadata": {},
   "outputs": [
    {
     "name": "stdout",
     "output_type": "stream",
     "text": [
      "[0.         0.06981317 0.13962634 0.20943951 0.27925268 0.34906585\n",
      " 0.41887902 0.48869219 0.55850536 0.62831853 0.76794487 0.90757121\n",
      " 0.97738438 1.04719755 1.11701072 1.18682389 1.25663706 1.32645023\n",
      " 1.3962634  1.46607657 1.53588974 1.60570291 1.67551608 1.88495559\n",
      " 1.95476876 2.02458193 2.0943951  2.16420827 2.23402144 2.30383461\n",
      " 2.37364778 2.44346095 2.51327412 2.58308729 2.65290046 2.72271363\n",
      " 2.7925268  2.86233997 2.93215314 3.00196631 3.14159265]\n"
     ]
    }
   ],
   "source": [
    "print(Cal_theta1400)"
   ]
  },
  {
   "cell_type": "code",
   "execution_count": 75,
   "metadata": {},
   "outputs": [
    {
     "name": "stdout",
     "output_type": "stream",
     "text": [
      "[ 0.3518586   0.32884356  0.03853572 -0.05306585  0.16679635  0.44705155\n",
      "  0.46007527  0.32300403  0.28240655  0.25431359 -0.31253836 -0.3567099\n",
      " -0.06679398  0.2004144   0.41414629  0.49104627  0.29047427 -0.09710924\n",
      " -0.35218642 -0.20859276  0.18415111  0.40288393  0.18240245  0.3224313\n",
      "  0.48769133  0.39083453  0.2868816   0.28316816  0.16765824 -0.14115415\n",
      " -0.43934798 -0.46173911 -0.21682072  0.07439701  0.3161546   0.47806356\n",
      "  0.43487759  0.10136411 -0.26199323 -0.33452198  0.34825482]\n"
     ]
    }
   ],
   "source": [
    "#print((Cal_Ir_1400 - Cal_Il_1400)/((Cal_Ir_1400 + Cal_Il_1400)))\n",
    "#print((Cal_Ir_1400 - Cal_Il_1400)/(max(Cal_Ir_1400 + Cal_Il_1400)))\n",
    "print((Cal_Ir_1400 - Cal_Il_1400)/(2*(Cal_Ir_1400 + Cal_Il_1400)))"
   ]
  },
  {
   "cell_type": "code",
   "execution_count": 76,
   "metadata": {},
   "outputs": [
    {
     "name": "stdout",
     "output_type": "stream",
     "text": [
      "[-0.6396564028331351, -0.6069937423894509, -0.5568977958468093, -0.4895085178409044, -0.4064527778352244, -0.31078827325977276, -0.2068323624447756, -0.09988779937580779, 0.004114552878414474, 0.09902939105855912, 0.23856841846976745, 0.2814949233226658, 0.26066540266048854, 0.21165001437300018, 0.13656958199637492, 0.039102230047221576, -0.07575995425392587, -0.2020478760805546, -0.33322086837159337, -0.46261030574006734, -0.5838682560648956, -0.6913877335167771, -0.7806633861358954, -0.9155122871127309, -0.9161068873036929, -0.8981795198461168, -0.8656784889744495, -0.8232607170415083, -0.775889311634997, -0.728416405339754, -0.6851842235188056, -0.6496757358032184, -0.6242422092497417, -0.609928821993881, -0.6064116967962221, -0.6120508823572485, -0.6240546347720115, -0.6387415466399162, -0.6518793228435493, -0.6590729134535576, -0.6396564028331351]\n"
     ]
    }
   ],
   "source": [
    "simulated_intensity = []\n",
    "for i in range(len(Cal_theta1400)):\n",
    "    simulated_intensity.append(float(A @ linear_retarder(5*Cal_theta1400[i], np.pi/2) @ M_rand @ linear_retarder(Cal_theta1400[i], np.pi/2) @ linear_polarizer(0) @ B))\n",
    "\n",
    "print(simulated_intensity)"
   ]
  },
  {
   "cell_type": "code",
   "execution_count": 77,
   "metadata": {},
   "outputs": [
    {
     "name": "stdout",
     "output_type": "stream",
     "text": [
      "0.9161068873036929\n"
     ]
    }
   ],
   "source": [
    "print(np.max(np.abs(simulated_intensity)))"
   ]
  },
  {
   "cell_type": "markdown",
   "metadata": {},
   "source": [
    "Graph the coated vs uncoated quartz sample"
   ]
  },
  {
   "cell_type": "code",
   "execution_count": 162,
   "metadata": {},
   "outputs": [],
   "source": [
    "# quartz_wavelength_bins = np.array([1400, 1500, 1550, 1600, 1620, 1650, 1750, 1900, 2000])\n",
    "# uncoated_quartz_retardance = np.array([0.86, 0.57, 1.70, 2.29, 1.12, 0.71, 1.63, 1.65, 1.48])/(2*np.pi) # this was measured previously\n",
    "# coated_quartz_retardance = np.array([0.142, 0.115, 0.274, 0.358, 0.197, 0.122, 0.260, 0.257, 0.243]) # measured here, using DRRP\n",
    "\n",
    "# Bad values to throw out are at 1550, 1620, and 1650 nm\n",
    "\n",
    "#quartz_wavelength_bins = np.array([1400, 1500, 1600, 1750, 1900, 2000])\n",
    "uncoated_quartz_retardance = np.array([0.86, 0.57, 2.29, 2*np.pi-1.63, 2*np.pi-1.65, 1.48])/(2*np.pi) # this was measured previously\n",
    "coated_quartz_retardance = np.array([0.142, 0.115, 0.358, 1-0.260, 1-0.257, 0.243]) # measured here, using DRRP"
   ]
  },
  {
   "cell_type": "code",
   "execution_count": 146,
   "metadata": {},
   "outputs": [],
   "source": [
    "uncoated_quartz_uncertainty = np.array([0.011, 0.011, 0.015, 0.002, 0.002, 0.002])  # values found from the best fit parameters of the single rotatator"
   ]
  },
  {
   "cell_type": "code",
   "execution_count": 164,
   "metadata": {},
   "outputs": [],
   "source": [
    "quartz_wavelength_bins = np.array([1.4, 1.5, 1.6, 1.75, 1.9, 2])\n",
    "quartz_ne = np.genfromtxt(\"/home/shared/exoserver/Lab_Data/HWP_Characterization/Theoretical_Values/Ghosh-n(e)_Quartz.csv\", delimiter=',', skip_header=1)#, usecols=1)\n",
    "quartz_no = np.genfromtxt(\"/home/shared/exoserver/Lab_Data/HWP_Characterization/Theoretical_Values/Ghosh-n(o)_Quartz.csv\", delimiter=',', skip_header=1)#, usecols=1)\n",
    "specific_quartz_ne = np.interp(quartz_wavelength_bins, quartz_ne[:,0], quartz_ne[:,1])\n",
    "specific_quartz_no = np.interp(quartz_wavelength_bins, quartz_no[:,0], quartz_no[:,1])"
   ]
  },
  {
   "cell_type": "code",
   "execution_count": 165,
   "metadata": {},
   "outputs": [
    {
     "name": "stdout",
     "output_type": "stream",
     "text": [
      "[1799.44028366] This is the best fit value of d\n",
      "[10.741778817631396] This is the uncertainty in the best fit values\n"
     ]
    }
   ],
   "source": [
    "# Find d (the plate thickness). Best fit for coated quartz. Units of microns\n",
    "initial_guess = [1800]\n",
    "popt, pcov = curve_fit(lambda w, d: (d*(specific_quartz_ne - specific_quartz_no)/w)%1, quartz_wavelength_bins, coated_quartz_retardance, p0=initial_guess)\n",
    "print(popt, \"This is the best fit value of d\")\n",
    "print(list(np.sqrt(np.diagonal(pcov))), \"This is the uncertainty in the best fit values\")"
   ]
  },
  {
   "cell_type": "code",
   "execution_count": 118,
   "metadata": {},
   "outputs": [
    {
     "data": {
      "text/plain": [
       "[<matplotlib.lines.Line2D at 0x7fa6e660d460>]"
      ]
     },
     "execution_count": 118,
     "metadata": {},
     "output_type": "execute_result"
    },
    {
     "data": {
      "image/png": "[encoded data removed]",
      "text/plain": [
       "<Figure size 640x480 with 1 Axes>"
      ]
     },
     "metadata": {},
     "output_type": "display_data"
    }
   ],
   "source": [
    "plt.plot(quartz_ne[:,0], (1799/quartz_ne[:,0]*(quartz_ne[:,1]-quartz_no[:,1]))%1, color='r', linestyle='--', label='Theoretical Quartz Retardance (mod 1)')\n",
    "plt.plot(quartz_ne[:,0], (1799/quartz_ne[:,0]*(quartz_ne[:,1]-quartz_no[:,1])), color='b', linestyle='--', label='Theoretical Quartz Retardance')"
   ]
  },
  {
   "cell_type": "code",
   "execution_count": 168,
   "metadata": {},
   "outputs": [
    {
     "data": {
      "image/png": "[encoded data removed]",
      "text/plain": [
       "<Figure size 640x480 with 1 Axes>"
      ]
     },
     "metadata": {},
     "output_type": "display_data"
    }
   ],
   "source": [
    "plt.xlim(1.3, 2.1)\n",
    "plt.ylim(0, 1.00)\n",
    "plt.xlabel(\"Wavelength $(\\mu m)$\", fontsize=12, fontweight='bold')\n",
    "plt.ylabel(\"Retardance $(waves)$\", fontsize=12, fontweight='bold')\n",
    "\n",
    "plt.plot(quartz_ne[:,0], (1799/quartz_ne[:,0]*(quartz_ne[:,1]-quartz_no[:,1]))%1, color='gray', linestyle='--', label='Design, mod 1')\n",
    "plt.errorbar(quartz_wavelength_bins, uncoated_quartz_retardance, yerr = uncoated_quartz_uncertainty, marker='o', linestyle=' ', color = 'darkorange', label = 'Before RAR Coating')\n",
    "plt.errorbar(quartz_wavelength_bins, coated_quartz_retardance, yerr = uncoated_quartz_uncertainty, marker='x', linestyle=' ', color = 'black', label = 'After RAR Coating')\n",
    "\n",
    "plt.legend(fontsize=10)\n",
    "\n",
    "folder_path = \"/home/shared/exoserver/Lab_Data/HWP_Characterization/Results/\"\n",
    "file_name = 'Coated_vs_Uncoated_Sample_Quartz_6_3.png'\n",
    "#plt.savefig(folder_path + file_name, bbox_inches='tight', dpi=300)"
   ]
  },
  {
   "cell_type": "markdown",
   "metadata": {},
   "source": [
    "Now plot the uncoated quartz intensity values"
   ]
  },
  {
   "cell_type": "code",
   "execution_count": 169,
   "metadata": {},
   "outputs": [],
   "source": [
    "uncoated_quartz_transmission = np.array([85.8, 90.3, 90.3, 89.0, 91.6, 91.8])"
   ]
  },
  {
   "cell_type": "code",
   "execution_count": 175,
   "metadata": {},
   "outputs": [
    {
     "data": {
      "image/png": "[encoded data removed]",
      "text/plain": [
       "<Figure size 640x480 with 1 Axes>"
      ]
     },
     "metadata": {},
     "output_type": "display_data"
    }
   ],
   "source": [
    "plt.xlim(1.3, 2.1)\n",
    "plt.ylim(75, 100)\n",
    "plt.xlabel(\"Wavelength $(\\mu m)$\", fontsize=12, fontweight='bold')\n",
    "plt.ylabel(\"Percent Transmission\", fontsize=12, fontweight='bold')\n",
    "\n",
    "plt.plot(quartz_wavelength_bins, uncoated_quartz_transmission, color='goldenrod', marker='o', linestyle=' ', label='Uncoated Quartz')\n",
    "\n",
    "plt.legend(fontsize=12)\n",
    "\n",
    "folder_path = \"/home/shared/exoserver/Lab_Data/HWP_Characterization/Results/\"\n",
    "file_name = 'Uncoated_Sample_Quartz_Transmission_6_3.png'\n",
    "#plt.savefig(folder_path + file_name, bbox_inches='tight', dpi=300)"
   ]
  },
  {
   "cell_type": "code",
   "execution_count": 83,
   "metadata": {},
   "outputs": [],
   "source": [
    "# The previous I calibrations were much better than Q"
   ]
  },
  {
   "cell_type": "markdown",
   "metadata": {},
   "source": [
    "Try plotting the uncertainty values for different ranges of the trace"
   ]
  },
  {
   "cell_type": "code",
   "execution_count": 88,
   "metadata": {},
   "outputs": [
    {
     "data": {
      "text/plain": [
       "<matplotlib.legend.Legend at 0x7fa6ed050910>"
      ]
     },
     "execution_count": 88,
     "metadata": {},
     "output_type": "execute_result"
    },
    {
     "data": {
      "image/png": "[encoded data removed]",
      "text/plain": [
       "<Figure size 640x480 with 1 Axes>"
      ]
     },
     "metadata": {},
     "output_type": "display_data"
    }
   ],
   "source": [
    "trace = np.linspace(0.01, 3.99, 50)\n",
    "RMS1 = 0.01 # These values are in waves\n",
    "RMS2 = 0.05\n",
    "RMS3 = 0.1\n",
    "\n",
    "plt.ylim(0, 1)\n",
    "plt.ylabel(\"Retardance (waves)\")\n",
    "plt.xlabel(\"Trace of $M_R$\")\n",
    "#plt.plot(trace, np.arccos(trace/2 - 1)/(2*np.pi), label=\"Retardance\")\n",
    "#plt.plot(trace, 2*RMS1/np.sqrt(4*trace-trace**2), label=\"Propagated Error\") # Error as a function of trace\n",
    "plt.errorbar(trace, np.arccos(trace/2 - 1)/(2*np.pi), yerr=2*RMS3/np.sqrt(4*trace-trace**2), marker='o', linestyle=' ', color='black', label=\"RMS=0.1\")\n",
    "plt.errorbar(trace, np.arccos(trace/2 - 1)/(2*np.pi), yerr=2*RMS2/np.sqrt(4*trace-trace**2), marker='o', linestyle=' ', color='darkgray', label=\"RMS=0.05\")\n",
    "plt.errorbar(trace, np.arccos(trace/2 - 1)/(2*np.pi), yerr=2*RMS1/np.sqrt(4*trace-trace**2), marker='o', linestyle=' ', color='sandybrown', label=\"RMS=0.01\")\n",
    "\n",
    "plt.legend()"
   ]
  },
  {
   "cell_type": "code",
   "execution_count": null,
   "metadata": {},
   "outputs": [],
   "source": []
  }
 ],
 "metadata": {
  "kernelspec": {
   "display_name": "Python 3",
   "language": "python",
   "name": "python3"
  },
  "language_info": {
   "codemirror_mode": {
    "name": "ipython",
    "version": 3
   },
   "file_extension": ".py",
   "mimetype": "text/x-python",
   "name": "python",
   "nbconvert_exporter": "python",
   "pygments_lexer": "ipython3",
   "version": "3.8.10"
  }
 },
 "nbformat": 4,
 "nbformat_minor": 2
}
