{
 "cells": [
  {
   "cell_type": "code",
   "execution_count": 1,
   "metadata": {},
   "outputs": [],
   "source": [
    "import sys\n",
    "sys.path.insert(0, '/home/wcmelby/Library/Python/wcmelby-HWP_Characterizations/')\n",
    "from New_DRRP_Functions import *"
   ]
  },
  {
   "cell_type": "markdown",
   "metadata": {},
   "source": [
    "Analyze the spatial variation of the plate at 1600nm by taking measurements at the relative top, bottom, left, and right of the waveplate. "
   ]
  },
  {
   "cell_type": "code",
   "execution_count": 2,
   "metadata": {},
   "outputs": [
    {
     "name": "stdout",
     "output_type": "stream",
     "text": [
      "Warning: low flux detected, check the image Reduced_DRRP_L_1600nm_550_1.8_95.99994140624999.fits, index: 24\n"
     ]
    }
   ],
   "source": [
    "reduced_filename = 'Reduced_DRRP_'\n",
    "reduced_folder = \"/home/shared/exoserver/Lab_Data/Mueller_Matrix_Polarimeter/L_Plate_Characterization/Calibration/Calibration_Reduced/Cal_1600_Reduced/\"\n",
    "lcenter = [258, 255]\n",
    "rcenter = [258, 332]\n",
    "maxradius = 10\n",
    "cutoff = 5000\n",
    "\n",
    "extracted_data = extract_intensities(reduced_filename, reduced_folder, lcenter, rcenter, maxradius, cutoff)\n",
    "Cal_Il_1600 = extracted_data[0]\n",
    "Cal_Ir_1600 = extracted_data[1]\n",
    "Cal_theta1600 = extracted_data[2]"
   ]
  },
  {
   "cell_type": "markdown",
   "metadata": {},
   "source": [
    "All SuperK data taken at 5%/5%, 490 fps, 2 ms tint"
   ]
  },
  {
   "cell_type": "markdown",
   "metadata": {},
   "source": [
    "Top"
   ]
  },
  {
   "cell_type": "code",
   "execution_count": 3,
   "metadata": {},
   "outputs": [
    {
     "name": "stdout",
     "output_type": "stream",
     "text": [
      "Warning: low flux detected, check the image Reduced_DRRP_L_Top_1600nm_490_2_35.99997802734375.fits, index: 9\n",
      "Warning: low flux detected, check the image Reduced_DRRP_L_Top_1600nm_490_2_151.9999072265625.fits, index: 38\n"
     ]
    }
   ],
   "source": [
    "reduced_filename = 'Reduced_DRRP_'\n",
    "reduced_folder = \"/home/shared/exoserver/Lab_Data/Mueller_Matrix_Polarimeter/L_Plate_Characterization/SuperK_Select_Data/L_Spatial_Variation/Reduced_Data/Reduced_L_Top_1600/\"\n",
    "lcenter = [315, 249]\n",
    "rcenter = [315, 327]\n",
    "maxradius = 20\n",
    "cutoff = 250000\n",
    "\n",
    "extracted_data = extract_intensities(reduced_filename, reduced_folder, lcenter, rcenter, maxradius, cutoff)\n",
    "Top_Il_1600 = extracted_data[0]\n",
    "Top_Ir_1600 = extracted_data[1]\n",
    "Top_theta1600 = extracted_data[2]"
   ]
  },
  {
   "cell_type": "code",
   "execution_count": 4,
   "metadata": {},
   "outputs": [
    {
     "name": "stdout",
     "output_type": "stream",
     "text": [
      "[-0.01759579  0.00681734 -0.09805524 -0.0606004  -0.06370183] Fit parameters for a1, w1, w2, r1, and r2. 1 for generator, 2 for analyzer\n",
      "[[ 1.          0.04210095 -0.00196595 -0.00650689]\n",
      " [-0.0410325   0.48606746  0.81689104  0.49366857]\n",
      " [-0.07737464  0.89370809  0.00677751 -0.7092942 ]\n",
      " [ 0.0399605  -0.52306623  0.7273797  -0.54725742]] This is the Mueller matrix of the sample waveplate\n",
      "0.34216406398089827 This is the retardance of the sample\n",
      "[[ 0.86450084  0.00146352 -0.00168123  0.00100436]\n",
      " [-0.07626512  0.92245186 -0.00833132  0.00215554]\n",
      " [ 0.01652496  0.02132442  1.          0.00030956]\n",
      " [ 0.0009802   0.00039263 -0.00111538  0.86456637]] This is the Mueller matrix for calibration (close to identity)\n",
      "0.011002891852251768 This is the RMS error in the calibration matrix\n",
      "[0.0020834242500090694, 0.002101413001556418] This is the retardance error in the sample waveplate\n"
     ]
    }
   ],
   "source": [
    "Top_data1600 = q_ultimate_polarimetry(Cal_theta1600, Cal_Il_1600, Cal_Ir_1600, Top_theta1600, Top_Il_1600, Top_Ir_1600)\n",
    "print(Top_data1600[0], \"This is the Mueller matrix of the sample waveplate\")\n",
    "print(Top_data1600[1], \"This is the retardance of the sample\")\n",
    "print(Top_data1600[2], \"This is the Mueller matrix for calibration (close to identity)\")\n",
    "print(Top_data1600[3], \"This is the RMS error in the calibration matrix\")\n",
    "print(Top_data1600[4], \"This is the retardance error in the sample waveplate\")"
   ]
  },
  {
   "cell_type": "markdown",
   "metadata": {},
   "source": [
    "Bottom"
   ]
  },
  {
   "cell_type": "code",
   "execution_count": 6,
   "metadata": {},
   "outputs": [
    {
     "name": "stdout",
     "output_type": "stream",
     "text": [
      "Warning: low flux detected, check the image Reduced_DRRP_L_Bottom_1600nm_490_2_55.9999658203125.fits, index: 14\n",
      "Warning: low flux detected, check the image Reduced_DRRP_L_Bottom_1600nm_490_2_99.99993896484375.fits, index: 25\n",
      "Warning: low flux detected, check the image Reduced_DRRP_L_Bottom_1600nm_490_2_115.99992919921874.fits, index: 29\n",
      "Warning: low flux detected, check the image Reduced_DRRP_L_Bottom_1600nm_490_2_139.99991455078123.fits, index: 35\n",
      "Warning: low flux detected, check the image Reduced_DRRP_L_Bottom_1600nm_490_2_167.9998974609375.fits, index: 42\n",
      "Warning: low flux detected, check the image Reduced_DRRP_L_Bottom_1600nm_490_2_179.99989013671873.fits, index: 45\n"
     ]
    }
   ],
   "source": [
    "reduced_filename = 'Reduced_DRRP_'\n",
    "reduced_folder = \"/home/shared/exoserver/Lab_Data/Mueller_Matrix_Polarimeter/L_Plate_Characterization/SuperK_Select_Data/L_Spatial_Variation/Reduced_Data/Reduced_L_Bottom_1600/\"\n",
    "lcenter = [315, 249]\n",
    "rcenter = [315, 327]\n",
    "maxradius = 20\n",
    "cutoff = 260000\n",
    "\n",
    "extracted_data = extract_intensities(reduced_filename, reduced_folder, lcenter, rcenter, maxradius, cutoff)\n",
    "Bottom_Il_1600 = extracted_data[0]\n",
    "Bottom_Ir_1600 = extracted_data[1]\n",
    "Bottom_theta1600 = extracted_data[2]"
   ]
  },
  {
   "cell_type": "code",
   "execution_count": 7,
   "metadata": {},
   "outputs": [
    {
     "name": "stdout",
     "output_type": "stream",
     "text": [
      "[-0.01759579  0.00681734 -0.09805524 -0.0606004  -0.06370183] Fit parameters for a1, w1, w2, r1, and r2. 1 for generator, 2 for analyzer\n",
      "[[ 1.         -0.03498294  0.04804188  0.00020535]\n",
      " [-0.03115289  0.45162227  0.72983426  0.48567252]\n",
      " [-0.04300369  0.79303655  0.05092346 -0.73579931]\n",
      " [ 0.02937129 -0.48539873  0.71617203 -0.5273892 ]] This is the Mueller matrix of the sample waveplate\n",
      "0.33841450764599584 This is the retardance of the sample\n",
      "[[ 0.86450084  0.00146352 -0.00168123  0.00100436]\n",
      " [-0.07626512  0.92245186 -0.00833132  0.00215554]\n",
      " [ 0.01652496  0.02132442  1.          0.00030956]\n",
      " [ 0.0009802   0.00039263 -0.00111538  0.86456637]] This is the Mueller matrix for calibration (close to identity)\n",
      "0.011002891852251768 This is the RMS error in the calibration matrix\n",
      "[0.0020529440955411316, 0.0020695160885407238] This is the retardance error in the sample waveplate\n"
     ]
    }
   ],
   "source": [
    "Bottom_data1600 = q_ultimate_polarimetry(Cal_theta1600, Cal_Il_1600, Cal_Ir_1600, Bottom_theta1600, Bottom_Il_1600, Bottom_Ir_1600)\n",
    "print(Bottom_data1600[0], \"This is the Mueller matrix of the sample waveplate\")\n",
    "print(Bottom_data1600[1], \"This is the retardance of the sample\")\n",
    "print(Bottom_data1600[2], \"This is the Mueller matrix for calibration (close to identity)\")\n",
    "print(Bottom_data1600[3], \"This is the RMS error in the calibration matrix\")\n",
    "print(Bottom_data1600[4], \"This is the retardance error in the sample waveplate\")"
   ]
  },
  {
   "cell_type": "markdown",
   "metadata": {},
   "source": [
    "Left"
   ]
  },
  {
   "cell_type": "code",
   "execution_count": 8,
   "metadata": {},
   "outputs": [
    {
     "name": "stdout",
     "output_type": "stream",
     "text": [
      "Warning: low flux detected, check the image Reduced_DRRP_L_Left_1600nm_490_2_31.999980468749996.fits, index: 8\n",
      "Warning: low flux detected, check the image Reduced_DRRP_L_Left_1600nm_490_2_35.99997802734375.fits, index: 9\n",
      "Warning: low flux detected, check the image Reduced_DRRP_L_Left_1600nm_490_2_99.99993896484375.fits, index: 25\n",
      "Warning: low flux detected, check the image Reduced_DRRP_L_Left_1600nm_490_2_127.99992187499998.fits, index: 32\n",
      "Warning: low flux detected, check the image Reduced_DRRP_L_Left_1600nm_490_2_151.9999072265625.fits, index: 38\n"
     ]
    }
   ],
   "source": [
    "reduced_filename = 'Reduced_DRRP_'\n",
    "reduced_folder = \"/home/shared/exoserver/Lab_Data/Mueller_Matrix_Polarimeter/L_Plate_Characterization/SuperK_Select_Data/L_Spatial_Variation/Reduced_Data/Reduced_L_Left_1600/\"\n",
    "lcenter = [315, 249]\n",
    "rcenter = [315, 327]\n",
    "maxradius = 20\n",
    "cutoff = 250000\n",
    "\n",
    "extracted_data = extract_intensities(reduced_filename, reduced_folder, lcenter, rcenter, maxradius, cutoff)\n",
    "Left_Il_1600 = extracted_data[0]\n",
    "Left_Ir_1600 = extracted_data[1]\n",
    "Left_theta1600 = extracted_data[2]"
   ]
  },
  {
   "cell_type": "code",
   "execution_count": 9,
   "metadata": {},
   "outputs": [
    {
     "name": "stdout",
     "output_type": "stream",
     "text": [
      "[-0.01759579  0.00681734 -0.09805524 -0.0606004  -0.06370183] Fit parameters for a1, w1, w2, r1, and r2. 1 for generator, 2 for analyzer\n",
      "[[ 1.          0.03811144  0.03683273 -0.00421326]\n",
      " [-0.03197833  0.47656622  0.80280598  0.48873257]\n",
      " [-0.07001059  0.87970806 -0.02403739 -0.70512795]\n",
      " [ 0.06192795 -0.55892385  0.74088336 -0.54731321]] This is the Mueller matrix of the sample waveplate\n",
      "0.34217467432646304 This is the retardance of the sample\n",
      "[[ 0.86450084  0.00146352 -0.00168123  0.00100436]\n",
      " [-0.07626512  0.92245186 -0.00833132  0.00215554]\n",
      " [ 0.01652496  0.02132442  1.          0.00030956]\n",
      " [ 0.0009802   0.00039263 -0.00111538  0.86456637]] This is the Mueller matrix for calibration (close to identity)\n",
      "0.011002891852251768 This is the RMS error in the calibration matrix\n",
      "[0.0020835134092510588, 0.002101506348695714] This is the retardance error in the sample waveplate\n"
     ]
    }
   ],
   "source": [
    "Left_data1600 = q_ultimate_polarimetry(Cal_theta1600, Cal_Il_1600, Cal_Ir_1600, Left_theta1600, Left_Il_1600, Left_Ir_1600)\n",
    "print(Left_data1600[0], \"This is the Mueller matrix of the sample waveplate\")\n",
    "print(Left_data1600[1], \"This is the retardance of the sample\")\n",
    "print(Left_data1600[2], \"This is the Mueller matrix for calibration (close to identity)\")\n",
    "print(Left_data1600[3], \"This is the RMS error in the calibration matrix\")\n",
    "print(Left_data1600[4], \"This is the retardance error in the sample waveplate\")"
   ]
  },
  {
   "cell_type": "markdown",
   "metadata": {},
   "source": [
    "Right"
   ]
  },
  {
   "cell_type": "code",
   "execution_count": 10,
   "metadata": {},
   "outputs": [
    {
     "name": "stdout",
     "output_type": "stream",
     "text": [
      "Warning: low flux detected, check the image Reduced_DRRP_L_Right_1600nm_490_2_0.0.fits, index: 0\n",
      "Warning: low flux detected, check the image Reduced_DRRP_L_Right_1600nm_490_2_3.9999975585937495.fits, index: 1\n",
      "Warning: low flux detected, check the image Reduced_DRRP_L_Right_1600nm_490_2_23.999985351562497.fits, index: 6\n",
      "Warning: low flux detected, check the image Reduced_DRRP_L_Right_1600nm_490_2_27.99998291015625.fits, index: 7\n",
      "Warning: low flux detected, check the image Reduced_DRRP_L_Right_1600nm_490_2_123.99992431640624.fits, index: 31\n",
      "Warning: low flux detected, check the image Reduced_DRRP_L_Right_1600nm_490_2_147.99990966796875.fits, index: 37\n",
      "Warning: low flux detected, check the image Reduced_DRRP_L_Right_1600nm_490_2_171.99989501953124.fits, index: 43\n"
     ]
    }
   ],
   "source": [
    "reduced_filename = 'Reduced_DRRP_'\n",
    "reduced_folder = \"/home/shared/exoserver/Lab_Data/Mueller_Matrix_Polarimeter/L_Plate_Characterization/SuperK_Select_Data/L_Spatial_Variation/Reduced_Data/Reduced_L_Right_1600/\"\n",
    "lcenter = [315, 249]\n",
    "rcenter = [315, 327]\n",
    "maxradius = 20\n",
    "cutoff = 250000\n",
    "\n",
    "extracted_data = extract_intensities(reduced_filename, reduced_folder, lcenter, rcenter, maxradius, cutoff)\n",
    "Right_Il_1600 = extracted_data[0]\n",
    "Right_Ir_1600 = extracted_data[1]\n",
    "Right_theta1600 = extracted_data[2]"
   ]
  },
  {
   "cell_type": "code",
   "execution_count": 11,
   "metadata": {},
   "outputs": [
    {
     "name": "stdout",
     "output_type": "stream",
     "text": [
      "[-0.01759579  0.00681734 -0.09805524 -0.0606004  -0.06370183] Fit parameters for a1, w1, w2, r1, and r2. 1 for generator, 2 for analyzer\n",
      "[[ 1.          0.03214851  0.04421263  0.0023138 ]\n",
      " [-0.04032396  0.50354453  0.79790528  0.48304532]\n",
      " [-0.07611362  0.89555919  0.02520965 -0.69524353]\n",
      " [ 0.06052314 -0.56680297  0.76378396 -0.54443078]] This is the Mueller matrix of the sample waveplate\n",
      "0.34162715000466887 This is the retardance of the sample\n",
      "[[ 0.86450084  0.00146352 -0.00168123  0.00100436]\n",
      " [-0.07626512  0.92245186 -0.00833132  0.00215554]\n",
      " [ 0.01652496  0.02132442  1.          0.00030956]\n",
      " [ 0.0009802   0.00039263 -0.00111538  0.86456637]] This is the Mueller matrix for calibration (close to identity)\n",
      "0.011002891852251768 This is the RMS error in the calibration matrix\n",
      "[0.002078934331747606, 0.0020967125273348985] This is the retardance error in the sample waveplate\n"
     ]
    }
   ],
   "source": [
    "Right_data1600 = q_ultimate_polarimetry(Cal_theta1600, Cal_Il_1600, Cal_Ir_1600, Right_theta1600, Right_Il_1600, Right_Ir_1600)\n",
    "print(Right_data1600[0], \"This is the Mueller matrix of the sample waveplate\")\n",
    "print(Right_data1600[1], \"This is the retardance of the sample\")\n",
    "print(Right_data1600[2], \"This is the Mueller matrix for calibration (close to identity)\")\n",
    "print(Right_data1600[3], \"This is the RMS error in the calibration matrix\")\n",
    "print(Right_data1600[4], \"This is the retardance error in the sample waveplate\")"
   ]
  },
  {
   "cell_type": "code",
   "execution_count": null,
   "metadata": {},
   "outputs": [],
   "source": []
  }
 ],
 "metadata": {
  "kernelspec": {
   "display_name": "Python 3",
   "language": "python",
   "name": "python3"
  },
  "language_info": {
   "codemirror_mode": {
    "name": "ipython",
    "version": 3
   },
   "file_extension": ".py",
   "mimetype": "text/x-python",
   "name": "python",
   "nbconvert_exporter": "python",
   "pygments_lexer": "ipython3",
   "version": "3.undefined.undefined"
  }
 },
 "nbformat": 4,
 "nbformat_minor": 2
}
