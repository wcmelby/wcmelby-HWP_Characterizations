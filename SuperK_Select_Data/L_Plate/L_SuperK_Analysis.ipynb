{
 "cells": [
  {
   "cell_type": "code",
   "execution_count": 2,
   "metadata": {},
   "outputs": [],
   "source": [
    "import sys\n",
    "sys.path.insert(0, '/home/wcmelby/Library/Python/wcmelby-HWP_Characterizations/')\n",
    "from New_DRRP_Functions import *"
   ]
  },
  {
   "cell_type": "markdown",
   "metadata": {},
   "source": [
    "This data is taken with the L band plate using the SuperK Select laser operating with main power at 5%, specific channel power at 40% (for wavelengths past 1300 only. Shorter wavelengths need a higher power)"
   ]
  },
  {
   "cell_type": "markdown",
   "metadata": {},
   "source": [
    "At the end there are also some plots for the nano-textured quartz plate for comparison with the DRRP method"
   ]
  },
  {
   "cell_type": "markdown",
   "metadata": {},
   "source": [
    "Bring in the new SK calibration data"
   ]
  },
  {
   "cell_type": "code",
   "execution_count": 3,
   "metadata": {},
   "outputs": [
    {
     "name": "stdout",
     "output_type": "stream",
     "text": [
      "Warning: low flux detected, check the image Reduced_DRRP_Cal_1100nm_490_2_11.999992675781249.fits, index: 3\n",
      "Warning: low flux detected, check the image Reduced_DRRP_Cal_1100nm_490_2_43.999973144531246.fits, index: 11\n",
      "Warning: low flux detected, check the image Reduced_DRRP_Cal_1100nm_490_2_51.99996826171875.fits, index: 13\n",
      "Warning: low flux detected, check the image Reduced_DRRP_Cal_1100nm_490_2_63.99996093749999.fits, index: 16\n",
      "Warning: low flux detected, check the image Reduced_DRRP_Cal_1100nm_490_2_87.99994628906249.fits, index: 22\n",
      "Warning: low flux detected, check the image Reduced_DRRP_Cal_1100nm_490_2_99.99993896484375.fits, index: 25\n",
      "Warning: low flux detected, check the image Reduced_DRRP_Cal_1100nm_490_2_155.99990478515625.fits, index: 39\n"
     ]
    }
   ],
   "source": [
    "reduced_filename = 'Reduced_DRRP_'\n",
    "reduced_folder = \"/home/shared/exoserver/Lab_Data/Mueller_Matrix_Polarimeter/L_Plate_Characterization/SuperK_Select_Data/Calibrations/Calibration_Reduced/SK_Cal_1100_Reduced/\"\n",
    "lcenter = [315, 253]\n",
    "rcenter = [316, 329]\n",
    "maxradius = 17\n",
    "cutoff = 100000\n",
    "\n",
    "extracted_data = extract_intensities(reduced_filename, reduced_folder, lcenter, rcenter, maxradius, cutoff)\n",
    "Cal_Il_1100 = extracted_data[0]\n",
    "Cal_Ir_1100 = extracted_data[1]\n",
    "Cal_theta1100 = extracted_data[2]"
   ]
  },
  {
   "cell_type": "code",
   "execution_count": 4,
   "metadata": {},
   "outputs": [
    {
     "name": "stdout",
     "output_type": "stream",
     "text": [
      "Warning: low flux detected, check the image Reduced_DRRP_Cal_1200nm_490_2_71.9999560546875.fits, index: 18\n",
      "Warning: low flux detected, check the image Reduced_DRRP_Cal_1200nm_490_2_155.99990478515625.fits, index: 39\n",
      "Warning: low flux detected, check the image Reduced_DRRP_Cal_1200nm_490_2_159.99990234375.fits, index: 40\n"
     ]
    }
   ],
   "source": [
    "reduced_filename = 'Reduced_DRRP_'\n",
    "reduced_folder = \"/home/shared/exoserver/Lab_Data/Mueller_Matrix_Polarimeter/L_Plate_Characterization/SuperK_Select_Data/Calibrations/Calibration_Reduced/SK_Cal_1200_Reduced/\"\n",
    "lcenter = [315, 253]\n",
    "rcenter = [316, 329]\n",
    "maxradius = 17\n",
    "cutoff = 200000\n",
    "\n",
    "extracted_data = extract_intensities(reduced_filename, reduced_folder, lcenter, rcenter, maxradius, cutoff)\n",
    "Cal_Il_1200 = extracted_data[0]\n",
    "Cal_Ir_1200 = extracted_data[1]\n",
    "Cal_theta1200 = extracted_data[2]"
   ]
  },
  {
   "cell_type": "code",
   "execution_count": 5,
   "metadata": {},
   "outputs": [
    {
     "name": "stdout",
     "output_type": "stream",
     "text": [
      "Warning: low flux detected, check the image Reduced_DRRP_Cal_1300nm_490_2_7.999995117187499.fits, index: 2\n",
      "Warning: low flux detected, check the image Reduced_DRRP_Cal_1300nm_490_2_51.99996826171875.fits, index: 13\n",
      "Warning: low flux detected, check the image Reduced_DRRP_Cal_1300nm_490_2_63.99996093749999.fits, index: 16\n",
      "Warning: low flux detected, check the image Reduced_DRRP_Cal_1300nm_490_2_79.999951171875.fits, index: 20\n",
      "Warning: low flux detected, check the image Reduced_DRRP_Cal_1300nm_490_2_131.99991943359373.fits, index: 33\n",
      "Warning: low flux detected, check the image Reduced_DRRP_Cal_1300nm_490_2_135.99991699218748.fits, index: 34\n",
      "Warning: low flux detected, check the image Reduced_DRRP_Cal_1300nm_490_2_171.99989501953124.fits, index: 43\n"
     ]
    }
   ],
   "source": [
    "reduced_filename = 'Reduced_DRRP_'\n",
    "reduced_folder = \"/home/shared/exoserver/Lab_Data/Mueller_Matrix_Polarimeter/L_Plate_Characterization/SuperK_Select_Data/Calibrations/Calibration_Reduced/SK_Cal_1300_Reduced/\"\n",
    "lcenter = [315, 253]\n",
    "rcenter = [316, 329]\n",
    "maxradius = 17\n",
    "cutoff = 10000\n",
    "\n",
    "extracted_data = extract_intensities(reduced_filename, reduced_folder, lcenter, rcenter, maxradius, cutoff)\n",
    "Cal_Il_1300 = extracted_data[0]\n",
    "Cal_Ir_1300 = extracted_data[1]\n",
    "Cal_theta1300 = extracted_data[2]"
   ]
  },
  {
   "cell_type": "code",
   "execution_count": 6,
   "metadata": {},
   "outputs": [
    {
     "name": "stdout",
     "output_type": "stream",
     "text": [
      "Warning: low flux detected, check the image Reduced_DRRP_Cal_1400nm_490_2_39.9999755859375.fits, index: 10\n"
     ]
    },
    {
     "name": "stdout",
     "output_type": "stream",
     "text": [
      "Warning: low flux detected, check the image Reduced_DRRP_Cal_1400nm_490_2_47.999970703124994.fits, index: 12\n",
      "Warning: low flux detected, check the image Reduced_DRRP_Cal_1400nm_490_2_99.99993896484375.fits, index: 25\n",
      "Warning: low flux detected, check the image Reduced_DRRP_Cal_1400nm_490_2_103.9999365234375.fits, index: 26\n",
      "Warning: low flux detected, check the image Reduced_DRRP_Cal_1400nm_490_2_175.99989257812499.fits, index: 44\n"
     ]
    }
   ],
   "source": [
    "reduced_filename = 'Reduced_DRRP_'\n",
    "reduced_folder = \"/home/shared/exoserver/Lab_Data/Mueller_Matrix_Polarimeter/L_Plate_Characterization/SuperK_Select_Data/Calibrations/Calibration_Reduced/SK_Cal_1400_Reduced/\"\n",
    "lcenter = [315, 253]\n",
    "rcenter = [316, 329]\n",
    "maxradius = 17\n",
    "cutoff = 30000\n",
    "\n",
    "extracted_data = extract_intensities(reduced_filename, reduced_folder, lcenter, rcenter, maxradius, cutoff)\n",
    "Cal_Il_1400 = extracted_data[0]\n",
    "Cal_Ir_1400 = extracted_data[1]\n",
    "Cal_theta1400 = extracted_data[2]"
   ]
  },
  {
   "cell_type": "code",
   "execution_count": 7,
   "metadata": {},
   "outputs": [
    {
     "name": "stdout",
     "output_type": "stream",
     "text": [
      "Warning: low flux detected, check the image Reduced_DRRP_Cal_1500nm_490_2_27.99998291015625.fits, index: 7\n",
      "Warning: low flux detected, check the image Reduced_DRRP_Cal_1500nm_490_2_59.999963378906244.fits, index: 15\n",
      "Warning: low flux detected, check the image Reduced_DRRP_Cal_1500nm_490_2_87.99994628906249.fits, index: 22\n",
      "Warning: low flux detected, check the image Reduced_DRRP_Cal_1500nm_490_2_123.99992431640624.fits, index: 31\n",
      "Warning: low flux detected, check the image Reduced_DRRP_Cal_1500nm_490_2_159.99990234375.fits, index: 40\n"
     ]
    }
   ],
   "source": [
    "reduced_filename = 'Reduced_DRRP_'\n",
    "reduced_folder = \"/home/shared/exoserver/Lab_Data/Mueller_Matrix_Polarimeter/L_Plate_Characterization/SuperK_Select_Data/Calibrations/Calibration_Reduced/SK_Cal_1500_Reduced/\"\n",
    "lcenter = [315, 253]\n",
    "rcenter = [316, 329]\n",
    "maxradius = 17\n",
    "cutoff = 10000\n",
    "\n",
    "extracted_data = extract_intensities(reduced_filename, reduced_folder, lcenter, rcenter, maxradius, cutoff)\n",
    "Cal_Il_1500 = extracted_data[0]\n",
    "Cal_Ir_1500 = extracted_data[1]\n",
    "Cal_theta1500 = extracted_data[2]"
   ]
  },
  {
   "cell_type": "code",
   "execution_count": 8,
   "metadata": {},
   "outputs": [
    {
     "name": "stdout",
     "output_type": "stream",
     "text": [
      "Warning: low flux detected, check the image Reduced_DRRP_Cal_1600nm_490_2_3.9999975585937495.fits, index: 1\n",
      "Warning: low flux detected, check the image Reduced_DRRP_Cal_1600nm_490_2_27.99998291015625.fits, index: 7\n"
     ]
    },
    {
     "name": "stdout",
     "output_type": "stream",
     "text": [
      "Warning: low flux detected, check the image Reduced_DRRP_Cal_1600nm_490_2_43.999973144531246.fits, index: 11\n",
      "Warning: low flux detected, check the image Reduced_DRRP_Cal_1600nm_490_2_47.999970703124994.fits, index: 12\n",
      "Warning: low flux detected, check the image Reduced_DRRP_Cal_1600nm_490_2_123.99992431640624.fits, index: 31\n",
      "Warning: low flux detected, check the image Reduced_DRRP_Cal_1600nm_490_2_155.99990478515625.fits, index: 39\n"
     ]
    }
   ],
   "source": [
    "reduced_filename = 'Reduced_DRRP_'\n",
    "reduced_folder = \"/home/shared/exoserver/Lab_Data/Mueller_Matrix_Polarimeter/L_Plate_Characterization/SuperK_Select_Data/Calibrations/Calibration_Reduced/SK_Cal_1600_Reduced/\"\n",
    "lcenter = [315, 253]\n",
    "rcenter = [316, 329]\n",
    "maxradius = 17\n",
    "cutoff = 10000\n",
    "\n",
    "extracted_data = extract_intensities(reduced_filename, reduced_folder, lcenter, rcenter, maxradius, cutoff)\n",
    "Cal_Il_1600 = extracted_data[0]\n",
    "Cal_Ir_1600 = extracted_data[1]\n",
    "Cal_theta1600 = extracted_data[2]"
   ]
  },
  {
   "cell_type": "code",
   "execution_count": 9,
   "metadata": {},
   "outputs": [
    {
     "name": "stdout",
     "output_type": "stream",
     "text": [
      "Warning: low flux detected, check the image Reduced_DRRP_Cal_1750nm_490_2_7.999995117187499.fits, index: 2\n",
      "Warning: low flux detected, check the image Reduced_DRRP_Cal_1750nm_490_2_15.999990234374998.fits, index: 4\n",
      "Warning: low flux detected, check the image Reduced_DRRP_Cal_1750nm_490_2_79.999951171875.fits, index: 20\n",
      "Warning: low flux detected, check the image Reduced_DRRP_Cal_1750nm_490_2_103.9999365234375.fits, index: 26\n"
     ]
    },
    {
     "name": "stdout",
     "output_type": "stream",
     "text": [
      "Warning: low flux detected, check the image Reduced_DRRP_Cal_1750nm_490_2_131.99991943359373.fits, index: 33\n"
     ]
    }
   ],
   "source": [
    "reduced_filename = 'Reduced_DRRP_'\n",
    "reduced_folder = \"/home/shared/exoserver/Lab_Data/Mueller_Matrix_Polarimeter/L_Plate_Characterization/SuperK_Select_Data/Calibrations/Calibration_Reduced/SK_Cal_1750_Reduced/\"\n",
    "lcenter = [315, 253]\n",
    "rcenter = [316, 329]\n",
    "maxradius = 17\n",
    "cutoff = 90000\n",
    "\n",
    "extracted_data = extract_intensities(reduced_filename, reduced_folder, lcenter, rcenter, maxradius, cutoff)\n",
    "Cal_Il_1750 = extracted_data[0]\n",
    "Cal_Ir_1750 = extracted_data[1]\n",
    "Cal_theta1750 = extracted_data[2]"
   ]
  },
  {
   "cell_type": "code",
   "execution_count": 10,
   "metadata": {},
   "outputs": [
    {
     "name": "stdout",
     "output_type": "stream",
     "text": [
      "Warning: low flux detected, check the image Reduced_DRRP_Cal_1850nm_490_2_27.99998291015625.fits, index: 7\n"
     ]
    },
    {
     "name": "stdout",
     "output_type": "stream",
     "text": [
      "Warning: low flux detected, check the image Reduced_DRRP_Cal_1850nm_490_2_95.99994140624999.fits, index: 24\n",
      "Warning: low flux detected, check the image Reduced_DRRP_Cal_1850nm_490_2_107.99993408203125.fits, index: 27\n"
     ]
    }
   ],
   "source": [
    "reduced_filename = 'Reduced_DRRP_'\n",
    "reduced_folder = \"/home/shared/exoserver/Lab_Data/Mueller_Matrix_Polarimeter/L_Plate_Characterization/SuperK_Select_Data/Calibrations/Calibration_Reduced/SK_Cal_1850_Reduced/\"\n",
    "lcenter = [315, 253]\n",
    "rcenter = [316, 329]\n",
    "maxradius = 17\n",
    "cutoff = 20000\n",
    "\n",
    "extracted_data = extract_intensities(reduced_filename, reduced_folder, lcenter, rcenter, maxradius, cutoff)\n",
    "Cal_Il_1850 = extracted_data[0]\n",
    "Cal_Ir_1850 = extracted_data[1]\n",
    "Cal_theta1850 = extracted_data[2]"
   ]
  },
  {
   "cell_type": "code",
   "execution_count": 11,
   "metadata": {},
   "outputs": [
    {
     "name": "stdout",
     "output_type": "stream",
     "text": [
      "Warning: low flux detected, check the image Reduced_DRRP_Cal_1950nm_490_2_59.999963378906244.fits, index: 15\n",
      "Warning: low flux detected, check the image Reduced_DRRP_Cal_1950nm_490_2_71.9999560546875.fits, index: 18\n",
      "Warning: low flux detected, check the image Reduced_DRRP_Cal_1950nm_490_2_75.99995361328125.fits, index: 19\n",
      "Warning: low flux detected, check the image Reduced_DRRP_Cal_1950nm_490_2_171.99989501953124.fits, index: 43\n"
     ]
    }
   ],
   "source": [
    "reduced_filename = 'Reduced_DRRP_'\n",
    "reduced_folder = \"/home/shared/exoserver/Lab_Data/Mueller_Matrix_Polarimeter/L_Plate_Characterization/SuperK_Select_Data/Calibrations/Calibration_Reduced/SK_Cal_1950_Reduced/\"\n",
    "lcenter = [315, 253]\n",
    "rcenter = [316, 329]\n",
    "maxradius = 17\n",
    "cutoff = 40000\n",
    "\n",
    "extracted_data = extract_intensities(reduced_filename, reduced_folder, lcenter, rcenter, maxradius, cutoff)\n",
    "Cal_Il_1950 = extracted_data[0]\n",
    "Cal_Ir_1950 = extracted_data[1]\n",
    "Cal_theta1950 = extracted_data[2]"
   ]
  },
  {
   "cell_type": "markdown",
   "metadata": {},
   "source": [
    "1100 nm SK data, 490 fps, 2 ms tint"
   ]
  },
  {
   "cell_type": "code",
   "execution_count": 12,
   "metadata": {},
   "outputs": [
    {
     "name": "stdout",
     "output_type": "stream",
     "text": [
      "Warning: low flux detected, check the image Reduced_DRRP_L_1100nm_490_2_19.99998779296875.fits, index: 5\n",
      "Warning: low flux detected, check the image Reduced_DRRP_L_1100nm_490_2_91.99994384765624.fits, index: 23\n"
     ]
    }
   ],
   "source": [
    "reduced_filename = 'Reduced_DRRP_'\n",
    "reduced_folder = \"/home/shared/exoserver/Lab_Data/Mueller_Matrix_Polarimeter/L_Plate_Characterization/SuperK_Select_Data/Reduced_Data/Reduced_L_1100/\"\n",
    "lcenter = [316, 248]\n",
    "rcenter = [316, 326]\n",
    "maxradius = 15\n",
    "cutoff = 90000\n",
    "\n",
    "extracted_data = extract_intensities(reduced_filename, reduced_folder, lcenter, rcenter, maxradius, cutoff)\n",
    "Il_1100 = extracted_data[0]\n",
    "Ir_1100 = extracted_data[1]\n",
    "theta1100 = extracted_data[2]"
   ]
  },
  {
   "cell_type": "code",
   "execution_count": 13,
   "metadata": {},
   "outputs": [
    {
     "name": "stdout",
     "output_type": "stream",
     "text": [
      "[-0.06048435 -0.05946848 -0.21254288 -0.00460739  0.03936115] Fit parameters for a1, w1, w2, r1, and r2. 1 for generator, 2 for analyzer\n",
      "[[ 0.84459154 -0.0061093  -0.01591711  0.00396326]\n",
      " [-0.13584636  0.95531235  0.03220691 -0.03581602]\n",
      " [ 0.01596087 -0.09859732  1.          0.15281187]\n",
      " [ 0.00123695  0.05229689 -0.10583262  0.81886441]] This is the Mueller matrix of the sample waveplate\n",
      "0.1002180119384693 This is the retardance of the sample\n",
      "[[ 0.76669209  0.03978302 -0.04585978 -0.03441794]\n",
      " [-0.06379287  0.8678417  -0.00935198 -0.06596266]\n",
      " [ 0.02895485 -0.08056601  1.         -0.00746877]\n",
      " [-0.00005027 -0.03216467 -0.04233931  0.77143418]] This is the Mueller matrix for calibration (close to identity)\n",
      "0.09608961647804717 This is the RMS error in the calibration matrix\n",
      "0.16316993556229248 This is the retardance error in the sample waveplate\n"
     ]
    }
   ],
   "source": [
    "data1100 = q_ultimate_polarimetry(Cal_theta1100, Cal_Il_1100, Cal_Ir_1100, theta1100, Il_1100, Ir_1100)\n",
    "print(data1100[0], \"This is the Mueller matrix of the sample waveplate\")\n",
    "print(data1100[1], \"This is the retardance of the sample\")\n",
    "print(data1100[2], \"This is the Mueller matrix for calibration (close to identity)\")\n",
    "print(data1100[3], \"This is the RMS error in the calibration matrix\")\n",
    "print(data1100[4], \"This is the retardance error in the sample waveplate\")"
   ]
  },
  {
   "cell_type": "code",
   "execution_count": 14,
   "metadata": {},
   "outputs": [
    {
     "name": "stdout",
     "output_type": "stream",
     "text": [
      "[[ 0.89867088  0.05229602 -0.04770978 -0.04028024]\n",
      " [ 0.00314966  0.82568648 -0.26082041 -0.02055559]\n",
      " [-0.14464137  0.846614    1.         -0.11975092]\n",
      " [ 0.00477734 -0.03673744 -0.08704248  0.84899964]]\n",
      "0.23710661726815088\n"
     ]
    }
   ],
   "source": [
    "uncalibrated = q_calibrated_full_mueller_polarimetry(Cal_theta1100, 0, 0, 0, 0, 0, Cal_Il_1100, Cal_Ir_1100, M_in=None)\n",
    "uncalibrated = uncalibrated/np.max(np.abs(uncalibrated))\n",
    "print(uncalibrated)\n",
    "print(RMS_calculator(uncalibrated))"
   ]
  },
  {
   "cell_type": "code",
   "execution_count": 15,
   "metadata": {},
   "outputs": [
    {
     "name": "stdout",
     "output_type": "stream",
     "text": [
      "0.23710661726815088\n"
     ]
    }
   ],
   "source": [
    "print(RMS_calculator(uncalibrated))"
   ]
  },
  {
   "cell_type": "markdown",
   "metadata": {},
   "source": [
    "1200 nm SK data, 490 fps, 2 ms tint"
   ]
  },
  {
   "cell_type": "code",
   "execution_count": 16,
   "metadata": {},
   "outputs": [
    {
     "name": "stdout",
     "output_type": "stream",
     "text": [
      "Warning: low flux detected, check the image Reduced_DRRP_L_1200nm_490_2_11.999992675781249.fits, index: 3\n",
      "Warning: low flux detected, check the image Reduced_DRRP_L_1200nm_490_2_95.99994140624999.fits, index: 24\n"
     ]
    }
   ],
   "source": [
    "reduced_filename = 'Reduced_DRRP_' # First part of the file name that is the same for each reduced image\n",
    "reduced_folder = \"/home/shared/exoserver/Lab_Data/Mueller_Matrix_Polarimeter/L_Plate_Characterization/SuperK_Select_Data/Reduced_Data/Reduced_L_1200/\"\n",
    "lcenter = [316, 248] # y,x pixel coordinates of the beam center on the detector\n",
    "rcenter = [316, 326]\n",
    "maxradius = 15 # radius of the beam in pixels\n",
    "cutoff = 90000 # intensity threshold. If the pixel sum<cutoff, it will raise a warning and exclude that data\n",
    "\n",
    "extracted_data = extract_intensities(reduced_filename, reduced_folder, lcenter, rcenter, maxradius, cutoff)\n",
    "Il_1200 = extracted_data[0]\n",
    "Ir_1200 = extracted_data[1]\n",
    "theta1200 = extracted_data[2]"
   ]
  },
  {
   "cell_type": "code",
   "execution_count": 17,
   "metadata": {},
   "outputs": [
    {
     "name": "stdout",
     "output_type": "stream",
     "text": [
      "[-0.03008648 -0.18819301  0.01939868  0.05653987  0.01564993] Fit parameters for a1, w1, w2, r1, and r2. 1 for generator, 2 for analyzer\n",
      "[[ 1.         -0.00527632  0.04825437  0.0269995 ]\n",
      " [-0.0563611   0.95365789  0.21970542 -0.27489971]\n",
      " [-0.00428333  0.26743041  0.48141847  0.93136747]\n",
      " [-0.00123652  0.3035816  -0.91513995  0.37480336]] This is the Mueller matrix of the sample waveplate\n",
      "0.1833501558538156 This is the retardance of the sample\n",
      "[[ 0.89916365 -0.04321762 -0.02318684 -0.01393367]\n",
      " [-0.04944729  0.89271774  0.01360209 -0.0055871 ]\n",
      " [ 0.00155841  0.00050558  1.          0.00441442]\n",
      " [-0.0069272   0.00344248  0.01911732  0.87997332]] This is the Mueller matrix for calibration (close to identity)\n",
      "0.05110781787416311 This is the RMS error in the calibration matrix\n",
      "0.0559418392368632 This is the retardance error in the sample waveplate\n"
     ]
    }
   ],
   "source": [
    "data1200 = q_ultimate_polarimetry(Cal_theta1200, Cal_Il_1200, Cal_Ir_1200, theta1200, Il_1200, Ir_1200)\n",
    "print(data1200[0], \"This is the Mueller matrix of the sample waveplate\")\n",
    "print(data1200[1], \"This is the retardance of the sample\")\n",
    "print(data1200[2], \"This is the Mueller matrix for calibration (close to identity)\")\n",
    "print(data1200[3], \"This is the RMS error in the calibration matrix\")\n",
    "print(data1200[4], \"This is the retardance error in the sample waveplate\")"
   ]
  },
  {
   "cell_type": "code",
   "execution_count": 18,
   "metadata": {},
   "outputs": [
    {
     "name": "stdout",
     "output_type": "stream",
     "text": [
      "[[ 1.         -0.02136532 -0.05312491 -0.008352  ]\n",
      " [ 0.0127117   0.78349263  0.74752092  0.0155977 ]\n",
      " [ 0.38386259 -0.84411657  0.75384418 -0.03796   ]\n",
      " [ 0.01292084 -0.01352344 -0.03027734  0.92636915]]\n",
      "0.3100424680534318\n"
     ]
    }
   ],
   "source": [
    "uncalibrated = q_calibrated_full_mueller_polarimetry(Cal_theta1200, 0, 0, 0, 0, 0, Cal_Il_1200, Cal_Ir_1200, M_in=None)\n",
    "uncalibrated = uncalibrated/np.max(np.abs(uncalibrated))\n",
    "print(uncalibrated)\n",
    "print(RMS_calculator(uncalibrated))"
   ]
  },
  {
   "cell_type": "markdown",
   "metadata": {},
   "source": [
    "1300 nm SK data, 490 fps, 2 ms tint"
   ]
  },
  {
   "cell_type": "code",
   "execution_count": 19,
   "metadata": {},
   "outputs": [
    {
     "name": "stdout",
     "output_type": "stream",
     "text": [
      "Warning: low flux detected, check the image Reduced_DRRP_L_1300nm_490_2_39.9999755859375.fits, index: 10\n",
      "Warning: low flux detected, check the image Reduced_DRRP_L_1300nm_490_2_51.99996826171875.fits, index: 13\n",
      "Warning: low flux detected, check the image Reduced_DRRP_L_1300nm_490_2_91.99994384765624.fits, index: 23\n",
      "Warning: low flux detected, check the image Reduced_DRRP_L_1300nm_490_2_131.99991943359373.fits, index: 33\n"
     ]
    }
   ],
   "source": [
    "reduced_filename = 'Reduced_DRRP_'\n",
    "reduced_folder = \"/home/shared/exoserver/Lab_Data/Mueller_Matrix_Polarimeter/L_Plate_Characterization/SuperK_Select_Data/Reduced_Data/Reduced_L_1300/\"\n",
    "lcenter = [316, 248]\n",
    "rcenter = [316, 326]\n",
    "maxradius = 15\n",
    "cutoff = 90000\n",
    "\n",
    "extracted_data = extract_intensities(reduced_filename, reduced_folder, lcenter, rcenter, maxradius, cutoff)\n",
    "Il_1300 = extracted_data[0]\n",
    "Ir_1300 = extracted_data[1]\n",
    "theta1300 = extracted_data[2]"
   ]
  },
  {
   "cell_type": "code",
   "execution_count": 20,
   "metadata": {},
   "outputs": [
    {
     "name": "stdout",
     "output_type": "stream",
     "text": [
      "[-0.04245423 -0.00207595 -0.14124294 -0.01082554 -0.0222979 ] Fit parameters for a1, w1, w2, r1, and r2. 1 for generator, 2 for analyzer\n",
      "[[ 1.         -0.00127191 -0.01770687 -0.01104098]\n",
      " [-0.01218469  0.56659006  0.74097581 -0.45348026]\n",
      " [-0.06091996  0.78179521 -0.09711513  0.78219483]\n",
      " [-0.07022046  0.54064202 -0.75227312 -0.49300372]] This is the Mueller matrix of the sample waveplate\n",
      "0.3356799742616054 This is the retardance of the sample\n",
      "[[ 0.88689507 -0.02846629 -0.01503846 -0.01017656]\n",
      " [-0.10230376  0.92747895  0.03151772 -0.00463817]\n",
      " [ 0.05108678 -0.04417026  1.         -0.01506519]\n",
      " [ 0.00355518 -0.00712148 -0.02284625  0.8722317 ]] This is the Mueller matrix for calibration (close to identity)\n",
      "0.05721171707298191 This is the RMS error in the calibration matrix\n",
      "0.06663688102946957 This is the retardance error in the sample waveplate\n"
     ]
    }
   ],
   "source": [
    "data1300 = q_ultimate_polarimetry(Cal_theta1300, Cal_Il_1300, Cal_Ir_1300, theta1300, Il_1300, Ir_1300)\n",
    "print(data1300[0], \"This is the Mueller matrix of the sample waveplate\")\n",
    "print(data1300[1], \"This is the retardance of the sample\")\n",
    "print(data1300[2], \"This is the Mueller matrix for calibration (close to identity)\")\n",
    "print(data1300[3], \"This is the RMS error in the calibration matrix\")\n",
    "print(data1300[4], \"This is the retardance error in the sample waveplate\")"
   ]
  },
  {
   "cell_type": "markdown",
   "metadata": {},
   "source": [
    "1400 nm SK data, 490 fps, 2 ms tint"
   ]
  },
  {
   "cell_type": "code",
   "execution_count": 21,
   "metadata": {},
   "outputs": [
    {
     "name": "stdout",
     "output_type": "stream",
     "text": [
      "Warning: low flux detected, check the image Reduced_DRRP_L_1400nm_490_2_0.0.fits, index: 0\n",
      "Warning: low flux detected, check the image Reduced_DRRP_L_1400nm_490_2_31.999980468749996.fits, index: 8\n",
      "Warning: low flux detected, check the image Reduced_DRRP_L_1400nm_490_2_47.999970703124994.fits, index: 12\n",
      "Warning: low flux detected, check the image Reduced_DRRP_L_1400nm_490_2_111.999931640625.fits, index: 28\n",
      "Warning: low flux detected, check the image Reduced_DRRP_L_1400nm_490_2_159.99990234375.fits, index: 40\n"
     ]
    }
   ],
   "source": [
    "reduced_filename = 'Reduced_DRRP_'\n",
    "reduced_folder = \"/home/shared/exoserver/Lab_Data/Mueller_Matrix_Polarimeter/L_Plate_Characterization/SuperK_Select_Data/Reduced_Data/Reduced_L_1400/\"\n",
    "lcenter = [316, 248]\n",
    "rcenter = [316, 326]\n",
    "maxradius = 15\n",
    "cutoff = 290000\n",
    "\n",
    "extracted_data = extract_intensities(reduced_filename, reduced_folder, lcenter, rcenter, maxradius, cutoff)\n",
    "Il_1400 = extracted_data[0]\n",
    "Ir_1400 = extracted_data[1]\n",
    "theta1400 = extracted_data[2]"
   ]
  },
  {
   "cell_type": "code",
   "execution_count": 22,
   "metadata": {},
   "outputs": [
    {
     "name": "stdout",
     "output_type": "stream",
     "text": [
      "[-0.11276795 -0.27127508 -0.17921312  0.03471436 -0.00412502] Fit parameters for a1, w1, w2, r1, and r2. 1 for generator, 2 for analyzer\n",
      "[[ 1.         -0.01013238  0.01260806  0.00234705]\n",
      " [-0.00860689  0.97090104 -0.16777501  0.0298208 ]\n",
      " [-0.01210384 -0.12277786 -0.95657676  0.27455669]\n",
      " [-0.00099809 -0.01384121 -0.25838482 -0.947174  ]] This is the Mueller matrix of the sample waveplate\n",
      "0.4586620900907122 This is the retardance of the sample\n",
      "[[ 0.98769835 -0.04022427 -0.0056708  -0.02834107]\n",
      " [-0.0727268   0.959894    0.04242766 -0.01201082]\n",
      " [-0.00383117 -0.02879239  1.         -0.00793836]\n",
      " [-0.03242805  0.0510585  -0.01844809  0.94880786]] This is the Mueller matrix for calibration (close to identity)\n",
      "0.03443558745240136 This is the RMS error in the calibration matrix\n",
      "0.13408283259229858 This is the retardance error in the sample waveplate\n"
     ]
    }
   ],
   "source": [
    "data1400 = q_ultimate_polarimetry(Cal_theta1400, Cal_Il_1400, Cal_Ir_1400, theta1400, Il_1400, Ir_1400)\n",
    "print(data1400[0], \"This is the Mueller matrix of the sample waveplate\")\n",
    "print(data1400[1], \"This is the retardance of the sample\")\n",
    "print(data1400[2], \"This is the Mueller matrix for calibration (close to identity)\")\n",
    "print(data1400[3], \"This is the RMS error in the calibration matrix\")\n",
    "print(data1400[4], \"This is the retardance error in the sample waveplate\")"
   ]
  },
  {
   "cell_type": "code",
   "execution_count": 23,
   "metadata": {},
   "outputs": [
    {
     "data": {
      "text/plain": [
       "array([[ 1.        , -0.        , -0.        , -0.        ],\n",
       "       [ 0.00327686,  0.97100374, -0.16776382,  0.02983104],\n",
       "       [-0.0019322 , -0.12286538, -0.95661606,  0.27460984],\n",
       "       [ 0.00434362, -0.01382611, -0.25844043, -0.94730446]])"
      ]
     },
     "execution_count": 23,
     "metadata": {},
     "output_type": "execute_result"
    }
   ],
   "source": [
    "decompose_retarder(data1400[0])"
   ]
  },
  {
   "cell_type": "code",
   "execution_count": 24,
   "metadata": {},
   "outputs": [
    {
     "name": "stdout",
     "output_type": "stream",
     "text": [
      "[[ 0.90787107 -0.01967382 -0.03144262 -0.02594075]\n",
      " [-0.03843987  0.7239786   0.47275011 -0.02639184]\n",
      " [ 0.11447954  0.02593507  1.         -0.1432737 ]\n",
      " [-0.00902061 -0.02154271 -0.03100246  0.80018996]]\n",
      "0.15574964046922304\n"
     ]
    }
   ],
   "source": [
    "uncalibrated = q_calibrated_full_mueller_polarimetry(Cal_theta1400, 0, 0, 0, 0, 0, Cal_Il_1400, Cal_Ir_1400, M_in=None)\n",
    "uncalibrated = uncalibrated/np.max(np.abs(uncalibrated))\n",
    "print(uncalibrated)\n",
    "print(RMS_calculator(uncalibrated))"
   ]
  },
  {
   "cell_type": "markdown",
   "metadata": {},
   "source": [
    "1500 nm SK data, 490 fps, 2 ms tint"
   ]
  },
  {
   "cell_type": "code",
   "execution_count": 25,
   "metadata": {},
   "outputs": [
    {
     "name": "stdout",
     "output_type": "stream",
     "text": [
      "Warning: low flux detected, check the image Reduced_DRRP_L_1500nm_490_2_7.999995117187499.fits, index: 2\n"
     ]
    },
    {
     "name": "stdout",
     "output_type": "stream",
     "text": [
      "Warning: low flux detected, check the image Reduced_DRRP_L_1500nm_490_2_151.9999072265625.fits, index: 38\n",
      "Warning: low flux detected, check the image Reduced_DRRP_L_1500nm_490_2_163.99989990234374.fits, index: 41\n"
     ]
    }
   ],
   "source": [
    "reduced_filename = 'Reduced_DRRP_'\n",
    "reduced_folder = \"/home/shared/exoserver/Lab_Data/Mueller_Matrix_Polarimeter/L_Plate_Characterization/SuperK_Select_Data/Reduced_Data/Reduced_L_1500/\"\n",
    "lcenter = [316, 248]\n",
    "rcenter = [316, 326]\n",
    "maxradius = 17\n",
    "cutoff = 290000\n",
    "\n",
    "extracted_data = extract_intensities(reduced_filename, reduced_folder, lcenter, rcenter, maxradius, cutoff)\n",
    "Il_1500 = extracted_data[0]\n",
    "Ir_1500 = extracted_data[1]\n",
    "theta1500 = extracted_data[2]"
   ]
  },
  {
   "cell_type": "code",
   "execution_count": 26,
   "metadata": {},
   "outputs": [
    {
     "name": "stdout",
     "output_type": "stream",
     "text": [
      "[ 0.01693706 -0.08531261  0.06469031  0.077504    0.05439866] Fit parameters for a1, w1, w2, r1, and r2. 1 for generator, 2 for analyzer\n",
      "[[ 1.          0.0213839   0.01090492 -0.02072764]\n",
      " [-0.02921213  0.38799717  0.8833387   0.22316544]\n",
      " [ 0.04750437  0.830054   -0.2641689  -0.30600062]\n",
      " [ 0.00642194 -0.22900289  0.29740952 -0.913404  ]] This is the Mueller matrix of the sample waveplate\n",
      "0.42635063935348005 This is the retardance of the sample\n",
      "[[ 1.         -0.03628531 -0.02766565 -0.04457846]\n",
      " [-0.05049765  0.93570105  0.00230632 -0.0016989 ]\n",
      " [-0.01008303 -0.01041858  0.898227   -0.00055976]\n",
      " [-0.03885235  0.04235233  0.00035606  0.97561137]] This is the Mueller matrix for calibration (close to identity)\n",
      "0.039708509967530864 This is the RMS error in the calibration matrix\n",
      "0.08895018905287584 This is the retardance error in the sample waveplate\n"
     ]
    }
   ],
   "source": [
    "data1500 = q_ultimate_polarimetry(Cal_theta1500, Cal_Il_1500, Cal_Ir_1500, theta1500, Il_1500, Ir_1500)\n",
    "print(data1500[0], \"This is the Mueller matrix of the sample waveplate\")\n",
    "print(data1500[1], \"This is the retardance of the sample\")\n",
    "print(data1500[2], \"This is the Mueller matrix for calibration (close to identity)\")\n",
    "print(data1500[3], \"This is the RMS error in the calibration matrix\")\n",
    "print(data1500[4], \"This is the retardance error in the sample waveplate\")"
   ]
  },
  {
   "cell_type": "markdown",
   "metadata": {},
   "source": [
    "1600 nm SK data, 550 fps, 1.8 ms tint"
   ]
  },
  {
   "cell_type": "code",
   "execution_count": 27,
   "metadata": {},
   "outputs": [
    {
     "name": "stdout",
     "output_type": "stream",
     "text": [
      "Warning: low flux detected, check the image Reduced_DRRP_L_1600nm_550_1.8_75.99995361328125.fits, index: 19\n",
      "Warning: low flux detected, check the image Reduced_DRRP_L_1600nm_550_1.8_87.99994628906249.fits, index: 22\n",
      "Warning: low flux detected, check the image Reduced_DRRP_L_1600nm_550_1.8_123.99992431640624.fits, index: 31\n",
      "Warning: low flux detected, check the image Reduced_DRRP_L_1600nm_550_1.8_151.9999072265625.fits, index: 38\n",
      "Warning: low flux detected, check the image Reduced_DRRP_L_1600nm_550_1.8_175.99989257812499.fits, index: 44\n"
     ]
    }
   ],
   "source": [
    "reduced_filename = 'Reduced_DRRP_'\n",
    "reduced_folder = \"/home/shared/exoserver/Lab_Data/Mueller_Matrix_Polarimeter/L_Plate_Characterization/SuperK_Select_Data/Reduced_Data/Reduced_L_1600/\"\n",
    "lcenter = [268, 268]\n",
    "rcenter = [268, 344]\n",
    "maxradius = 20\n",
    "cutoff = 50000\n",
    "\n",
    "extracted_data = extract_intensities(reduced_filename, reduced_folder, lcenter, rcenter, maxradius, cutoff)\n",
    "Il_1600 = extracted_data[0]\n",
    "Ir_1600 = extracted_data[1]\n",
    "theta1600 = extracted_data[2]"
   ]
  },
  {
   "cell_type": "code",
   "execution_count": 28,
   "metadata": {},
   "outputs": [
    {
     "name": "stdout",
     "output_type": "stream",
     "text": [
      "[-0.00983848  0.01904681 -0.09069225  0.04437593  0.06283626] Fit parameters for a1, w1, w2, r1, and r2. 1 for generator, 2 for analyzer\n",
      "[[ 1.         -0.05878907 -0.02804011 -0.0345803 ]\n",
      " [-0.07092396  0.37532171  0.66871953  0.48501969]\n",
      " [ 0.0432129   0.70941324  0.11929706 -0.54814858]\n",
      " [-0.00854385 -0.42612856  0.61834916 -0.51266831]] This is the Mueller matrix of the sample waveplate\n",
      "0.3351532612521787 This is the retardance of the sample\n",
      "[[ 1.         -0.02037747 -0.01299027 -0.02770441]\n",
      " [-0.07274901  0.97367429 -0.0162463   0.00122155]\n",
      " [ 0.02201818 -0.00855546  0.98534582  0.00166156]\n",
      " [-0.03173435  0.03622535  0.01560658  0.96215909]] This is the Mueller matrix for calibration (close to identity)\n",
      "0.027808231862481356 This is the RMS error in the calibration matrix\n",
      "0.03232570230922157 This is the retardance error in the sample waveplate\n"
     ]
    }
   ],
   "source": [
    "data1600 = q_ultimate_polarimetry(Cal_theta1600, Cal_Il_1600, Cal_Ir_1600, theta1600, Il_1600, Ir_1600)\n",
    "print(data1600[0], \"This is the Mueller matrix of the sample waveplate\")\n",
    "print(data1600[1], \"This is the retardance of the sample\")\n",
    "print(data1600[2], \"This is the Mueller matrix for calibration (close to identity)\")\n",
    "print(data1600[3], \"This is the RMS error in the calibration matrix\")\n",
    "print(data1600[4], \"This is the retardance error in the sample waveplate\")"
   ]
  },
  {
   "cell_type": "code",
   "execution_count": 29,
   "metadata": {},
   "outputs": [
    {
     "name": "stdout",
     "output_type": "stream",
     "text": [
      "[[ 0.9615384  -0.02156725 -0.01103457 -0.02667166]\n",
      " [-0.12402778  0.9467621  -0.26230087  0.0281769 ]\n",
      " [-0.06157619  0.46055893  1.         -0.04059958]\n",
      " [-0.06109745  0.06655095 -0.00628914  0.86503715]]\n",
      "0.1446031974468584\n"
     ]
    }
   ],
   "source": [
    "uncalibrated = q_calibrated_full_mueller_polarimetry(Cal_theta1600, 0, 0, 0, 0, 0, Cal_Il_1600, Cal_Ir_1600, M_in=None)\n",
    "uncalibrated = uncalibrated/np.max(np.abs(uncalibrated))\n",
    "print(uncalibrated)\n",
    "print(RMS_calculator(uncalibrated))"
   ]
  },
  {
   "cell_type": "markdown",
   "metadata": {},
   "source": [
    "1750 nm SK data, 490 fps, 2 ms tint"
   ]
  },
  {
   "cell_type": "code",
   "execution_count": 30,
   "metadata": {},
   "outputs": [
    {
     "name": "stdout",
     "output_type": "stream",
     "text": [
      "Warning: low flux detected, check the image Reduced_DRRP_L_1750nm_490_2_111.999931640625.fits, index: 28\n"
     ]
    }
   ],
   "source": [
    "reduced_filename = 'Reduced_DRRP_'\n",
    "reduced_folder = \"/home/shared/exoserver/Lab_Data/Mueller_Matrix_Polarimeter/L_Plate_Characterization/SuperK_Select_Data/Reduced_Data/Reduced_L_1750/\"\n",
    "lcenter = [316, 250]\n",
    "rcenter = [316, 326]\n",
    "maxradius = 16\n",
    "cutoff = 290000\n",
    "\n",
    "extracted_data = extract_intensities(reduced_filename, reduced_folder, lcenter, rcenter, maxradius, cutoff)\n",
    "Il_1750 = extracted_data[0]\n",
    "Ir_1750 = extracted_data[1]\n",
    "theta1750 = extracted_data[2]"
   ]
  },
  {
   "cell_type": "code",
   "execution_count": 31,
   "metadata": {},
   "outputs": [
    {
     "name": "stdout",
     "output_type": "stream",
     "text": [
      "[-0.11862042 -0.25943348 -0.21845098  0.03377102  0.01103115] Fit parameters for a1, w1, w2, r1, and r2. 1 for generator, 2 for analyzer\n",
      "[[ 1.          0.01407089 -0.04947143  0.0096741 ]\n",
      " [-0.00411402  0.9981191  -0.06859043 -0.11704623]\n",
      " [-0.0163185  -0.08434557  0.18372558 -0.93505686]\n",
      " [-0.00640444  0.03556115  0.94390427  0.16625808]] This is the Mueller matrix of the sample waveplate\n",
      "0.22203268467423992 This is the retardance of the sample\n",
      "[[ 1.         -0.06899041 -0.05228824 -0.03591791]\n",
      " [-0.07608319  0.91973665  0.04633381 -0.00640827]\n",
      " [-0.02922138 -0.0045979   0.92553164 -0.01039814]\n",
      " [-0.03498848  0.01889187 -0.02053701  0.95780255]] This is the Mueller matrix for calibration (close to identity)\n",
      "0.0457675893048632 This is the RMS error in the calibration matrix\n",
      "0.0464834220498648 This is the retardance error in the sample waveplate\n"
     ]
    }
   ],
   "source": [
    "data1750 = q_ultimate_polarimetry(Cal_theta1750, Cal_Il_1750, Cal_Ir_1750, theta1750, Il_1750, Ir_1750)\n",
    "print(data1750[0], \"This is the Mueller matrix of the sample waveplate\")\n",
    "print(data1750[1], \"This is the retardance of the sample\")\n",
    "print(data1750[2], \"This is the Mueller matrix for calibration (close to identity)\")\n",
    "print(data1750[3], \"This is the RMS error in the calibration matrix\")\n",
    "print(data1750[4], \"This is the retardance error in the sample waveplate\")"
   ]
  },
  {
   "cell_type": "code",
   "execution_count": 32,
   "metadata": {},
   "outputs": [
    {
     "name": "stdout",
     "output_type": "stream",
     "text": [
      "[[ 0.99832915 -0.01121512 -0.09147972 -0.04260057]\n",
      " [-0.04413663  0.73931208  0.43282716  0.00562301]\n",
      " [ 0.11707543  0.19884792  1.          0.04210994]\n",
      " [-0.0827423   0.07475683  0.0318913   0.87623415]]\n",
      "0.14819316472834299\n"
     ]
    }
   ],
   "source": [
    "uncalibrated = q_calibrated_full_mueller_polarimetry(Cal_theta1750, 0, 0, 0, 0, 0, Cal_Il_1750, Cal_Ir_1750, M_in=None)\n",
    "uncalibrated = uncalibrated/np.max(np.abs(uncalibrated))\n",
    "print(uncalibrated)\n",
    "print(RMS_calculator(uncalibrated))"
   ]
  },
  {
   "cell_type": "markdown",
   "metadata": {},
   "source": [
    "1850 nm SK data, 490 fps, 2 ms tint"
   ]
  },
  {
   "cell_type": "code",
   "execution_count": 33,
   "metadata": {},
   "outputs": [
    {
     "name": "stdout",
     "output_type": "stream",
     "text": [
      "Warning: low flux detected, check the image Reduced_DRRP_L_1850nm_490_2_15.999990234374998.fits, index: 4\n",
      "Warning: low flux detected, check the image Reduced_DRRP_L_1850nm_490_2_71.9999560546875.fits, index: 18\n",
      "Warning: low flux detected, check the image Reduced_DRRP_L_1850nm_490_2_75.99995361328125.fits, index: 19\n",
      "Warning: low flux detected, check the image Reduced_DRRP_L_1850nm_490_2_151.9999072265625.fits, index: 38\n",
      "Warning: low flux detected, check the image Reduced_DRRP_L_1850nm_490_2_167.9998974609375.fits, index: 42\n",
      "Warning: low flux detected, check the image Reduced_DRRP_L_1850nm_490_2_179.99989013671873.fits, index: 45\n"
     ]
    }
   ],
   "source": [
    "reduced_filename = 'Reduced_DRRP_'\n",
    "reduced_folder = \"/home/shared/exoserver/Lab_Data/Mueller_Matrix_Polarimeter/L_Plate_Characterization/SuperK_Select_Data/Reduced_Data/Reduced_L_1850/\"\n",
    "lcenter = [316, 248]\n",
    "rcenter = [316, 326]\n",
    "maxradius = 16\n",
    "cutoff = 90000\n",
    "\n",
    "extracted_data = extract_intensities(reduced_filename, reduced_folder, lcenter, rcenter, maxradius, cutoff)\n",
    "Il_1850 = extracted_data[0]\n",
    "Ir_1850 = extracted_data[1]\n",
    "theta1850 = extracted_data[2]"
   ]
  },
  {
   "cell_type": "code",
   "execution_count": 34,
   "metadata": {},
   "outputs": [
    {
     "name": "stdout",
     "output_type": "stream",
     "text": [
      "[-0.05609499 -0.22383639 -0.02307349  0.05014211  0.06790175] Fit parameters for a1, w1, w2, r1, and r2. 1 for generator, 2 for analyzer\n",
      "[[ 1.         -0.04066793 -0.00770832 -0.0078744 ]\n",
      " [ 0.01442284  0.9097523   0.13119174  0.13772319]\n",
      " [ 0.01017948  0.0405773   0.51101506 -0.72999856]\n",
      " [-0.02015892 -0.16195715  0.77854444  0.58719868]] This is the Mueller matrix of the sample waveplate\n",
      "0.16564757608902447 This is the retardance of the sample\n",
      "[[ 1.         -0.02052255  0.00538147 -0.00795726]\n",
      " [-0.08082551  0.97069097  0.05805648  0.00765249]\n",
      " [-0.01464818 -0.0104579   0.89731005 -0.01893554]\n",
      " [-0.00877085  0.0157762  -0.00528169  0.98282784]] This is the Mueller matrix for calibration (close to identity)\n",
      "0.03808761587315295 This is the RMS error in the calibration matrix\n",
      "0.044143887794706335 This is the retardance error in the sample waveplate\n"
     ]
    }
   ],
   "source": [
    "data1850 = q_ultimate_polarimetry(Cal_theta1850, Cal_Il_1850, Cal_Ir_1850, theta1850, Il_1850, Ir_1850)\n",
    "print(data1850[0], \"This is the Mueller matrix of the sample waveplate\")\n",
    "print(data1850[1], \"This is the retardance of the sample\")\n",
    "print(data1850[2], \"This is the Mueller matrix for calibration (close to identity)\")\n",
    "print(data1850[3], \"This is the RMS error in the calibration matrix\")\n",
    "print(data1850[4], \"This is the retardance error in the sample waveplate\")"
   ]
  },
  {
   "cell_type": "code",
   "execution_count": 35,
   "metadata": {},
   "outputs": [
    {
     "name": "stdout",
     "output_type": "stream",
     "text": [
      "[[ 1.         -0.0184592  -0.01105158 -0.01183386]\n",
      " [ 0.02477634  0.67251815  0.71418205  0.01014307]\n",
      " [ 0.29939737 -0.71516999  0.71383107 -0.02527524]\n",
      " [ 0.018467   -0.03850861  0.03020308  0.94755113]]\n",
      "0.28589174900059855\n"
     ]
    }
   ],
   "source": [
    "uncalibrated = q_calibrated_full_mueller_polarimetry(Cal_theta1850, 0, 0, 0, 0, 0, Cal_Il_1850, Cal_Ir_1850, M_in=None)\n",
    "uncalibrated = uncalibrated/np.max(np.abs(uncalibrated))\n",
    "print(uncalibrated)\n",
    "print(RMS_calculator(uncalibrated))"
   ]
  },
  {
   "cell_type": "markdown",
   "metadata": {},
   "source": [
    "1950 nm SK data, 490 fps, 2 ms tint"
   ]
  },
  {
   "cell_type": "code",
   "execution_count": 36,
   "metadata": {},
   "outputs": [
    {
     "name": "stdout",
     "output_type": "stream",
     "text": [
      "Warning: low flux detected, check the image Reduced_DRRP_L_1950nm_490_2_31.999980468749996.fits, index: 8\n",
      "Warning: low flux detected, check the image Reduced_DRRP_L_1950nm_490_2_95.99994140624999.fits, index: 24\n",
      "Warning: low flux detected, check the image Reduced_DRRP_L_1950nm_490_2_107.99993408203125.fits, index: 27\n",
      "Warning: low flux detected, check the image Reduced_DRRP_L_1950nm_490_2_131.99991943359373.fits, index: 33\n"
     ]
    }
   ],
   "source": [
    "reduced_filename = 'Reduced_DRRP_'\n",
    "reduced_folder = \"/home/shared/exoserver/Lab_Data/Mueller_Matrix_Polarimeter/L_Plate_Characterization/SuperK_Select_Data/Reduced_Data/Reduced_L_1950/\"\n",
    "lcenter = [316, 248]\n",
    "rcenter = [316, 326]\n",
    "maxradius = 16\n",
    "cutoff = 90000\n",
    "\n",
    "extracted_data = extract_intensities(reduced_filename, reduced_folder, lcenter, rcenter, maxradius, cutoff)\n",
    "Il_1950 = extracted_data[0]\n",
    "Ir_1950 = extracted_data[1]\n",
    "theta1950 = extracted_data[2]"
   ]
  },
  {
   "cell_type": "code",
   "execution_count": 37,
   "metadata": {},
   "outputs": [
    {
     "name": "stdout",
     "output_type": "stream",
     "text": [
      "[ 0.00271387 -0.04903161  0.06197726  0.01508161 -0.0093532 ] Fit parameters for a1, w1, w2, r1, and r2. 1 for generator, 2 for analyzer\n",
      "[[ 1.          0.00187293  0.0141812  -0.02075488]\n",
      " [-0.01687212  0.93094524  0.13242477  0.32817747]\n",
      " [ 0.04580971 -0.00319951  0.85526162 -0.42008496]\n",
      " [ 0.00230895 -0.33371057  0.39577404  0.8475521 ]] This is the Mueller matrix of the sample waveplate\n",
      "0.0977761758669206 This is the retardance of the sample\n",
      "[[ 0.92448847 -0.01640632 -0.12117122 -0.05733576]\n",
      " [-0.05236752  0.91466275 -0.02458677 -0.02571854]\n",
      " [ 0.03480705 -0.09890947  1.         -0.01551143]\n",
      " [-0.05450754  0.05357669  0.07987859  0.90220676]] This is the Mueller matrix for calibration (close to identity)\n",
      "0.06531300950619215 This is the RMS error in the calibration matrix\n",
      "0.11330721680455656 This is the retardance error in the sample waveplate\n"
     ]
    }
   ],
   "source": [
    "data1950 = q_ultimate_polarimetry(Cal_theta1950, Cal_Il_1950, Cal_Ir_1950, theta1950, Il_1950, Ir_1950)\n",
    "print(data1950[0], \"This is the Mueller matrix of the sample waveplate\")\n",
    "print(data1950[1], \"This is the retardance of the sample\")\n",
    "print(data1950[2], \"This is the Mueller matrix for calibration (close to identity)\")\n",
    "print(data1950[3], \"This is the RMS error in the calibration matrix\")\n",
    "print(data1950[4], \"This is the retardance error in the sample waveplate\")"
   ]
  },
  {
   "cell_type": "code",
   "execution_count": 38,
   "metadata": {},
   "outputs": [
    {
     "name": "stdout",
     "output_type": "stream",
     "text": [
      "0.06531300950619215\n"
     ]
    }
   ],
   "source": [
    "print(np.sqrt(np.mean(np.square(data1950[2]-np.identity(4)))))"
   ]
  },
  {
   "cell_type": "code",
   "execution_count": 39,
   "metadata": {},
   "outputs": [
    {
     "name": "stdout",
     "output_type": "stream",
     "text": [
      "[[ 1.          0.00946586 -0.13785797 -0.05633032]\n",
      " [-0.05371579  0.98874959  0.22643171 -0.01796157]\n",
      " [ 0.13837433 -0.54034842  0.97801944 -0.03867811]\n",
      " [-0.06639719  0.05492189  0.13424506  0.96011563]]\n",
      "0.1614415407445742\n"
     ]
    }
   ],
   "source": [
    "uncalibrated = q_calibrated_full_mueller_polarimetry(Cal_theta1950, 0, 0, 0, 0, 0, Cal_Il_1950, Cal_Ir_1950, M_in=None)\n",
    "uncalibrated = uncalibrated/np.max(np.abs(uncalibrated))\n",
    "print(uncalibrated)\n",
    "print(RMS_calculator(uncalibrated))"
   ]
  },
  {
   "cell_type": "code",
   "execution_count": 40,
   "metadata": {},
   "outputs": [
    {
     "name": "stdout",
     "output_type": "stream",
     "text": [
      "0.1614415407445742\n"
     ]
    }
   ],
   "source": [
    "print(np.sqrt(np.mean(np.square(uncalibrated-np.identity(4)))))"
   ]
  },
  {
   "cell_type": "code",
   "execution_count": 41,
   "metadata": {},
   "outputs": [
    {
     "name": "stdout",
     "output_type": "stream",
     "text": [
      "[0.0, 0.009465857236823878, -0.13785796790003832, -0.056330318392842645, -0.05371578822857675, -0.011250406842353233, 0.2264317118652838, -0.01796157329220182, 0.1383743268562796, -0.5403484237406341, -0.021980563588188118, -0.038678108368182154, -0.06639719471662536, 0.05492189038267925, 0.13424506007589743, -0.039884365601950855]\n",
      "[0.0, 8.960245322793098e-05, 0.019004819313527994, 0.003173104770239026, 0.0028853859050173044, 0.00012657165411846845, 0.051271320138242905, 0.00032261811513113774, 0.019147454332928502, 0.29197641903898786, 0.0004831451756543813, 0.0014959960669408423, 0.004408587466237463, 0.0030164140432070354, 0.01802173615478131, 0.0015907626194700806]\n",
      "0.1614415407445742\n"
     ]
    }
   ],
   "source": [
    "differences = []\n",
    "for i in range(0, 4):\n",
    "    for j in range(0, 4):\n",
    "        differences.append(uncalibrated[i, j]-M_identity[i, j])\n",
    "print(differences)\n",
    "\n",
    "differences_squared = [x**2 for x in differences]\n",
    "print(differences_squared)\n",
    "RMS = np.sqrt(sum(differences_squared)/16)\n",
    "print(RMS)"
   ]
  },
  {
   "cell_type": "markdown",
   "metadata": {},
   "source": [
    "Plot the data"
   ]
  },
  {
   "cell_type": "code",
   "execution_count": 42,
   "metadata": {},
   "outputs": [],
   "source": [
    "old_q_measured_retardance = [0.427, 0.423, 0.120, 0.336, 0.164, 0.198, 0.220, 0.139, 0.127]"
   ]
  },
  {
   "cell_type": "code",
   "execution_count": 43,
   "metadata": {},
   "outputs": [],
   "source": [
    "# From regular I measurements\n",
    "old_wavelength_bins = np.array([1400, 1500, 1550, 1600, 1620, 1650, 1750, 1900, 2000])\n",
    "old_retardance = np.array([0.456, 0.432, 0.122, 0.338, 0.162, 0.198, 0.221, 0.127, 0.131])"
   ]
  },
  {
   "cell_type": "code",
   "execution_count": 44,
   "metadata": {},
   "outputs": [],
   "source": [
    "new_wavelength_bins = [1400, 1500, 1550, 1600, 1620, 1650, 1750, 1850, 1950]\n",
    "new_retardance = [0.447, 0.433, 0.376, 0.336, 0.322, 0.297, 0.224, 0.150, 0.089]"
   ]
  },
  {
   "cell_type": "code",
   "execution_count": 45,
   "metadata": {},
   "outputs": [
    {
     "data": {
      "image/png": "[encoded data removed]",
      "text/plain": [
       "<Figure size 640x480 with 1 Axes>"
      ]
     },
     "metadata": {},
     "output_type": "display_data"
    }
   ],
   "source": [
    "plt.ylim(0, 0.5)\n",
    "plt.xlim(1300, 2050)\n",
    "plt.xlabel(\"Wavelength (nm)\", fontsize=12, fontweight='bold')\n",
    "plt.ylabel(\"Retardance (waves)\", fontsize=12, fontweight='bold')\n",
    "\n",
    "plt.plot(old_wavelength_bins, old_retardance, marker='o', linestyle=' ', color = 'purple', label = 'L HWP: Thorlabs Lamp, Initial')\n",
    "plt.plot(old_wavelength_bins, old_q_measured_retardance, marker='o', linestyle=' ', color = 'green', label = 'L HWP: Thorlabs Lamp, Q measured')\n",
    "plt.plot(new_wavelength_bins, new_retardance, marker='x', linestyle=' ', color = 'orange', label = 'L HWP: SuperK Laser, Q measured')\n",
    "plt.legend()\n",
    "\n",
    "caption = \"Characterization for the L-band half-wave plate (centered). 1cm beam diameter.\"\n",
    "\n",
    "text_width = 70  # Speify desired text width box in characters\n",
    "wrapped_text = textwrap.fill(caption, width=text_width)\n",
    "plt.text(1650, -0.09, wrapped_text, ha='center', va='center')\n",
    "\n",
    "folder_path = \"/home/shared/exoserver/Lab_Data/Mueller_Matrix_Polarimeter/L_Plate_Characterization/SuperK_Select_Data/\"\n",
    "file_name = 'L_HWP_Retardance_Comparison.png'\n",
    "#plt.savefig(folder_path + file_name, bbox_inches='tight', dpi=300)"
   ]
  },
  {
   "cell_type": "code",
   "execution_count": 46,
   "metadata": {},
   "outputs": [],
   "source": [
    "# wavelength_bins = [1100, 1200, 1300, 1400, 1500, 1550, 1600, 1620, 1650, 1750, 1850, 1950]\n",
    "# retardance = np.array([1+data1100[1], 1-data1200[1], 1-data1300[1], 1-data1400[1], data1500[1], data1550[1], data1600[1], data1620[1], data1650[1], data1750[1], data1850[1], data1950[1]])+1\n",
    "\n",
    "wavelength_bins = [1.1, 1.2, 1.3, 1.4, 1.5, 1.6, 1.75, 1.85, 1.95]\n",
    "retardance = np.array([1-data1100[1], 1-data1200[1], 1-data1300[1], 1-data1400[1], data1500[1], data1600[1], data1750[1], data1850[1], data1950[1]])+1"
   ]
  },
  {
   "cell_type": "code",
   "execution_count": 47,
   "metadata": {},
   "outputs": [
    {
     "name": "stdout",
     "output_type": "stream",
     "text": [
      "[1.89978199 1.81664984 1.66432003 1.54133791 1.42635064 1.33515326\n",
      " 1.22203268 1.16564758 1.09777618]\n"
     ]
    }
   ],
   "source": [
    "print(retardance)"
   ]
  },
  {
   "cell_type": "code",
   "execution_count": 48,
   "metadata": {},
   "outputs": [
    {
     "name": "stdout",
     "output_type": "stream",
     "text": [
      "[0.0259693  0.00890342 0.01060559 0.02133995 0.01415686 0.0051448\n",
      " 0.00739807 0.00702572 0.0180334 ]\n"
     ]
    }
   ],
   "source": [
    "#y_err1 = [data1100[4], data1200[4], data1300[4], data1400[4], data1500[4], data1600[4], data1750[4], data1850[4], data1950[4]]\n",
    "y_err1 = np.array([data1100[4], data1200[4], data1300[4], data1400[4], data1500[4], data1600[4], data1750[4], data1850[4], data1950[4]])\n",
    "y_err1 = y_err1/(2*np.pi)\n",
    "print(y_err1)"
   ]
  },
  {
   "cell_type": "code",
   "execution_count": 49,
   "metadata": {},
   "outputs": [
    {
     "name": "stdout",
     "output_type": "stream",
     "text": [
      "0.09608961647804717 0.05110781787416311 0.05721171707298191 0.03443558745240136 0.039708509967530864 0.027808231862481356 0.0457675893048632 0.03808761587315295 0.06531300950619215\n"
     ]
    }
   ],
   "source": [
    "# Raw RMS errors of the calibration matrices (before effor propagation)\n",
    "print(data1100[3], data1200[3], data1300[3], data1400[3], data1500[3], data1600[3], data1750[3], data1850[3], data1950[3])"
   ]
  },
  {
   "cell_type": "code",
   "execution_count": 50,
   "metadata": {},
   "outputs": [],
   "source": [
    "# Import the theoretical values\n",
    "#d = 185.63 #um Estimate by William Chang\n",
    "\n",
    "#Ordinary and Extraordinary indices of refraction takeing from refractiveindex.info. Values for MgF2\n",
    "n_e = np.loadtxt(\"/home/shared/exoserver/Lab_Data/Mueller_Matrix_Polarimeter/L_Plate_Characterization/SuperK_Select_Data/Dodge-e.csv\", delimiter=\",\",skiprows=1)\n",
    "n_o = np.loadtxt(\"/home/shared/exoserver/Lab_Data/Mueller_Matrix_Polarimeter/L_Plate_Characterization/SuperK_Select_Data/Dodge-o.csv\", delimiter=\",\",skiprows=1)"
   ]
  },
  {
   "cell_type": "code",
   "execution_count": 51,
   "metadata": {},
   "outputs": [],
   "source": [
    "# Since the data doesn't have the same wavelengths I've measured, interpolate to get the specific values\n",
    "specific_ne = np.interp(wavelength_bins, n_e[:,0], n_e[:,1])\n",
    "specific_no = np.interp(wavelength_bins, n_o[:,0], n_o[:,1])"
   ]
  },
  {
   "cell_type": "code",
   "execution_count": 52,
   "metadata": {},
   "outputs": [
    {
     "name": "stdout",
     "output_type": "stream",
     "text": [
      "[188.18689923] This is the best fit value of d\n",
      "[0.6018157911288817] This is the uncertainty in the best fit values\n"
     ]
    }
   ],
   "source": [
    "# Find d, the difference in plate thickness\n",
    "initial_guess = [185] # initial guess for d, in microns\n",
    "popt, pcov = curve_fit(lambda w, d: d*(specific_ne - specific_no)/w, wavelength_bins, retardance, sigma=y_err1, p0=initial_guess)\n",
    "print(popt, \"This is the best fit value of d\")\n",
    "print(list(np.sqrt(np.diagonal(pcov))), \"This is the uncertainty in the best fit values\")"
   ]
  },
  {
   "cell_type": "code",
   "execution_count": 53,
   "metadata": {},
   "outputs": [],
   "source": [
    "d = popt[0]"
   ]
  },
  {
   "cell_type": "code",
   "execution_count": 54,
   "metadata": {},
   "outputs": [],
   "source": [
    "def theoretical_retardance(w, d):\n",
    "    specific_ne = np.interp(w, n_e[:,0], n_e[:,1])\n",
    "    specific_no = np.interp(w, n_o[:,0], n_o[:,1])\n",
    "    return d*(specific_ne - specific_no)/w"
   ]
  },
  {
   "cell_type": "code",
   "execution_count": 55,
   "metadata": {},
   "outputs": [
    {
     "name": "stdout",
     "output_type": "stream",
     "text": [
      "0.575746331842567\n",
      "[0.00184122]\n",
      "[-0.00184122]\n",
      "0.45008698162603966\n",
      "[0.00143936]\n",
      "[-0.00143936]\n"
     ]
    }
   ],
   "source": [
    "print(theoretical_retardance(3.4, d)) \n",
    "print(theoretical_retardance(3.4, d+list(np.sqrt(np.diagonal(pcov)))) - theoretical_retardance(3.4, d))\n",
    "print(theoretical_retardance(3.4, d) - theoretical_retardance(3.4, d+list(np.sqrt(np.diagonal(pcov)))))\n",
    "\n",
    "print(theoretical_retardance(4.1, d))\n",
    "print(theoretical_retardance(4.1, d+list(np.sqrt(np.diagonal(pcov)))) - theoretical_retardance(4.1, d))\n",
    "print(theoretical_retardance(4.1, d) - theoretical_retardance(4.1, d+list(np.sqrt(np.diagonal(pcov)))))"
   ]
  },
  {
   "cell_type": "code",
   "execution_count": 56,
   "metadata": {},
   "outputs": [
    {
     "data": {
      "text/plain": [
       "0.5095671909236258"
      ]
     },
     "execution_count": 56,
     "metadata": {},
     "output_type": "execute_result"
    }
   ],
   "source": [
    "L_wavelengths = np.linspace(3.4, 4.1, 100)\n",
    "np.mean(theoretical_retardance(L_wavelengths, d))"
   ]
  },
  {
   "cell_type": "code",
   "execution_count": 57,
   "metadata": {},
   "outputs": [
    {
     "data": {
      "image/png": "[encoded data removed]",
      "text/plain": [
       "<Figure size 640x480 with 1 Axes>"
      ]
     },
     "metadata": {},
     "output_type": "display_data"
    }
   ],
   "source": [
    "plt.ylim(0.4, 2.4)\n",
    "plt.xlim(0.9, 4.2)\n",
    "plt.xlabel(\"Wavelength $(\\mu m)$\", fontsize=12, fontweight='bold')\n",
    "plt.ylabel(\"Retardance $(waves)$\", fontsize=12, fontweight='bold')\n",
    "\n",
    "plt.errorbar(wavelength_bins, retardance, yerr=y_err1, marker='o', capsize=2, linestyle=' ', color = 'purple', label = 'Lab Measurements')\n",
    "plt.plot(n_e[:,0], 1/n_e[:,0]*d*(n_e[:,1]-n_o[:,1]), label=\"Design\", linestyle='--', color='gray')\n",
    "plt.fill_between([3.4, 4.1],0,2,color='r',alpha=0.3, label=\"Keck L'\")\n",
    "\n",
    "caption = \"Characterization for the L-band half-wave plate. Data taken with SuperK SELECT laser.\"\n",
    "\n",
    "text_width = 70  # Speify desired text width box in characters\n",
    "wrapped_text = textwrap.fill(caption, width=text_width)\n",
    "#plt.text(2.5, 0, wrapped_text, ha='center', va='center')\n",
    "\n",
    "plt.legend(fontsize=12)\n",
    "#plt.grid(True)\n",
    "\n",
    "folder_path = \"/home/shared/exoserver/Lab_Data/Mueller_Matrix_Polarimeter/L_Plate_Characterization/SuperK_Select_Data/\"\n",
    "file_name = 'Final_L_Band_HWP_Retardance_6_3.png'\n",
    "#plt.savefig(folder_path + file_name, bbox_inches='tight', dpi=300)"
   ]
  },
  {
   "cell_type": "markdown",
   "metadata": {},
   "source": [
    "Testing the calibration matrix reconstruction"
   ]
  },
  {
   "cell_type": "code",
   "execution_count": 58,
   "metadata": {},
   "outputs": [],
   "source": [
    "def test_q_calibrated_full_mueller_polarimetry(thetas, a1, w1, w2, r1, r2, I, Q, M_in=None):\n",
    "    nmeas = len(thetas)  # Number of measurements\n",
    "    Wmat1 = np.zeros([nmeas, 16])\n",
    "    Pmat1 = np.zeros([nmeas])\n",
    "    Wmat2 = np.zeros([nmeas, 16])\n",
    "    Pmat2 = np.zeros([nmeas])\n",
    "    th = thetas\n",
    "\n",
    "    for i in range(nmeas):\n",
    "        # Mueller Matrix of generator (linear polarizer and a quarter wave plate)\n",
    "        Mg = linear_retarder(th[i]+w1, np.pi/2+r1) @ linear_polarizer(0+a1)\n",
    "\n",
    "        # Mueller Matrix of analyzer (one channel of the Wollaston prism is treated as a linear polarizer. The right spot is horizontal (0) and the left spot is vertical(pi/2))\n",
    "        Ma = linear_retarder(th[i]*5+w2, np.pi/2+r2)\n",
    "\n",
    "        # Data reduction matrix. Taking the 0 index ensures that intensity is the output\n",
    "        Wmat1[i,:] = np.kron((Ma)[0,:], Mg[:,0]) # for the top row, using intensities\n",
    "        Wmat2[i,:] = np.kron((Ma)[1,:], Mg[:,0]) # for the bottom 3 rows, using Q\n",
    "\n",
    "        # M_in is some example Mueller matrix. Providing this input will test theoretical Mueller matrix. Otherwise, the raw data is used\n",
    "        if M_in is not None:\n",
    "            Pmat1[i] = (Ma[0,:] @ M_in @ Mg[:,0])\n",
    "            Pmat2[i] = (Ma[1,:] @ M_in @ Mg[:,0])\n",
    "        else:\n",
    "            Pmat1[i] = I[i]  #Pmat is a vector of measurements (either I or Q)\n",
    "            Pmat2[i] = Q[i] \n",
    "\n",
    "    # Compute Mueller matrix using Moore-Penrose pseudo invervse\n",
    "    M1 = np.linalg.pinv(Wmat1) @ Pmat1\n",
    "    M1 = np.reshape(M1, [4,4])\n",
    "\n",
    "    M2 = np.linalg.pinv(Wmat2) @ Pmat2\n",
    "    M2 = np.reshape(M2, [4,4])\n",
    "\n",
    "    M = np.zeros([4,4])\n",
    "    M[0,:] = M1[0,:]\n",
    "    M[1:4,:] = M2[1:4,:]\n",
    "\n",
    "    return M"
   ]
  },
  {
   "cell_type": "code",
   "execution_count": 59,
   "metadata": {},
   "outputs": [
    {
     "name": "stdout",
     "output_type": "stream",
     "text": [
      "40\n"
     ]
    }
   ],
   "source": [
    "print(len(Cal_theta1600))\n"
   ]
  },
  {
   "cell_type": "code",
   "execution_count": 60,
   "metadata": {},
   "outputs": [
    {
     "name": "stdout",
     "output_type": "stream",
     "text": [
      "[[1.  0.4 0.3 0.2]\n",
      " [0.4 0.9 0.2 0.3]\n",
      " [0.3 0.2 0.9 0.4]\n",
      " [0.2 0.3 0.4 0.9]]\n"
     ]
    }
   ],
   "source": [
    "M_ex = np.array([[1, 0.4, 0.3, 0.2],\n",
    "                 [0.4, 0.9, 0.2, 0.3],\n",
    "                 [0.3, 0.2, 0.9, 0.4],\n",
    "                 [0.2, 0.3, 0.4, 0.9]])\n",
    "print(M_ex)"
   ]
  },
  {
   "cell_type": "code",
   "execution_count": 61,
   "metadata": {},
   "outputs": [
    {
     "name": "stdout",
     "output_type": "stream",
     "text": [
      "[[-0.22358116  0.18740233 -0.39264523  0.20408539]\n",
      " [-0.50734753 -0.55699731 -0.47406354  0.99138388]\n",
      " [-0.71204748 -0.86538113  0.17413333 -0.57975401]\n",
      " [-0.0339831  -0.63087618 -0.38978391  0.32643324]]\n"
     ]
    }
   ],
   "source": [
    "M_rand = np.random.uniform(-1, 1, (4, 4))\n",
    "print(M_rand)"
   ]
  },
  {
   "cell_type": "code",
   "execution_count": 62,
   "metadata": {},
   "outputs": [
    {
     "name": "stdout",
     "output_type": "stream",
     "text": [
      "[0.35041451012060043, -0.27518566936215644, -0.43331161396023016, -0.01157266104138972, 0.4491166845966698, 0.24556816337471768, -0.10104798117265963, 0.5918607175344567, 0.4851048860715107, 0.4477152647477689, 0.6062175100847148, -0.4549827642911059, -0.9499342004518123, -0.1937023733975672, 0.18293974255996767, -0.5176442984481152, -0.7324581951179172, 0.22613468011525442, 0.7513384469065315, -0.07176576519139016, -0.8439546144561986, -0.44577819187818674, 0.16972979571847674, -0.08219768886377359, -0.6486726079091057, -0.5273625895756752, 0.14154221190652974, -0.011524617919039427, -0.6808774551062882, -0.6852725339457502, -0.04108984883644759, 0.22373695206941263, -0.352529213966256, -0.7441665370392828, 0.771040115642315, 0.5032140406318114, -0.4716594541550351, -0.7795024564510328, -0.1856811670540276, 0.3504145101206001]\n",
      "0.9499342004518123\n"
     ]
    }
   ],
   "source": [
    "simulated_q = q_output_simulation_function(Cal_theta1600, 0.1, 0.5, -0.5, 0.1, 0.5, M_in=M_rand) # Varies between -1 and 1\n",
    "print(simulated_q)\n",
    "print(max(np.abs(simulated_q)))"
   ]
  },
  {
   "cell_type": "code",
   "execution_count": 63,
   "metadata": {},
   "outputs": [
    {
     "name": "stdout",
     "output_type": "stream",
     "text": [
      "[-0.13202226815934112, -0.1111838693706207, -0.08994942100682926, -0.0630357040694268, -0.03229914291956519, -4.4152994498953705e-06, 0.05921912933332077, 0.0812232067664954, 0.09532406933072302, 0.07821479071828656, 0.05216058794610684, 0.01746831168213904, -0.023955010668204012, -0.06970890556456492, -0.11706969024281856, -0.1631855112028886, -0.20528138444780075, -0.24085866135480669, -0.2678737685225049, -0.2848826624163137, -0.29114007700750194, -0.286646120901998, -0.27213683066811556, -0.24901959596427592, -0.2192586064464708, -0.18521930295094194, -0.14948394994132322, -0.08314513148333974, -0.0570187951688774, -0.0378166911462099, -0.026457379051159288, -0.023174829764268663, -0.02751287393856448, -0.038374373335532376, -0.07271585484725027, -0.09189682849109693, -0.10936820157051841, -0.12299409069034102, -0.13097919141369005, -0.1320222681593411]\n",
      "0.09532406933072302\n"
     ]
    }
   ],
   "source": [
    "simulated_I = I_output_simulation_function(Cal_theta1600, 0.1, 0.5, -0.5, 0.1, 0.5, M_in=M_rand) # Constant 0.5 with the identity matrix, but otherwise it can vary between 0 and 1\n",
    "print(simulated_I)\n",
    "print(max(simulated_I))"
   ]
  },
  {
   "cell_type": "code",
   "execution_count": 64,
   "metadata": {},
   "outputs": [
    {
     "data": {
      "text/plain": [
       "array([[-0.22358116,  0.18740233, -0.39264523,  0.20408539],\n",
       "       [-0.50734753, -0.55699731, -0.47406354,  0.99138388],\n",
       "       [-0.71204748, -0.86538113,  0.17413333, -0.57975401],\n",
       "       [-0.0339831 , -0.63087618, -0.38978391,  0.32643324]])"
      ]
     },
     "execution_count": 64,
     "metadata": {},
     "output_type": "execute_result"
    }
   ],
   "source": [
    "test_q_calibrated_full_mueller_polarimetry(Cal_theta1600, 0.1, 0.5, -0.5, 0.1, 0.5, simulated_I, simulated_q)"
   ]
  },
  {
   "cell_type": "markdown",
   "metadata": {},
   "source": [
    "Success! With a randomly generated matrix and the Q and I values from that, we are able to perfectly reconstruct the matrix"
   ]
  },
  {
   "cell_type": "markdown",
   "metadata": {},
   "source": [
    "Now try generating Q and I values that are multiplied by some large number to test the best method of normaliation"
   ]
  },
  {
   "cell_type": "code",
   "execution_count": 65,
   "metadata": {},
   "outputs": [],
   "source": [
    "def test_I_output_simulation_function(t, a1, w1, w2, r1, r2, Flux_in, M_in=None):\n",
    "    if M_in is None:\n",
    "        M = M_identity\n",
    "    else:\n",
    "        M = M_in\n",
    "\n",
    "    B = np.array([[Flux_in], [0], [0], [0]])\n",
    "\n",
    "    prediction = [None]*len(t)\n",
    "    for i in range(len(t)):\n",
    "        prediction[i] = float(A  @ linear_retarder(5*t[i]+w2, np.pi/2+r2) @ M @ linear_retarder(t[i]+w1, np.pi/2+r1) @ linear_polarizer(a1) @ B)\n",
    "    return prediction"
   ]
  },
  {
   "cell_type": "code",
   "execution_count": 66,
   "metadata": {},
   "outputs": [],
   "source": [
    "def test_q_output_simulation_function(t, a1, w1, w2, r1, r2, Flux_in, M_in=None):\n",
    "    if M_in is None:\n",
    "        M = M_identity\n",
    "    else:\n",
    "        M = M_in\n",
    "\n",
    "    B = np.array([[Flux_in], [0], [0], [0]])\n",
    "\n",
    "    prediction = [None]*len(t)\n",
    "    for i in range(len(t)):\n",
    "        prediction[i] = float(C @ linear_retarder(5*t[i]+w2, np.pi/2+r2) @ M @ linear_retarder(t[i]+w1, np.pi/2+r1) @ linear_polarizer(a1) @ B)\n",
    "    return prediction"
   ]
  },
  {
   "cell_type": "code",
   "execution_count": 67,
   "metadata": {},
   "outputs": [
    {
     "name": "stdout",
     "output_type": "stream",
     "text": [
      "[-396.06680448 -333.55160811 -269.84826302 -189.10711221  -96.89742876\n",
      "   -0.0132459   177.657388    243.6696203   285.97220799  234.64437215\n",
      "  156.48176384   52.40493505  -71.865032   -209.12671669 -351.20907073\n",
      " -489.55653361 -615.84415334 -722.57598406 -803.62130557 -854.64798725\n",
      " -873.42023102 -859.93836271 -816.410492   -747.05878789 -657.77581934\n",
      " -555.65790885 -448.45184982 -249.43539445 -171.05638551 -113.45007344\n",
      "  -79.37213715  -69.52448929  -82.53862182 -115.12312001 -218.14756454\n",
      " -275.69048547 -328.10460471 -368.98227207 -392.93757424 -396.06680448]\n",
      "285.97220799216905\n",
      "[-1.38498355 -1.16637771 -0.94361709 -0.66127794 -0.33883512 -0.00004632\n",
      "  0.62124005  0.85207448  1.          0.8205146   0.54719221  0.18325185\n",
      " -0.25130076 -0.73128336 -1.22812309 -1.71190249 -2.1535105  -2.52673499\n",
      " -2.81013778 -2.98857009 -3.05421368 -3.0070697  -2.85485956 -2.61234752\n",
      " -2.30013897 -1.94304864 -1.56816585 -0.87223649 -0.59815738 -0.39671713\n",
      " -0.27755193 -0.24311624 -0.28862463 -0.40256751 -0.76282785 -0.96404643\n",
      " -1.14733039 -1.29027319 -1.37404112 -1.38498355]\n"
     ]
    }
   ],
   "source": [
    "simulated_I2 = test_I_output_simulation_function(Cal_theta1600, 0.1, 0.5, -0.5, 0.1, 0.5, Flux_in=3000, M_in=M_rand)\n",
    "simulated_I2 = np.array(simulated_I2)\n",
    "print(simulated_I2)\n",
    "print(max(simulated_I2))\n",
    "print(simulated_I2/max(simulated_I2))"
   ]
  },
  {
   "cell_type": "code",
   "execution_count": 68,
   "metadata": {},
   "outputs": [
    {
     "name": "stdout",
     "output_type": "stream",
     "text": [
      "[ 1051.24353036  -825.55700809 -1299.93484188   -34.71798312\n",
      "  1347.35005379   736.70449012  -303.14394352  1775.5821526\n",
      "  1455.31465821  1343.14579424  1818.65253025 -1364.94829287\n",
      " -2849.80260136  -581.10712019   548.81922768 -1552.93289534\n",
      " -2197.37458535   678.40404035  2254.01534072  -215.29729557\n",
      " -2531.86384337 -1337.33457563   509.18938716  -246.59306659\n",
      " -1946.01782373 -1582.08776873   424.62663572   -34.57385376\n",
      " -2042.63236532 -2055.81760184  -123.26954651   671.21085621\n",
      " -1057.5876419  -2232.49961112  2313.12034693  1509.6421219\n",
      " -1414.97836247 -2338.50736935  -557.04350116  1051.24353036]\n",
      "[    -2.65420762      2.4750503       4.81728075      0.18358899\n",
      "    -13.90491029 -55617.55576522     -1.7063402       7.28684253\n",
      "      5.08900731      5.72417647     11.62213721    -26.04617851\n",
      "     39.65492705      2.7787321      -1.56265676      3.17212168\n",
      "      3.56806925     -0.93886879     -2.80482278      0.25191342\n",
      "      2.8987923       1.55515166     -0.62369285      0.33008522\n",
      "      2.95848185      2.84723342     -0.9468723       0.13860845\n",
      "     11.94128099     18.12090146      1.55305818     -9.65430833\n",
      "     12.81324571     19.39227855    -10.60346629     -5.47585862\n",
      "      4.31258307      6.33772283      1.41763867     -2.65420762]\n"
     ]
    }
   ],
   "source": [
    "simulated_q2 = test_q_output_simulation_function(Cal_theta1600, 0.1, 0.5, -0.5, 0.1, 0.5, Flux_in=3000, M_in=M_rand)\n",
    "simulated_q2 = np.array(simulated_q2)\n",
    "print(simulated_q2)\n",
    "print(simulated_q2/simulated_I2)"
   ]
  },
  {
   "cell_type": "code",
   "execution_count": 69,
   "metadata": {},
   "outputs": [
    {
     "name": "stdout",
     "output_type": "stream",
     "text": [
      "[[-0.22358116  0.18740233 -0.39264523  0.20408539]\n",
      " [-0.50734753 -0.55699731 -0.47406354  0.99138388]\n",
      " [-0.71204748 -0.86538113  0.17413333 -0.57975401]\n",
      " [-0.0339831  -0.63087618 -0.38978391  0.32643324]]\n"
     ]
    }
   ],
   "source": [
    "print(M_rand)"
   ]
  },
  {
   "cell_type": "code",
   "execution_count": 70,
   "metadata": {},
   "outputs": [
    {
     "name": "stdout",
     "output_type": "stream",
     "text": [
      "[[-0.22358116  0.18740233 -0.39264523  0.20408539]\n",
      " [-0.50734753 -0.55699731 -0.47406354  0.99138388]\n",
      " [-0.71204748 -0.86538113  0.17413333 -0.57975401]\n",
      " [-0.0339831  -0.63087618 -0.38978391  0.32643324]]\n"
     ]
    }
   ],
   "source": [
    "test_M = test_q_calibrated_full_mueller_polarimetry(Cal_theta1600, 0.1, 0.5, -0.5, 0.1, 0.5, simulated_I2/3000, simulated_q2/3000)\n",
    "#test_M = test_M/np.max(np.abs(test_M))\n",
    "print(test_M)"
   ]
  },
  {
   "cell_type": "code",
   "execution_count": 71,
   "metadata": {},
   "outputs": [
    {
     "name": "stdout",
     "output_type": "stream",
     "text": [
      "[[-0.2255243   0.18903105 -0.39605771  0.20585909]\n",
      " [-0.51175689 -0.56183818 -0.47818363  1.        ]\n",
      " [-0.71823589 -0.87290216  0.17564672 -0.58479265]\n",
      " [-0.03427845 -0.63635913 -0.39317152  0.32927028]]\n"
     ]
    }
   ],
   "source": [
    "test_M = test_q_calibrated_full_mueller_polarimetry(Cal_theta1600, 0.1, 0.5, -0.5, 0.1, 0.5, simulated_I2/max(simulated_I2), simulated_q2/max(simulated_I2))\n",
    "test_M = test_M/np.max(np.abs(test_M))\n",
    "print(test_M)"
   ]
  },
  {
   "cell_type": "code",
   "execution_count": 72,
   "metadata": {},
   "outputs": [],
   "source": [
    "# If you divide the intensity and Q by Flux_in, you get a perfect reconstruction on the top row. The better the overall transmission, this better the approximation becomes when using max of the measured intensity, instead of the input intensity"
   ]
  },
  {
   "cell_type": "code",
   "execution_count": 73,
   "metadata": {},
   "outputs": [
    {
     "name": "stdout",
     "output_type": "stream",
     "text": [
      "[[ 1.         -0.02037747 -0.01299027 -0.02770441]\n",
      " [-0.07274901  0.97367429 -0.0162463   0.00122155]\n",
      " [ 0.02201818 -0.00855546  0.98534582  0.00166156]\n",
      " [-0.03173435  0.03622535  0.01560658  0.96215909]]\n",
      "0.027808231862481356\n"
     ]
    }
   ],
   "source": [
    "print(data1600[2])\n",
    "print(data1600[3])"
   ]
  },
  {
   "cell_type": "code",
   "execution_count": 74,
   "metadata": {},
   "outputs": [
    {
     "name": "stdout",
     "output_type": "stream",
     "text": [
      "[[ 0.9615384  -0.02156725 -0.01103457 -0.02667166]\n",
      " [-0.12402778  0.9467621  -0.26230087  0.0281769 ]\n",
      " [-0.06157619  0.46055893  1.         -0.04059958]\n",
      " [-0.06109745  0.06655095 -0.00628914  0.86503715]]\n",
      "0.1446031974468584\n"
     ]
    }
   ],
   "source": [
    "uncalibrated = q_calibrated_full_mueller_polarimetry(Cal_theta1600, 0, 0, 0, 0, 0, Cal_Il_1600, Cal_Ir_1600, M_in=None)\n",
    "uncalibrated = uncalibrated/np.max(np.abs(uncalibrated))\n",
    "print(uncalibrated)\n",
    "print(RMS_calculator(uncalibrated))"
   ]
  },
  {
   "cell_type": "code",
   "execution_count": 75,
   "metadata": {},
   "outputs": [
    {
     "name": "stdout",
     "output_type": "stream",
     "text": [
      "[ 0.94914983 -0.14636128 -0.49729035 -0.09519108  0.61499797  0.99836271\n",
      "  0.50689438  0.10840792 -0.45429714 -0.38242407  0.13310187  0.42332721\n",
      "  0.66932851  0.97256685  0.83387496  0.16073396 -0.31554315 -0.08393517\n",
      "  0.64618714  0.95763718  0.25365594 -0.40940236 -0.37680653  0.26134345\n",
      "  0.89703987  0.9591277   0.66500758 -0.15535921 -0.7268607  -0.99643091\n",
      " -0.66422964 -0.10064404  0.30157723  0.53473244  0.98751077  0.51198985\n",
      " -0.14038605 -0.29340596  0.26039733  0.95137214]\n"
     ]
    },
    {
     "name": "stdout",
     "output_type": "stream",
     "text": [
      "[-0.01429977  0.01576305 -0.09013822  0.02618925  0.05023051]\n",
      "[0.23630681 0.19993032 0.08692392 0.25537362 0.24376263]\n"
     ]
    }
   ],
   "source": [
    "parameter_bounds = ([-np.pi, -np.pi, -np.pi, -np.pi/2, -np.pi/2], [np.pi, np.pi, np.pi, np.pi/2, np.pi/2])\n",
    "#initial_guess = [0, 0, 0, 0, 0]\n",
    "initial_guess = [random.uniform(-0.05, 0.05), random.uniform(-0.05, 0.05), random.uniform(-0.05, 0.05), random.uniform(-0.05, 0.05), random.uniform(-0.05, 0.05)] # randomizing the initial guess doesn't change RMS significantly\n",
    "Q = (Cal_Ir_1600 - Cal_Il_1600)/(Cal_Ir_1600 + Cal_Il_1600) # This normalization made it better\n",
    "print(Q)\n",
    "\n",
    "popt, pcov = curve_fit(q_calibration_function, Cal_theta1600, Q, p0=initial_guess, bounds =parameter_bounds)\n",
    "print(popt)\n",
    "print(np.sqrt(np.diagonal(pcov)))"
   ]
  },
  {
   "cell_type": "code",
   "execution_count": 76,
   "metadata": {},
   "outputs": [
    {
     "name": "stdout",
     "output_type": "stream",
     "text": [
      "[[ 0.98490592 -0.02047479 -0.01292912 -0.0272529 ]\n",
      " [-0.08881494  0.97253929 -0.02120377  0.00142866]\n",
      " [ 0.02445008 -0.00275589  1.          0.0014734 ]\n",
      " [-0.03102727  0.03535164  0.01685697  0.94688074]]\n",
      "0.032187508654083805\n"
     ]
    }
   ],
   "source": [
    "calibrated = q_calibrated_full_mueller_polarimetry(Cal_theta1600, popt[0], popt[1], popt[2], popt[3], popt[4], Cal_Il_1600, Cal_Ir_1600, M_in=None)\n",
    "calibrated = calibrated/np.max(np.abs(calibrated))\n",
    "print(calibrated)\n",
    "print(RMS_calculator(calibrated))"
   ]
  },
  {
   "cell_type": "code",
   "execution_count": 77,
   "metadata": {},
   "outputs": [],
   "source": [
    "def test_q_calibration_function(t, a1, w1, w2, r1, r2):\n",
    "    prediction = [None]*len(t)\n",
    "    I = (Cal_Ir_1600 + Cal_Il_1600)\n",
    "    for i in range(len(t)):\n",
    "        B = np.array([[I[i]], [0], [0], [0]])\n",
    "        prediction[i] = float(C @ linear_retarder(5*t[i]+w2, np.pi/2+r2) @ M_identity @ linear_retarder(t[i]+w1, np.pi/2+r1) @ linear_polarizer(a1) @ B)\n",
    "    return prediction"
   ]
  },
  {
   "cell_type": "markdown",
   "metadata": {},
   "source": [
    "This can be done by define the calibration as a nested function within the larger function. "
   ]
  },
  {
   "cell_type": "code",
   "execution_count": 78,
   "metadata": {},
   "outputs": [
    {
     "name": "stdout",
     "output_type": "stream",
     "text": [
      "[-0.01045449  0.01881527 -0.09005679  0.03858979  0.05946447]\n",
      "[0.22980739 0.19302894 0.08401105 0.24597148 0.23243281]\n"
     ]
    }
   ],
   "source": [
    "parameter_bounds = ([-np.pi, -np.pi, -np.pi, -np.pi/2, -np.pi/2], [np.pi, np.pi, np.pi, np.pi/2, np.pi/2])\n",
    "#initial_guess = [0, 0, 0, 0, 0]\n",
    "initial_guess = [random.uniform(-0.05, 0.05), random.uniform(-0.05, 0.05), random.uniform(-0.05, 0.05), random.uniform(-0.05, 0.05), random.uniform(-0.05, 0.05)] # randomizing the initial guess doesn't change RMS significantly\n",
    "Q = (Cal_Ir_1600 - Cal_Il_1600)#/(Cal_Ir_1600 + Cal_Il_1600) # This normalization made it better\n",
    "#print(Q)\n",
    "\n",
    "popt, pcov = curve_fit(test_q_calibration_function, Cal_theta1600, Q, p0=initial_guess, bounds =parameter_bounds)\n",
    "print(popt)\n",
    "print(np.sqrt(np.diagonal(pcov)))"
   ]
  },
  {
   "cell_type": "code",
   "execution_count": 79,
   "metadata": {},
   "outputs": [
    {
     "name": "stdout",
     "output_type": "stream",
     "text": [
      "[[ 1.         -0.02048527 -0.01306709 -0.02769265]\n",
      " [-0.07837372  0.97834556 -0.01716077  0.00139552]\n",
      " [ 0.02291638 -0.0067191   0.99423897  0.00129943]\n",
      " [-0.03173761  0.03619142  0.01607611  0.96169014]]\n",
      "0.028409327796178267\n"
     ]
    }
   ],
   "source": [
    "test_calibrated = q_calibrated_full_mueller_polarimetry(Cal_theta1600, popt[0], popt[1], popt[2], popt[3], popt[4], Cal_Il_1600, Cal_Ir_1600, M_in=None)\n",
    "test_calibrated = test_calibrated/np.max(np.abs(test_calibrated))\n",
    "print(test_calibrated)\n",
    "print(RMS_calculator(test_calibrated))"
   ]
  },
  {
   "cell_type": "markdown",
   "metadata": {},
   "source": [
    "Try simulating the intensity data and see what happens"
   ]
  },
  {
   "cell_type": "code",
   "execution_count": 80,
   "metadata": {},
   "outputs": [
    {
     "name": "stdout",
     "output_type": "stream",
     "text": [
      "[0 1 0 0]\n"
     ]
    }
   ],
   "source": [
    "print(C)"
   ]
  },
  {
   "cell_type": "code",
   "execution_count": 81,
   "metadata": {},
   "outputs": [
    {
     "data": {
      "text/plain": [
       "array([0.        , 0.06981317, 0.13962634, 0.20943951, 0.27925268,\n",
       "       0.34906585, 0.41887902, 0.48869219, 0.55850536, 0.62831853,\n",
       "       0.6981317 , 0.76794487, 0.83775804, 0.90757121, 0.97738438,\n",
       "       1.04719755, 1.11701072, 1.18682389, 1.25663706, 1.32645023,\n",
       "       1.3962634 , 1.46607657, 1.53588974, 1.60570291, 1.67551608,\n",
       "       1.74532925, 1.81514242, 1.88495559, 1.95476876, 2.02458193,\n",
       "       2.0943951 , 2.16420827, 2.23402144, 2.30383461, 2.37364778,\n",
       "       2.44346095, 2.51327412, 2.58308729, 2.65290046, 2.72271363,\n",
       "       2.7925268 , 2.86233997, 2.93215314, 3.00196631, 3.07177948,\n",
       "       3.14159265])"
      ]
     },
     "execution_count": 81,
     "metadata": {},
     "output_type": "execute_result"
    }
   ],
   "source": [
    "np.linspace(0, np.pi, 46)"
   ]
  },
  {
   "cell_type": "code",
   "execution_count": 82,
   "metadata": {},
   "outputs": [
    {
     "name": "stdout",
     "output_type": "stream",
     "text": [
      "[0.         0.06981317 0.13962634 0.20943951 0.27925268 0.34906585\n",
      " 0.41887902 0.48869219 0.55850536 0.62831853 0.76794487 0.90757121\n",
      " 0.97738438 1.04719755 1.11701072 1.18682389 1.25663706 1.32645023\n",
      " 1.3962634  1.46607657 1.53588974 1.60570291 1.67551608 1.88495559\n",
      " 1.95476876 2.02458193 2.0943951  2.16420827 2.23402144 2.30383461\n",
      " 2.37364778 2.44346095 2.51327412 2.58308729 2.65290046 2.72271363\n",
      " 2.7925268  2.86233997 2.93215314 3.00196631 3.14159265]\n"
     ]
    }
   ],
   "source": [
    "print(Cal_theta1400)"
   ]
  },
  {
   "cell_type": "code",
   "execution_count": 83,
   "metadata": {},
   "outputs": [
    {
     "name": "stdout",
     "output_type": "stream",
     "text": [
      "[ 0.3518586   0.32884356  0.03853572 -0.05306585  0.16679635  0.44705155\n",
      "  0.46007527  0.32300403  0.28240655  0.25431359 -0.31253836 -0.3567099\n",
      " -0.06679398  0.2004144   0.41414629  0.49104627  0.29047427 -0.09710924\n",
      " -0.35218642 -0.20859276  0.18415111  0.40288393  0.18240245  0.3224313\n",
      "  0.48769133  0.39083453  0.2868816   0.28316816  0.16765824 -0.14115415\n",
      " -0.43934798 -0.46173911 -0.21682072  0.07439701  0.3161546   0.47806356\n",
      "  0.43487759  0.10136411 -0.26199323 -0.33452198  0.34825482]\n"
     ]
    }
   ],
   "source": [
    "#print((Cal_Ir_1400 - Cal_Il_1400)/((Cal_Ir_1400 + Cal_Il_1400)))\n",
    "#print((Cal_Ir_1400 - Cal_Il_1400)/(max(Cal_Ir_1400 + Cal_Il_1400)))\n",
    "print((Cal_Ir_1400 - Cal_Il_1400)/(2*(Cal_Ir_1400 + Cal_Il_1400)))"
   ]
  },
  {
   "cell_type": "code",
   "execution_count": 84,
   "metadata": {},
   "outputs": [
    {
     "name": "stdout",
     "output_type": "stream",
     "text": [
      "[-0.018089414176092777, -0.03275965151644758, -0.04909923917509958, -0.06503440338455566, -0.0785544631454321, -0.08788271645604831, -0.09162828647099822, -0.08890688680666867, -0.07942089638215578, -0.0634923148014184, -0.016543308484488276, 0.03878892627780747, 0.06415942677409131, 0.08501646332512491, 0.0993820591019422, 0.1056813871495369, 0.10287377162011935, 0.09054407203037793, 0.06894716104282292, 0.03900181010353346, 0.0022341913190060403, -0.03932491297512267, -0.08328152985914469, -0.20379851311404676, -0.23229125772833573, -0.2519304168444874, -0.26174704030499296, -0.2614423987414555, -0.25140213913039816, -0.2326593593915245, -0.20680960004090665, -0.1758844357427355, -0.14219351478849607, -0.10814729566829813, -0.07607418179868233, -0.04804614649539789, -0.025726240969860578, -0.010249643472456937, -0.00214727286339228, -0.0013176597054325029, -0.018089414176092763]\n"
     ]
    }
   ],
   "source": [
    "simulated_intensity = []\n",
    "for i in range(len(Cal_theta1400)):\n",
    "    simulated_intensity.append(float(A @ linear_retarder(5*Cal_theta1400[i], np.pi/2) @ M_rand @ linear_retarder(Cal_theta1400[i], np.pi/2) @ linear_polarizer(0) @ B))\n",
    "\n",
    "print(simulated_intensity)"
   ]
  },
  {
   "cell_type": "code",
   "execution_count": 85,
   "metadata": {},
   "outputs": [
    {
     "name": "stdout",
     "output_type": "stream",
     "text": [
      "0.26174704030499296\n"
     ]
    }
   ],
   "source": [
    "print(np.max(np.abs(simulated_intensity)))"
   ]
  },
  {
   "cell_type": "markdown",
   "metadata": {},
   "source": [
    "Graph the coated vs uncoated quartz sample"
   ]
  },
  {
   "cell_type": "code",
   "execution_count": 86,
   "metadata": {},
   "outputs": [],
   "source": [
    "# quartz_wavelength_bins = np.array([1400, 1500, 1550, 1600, 1620, 1650, 1750, 1900, 2000])\n",
    "# uncoated_quartz_retardance = np.array([0.86, 0.57, 1.70, 2.29, 1.12, 0.71, 1.63, 1.65, 1.48])/(2*np.pi) # this was measured previously\n",
    "# coated_quartz_retardance = np.array([0.142, 0.115, 0.274, 0.358, 0.197, 0.122, 0.260, 0.257, 0.243]) # measured here, using DRRP\n",
    "\n",
    "# Bad values to throw out are at 1550, 1620, and 1650 nm\n",
    "\n",
    "#quartz_wavelength_bins = np.array([1400, 1500, 1600, 1750, 1900, 2000])\n",
    "uncoated_quartz_retardance = np.array([0.86, 0.57, 2.29, 2*np.pi-1.63, 2*np.pi-1.65, 1.48])/(2*np.pi) # this was measured previously\n",
    "coated_quartz_retardance = np.array([0.142, 0.115, 0.358, 1-0.260, 1-0.257, 0.243]) # measured here, using DRRP"
   ]
  },
  {
   "cell_type": "code",
   "execution_count": 87,
   "metadata": {},
   "outputs": [],
   "source": [
    "uncoated_quartz_uncertainty = np.array([0.011, 0.011, 0.015, 0.002, 0.002, 0.002])  # values found from the best fit parameters of the single rotatator"
   ]
  },
  {
   "cell_type": "code",
   "execution_count": 88,
   "metadata": {},
   "outputs": [],
   "source": [
    "quartz_wavelength_bins = np.array([1.4, 1.5, 1.6, 1.75, 1.9, 2])\n",
    "quartz_ne = np.genfromtxt(\"/home/shared/exoserver/Lab_Data/HWP_Characterization/Theoretical_Values/Ghosh-n(e)_Quartz.csv\", delimiter=',', skip_header=1)#, usecols=1)\n",
    "quartz_no = np.genfromtxt(\"/home/shared/exoserver/Lab_Data/HWP_Characterization/Theoretical_Values/Ghosh-n(o)_Quartz.csv\", delimiter=',', skip_header=1)#, usecols=1)\n",
    "specific_quartz_ne = np.interp(quartz_wavelength_bins, quartz_ne[:,0], quartz_ne[:,1])\n",
    "specific_quartz_no = np.interp(quartz_wavelength_bins, quartz_no[:,0], quartz_no[:,1])"
   ]
  },
  {
   "cell_type": "code",
   "execution_count": 89,
   "metadata": {},
   "outputs": [],
   "source": [
    "smooth_wavelengths = np.linspace(1.3, 2.1, 1000)\n",
    "smooth_quartz_ne = np.interp(smooth_wavelengths, quartz_ne[:,0], quartz_ne[:,1])\n",
    "smooth_quartz_no = np.interp(smooth_wavelengths, quartz_no[:,0], quartz_no[:,1])"
   ]
  },
  {
   "cell_type": "code",
   "execution_count": 90,
   "metadata": {},
   "outputs": [
    {
     "data": {
      "text/plain": [
       "1000"
      ]
     },
     "execution_count": 90,
     "metadata": {},
     "output_type": "execute_result"
    }
   ],
   "source": [
    "len(smooth_quartz_no)"
   ]
  },
  {
   "cell_type": "code",
   "execution_count": 91,
   "metadata": {},
   "outputs": [
    {
     "name": "stdout",
     "output_type": "stream",
     "text": [
      "[1799.44028366] This is the best fit value of d\n",
      "[10.741778817631396] This is the uncertainty in the best fit values\n"
     ]
    }
   ],
   "source": [
    "# Find d (the plate thickness). Best fit for coated quartz. Units of microns\n",
    "initial_guess = [1800]\n",
    "popt, pcov = curve_fit(lambda w, d: (d*(specific_quartz_ne - specific_quartz_no)/w)%1, quartz_wavelength_bins, coated_quartz_retardance, p0=initial_guess)\n",
    "print(popt, \"This is the best fit value of d\")\n",
    "print(list(np.sqrt(np.diagonal(pcov))), \"This is the uncertainty in the best fit values\")"
   ]
  },
  {
   "cell_type": "code",
   "execution_count": 92,
   "metadata": {},
   "outputs": [
    {
     "data": {
      "text/plain": [
       "[<matplotlib.lines.Line2D at 0x7f2deeaaf220>]"
      ]
     },
     "execution_count": 92,
     "metadata": {},
     "output_type": "execute_result"
    },
    {
     "data": {
      "image/png": "[encoded data removed]",
      "text/plain": [
       "<Figure size 640x480 with 1 Axes>"
      ]
     },
     "metadata": {},
     "output_type": "display_data"
    }
   ],
   "source": [
    "plt.plot(quartz_ne[:,0], (1799/quartz_ne[:,0]*(quartz_ne[:,1]-quartz_no[:,1]))%1, color='r', linestyle='--', label='Theoretical Quartz Retardance (mod 1)')\n",
    "plt.plot(quartz_ne[:,0], (1799/quartz_ne[:,0]*(quartz_ne[:,1]-quartz_no[:,1])), color='b', linestyle='--', label='Theoretical Quartz Retardance')"
   ]
  },
  {
   "cell_type": "code",
   "execution_count": 93,
   "metadata": {},
   "outputs": [
    {
     "data": {
      "image/png": "[encoded data removed]",
      "text/plain": [
       "<Figure size 640x480 with 1 Axes>"
      ]
     },
     "metadata": {},
     "output_type": "display_data"
    }
   ],
   "source": [
    "plt.xlim(1.3, 2.1)\n",
    "plt.ylim(0, 1.00)\n",
    "plt.xlabel(\"Wavelength $(\\mu m)$\", fontsize=12, fontweight='bold')\n",
    "plt.ylabel(\"Retardance $(waves)$\", fontsize=12, fontweight='bold')\n",
    "\n",
    "#plt.plot(quartz_ne[:,0], (1799/quartz_ne[:,0]*(quartz_ne[:,1]-quartz_no[:,1]))%1, color='gray', linestyle='--', label='Design, mod 1')\n",
    "plt.plot(smooth_wavelengths, (1799/smooth_wavelengths*(smooth_quartz_ne-smooth_quartz_no))%1, color='gray', linestyle='--', label='Design, mod 1')\n",
    "\n",
    "plt.errorbar(quartz_wavelength_bins, uncoated_quartz_retardance, yerr = uncoated_quartz_uncertainty, marker='o', linestyle=' ', color = 'darkorange', label = 'Before RAR texturing')\n",
    "plt.errorbar(quartz_wavelength_bins, coated_quartz_retardance, yerr = uncoated_quartz_uncertainty, marker='x', linestyle=' ', color = 'black', label = 'After RAR texturing')\n",
    "\n",
    "plt.legend(fontsize=10)\n",
    "\n",
    "#folder_path = \"/home/shared/exoserver/Lab_Data/HWP_Characterization/Results/\"\n",
    "folder_path = \"/home/wcmelby/Library/Python/wcmelby-HWP_Characterizations/SuperK_Select_Data/\"\n",
    "file_name = 'Coated_vs_Uncoated_Sample_Quartz_6_8.png'\n",
    "#plt.savefig(folder_path + file_name, bbox_inches='tight', dpi=300)"
   ]
  },
  {
   "cell_type": "code",
   "execution_count": 94,
   "metadata": {},
   "outputs": [
    {
     "data": {
      "text/plain": [
       "[<matplotlib.lines.Line2D at 0x7f2ded087d30>]"
      ]
     },
     "execution_count": 94,
     "metadata": {},
     "output_type": "execute_result"
    },
    {
     "data": {
      "image/png": "[encoded data removed]",
      "text/plain": [
       "<Figure size 640x480 with 1 Axes>"
      ]
     },
     "metadata": {},
     "output_type": "display_data"
    }
   ],
   "source": [
    "def test_exponential(x):\n",
    "    return 20*x\n",
    "\n",
    "test_x = np.linspace(0, 5, 50)\n",
    "plt.plot(test_x, test_exponential(test_x)%1, marker='o')"
   ]
  },
  {
   "cell_type": "markdown",
   "metadata": {},
   "source": [
    "Now plot the uncoated quartz intensity values"
   ]
  },
  {
   "cell_type": "code",
   "execution_count": 95,
   "metadata": {},
   "outputs": [],
   "source": [
    "uncoated_quartz_transmission = np.array([85.8, 90.3, 90.3, 89.0, 91.6, 91.8])"
   ]
  },
  {
   "cell_type": "code",
   "execution_count": 96,
   "metadata": {},
   "outputs": [
    {
     "data": {
      "image/png": "[encoded data removed]",
      "text/plain": [
       "<Figure size 640x480 with 1 Axes>"
      ]
     },
     "metadata": {},
     "output_type": "display_data"
    }
   ],
   "source": [
    "plt.xlim(1.3, 2.1)\n",
    "plt.ylim(75, 100)\n",
    "plt.xlabel(\"Wavelength $(\\mu m)$\", fontsize=12, fontweight='bold')\n",
    "plt.ylabel(\"Percent Transmission\", fontsize=12, fontweight='bold')\n",
    "\n",
    "plt.plot(quartz_wavelength_bins, uncoated_quartz_transmission, color='goldenrod', marker='o', linestyle=' ', label='Uncoated Quartz')\n",
    "\n",
    "plt.legend(fontsize=12)\n",
    "\n",
    "folder_path = \"/home/shared/exoserver/Lab_Data/HWP_Characterization/Results/\"\n",
    "file_name = 'Uncoated_Sample_Quartz_Transmission_6_3.png'\n",
    "#plt.savefig(folder_path + file_name, bbox_inches='tight', dpi=300)"
   ]
  },
  {
   "cell_type": "code",
   "execution_count": 97,
   "metadata": {},
   "outputs": [],
   "source": [
    "# The previous I calibrations were much better than Q"
   ]
  },
  {
   "cell_type": "markdown",
   "metadata": {},
   "source": [
    "Try plotting the uncertainty values for different ranges of the trace"
   ]
  },
  {
   "cell_type": "code",
   "execution_count": 98,
   "metadata": {},
   "outputs": [
    {
     "data": {
      "text/plain": [
       "<matplotlib.legend.Legend at 0x7f2decfde5e0>"
      ]
     },
     "execution_count": 98,
     "metadata": {},
     "output_type": "execute_result"
    },
    {
     "data": {
      "image/png": "[encoded data removed]",
      "text/plain": [
       "<Figure size 640x480 with 1 Axes>"
      ]
     },
     "metadata": {},
     "output_type": "display_data"
    }
   ],
   "source": [
    "trace = np.linspace(0.01, 3.99, 50)\n",
    "RMS1 = 0.01 # These values are in waves\n",
    "RMS2 = 0.05\n",
    "RMS3 = 0.1\n",
    "\n",
    "plt.ylim(0, 1)\n",
    "plt.ylabel(\"Retardance (waves)\")\n",
    "plt.xlabel(\"Trace of $M_R$\")\n",
    "#plt.plot(trace, np.arccos(trace/2 - 1)/(2*np.pi), label=\"Retardance\")\n",
    "#plt.plot(trace, 2*RMS1/np.sqrt(4*trace-trace**2), label=\"Propagated Error\") # Error as a function of trace\n",
    "plt.errorbar(trace, np.arccos(trace/2 - 1)/(2*np.pi), yerr=2*RMS3/np.sqrt(4*trace-trace**2), marker='o', linestyle=' ', color='black', label=\"RMS=0.1\")\n",
    "plt.errorbar(trace, np.arccos(trace/2 - 1)/(2*np.pi), yerr=2*RMS2/np.sqrt(4*trace-trace**2), marker='o', linestyle=' ', color='darkgray', label=\"RMS=0.05\")\n",
    "plt.errorbar(trace, np.arccos(trace/2 - 1)/(2*np.pi), yerr=2*RMS1/np.sqrt(4*trace-trace**2), marker='o', linestyle=' ', color='sandybrown', label=\"RMS=0.01\")\n",
    "\n",
    "plt.legend()"
   ]
  },
  {
   "cell_type": "code",
   "execution_count": null,
   "metadata": {},
   "outputs": [],
   "source": []
  }
 ],
 "metadata": {
  "kernelspec": {
   "display_name": "Python 3",
   "language": "python",
   "name": "python3"
  },
  "language_info": {
   "codemirror_mode": {
    "name": "ipython",
    "version": 3
   },
   "file_extension": ".py",
   "mimetype": "text/x-python",
   "name": "python",
   "nbconvert_exporter": "python",
   "pygments_lexer": "ipython3",
   "version": "3.8.10"
  }
 },
 "nbformat": 4,
 "nbformat_minor": 2
}
