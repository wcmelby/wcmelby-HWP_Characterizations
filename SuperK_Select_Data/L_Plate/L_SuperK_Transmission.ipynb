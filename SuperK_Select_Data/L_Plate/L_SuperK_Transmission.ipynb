{
 "cells": [
  {
   "cell_type": "markdown",
   "metadata": {},
   "source": [
    "Transmission values for the L' band HWP using the SuperK laser"
   ]
  },
  {
   "cell_type": "code",
   "execution_count": 1,
   "metadata": {},
   "outputs": [],
   "source": [
    "import sys\n",
    "sys.path.insert(0, '/home/wcmelby/Library/Python/wcmelby-HWP_Characterizations/')\n",
    "from New_DRRP_Functions import *"
   ]
  },
  {
   "cell_type": "markdown",
   "metadata": {},
   "source": [
    "First need to reduce the images and save to a new folder"
   ]
  },
  {
   "cell_type": "markdown",
   "metadata": {},
   "source": [
    "No sample data"
   ]
  },
  {
   "cell_type": "code",
   "execution_count": 2,
   "metadata": {},
   "outputs": [],
   "source": [
    "# dark_file = \"/home/shared/exoserver/Lab_Data/Mueller_Matrix_Polarimeter/L_Plate_Characterization/Darks/Dark_490_2.fits\"\n",
    "# fits.open(dark_file)\n",
    "# dark = fits.getdata(dark_file)\n",
    "# dark_median = np.median(dark, axis=0)\n",
    "\n",
    "# old_directory = \"/home/shared/exoserver/Lab_Data/Mueller_Matrix_Polarimeter/L_Plate_Characterization/SuperK_Select_Data/L_Transmission/No_Sample_Intensity/Raw_Data/\"\n",
    "# new_directory = \"/home/shared/exoserver/Lab_Data/Mueller_Matrix_Polarimeter/L_Plate_Characterization/SuperK_Select_Data/L_Transmission/No_Sample_Intensity/Reduced_Data/\"\n",
    "# image_file = \"L_Transmission\"\n",
    "# for filename in os.listdir(old_directory):\n",
    "#     if filename.startswith(image_file):                                # Call specific files starting with the desired name\n",
    "#         with fits.open(os.path.join(old_directory, filename)) as hdul:\n",
    "#             img_data = hdul[0].data\n",
    "#             img_median = np.median(img_data, axis=0)\n",
    "#             reduced_data = img_median - dark_median\n",
    "\n",
    "#             # Save the newly reduced image to a reduced data folder\n",
    "#         new_filename = f\"Reduced_{filename}\"\n",
    "#         new_filepath = os.path.join(new_directory, new_filename)\n",
    "#         fits.writeto(new_filepath, reduced_data, overwrite=True)"
   ]
  },
  {
   "cell_type": "code",
   "execution_count": 3,
   "metadata": {},
   "outputs": [
    {
     "name": "stdout",
     "output_type": "stream",
     "text": [
      "[ 96769.5  97033.5 145154.  201629.  212825.5 178925.5 507103.   74145.\n",
      " 154377. ]\n"
     ]
    }
   ],
   "source": [
    "no_sample_flux = np.array([])\n",
    "reduced_folder = \"/home/shared/exoserver/Lab_Data/Mueller_Matrix_Polarimeter/L_Plate_Characterization/SuperK_Select_Data/L_Transmission/No_Sample_Intensity/Reduced_Data/\"\n",
    "reduced_filename = \"Reduced_L_Transmission\"\n",
    "lcenter = [316, 250]\n",
    "rcenter = [316, 327]\n",
    "maxradius = 20\n",
    "\n",
    "for filename in sorted(os.listdir(reduced_folder), key = extract_number):\n",
    "    if filename.startswith(reduced_filename):\n",
    "        with fits.open(os.path.join(reduced_folder, filename)) as hdul:\n",
    "            reduced_img_data = hdul[0].data\n",
    "            ys, xs, = np.indices(reduced_img_data.shape)\n",
    "            lradius = np.sqrt((ys-lcenter[0])**2+(xs-lcenter[1])**2)\n",
    "            rradius = np.sqrt((ys-rcenter[0])**2+(xs-rcenter[1])**2)\n",
    "\n",
    "            lbackground_mask = (lradius > 30) & (lradius < 35)\n",
    "            rbackground_mask = (rradius > 30) & (rradius < 35)   # Index the background around each spot, take the median value\n",
    "\n",
    "            background_lmedian = np.median(reduced_img_data[lbackground_mask])\n",
    "            background_rmedian = np.median(reduced_img_data[rbackground_mask])\n",
    "\n",
    "            lflux = np.sum(reduced_img_data[lradius < maxradius] - background_lmedian)   # Now take the flux with the background mask subtracted\n",
    "            rflux = np.sum(reduced_img_data[rradius < maxradius] - background_rmedian)\n",
    "            no_sample_flux = np.append(no_sample_flux, lflux+rflux)\n",
    "print(no_sample_flux)"
   ]
  },
  {
   "cell_type": "markdown",
   "metadata": {},
   "source": [
    "Sample Data"
   ]
  },
  {
   "cell_type": "code",
   "execution_count": 4,
   "metadata": {},
   "outputs": [],
   "source": [
    "# dark_file = \"/home/shared/exoserver/Lab_Data/Mueller_Matrix_Polarimeter/L_Plate_Characterization/Darks/Dark_490_2.fits\"\n",
    "# fits.open(dark_file)\n",
    "# dark = fits.getdata(dark_file)\n",
    "# dark_median = np.median(dark, axis=0)\n",
    "\n",
    "# old_directory = \"/home/shared/exoserver/Lab_Data/Mueller_Matrix_Polarimeter/L_Plate_Characterization/SuperK_Select_Data/L_Transmission/Sample_Intensity/Raw_Data/\"\n",
    "# new_directory = \"/home/shared/exoserver/Lab_Data/Mueller_Matrix_Polarimeter/L_Plate_Characterization/SuperK_Select_Data/L_Transmission/Sample_Intensity/Reduced_Data/\"\n",
    "# image_file = \"L_Transmission\"\n",
    "# for filename in os.listdir(old_directory):\n",
    "#     if filename.startswith(image_file):                                # Call specific files starting with the desired name\n",
    "#         with fits.open(os.path.join(old_directory, filename)) as hdul:\n",
    "#             img_data = hdul[0].data\n",
    "#             img_median = np.median(img_data, axis=0)\n",
    "#             reduced_data = img_median - dark_median\n",
    "\n",
    "#             # Save the newly reduced image to a reduced data folder\n",
    "#         new_filename = f\"Reduced_{filename}\"\n",
    "#         new_filepath = os.path.join(new_directory, new_filename)\n",
    "#         fits.writeto(new_filepath, reduced_data, overwrite=True)"
   ]
  },
  {
   "cell_type": "code",
   "execution_count": 5,
   "metadata": {},
   "outputs": [
    {
     "name": "stdout",
     "output_type": "stream",
     "text": [
      "[ 75434.5  82795.  123863.5 167508.  165574.5 156466.5 427042.   57268.\n",
      " 131499. ]\n"
     ]
    }
   ],
   "source": [
    "sample_flux = np.array([])\n",
    "reduced_folder = \"/home/shared/exoserver/Lab_Data/Mueller_Matrix_Polarimeter/L_Plate_Characterization/SuperK_Select_Data/L_Transmission/Sample_Intensity/Reduced_Data/\"\n",
    "reduced_filename = \"Reduced_L_Transmission\"\n",
    "lcenter = [316, 250]\n",
    "rcenter = [316, 327]\n",
    "maxradius = 20\n",
    "\n",
    "for filename in sorted(os.listdir(reduced_folder), key = extract_number):\n",
    "    if filename.startswith(reduced_filename):\n",
    "        with fits.open(os.path.join(reduced_folder, filename)) as hdul:\n",
    "            reduced_img_data = hdul[0].data\n",
    "            ys, xs, = np.indices(reduced_img_data.shape)\n",
    "            lradius = np.sqrt((ys-lcenter[0])**2+(xs-lcenter[1])**2)\n",
    "            rradius = np.sqrt((ys-rcenter[0])**2+(xs-rcenter[1])**2)\n",
    "\n",
    "            lbackground_mask = (lradius > 30) & (lradius < 35)\n",
    "            rbackground_mask = (rradius > 30) & (rradius < 35)   # Index the background around each spot, take the median value\n",
    "\n",
    "            background_lmedian = np.median(reduced_img_data[lbackground_mask])\n",
    "            background_rmedian = np.median(reduced_img_data[rbackground_mask])\n",
    "\n",
    "            lflux = np.sum(reduced_img_data[lradius < maxradius] - background_lmedian)   # Now take the flux with the background mask subtracted\n",
    "            rflux = np.sum(reduced_img_data[rradius < maxradius] - background_rmedian)\n",
    "            sample_flux = np.append(sample_flux, lflux+rflux)\n",
    "print(sample_flux)"
   ]
  },
  {
   "cell_type": "code",
   "execution_count": 6,
   "metadata": {},
   "outputs": [],
   "source": [
    "# sample_flux = np.delete(sample_flux, [0, 1, 2])\n",
    "# print(sample_flux)"
   ]
  },
  {
   "cell_type": "code",
   "execution_count": 7,
   "metadata": {},
   "outputs": [
    {
     "name": "stdout",
     "output_type": "stream",
     "text": [
      "[77.95276404 85.32620178 85.33247448 83.07733511 77.79824316 87.44784841\n",
      " 84.21208315 77.23784476 85.18043491]\n",
      "82.61835886518297\n"
     ]
    }
   ],
   "source": [
    "percent_transmission = sample_flux/no_sample_flux*100\n",
    "print(percent_transmission)\n",
    "print(np.average(percent_transmission))"
   ]
  },
  {
   "cell_type": "code",
   "execution_count": 13,
   "metadata": {},
   "outputs": [],
   "source": [
    "# Standard error of the mean. Sample of differences from the expected value (90) divided by the square root of number of trials\n",
    "# Error bars  = +- standard error of the mean differnce from expected Fresnel values\n",
    "SEM = np.array([1.3, 1.3, 1.3, 1.3, 1.3, 1.3, 1.3, 1.3, 1.3])"
   ]
  },
  {
   "cell_type": "code",
   "execution_count": 8,
   "metadata": {},
   "outputs": [],
   "source": [
    "wavelengths = np.array([1100, 1200, 1300, 1400, 1500, 1600, 1750, 1850, 1950])"
   ]
  },
  {
   "cell_type": "code",
   "execution_count": 9,
   "metadata": {},
   "outputs": [],
   "source": [
    "n_e = np.loadtxt(\"/home/shared/exoserver/Lab_Data/Mueller_Matrix_Polarimeter/L_Plate_Characterization/SuperK_Select_Data/Dodge-e.csv\", delimiter=\",\",skiprows=1)\n",
    "n_o = np.loadtxt(\"/home/shared/exoserver/Lab_Data/Mueller_Matrix_Polarimeter/L_Plate_Characterization/SuperK_Select_Data/Dodge-o.csv\", delimiter=\",\",skiprows=1)"
   ]
  },
  {
   "cell_type": "code",
   "execution_count": 10,
   "metadata": {},
   "outputs": [],
   "source": [
    "#Calculate the fresnel transmission coefficient for 0 degrees angle of incidence\n",
    "n1 = 1.0\n",
    "theta = 0.0\n",
    "\n",
    "#For the extraordinary ray\n",
    "n2 = n_e[:,1]\n",
    "# t_e = 2*n1*np.cos(theta)/(n1*np.cos(theta)+n2*np.sqrt(1-(n1/n2*np.sin(theta))**2))\n",
    "t_e = 1-np.abs((n1-n2)/(n1+n2))**2\n",
    "\n",
    "#For the ordinary ray\n",
    "n2 = n_o[:,1]\n",
    "# t_o = 2*n1*np.cos(theta)/(n1*np.cos(theta)+n2*np.sqrt(1-(n1/n2*np.sin(theta))**2))\n",
    "t_o = 1-np.abs((n1-n2)/(n1+n2))**2\n",
    "\n",
    "t_avg = 0.5*(t_e+t_o)\n",
    "\n",
    "#For four surfaces: \n",
    "t_tot = t_avg**4"
   ]
  },
  {
   "cell_type": "code",
   "execution_count": 11,
   "metadata": {},
   "outputs": [
    {
     "data": {
      "text/plain": [
       "[<matplotlib.lines.Line2D at 0x7f35057a8520>]"
      ]
     },
     "execution_count": 11,
     "metadata": {},
     "output_type": "execute_result"
    },
    {
     "data": {
      "image/png": "[encoded data removed]",
      "text/plain": [
       "<Figure size 640x480 with 1 Axes>"
      ]
     },
     "metadata": {},
     "output_type": "display_data"
    }
   ],
   "source": [
    "plt.plot(n_e[:,0], t_tot, label=\"Fresnel\")"
   ]
  },
  {
   "cell_type": "code",
   "execution_count": 16,
   "metadata": {},
   "outputs": [
    {
     "data": {
      "image/png": "[encoded data removed]",
      "text/plain": [
       "<Figure size 640x480 with 1 Axes>"
      ]
     },
     "metadata": {},
     "output_type": "display_data"
    }
   ],
   "source": [
    "plt.xlim(1, 2)\n",
    "plt.ylim(70, 100)\n",
    "plt.ylabel(\"% Transmission\", fontsize=12, fontweight='bold')\n",
    "plt.xlabel(\"Wavelength $(\\mu m)$\", fontsize=12, fontweight='bold')\n",
    "\n",
    "plt.plot(n_e[:,0], t_tot*100, label=\"Fresnel\", color='gray', linestyle='--')\n",
    "#plt.plot(wavelengths/1000, percent_transmission, color='purple', marker='o', linestyle=' ', label=\"Lab Measurements\")\n",
    "plt.errorbar(wavelengths/1000, percent_transmission, yerr=SEM, color='purple', marker='o', linestyle=' ', capsize=3, label='Lab Measurements')\n",
    "plt.legend(fontsize=11)\n",
    "\n",
    "folder_path = \"/home/wcmelby/Library/Python/wcmelby-HWP_Characterizations/SuperK_Select_Data/\"\n",
    "file_name = 'Coated_vs_Uncoated_Sample_Quartz_6_9.png'\n",
    "plt.savefig(folder_path + file_name, bbox_inches='tight', dpi=300)"
   ]
  },
  {
   "cell_type": "code",
   "execution_count": null,
   "metadata": {},
   "outputs": [],
   "source": []
  }
 ],
 "metadata": {
  "kernelspec": {
   "display_name": "Python 3",
   "language": "python",
   "name": "python3"
  },
  "language_info": {
   "codemirror_mode": {
    "name": "ipython",
    "version": 3
   },
   "file_extension": ".py",
   "mimetype": "text/x-python",
   "name": "python",
   "nbconvert_exporter": "python",
   "pygments_lexer": "ipython3",
   "version": "3.8.10"
  }
 },
 "nbformat": 4,
 "nbformat_minor": 2
}
