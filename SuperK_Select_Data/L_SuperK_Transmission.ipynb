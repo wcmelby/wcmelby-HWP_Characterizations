{
 "cells": [
  {
   "cell_type": "code",
   "execution_count": 1,
   "metadata": {},
   "outputs": [],
   "source": [
    "import sys\n",
    "sys.path.insert(0, '/home/wcmelby/Library/Python/wcmelby-HWP_Characterizations/')\n",
    "from New_DRRP_Functions import *"
   ]
  },
  {
   "cell_type": "markdown",
   "metadata": {},
   "source": [
    "First need to reduce the images and save to a new folder"
   ]
  },
  {
   "cell_type": "markdown",
   "metadata": {},
   "source": [
    "No sample data"
   ]
  },
  {
   "cell_type": "code",
   "execution_count": 4,
   "metadata": {},
   "outputs": [],
   "source": [
    "# dark_file = \"/home/shared/exoserver/Lab_Data/Mueller_Matrix_Polarimeter/L_Plate_Characterization/Darks/Dark_490_2.fits\"\n",
    "# fits.open(dark_file)\n",
    "# dark = fits.getdata(dark_file)\n",
    "# dark_median = np.median(dark, axis=0)\n",
    "\n",
    "# old_directory = \"/home/shared/exoserver/Lab_Data/Mueller_Matrix_Polarimeter/L_Plate_Characterization/SuperK_Select_Data/L_Transmission/No_Sample_Intensity/Raw_Data/\"\n",
    "# new_directory = \"/home/shared/exoserver/Lab_Data/Mueller_Matrix_Polarimeter/L_Plate_Characterization/SuperK_Select_Data/L_Transmission/No_Sample_Intensity/Reduced_Data/\"\n",
    "# image_file = \"L_Transmission\"\n",
    "# for filename in os.listdir(old_directory):\n",
    "#     if filename.startswith(image_file):                                # Call specific files starting with the desired name\n",
    "#         with fits.open(os.path.join(old_directory, filename)) as hdul:\n",
    "#             img_data = hdul[0].data\n",
    "#             img_median = np.median(img_data, axis=0)\n",
    "#             reduced_data = img_median - dark_median\n",
    "\n",
    "#             # Save the newly reduced image to a reduced data folder\n",
    "#         new_filename = f\"Reduced_{filename}\"\n",
    "#         new_filepath = os.path.join(new_directory, new_filename)\n",
    "#         fits.writeto(new_filepath, reduced_data, overwrite=True)"
   ]
  },
  {
   "cell_type": "code",
   "execution_count": 2,
   "metadata": {},
   "outputs": [
    {
     "name": "stdout",
     "output_type": "stream",
     "text": [
      "[432612.  419869.  445042.  346081.  237118.  223399.5]\n"
     ]
    }
   ],
   "source": [
    "no_sample_flux = np.array([])\n",
    "reduced_folder = \"/home/shared/exoserver/Lab_Data/Mueller_Matrix_Polarimeter/L_Plate_Characterization/SuperK_Select_Data/L_Transmission/No_Sample_Intensity/Reduced_Data/\"\n",
    "reduced_filename = \"Reduced_L_Transmission\"\n",
    "lcenter = [315, 254]\n",
    "rcenter = [315, 330]\n",
    "maxradius = 25\n",
    "\n",
    "for filename in sorted(os.listdir(reduced_folder), key = extract_number):\n",
    "    if filename.startswith(reduced_filename):\n",
    "        with fits.open(os.path.join(reduced_folder, filename)) as hdul:\n",
    "            reduced_img_data = hdul[0].data\n",
    "            ys, xs, = np.indices(reduced_img_data.shape)\n",
    "            lradius = np.sqrt((ys-lcenter[0])**2+(xs-lcenter[1])**2)\n",
    "            rradius = np.sqrt((ys-rcenter[0])**2+(xs-rcenter[1])**2)\n",
    "\n",
    "            lbackground_mask = (lradius > 30) & (lradius < 35)\n",
    "            rbackground_mask = (rradius > 30) & (rradius < 35)   # Index the background around each spot, take the median value\n",
    "\n",
    "            background_lmedian = np.median(reduced_img_data[lbackground_mask])\n",
    "            background_rmedian = np.median(reduced_img_data[rbackground_mask])\n",
    "\n",
    "            lflux = np.sum(reduced_img_data[lradius < maxradius] - background_lmedian)   # Now take the flux with the background mask subtracted\n",
    "            rflux = np.sum(reduced_img_data[rradius < maxradius] - background_rmedian)\n",
    "            no_sample_flux = np.append(no_sample_flux, lflux+rflux)\n",
    "print(no_sample_flux)"
   ]
  },
  {
   "cell_type": "markdown",
   "metadata": {},
   "source": [
    "Sample Data"
   ]
  },
  {
   "cell_type": "code",
   "execution_count": 6,
   "metadata": {},
   "outputs": [],
   "source": [
    "# dark_file = \"/home/shared/exoserver/Lab_Data/Mueller_Matrix_Polarimeter/L_Plate_Characterization/Darks/Dark_490_2.fits\"\n",
    "# fits.open(dark_file)\n",
    "# dark = fits.getdata(dark_file)\n",
    "# dark_median = np.median(dark, axis=0)\n",
    "\n",
    "# old_directory = \"/home/shared/exoserver/Lab_Data/Mueller_Matrix_Polarimeter/L_Plate_Characterization/SuperK_Select_Data/L_Transmission/Sample_Intensity/Raw_Data/\"\n",
    "# new_directory = \"/home/shared/exoserver/Lab_Data/Mueller_Matrix_Polarimeter/L_Plate_Characterization/SuperK_Select_Data/L_Transmission/Sample_Intensity/Reduced_Data/\"\n",
    "# image_file = \"L_Transmission\"\n",
    "# for filename in os.listdir(old_directory):\n",
    "#     if filename.startswith(image_file):                                # Call specific files starting with the desired name\n",
    "#         with fits.open(os.path.join(old_directory, filename)) as hdul:\n",
    "#             img_data = hdul[0].data\n",
    "#             img_median = np.median(img_data, axis=0)\n",
    "#             reduced_data = img_median - dark_median\n",
    "\n",
    "#             # Save the newly reduced image to a reduced data folder\n",
    "#         new_filename = f\"Reduced_{filename}\"\n",
    "#         new_filepath = os.path.join(new_directory, new_filename)\n",
    "#         fits.writeto(new_filepath, reduced_data, overwrite=True)"
   ]
  },
  {
   "cell_type": "code",
   "execution_count": 3,
   "metadata": {},
   "outputs": [
    {
     "name": "stdout",
     "output_type": "stream",
     "text": [
      "[ 682007.  1220259.5  950548.   569298.5  574351.   586666.   472095.5\n",
      "  291477.   293296.5]\n"
     ]
    }
   ],
   "source": [
    "sample_flux = np.array([])\n",
    "reduced_folder = \"/home/shared/exoserver/Lab_Data/Mueller_Matrix_Polarimeter/L_Plate_Characterization/SuperK_Select_Data/L_Transmission/Sample_Intensity/Reduced_Data/\"\n",
    "reduced_filename = \"Reduced_L_Transmission\"\n",
    "lcenter = [315, 254]\n",
    "rcenter = [315, 330]\n",
    "maxradius = 25\n",
    "\n",
    "for filename in sorted(os.listdir(reduced_folder), key = extract_number):\n",
    "    if filename.startswith(reduced_filename):\n",
    "        with fits.open(os.path.join(reduced_folder, filename)) as hdul:\n",
    "            reduced_img_data = hdul[0].data\n",
    "            ys, xs, = np.indices(reduced_img_data.shape)\n",
    "            lradius = np.sqrt((ys-lcenter[0])**2+(xs-lcenter[1])**2)\n",
    "            rradius = np.sqrt((ys-rcenter[0])**2+(xs-rcenter[1])**2)\n",
    "\n",
    "            lbackground_mask = (lradius > 30) & (lradius < 35)\n",
    "            rbackground_mask = (rradius > 30) & (rradius < 35)   # Index the background around each spot, take the median value\n",
    "\n",
    "            background_lmedian = np.median(reduced_img_data[lbackground_mask])\n",
    "            background_rmedian = np.median(reduced_img_data[rbackground_mask])\n",
    "\n",
    "            lflux = np.sum(reduced_img_data[lradius < maxradius] - background_lmedian)   # Now take the flux with the background mask subtracted\n",
    "            rflux = np.sum(reduced_img_data[rradius < maxradius] - background_rmedian)\n",
    "            sample_flux = np.append(sample_flux, lflux+rflux)\n",
    "print(sample_flux)"
   ]
  },
  {
   "cell_type": "code",
   "execution_count": 4,
   "metadata": {},
   "outputs": [
    {
     "name": "stdout",
     "output_type": "stream",
     "text": [
      "[569298.5 574351.  586666.  472095.5 291477.  293296.5]\n"
     ]
    }
   ],
   "source": [
    "sample_flux = np.delete(sample_flux, [0, 1, 2])\n",
    "print(sample_flux)"
   ]
  },
  {
   "cell_type": "code",
   "execution_count": 5,
   "metadata": {},
   "outputs": [
    {
     "name": "stdout",
     "output_type": "stream",
     "text": [
      "[131.59563304 136.79290445 131.82261449 136.41185156 122.92487285\n",
      " 131.28789456]\n"
     ]
    }
   ],
   "source": [
    "percent_transmission = sample_flux/no_sample_flux*100\n",
    "print(percent_transmission)"
   ]
  },
  {
   "cell_type": "code",
   "execution_count": 34,
   "metadata": {},
   "outputs": [],
   "source": [
    "wavelengths = [1400, 1500, 1600, 1750, 1850, 1950]"
   ]
  },
  {
   "cell_type": "code",
   "execution_count": 47,
   "metadata": {},
   "outputs": [
    {
     "data": {
      "text/plain": [
       "<matplotlib.legend.Legend at 0x7f0c50c877f0>"
      ]
     },
     "execution_count": 47,
     "metadata": {},
     "output_type": "execute_result"
    },
    {
     "data": {
      "image/png": "[encoded data removed]",
      "text/plain": [
       "<Figure size 640x480 with 1 Axes>"
      ]
     },
     "metadata": {},
     "output_type": "display_data"
    }
   ],
   "source": [
    "plt.xlim(1350, 2000)\n",
    "plt.ylim(50, 150)\n",
    "plt.ylabel(\"Percent Transmission\")\n",
    "plt.xlabel(\"Wavelength (nm)\")\n",
    "\n",
    "plt.plot(wavelengths, percent_transmission, marker='x', linestyle=' ', label='L Band HWP')\n",
    "plt.legend()"
   ]
  },
  {
   "cell_type": "code",
   "execution_count": null,
   "metadata": {},
   "outputs": [],
   "source": []
  }
 ],
 "metadata": {
  "kernelspec": {
   "display_name": "Python 3",
   "language": "python",
   "name": "python3"
  },
  "language_info": {
   "codemirror_mode": {
    "name": "ipython",
    "version": 3
   },
   "file_extension": ".py",
   "mimetype": "text/x-python",
   "name": "python",
   "nbconvert_exporter": "python",
   "pygments_lexer": "ipython3",
   "version": "3.8.10"
  }
 },
 "nbformat": 4,
 "nbformat_minor": 2
}
