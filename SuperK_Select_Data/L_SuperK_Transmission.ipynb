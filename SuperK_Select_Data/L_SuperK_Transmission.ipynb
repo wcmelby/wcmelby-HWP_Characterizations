{
 "cells": [
  {
   "cell_type": "code",
   "execution_count": 1,
   "metadata": {},
   "outputs": [],
   "source": [
    "import sys\n",
    "sys.path.insert(0, '/home/wcmelby/Library/Python/wcmelby-HWP_Characterizations/')\n",
    "from New_DRRP_Functions import *"
   ]
  },
  {
   "cell_type": "code",
   "execution_count": null,
   "metadata": {},
   "outputs": [],
   "source": [
    "dark_file = 'Z:\\\\Lab_Data\\\\Mueller_Matrix_Polarimeter\\\\L_Plate_Characterization\\\\Darks\\\\Dark_490_2.fits'\n",
    "image_file = 'DRRP_'\n",
    "new_directory = r\"Z:\\\\Lab_Data\\\\Mueller_Matrix_Polarimeter\\\\L_Plate_Characterization\\\\SuperK_Select_Data\\\\Reduced_Data\\\\Reduced_L_1300\\\\\"\n",
    "\n",
    "# Open the dark image and extract pixel values\n",
    "fits.open(dark_file)\n",
    "dark = fits.getdata(dark_file)\n",
    "dark_median = np.median(dark, axis=0)\n",
    "\n",
    "# Search through the desired raw data folder\n",
    "for file in os.listdir(foldername):\n",
    "    if file.startswith(image_file):                                # Call specific files starting with the desired name\n",
    "        with fits.open(os.path.join(foldername, file)) as hdul:\n",
    "            img_data = hdul[0].data\n",
    "            img_median = np.median(img_data, axis=0)\n",
    "            reduced_data = img_median - dark_median\n",
    "\n",
    "        # Save the newly reduced image to a reduced data folder\n",
    "        new_filename = f\"Reduced_{file}\"\n",
    "        new_filepath = os.path.join(new_directory, new_filename)\n",
    "        fits.writeto(new_filepath, reduced_data, overwrite=True)"
   ]
  },
  {
   "cell_type": "code",
   "execution_count": null,
   "metadata": {},
   "outputs": [],
   "source": []
  }
 ],
 "metadata": {
  "kernelspec": {
   "display_name": "Python 3",
   "language": "python",
   "name": "python3"
  },
  "language_info": {
   "codemirror_mode": {
    "name": "ipython",
    "version": 3
   },
   "file_extension": ".py",
   "mimetype": "text/x-python",
   "name": "python",
   "nbconvert_exporter": "python",
   "pygments_lexer": "ipython3",
   "version": "3.8.10"
  }
 },
 "nbformat": 4,
 "nbformat_minor": 2
}
