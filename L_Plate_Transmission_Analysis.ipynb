{
 "cells": [
  {
   "cell_type": "code",
   "execution_count": 1,
   "metadata": {},
   "outputs": [],
   "source": [
    "import numpy as np\n",
    "from astropy.io import fits\n",
    "import os\n",
    "import re\n",
    "import matplotlib.pyplot as plt\n",
    "from scipy.optimize import curve_fit\n",
    "import textwrap"
   ]
  },
  {
   "cell_type": "code",
   "execution_count": 2,
   "metadata": {},
   "outputs": [],
   "source": [
    "# Get intensity values from each spot in the reduced images. reduced_filename should just be the start of the name (leave out the last number, the angle). \n",
    "def extract_intensity(reduced_filename, reduced_folder, lcenter, rcenter, maxradius):\n",
    "    for filename in sorted(os.listdir(reduced_folder)):\n",
    "        if filename.startswith(reduced_filename):\n",
    "            with fits.open(os.path.join(reduced_folder, filename)) as hdul:\n",
    "                reduced_img_data = hdul[0].data\n",
    "                ys, xs, = np.indices(reduced_img_data.shape)\n",
    "                lradius = np.sqrt((ys-lcenter[0])**2+(xs-lcenter[1])**2)\n",
    "                rradius = np.sqrt((ys-rcenter[0])**2+(xs-rcenter[1])**2)\n",
    "\n",
    "                lbackground_mask = (lradius > 20) & (lradius < 26)\n",
    "                rbackground_mask = (rradius > 20) & (rradius < 26)   # Index the background around each spot, take the median value\n",
    "\n",
    "                background_lmedian = np.median(reduced_img_data[lbackground_mask])\n",
    "                background_rmedian = np.median(reduced_img_data[rbackground_mask])\n",
    "\n",
    "                lflux = np.sum(reduced_img_data[lradius < maxradius] - background_lmedian)   # Now take the flux with the background mask subtracted\n",
    "                rflux = np.sum(reduced_img_data[rradius < maxradius] - background_rmedian)\n",
    "\n",
    "                print(lflux+rflux, \"This is the total intensity\")"
   ]
  },
  {
   "cell_type": "code",
   "execution_count": null,
   "metadata": {},
   "outputs": [],
   "source": []
  }
 ],
 "metadata": {
  "kernelspec": {
   "display_name": "First_Light_SDK",
   "language": "python",
   "name": "python3"
  },
  "language_info": {
   "codemirror_mode": {
    "name": "ipython",
    "version": 3
   },
   "file_extension": ".py",
   "mimetype": "text/x-python",
   "name": "python",
   "nbconvert_exporter": "python",
   "pygments_lexer": "ipython3",
   "version": "3.10.11"
  }
 },
 "nbformat": 4,
 "nbformat_minor": 2
}
