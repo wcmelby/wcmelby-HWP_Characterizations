{
 "cells": [
  {
   "cell_type": "markdown",
   "metadata": {},
   "source": [
    "Note: this version is outdated. This was the original attempt to characterize the L plate using measurements of I rather than Q (new method)\n",
    "The comparison between the two mehtods is shown in the newer files that use the SuperK SELECT laser rather than the Thorlabs broadband lamp"
   ]
  },
  {
   "cell_type": "code",
   "execution_count": 1,
   "metadata": {},
   "outputs": [],
   "source": [
    "import numpy as np\n",
    "from numpy.linalg import inv\n",
    "from astropy.io import fits\n",
    "import os\n",
    "import re\n",
    "import matplotlib.pyplot as plt\n",
    "from scipy.optimize import curve_fit\n",
    "import textwrap"
   ]
  },
  {
   "cell_type": "code",
   "execution_count": 2,
   "metadata": {},
   "outputs": [],
   "source": [
    "# Theta from 0 to 180 degrees (for the first QWP). The second QWP rotates at 5 times this rate (25 degree increments)\n",
    "theta = np.linspace(0, np.pi, 37) # 5 degree increments for the first QWP\n",
    "longtheta = np.linspace(0, np.pi, 46) # 4 degree increments (this is preferred) \n",
    "degtheta = theta*180/np.pi"
   ]
  },
  {
   "cell_type": "code",
   "execution_count": 3,
   "metadata": {},
   "outputs": [],
   "source": [
    "# Define the identity matrix and other matrices which are useful for the Mueller calculus\n",
    "M_identity = np.array([[1, 0, 0, 0], [0, 1, 0, 0], [0, 0, 1, 0], [0, 0, 0, 1]])\n",
    "A = np.array([1, 0, 0, 0])\n",
    "B = np.array([[1], [0], [0], [0]])"
   ]
  },
  {
   "cell_type": "code",
   "execution_count": 4,
   "metadata": {},
   "outputs": [],
   "source": [
    "# Mueller matrix for a linear polarizer, with angle a between transmission axis and horizontal (radians)\n",
    "def linear_polarizer(a):\n",
    "    M01 = np.cos(2*a)\n",
    "    M02 = np.sin(2*a)\n",
    "    M10 = np.cos(2*a)\n",
    "    M11 = np.cos(2*a)**2\n",
    "    M12 = np.cos(2*a)*np.sin(2*a)\n",
    "    M20 = np.sin(2*a)\n",
    "    M21 = np.cos(2*a)*np.sin(2*a)\n",
    "    M22 = np.sin(2*a)**2\n",
    "\n",
    "    return 0.5*np.array([[1, M01, M02, 0], \n",
    "                         [M10, M11, M12, 0], \n",
    "                         [M20, M21, M22, 0], \n",
    "                         [0, 0, 0, 0]])"
   ]
  },
  {
   "cell_type": "code",
   "execution_count": 5,
   "metadata": {},
   "outputs": [],
   "source": [
    "# Mueller matrix for a linear retarder (waveplate). Angle of fast axis a, retardance r in radians\n",
    "def linear_retarder(a, r):\n",
    "    M11 = np.cos(2*a)**2 + np.cos(r)*np.sin(2*a)**2\n",
    "    M12 = np.cos(2*a)*np.sin(2*a)*(1-np.cos(r))\n",
    "    M13 = -np.sin(2*a)*np.sin(r)\n",
    "    M21 = M12\n",
    "    M22 = np.sin(2*a)**2 + np.cos(2*a)**2*np.cos(r)\n",
    "    M23 = np.cos(2*a)*np.sin(r)\n",
    "    M31 = -M13\n",
    "    M32 = -M23\n",
    "    M33 = np.cos(r)\n",
    "\n",
    "    return np.array([[1, 0, 0, 0], \n",
    "                     [0, M11, M12, M13], \n",
    "                     [0, M21, M22, M23], \n",
    "                     [0, M31, M32, M33]])"
   ]
  },
  {
   "cell_type": "code",
   "execution_count": 6,
   "metadata": {},
   "outputs": [],
   "source": [
    "# Sorting function for extracting filenames based on last number in the filename (the angle of rotation)\n",
    "def extract_number(filename):\n",
    "    match = re.findall(r'\\d+(?:\\.\\d+)?', filename)\n",
    "    if match:\n",
    "        return float(match[-1])"
   ]
  },
  {
   "cell_type": "code",
   "execution_count": 7,
   "metadata": {},
   "outputs": [],
   "source": [
    "# Function to subtract dark frames from raw frames. The new reduced images are saved to a different folder\n",
    "def dark_subtraction(image_file, dark_file, old_directory, new_directory):\n",
    "    # Open the dark image and extract pixel values\n",
    "    fits.open(dark_file)\n",
    "    dark = fits.getdata(dark_file)\n",
    "    dark_median = np.median(dark, axis=0)\n",
    "\n",
    "    # Search through the desired raw data folder\n",
    "    for filename in os.listdir(old_directory):\n",
    "        if filename.startswith(image_file):                                # Call specific files starting with the desired name\n",
    "            with fits.open(os.path.join(old_directory, filename)) as hdul:\n",
    "                img_data = hdul[0].data\n",
    "                img_median = np.median(img_data, axis=0)\n",
    "                reduced_data = img_median - dark_median\n",
    "\n",
    "            # Save the newly reduced image to a reduced data folder\n",
    "            new_filename = f\"Reduced_{filename}\"\n",
    "            new_filepath = os.path.join(new_directory, new_filename)\n",
    "            fits.writeto(new_filepath, reduced_data, overwrite=True)"
   ]
  },
  {
   "cell_type": "code",
   "execution_count": 8,
   "metadata": {},
   "outputs": [],
   "source": [
    "# Get intensity values from each spot in the reduced images. reduced_filename should just be the start of the name (leave out the last number, the angle). \n",
    "def extract_intensities(reduced_filename, reduced_folder, lcenter, rcenter, maxradius, cutoff=5000):\n",
    "    I_left = np.array([])\n",
    "    I_right = np.array([])\n",
    "    bad_indices = np.array([])\n",
    "    longtheta = np.linspace(0, np.pi, 46)\n",
    "\n",
    "    for filename in sorted(os.listdir(reduced_folder), key = extract_number):\n",
    "        if filename.startswith(reduced_filename):\n",
    "            with fits.open(os.path.join(reduced_folder, filename)) as hdul:\n",
    "                reduced_img_data = hdul[0].data\n",
    "                ys, xs, = np.indices(reduced_img_data.shape)\n",
    "                lradius = np.sqrt((ys-lcenter[0])**2+(xs-lcenter[1])**2)\n",
    "                rradius = np.sqrt((ys-rcenter[0])**2+(xs-rcenter[1])**2)\n",
    "\n",
    "                lbackground_mask = (lradius > 20) & (lradius < 26)\n",
    "                rbackground_mask = (rradius > 20) & (rradius < 26)   # Index the background around each spot, take the median value\n",
    "\n",
    "                background_lmedian = np.median(reduced_img_data[lbackground_mask])\n",
    "                background_rmedian = np.median(reduced_img_data[rbackground_mask])\n",
    "\n",
    "                lflux = np.sum(reduced_img_data[lradius < maxradius] - background_lmedian)   # Now take the flux with the background mask subtracted\n",
    "                rflux = np.sum(reduced_img_data[rradius < maxradius] - background_rmedian)\n",
    "                I_left = np.append(I_left, lflux)\n",
    "                I_right = np.append(I_right, rflux)\n",
    "\n",
    "                if lflux+rflux < cutoff:\n",
    "                    print(\"Warning: low flux detected, check the image \" + filename + \", index: \" + str(sorted(os.listdir(reduced_folder), key = extract_number).index(filename)))\n",
    "                    bad_indices = np.append(bad_indices, sorted(os.listdir(reduced_folder), key = extract_number).index(filename))\n",
    "                else:\n",
    "                    continue \n",
    "\n",
    "    # Makes the array a list of integers that can be used to index the other array\n",
    "    bad_indices = bad_indices.astype(int)\n",
    "    # Deletes the bad indices from the data\n",
    "    I_left = np.delete(I_left, bad_indices)\n",
    "    I_right = np.delete(I_right, bad_indices)\n",
    "    new_angles = np.delete(longtheta, bad_indices)\n",
    "\n",
    "    return I_left, I_right, new_angles, bad_indices"
   ]
  },
  {
   "cell_type": "code",
   "execution_count": 9,
   "metadata": {},
   "outputs": [],
   "source": [
    "# Gives the condition number of eventual Mueller matrix (made by Jaren)\n",
    "def condition_number(matrix):\n",
    "    minv = np.linalg.pinv(matrix)\n",
    "\n",
    "    # Compute maximum norm\n",
    "    norm = np.linalg.norm(matrix, ord=np.inf)\n",
    "    ninv = np.linalg.norm(minv, ord=np.inf)\n",
    "\n",
    "    return norm*ninv"
   ]
  },
  {
   "cell_type": "code",
   "execution_count": 10,
   "metadata": {},
   "outputs": [],
   "source": [
    "# Function to compute the Mueller matrix of a sample based on DRRP intensity measurements. Big thanks to Jaren for this part!\n",
    "def original_full_mueller_polarimetry(thetas, I_meas=1, LPA_angle=0, return_condition_number=False, M_in=None):\n",
    "    nmeas = len(thetas)\n",
    "    Wmat = np.zeros([nmeas, 16])\n",
    "    Pmat = np.zeros([nmeas])\n",
    "    th = thetas\n",
    "\n",
    "    for i in range(nmeas):\n",
    "        # Mueller Matrix of generator (linear polarizer and a quarter wave plate)\n",
    "        Mg = linear_retarder(th[i], np.pi/2) @ linear_polarizer(0)\n",
    "\n",
    "        # Mueller Matrix of analyzer (one channel of the Wollaston prism is treated as a linear polarizer. The right spot is horizontal (0) and the left spot is vertical(pi/2))\n",
    "        Ma = linear_polarizer(LPA_angle) @ linear_retarder(th[i]*5, np.pi/2)\n",
    "\n",
    "        # Data reduction matrix. Taking the 0 index ensures that intensity is the output\n",
    "        Wmat[i,:] = np.kron(Ma[0,:], Mg[:,0])\n",
    "\n",
    "        # M_in is some example Mueller matrix. Providing this input will test theoretical Mueller matrix. Otherwise, the raw data is used\n",
    "        if M_in is not None:\n",
    "            Pmat[i] = (Ma[0,:] @ M_in @ Mg[:,0]) * I_meas\n",
    "        else:\n",
    "            Pmat[i] = I_meas[i]\n",
    "\n",
    "    # Compute Mueller matrix using Moore-Penrose pseudo invervse\n",
    "    M = np.linalg.pinv(Wmat) @ Pmat\n",
    "    M = np.reshape(M,[4,4])\n",
    "\n",
    "    if return_condition_number == True:\n",
    "        return M, condition_number(Wmat)\n",
    "    else:\n",
    "        return M"
   ]
  },
  {
   "cell_type": "code",
   "execution_count": 11,
   "metadata": {},
   "outputs": [],
   "source": [
    "# Function to compute the Mueller matrix of a sample based on DRRP intensity measurements and calibration parameters\n",
    "def calibrated_full_mueller_polarimetry(thetas, a1, a2, w1, w2, r1, r2, I_meas=1, LPA_angle=0, return_condition_number=False, M_in=None):\n",
    "    nmeas = len(thetas)\n",
    "    Wmat = np.zeros([nmeas, 16])\n",
    "    Pmat = np.zeros([nmeas])\n",
    "    th = thetas\n",
    "\n",
    "    for i in range(nmeas):\n",
    "        # Mueller Matrix of generator (linear polarizer and a quarter wave plate)\n",
    "        Mg = linear_retarder(th[i]+w1, np.pi/2+r1) @ linear_polarizer(0+a1)\n",
    "\n",
    "        # Mueller Matrix of analyzer (one channel of the Wollaston prism is treated as a linear polarizer. The right spot is horizontal (0) and the left spot is vertical(pi/2))\n",
    "        Ma = linear_polarizer(LPA_angle+a2) @ linear_retarder(th[i]*5+w2, np.pi/2+r2)\n",
    "\n",
    "        # Data reduction matrix. Taking the 0 index ensures that intensity is the output\n",
    "        Wmat[i,:] = np.kron(Ma[0,:], Mg[:,0])\n",
    "\n",
    "        # M_in is some example Mueller matrix. Providing this input will test theoretical Mueller matrix. Otherwise, the raw data is used\n",
    "        if M_in is not None:\n",
    "            Pmat[i] = (Ma[0,:] @ M_in @ Mg[:,0]) * I_meas\n",
    "        else:\n",
    "            Pmat[i] = I_meas[i]\n",
    "\n",
    "    # Compute Mueller matrix using Moore-Penrose pseudo invervse\n",
    "    M = np.linalg.pinv(Wmat) @ Pmat\n",
    "    M = np.reshape(M,[4,4])\n",
    "\n",
    "    if return_condition_number == True:\n",
    "        return M, condition_number(Wmat)\n",
    "    else:\n",
    "        return M"
   ]
  },
  {
   "cell_type": "code",
   "execution_count": 12,
   "metadata": {},
   "outputs": [],
   "source": [
    "# This is the full Mueller matrix equation for our setup. The output is a list, useful for curve fitting. Variables with 1 refer to the generator, 2 refers to analyzer. \n",
    "def calibration_function(t, a1, a2, w1, w2, r1, r2):\n",
    "    prediction = [None]*len(t)\n",
    "    for i in range(len(t)):\n",
    "        prediction[i] = float(A @ linear_polarizer(a2) @ linear_retarder(5*t[i]+w2, np.pi/2+r2) @ M_identity @ linear_retarder(t[i]+w1, np.pi/2+r1) @ linear_polarizer(a1) @ B)\n",
    "    return prediction"
   ]
  },
  {
   "cell_type": "code",
   "execution_count": 13,
   "metadata": {},
   "outputs": [],
   "source": [
    "# Calibration function designed for data from the left spot, which is the vertial alignment. This changes the angle of the analyzing LP\n",
    "def vertical_calibration_function(t, a1, a2, w1, w2, r1, r2):\n",
    "    prediction = [None]*len(t)\n",
    "    for i in range(len(t)):\n",
    "        prediction[i] = float(A @ linear_polarizer(a2+np.pi/2) @ linear_retarder(5*t[i]+w2, np.pi/2+r2) @ M_identity @ linear_retarder(t[i]+w1, np.pi/2+r1) @ linear_polarizer(a1) @ B)\n",
    "    return prediction"
   ]
  },
  {
   "cell_type": "code",
   "execution_count": 14,
   "metadata": {},
   "outputs": [],
   "source": [
    "# Basically the same as above, but with an optional input matrix to simulate data\n",
    "def output_simulation_function(t, a1, a2, w1, w2, r1, r2, M_in=None):\n",
    "    if M_in is None:\n",
    "        M = M_identity\n",
    "    else:\n",
    "        M = M_in\n",
    "\n",
    "    prediction = [None]*len(t)\n",
    "    for i in range(len(t)):\n",
    "        prediction[i] = float(A @ linear_polarizer(a2) @ linear_retarder(5*t[i]+w2, np.pi/2+r2) @ M @ linear_retarder(t[i]+w1, np.pi/2+r1) @ linear_polarizer(a1) @ B)\n",
    "    return prediction"
   ]
  },
  {
   "cell_type": "code",
   "execution_count": 15,
   "metadata": {},
   "outputs": [],
   "source": [
    "# After testing, each of the above functions works individually. Now combine them into one function to rule them all\n",
    "# Finds the mueller matrix derived from each channel separately, then averages the two retardances found this way\n",
    "# First three inputs must come from the calibration data, last three inputs correspond to the HWP sample\n",
    "def ultimate_polarimetry(cal_angles, cal_left_intensity, cal_right_intensity, sample_angles, sample_left_intensity, sample_right_intensity):\n",
    "    initial_guess = [0, 0, 0, 0, 0, 0]\n",
    "    parameter_bounds = ([-np.pi/4, -np.pi/4, -np.pi/4, -np.pi/4, -np.pi/4, -np.pi/4], [np.pi/4, np.pi/4, np.pi/4, np.pi/4, np.pi/4, np.pi/4])\n",
    "\n",
    "    # Find parameters from calibration of the left spot\n",
    "    lnormalized_intensity = cal_left_intensity/(2*max(cal_left_intensity))\n",
    "    lpopt, lpcov = curve_fit(vertical_calibration_function, cal_angles, lnormalized_intensity, p0=initial_guess, bounds=parameter_bounds)\n",
    "    #print(lpopt, \"Parameters for a1, a2, w1, w2, r1, and r2. 1 for generator, 2 for analyzer\")\n",
    "    #print(np.sqrt(np.diag(lpcov)))\n",
    "\n",
    "    # Find parameters from calibration of the right spot\n",
    "    rnormalized_intensity = cal_right_intensity/(2*max(cal_right_intensity))\n",
    "    rpopt, rpcov = curve_fit(calibration_function, cal_angles, rnormalized_intensity, p0=initial_guess, bounds=parameter_bounds)\n",
    "    #print(rpopt, \"Parameters for a1, a2, w1, w2, r1, and r2. 1 for generator, 2 for analyzer\")\n",
    "    #print(np.sqrt(np.diag(rpcov)))\n",
    "\n",
    "    # Optional print the calibration matrices (should be close to identity) to see how well the parameters compensate\n",
    "    MlCal = calibrated_full_mueller_polarimetry(cal_angles, lpopt[0], lpopt[1], lpopt[2], lpopt[3], lpopt[4], lpopt[5], cal_left_intensity, LPA_angle=np.pi/2)\n",
    "    print(MlCal/MlCal.max(), ' Left calibration')\n",
    "    MrCal = calibrated_full_mueller_polarimetry(cal_angles, rpopt[0], rpopt[1], rpopt[2], rpopt[3], rpopt[4], rpopt[5], cal_right_intensity)\n",
    "    print(MrCal/MrCal.max(), ' Right calibration')\n",
    "\n",
    "    # Use the parameters found above from curve fitting to construct the actual Mueller matrix of the sample\n",
    "    Ml = calibrated_full_mueller_polarimetry(sample_angles, lpopt[0], lpopt[1], lpopt[2], lpopt[3], lpopt[4], lpopt[5], sample_left_intensity, LPA_angle=np.pi/2)\n",
    "    Ml = Ml/Ml.max()\n",
    "\n",
    "    Mr = calibrated_full_mueller_polarimetry(sample_angles, rpopt[0], rpopt[1], rpopt[2], rpopt[3], rpopt[4], rpopt[5], sample_right_intensity)\n",
    "    Mr = Mr/Mr.max()\n",
    "\n",
    "    np.set_printoptions(suppress=True)\n",
    "\n",
    "    # Extract retardance from the last entry of the mueller matrix, which should just be cos(phi)\n",
    "    lretardance = np.arccos(Ml[3,3])/(2*np.pi)\n",
    "    rretardance = np.arccos(Mr[3,3])/(2*np.pi)\n",
    "    print(lretardance, ' This is the retardance found from the left spot')\n",
    "    print(rretardance, ' This is the retardance found from the right spot')\n",
    "\n",
    "    avg_retardance = (lretardance+rretardance)/2\n",
    "\n",
    "    return Ml, Mr, avg_retardance"
   ]
  },
  {
   "cell_type": "markdown",
   "metadata": {},
   "source": [
    "Start by performing calibrations for each wavelength of interest. This involves taking data while there is no sample in place and finding the parameters to correct for any offset in the retardance or alignment of the two quarter waveplates, and the alignment of the linear polarizer and wollaston prism (used as another linear polarizer). "
   ]
  },
  {
   "cell_type": "markdown",
   "metadata": {},
   "source": [
    "Start with 1400 nm filter. Use 550 fps, 1.8ms tint. "
   ]
  },
  {
   "cell_type": "code",
   "execution_count": 30,
   "metadata": {},
   "outputs": [],
   "source": [
    "# First reduce the calibration data by subtracting the corresponding dark frame \n",
    "raw_image = 'DRRP_'\n",
    "dark_image = 'C:\\\\Users\\\\EPL User\\\\Desktop\\\\L_Plate_Characterization\\\\Darks\\\\Dark_550_1.8.fits'\n",
    "raw_image_folder = r\"C:\\\\Users\\\\EPL User\\\\Desktop\\\\L_Plate_Characterization\\\\Calibration\\\\Calibration_Raw\\\\Cal_1400_Filter\\\\\"\n",
    "reduced_image_folder = r\"C:\\\\Users\\\\EPL User\\\\Desktop\\\\L_Plate_Characterization\\\\Calibration\\\\Calibration_Reduced\\\\Cal_1400_Reduced\\\\\"\n",
    "\n",
    "dark_subtraction(raw_image, dark_image, raw_image_folder, reduced_image_folder)"
   ]
  },
  {
   "cell_type": "code",
   "execution_count": 17,
   "metadata": {},
   "outputs": [
    {
     "name": "stdout",
     "output_type": "stream",
     "text": [
      "Warning: low flux detected, check the image Reduced_DRRP_L_1400nm_550_1.8_39.9999755859375.fits, index: 10\n",
      "Warning: low flux detected, check the image Reduced_DRRP_L_1400nm_550_1.8_51.99996826171875.fits, index: 13\n",
      "Warning: low flux detected, check the image Reduced_DRRP_L_1400nm_550_1.8_59.999963378906244.fits, index: 15\n",
      "Warning: low flux detected, check the image Reduced_DRRP_L_1400nm_550_1.8_95.99994140624999.fits, index: 24\n",
      "Warning: low flux detected, check the image Reduced_DRRP_L_1400nm_550_1.8_151.9999072265625.fits, index: 38\n"
     ]
    }
   ],
   "source": [
    "reduced_filename = 'Reduced_DRRP_'\n",
    "reduced_folder = r\"C:\\\\Users\\\\EPL User\\\\Desktop\\\\L_Plate_Characterization\\\\Calibration\\\\Calibration_Reduced\\\\Cal_1400_Reduced\\\\\"\n",
    "lcenter = [258, 255]\n",
    "rcenter = [258, 332]\n",
    "maxradius = 10\n",
    "cutoff = 5000\n",
    "\n",
    "extracted_data = extract_intensities(reduced_filename, reduced_folder, lcenter, rcenter, maxradius, cutoff)\n",
    "Cal_Il_1400 = extracted_data[0]\n",
    "Cal_Ir_1400 = extracted_data[1]\n",
    "Cal_theta1400 = extracted_data[2]"
   ]
  },
  {
   "cell_type": "markdown",
   "metadata": {},
   "source": [
    "Now calibrations for 1500 nm, 550 fps, 1.8 ms tint"
   ]
  },
  {
   "cell_type": "code",
   "execution_count": 16,
   "metadata": {},
   "outputs": [],
   "source": [
    "# First reduce the calibration data by subtracting the corresponding dark frame \n",
    "raw_image = 'DRRP_'\n",
    "dark_image = 'C:\\\\Users\\\\EPL User\\\\Desktop\\\\L_Plate_Characterization\\\\Darks\\\\Dark_550_1.8.fits'\n",
    "raw_image_folder = r\"C:\\\\Users\\\\EPL User\\\\Desktop\\\\L_Plate_Characterization\\\\Calibration\\\\Calibration_Raw\\\\Cal_1500_Filter\\\\\"\n",
    "reduced_image_folder = r\"C:\\\\Users\\\\EPL User\\\\Desktop\\\\L_Plate_Characterization\\\\Calibration\\\\Calibration_Reduced\\\\Cal_1500_Reduced\\\\\"\n",
    "\n",
    "dark_subtraction(raw_image, dark_image, raw_image_folder, reduced_image_folder)"
   ]
  },
  {
   "cell_type": "code",
   "execution_count": 18,
   "metadata": {},
   "outputs": [
    {
     "name": "stdout",
     "output_type": "stream",
     "text": [
      "Warning: low flux detected, check the image Reduced_DRRP_L_1500nm_550_1.8_7.999995117187499.fits, index: 2\n",
      "Warning: low flux detected, check the image Reduced_DRRP_L_1500nm_550_1.8_19.99998779296875.fits, index: 5\n",
      "Warning: low flux detected, check the image Reduced_DRRP_L_1500nm_550_1.8_103.9999365234375.fits, index: 26\n",
      "Warning: low flux detected, check the image Reduced_DRRP_L_1500nm_550_1.8_131.99991943359373.fits, index: 33\n"
     ]
    }
   ],
   "source": [
    "reduced_filename = 'Reduced_DRRP_'\n",
    "reduced_folder = r\"C:\\\\Users\\\\EPL User\\\\Desktop\\\\L_Plate_Characterization\\\\Calibration\\\\Calibration_Reduced\\\\Cal_1500_Reduced\\\\\"\n",
    "lcenter = [258, 255]\n",
    "rcenter = [258, 332]\n",
    "maxradius = 10\n",
    "cutoff = 5000\n",
    "\n",
    "extracted_data = extract_intensities(reduced_filename, reduced_folder, lcenter, rcenter, maxradius, cutoff)\n",
    "Cal_Il_1500 = extracted_data[0]\n",
    "Cal_Ir_1500 = extracted_data[1]\n",
    "Cal_theta1500 = extracted_data[2]"
   ]
  },
  {
   "cell_type": "markdown",
   "metadata": {},
   "source": [
    "Now calibrations for 1550 nm, 600 fps, 0.1 ms tint"
   ]
  },
  {
   "cell_type": "code",
   "execution_count": 20,
   "metadata": {},
   "outputs": [],
   "source": [
    "# First reduce the calibration data by subtracting the corresponding dark frame \n",
    "raw_image = 'DRRP_'\n",
    "dark_image = 'C:\\\\Users\\\\EPL User\\\\Desktop\\\\L_Plate_Characterization\\\\Darks\\\\Dark_600_0.1.fits'\n",
    "raw_image_folder = r\"C:\\\\Users\\\\EPL User\\\\Desktop\\\\L_Plate_Characterization\\\\Calibration\\\\Calibration_Raw\\\\Cal_1550_Filter\\\\\"\n",
    "reduced_image_folder = r\"C:\\\\Users\\\\EPL User\\\\Desktop\\\\L_Plate_Characterization\\\\Calibration\\\\Calibration_Reduced\\\\Cal_1550_Reduced\\\\\"\n",
    "\n",
    "dark_subtraction(raw_image, dark_image, raw_image_folder, reduced_image_folder)"
   ]
  },
  {
   "cell_type": "code",
   "execution_count": 16,
   "metadata": {},
   "outputs": [
    {
     "name": "stdout",
     "output_type": "stream",
     "text": [
      "Warning: low flux detected, check the image Reduced_DRRP_L_1550nm_600_0.1_23.999985351562497.fits, index: 6\n",
      "Warning: low flux detected, check the image Reduced_DRRP_L_1550nm_600_0.1_155.99990478515625.fits, index: 39\n",
      "Warning: low flux detected, check the image Reduced_DRRP_L_1550nm_600_0.1_171.99989501953124.fits, index: 43\n"
     ]
    }
   ],
   "source": [
    "reduced_filename = 'Reduced_DRRP_'\n",
    "reduced_folder = r\"C:\\\\Users\\\\EPL User\\\\Desktop\\\\L_Plate_Characterization\\\\Calibration\\\\Calibration_Reduced\\\\Cal_1550_Reduced\\\\\"\n",
    "lcenter = [258, 255]\n",
    "rcenter = [258, 332]\n",
    "maxradius = 10\n",
    "cutoff = 5000\n",
    "\n",
    "extracted_data = extract_intensities(reduced_filename, reduced_folder, lcenter, rcenter, maxradius, cutoff)\n",
    "Cal_Il_1550 = extracted_data[0]\n",
    "Cal_Ir_1550 = extracted_data[1]\n",
    "Cal_theta1550 = extracted_data[2]"
   ]
  },
  {
   "cell_type": "markdown",
   "metadata": {},
   "source": [
    "Now take calibrations for 1600 nm. Use 550 fps, 1.8 ms tint. "
   ]
  },
  {
   "cell_type": "code",
   "execution_count": 37,
   "metadata": {},
   "outputs": [],
   "source": [
    "# First reduce the calibration data by subtracting the corresponding dark frame \n",
    "raw_image = 'DRRP_'\n",
    "dark_image = 'C:\\\\Users\\\\EPL User\\\\Desktop\\\\L_Plate_Characterization\\\\Darks\\\\Dark_550_1.8.fits'\n",
    "raw_image_folder = r\"C:\\\\Users\\\\EPL User\\\\Desktop\\\\L_Plate_Characterization\\\\Calibration\\\\Calibration_Raw\\\\Cal_1600_Filter\\\\\"\n",
    "reduced_image_folder = r\"C:\\\\Users\\\\EPL User\\\\Desktop\\\\L_Plate_Characterization\\\\Calibration\\\\Calibration_Reduced\\\\Cal_1600_Reduced\\\\\"\n",
    "\n",
    "dark_subtraction(raw_image, dark_image, raw_image_folder, reduced_image_folder)"
   ]
  },
  {
   "cell_type": "code",
   "execution_count": 20,
   "metadata": {},
   "outputs": [
    {
     "name": "stdout",
     "output_type": "stream",
     "text": [
      "Warning: low flux detected, check the image Reduced_DRRP_L_1600nm_550_1.8_95.99994140624999.fits, index: 24\n"
     ]
    }
   ],
   "source": [
    "reduced_filename = 'Reduced_DRRP_'\n",
    "reduced_folder = r\"C:\\\\Users\\\\EPL User\\\\Desktop\\\\L_Plate_Characterization\\\\Calibration\\\\Calibration_Reduced\\\\Cal_1600_Reduced\\\\\"\n",
    "lcenter = [258, 255]\n",
    "rcenter = [258, 332]\n",
    "maxradius = 10\n",
    "cutoff = 5000\n",
    "\n",
    "extracted_data = extract_intensities(reduced_filename, reduced_folder, lcenter, rcenter, maxradius, cutoff)\n",
    "Cal_Il_1600 = extracted_data[0]\n",
    "Cal_Ir_1600 = extracted_data[1]\n",
    "Cal_theta1600 = extracted_data[2]"
   ]
  },
  {
   "cell_type": "markdown",
   "metadata": {},
   "source": [
    "Now calibrations for 1620 nm, 550 fps, 1.8 ms tint"
   ]
  },
  {
   "cell_type": "code",
   "execution_count": 23,
   "metadata": {},
   "outputs": [],
   "source": [
    "# First reduce the calibration data by subtracting the corresponding dark frame \n",
    "raw_image = 'DRRP_'\n",
    "dark_image = 'C:\\\\Users\\\\EPL User\\\\Desktop\\\\L_Plate_Characterization\\\\Darks\\\\Dark_550_1.8.fits'\n",
    "raw_image_folder = r\"C:\\\\Users\\\\EPL User\\\\Desktop\\\\L_Plate_Characterization\\\\Calibration\\\\Calibration_Raw\\\\Cal_1620_Filter\\\\\"\n",
    "reduced_image_folder = r\"C:\\\\Users\\\\EPL User\\\\Desktop\\\\L_Plate_Characterization\\\\Calibration\\\\Calibration_Reduced\\\\Cal_1620_Reduced\\\\\"\n",
    "\n",
    "dark_subtraction(raw_image, dark_image, raw_image_folder, reduced_image_folder)"
   ]
  },
  {
   "cell_type": "code",
   "execution_count": 16,
   "metadata": {},
   "outputs": [
    {
     "name": "stdout",
     "output_type": "stream",
     "text": [
      "Warning: low flux detected, check the image Reduced_DRRP_L_1620nm_550_1.8_0.0.fits, index: 0\n",
      "Warning: low flux detected, check the image Reduced_DRRP_L_1620nm_550_1.8_11.999992675781249.fits, index: 3\n",
      "Warning: low flux detected, check the image Reduced_DRRP_L_1620nm_550_1.8_63.99996093749999.fits, index: 16\n",
      "Warning: low flux detected, check the image Reduced_DRRP_L_1620nm_550_1.8_95.99994140624999.fits, index: 24\n",
      "Warning: low flux detected, check the image Reduced_DRRP_L_1620nm_550_1.8_99.99993896484375.fits, index: 25\n",
      "Warning: low flux detected, check the image Reduced_DRRP_L_1620nm_550_1.8_103.9999365234375.fits, index: 26\n",
      "Warning: low flux detected, check the image Reduced_DRRP_L_1620nm_550_1.8_135.99991699218748.fits, index: 34\n"
     ]
    }
   ],
   "source": [
    "reduced_filename = 'Reduced_DRRP_'\n",
    "reduced_folder = r\"C:\\\\Users\\\\EPL User\\\\Desktop\\\\L_Plate_Characterization\\\\Calibration\\\\Calibration_Reduced\\\\Cal_1620_Reduced\\\\\"\n",
    "lcenter = [258, 255]\n",
    "rcenter = [258, 332]\n",
    "maxradius = 12\n",
    "cutoff = 5000\n",
    "\n",
    "extracted_data = extract_intensities(reduced_filename, reduced_folder, lcenter, rcenter, maxradius, cutoff)\n",
    "Cal_Il_1620 = extracted_data[0]\n",
    "Cal_Ir_1620 = extracted_data[1]\n",
    "Cal_theta1620 = extracted_data[2]"
   ]
  },
  {
   "cell_type": "markdown",
   "metadata": {},
   "source": [
    "Now calibrations for 1650 nm, 550 fps, 1.8 ms tint"
   ]
  },
  {
   "cell_type": "code",
   "execution_count": 49,
   "metadata": {},
   "outputs": [],
   "source": [
    "# First reduce the calibration data by subtracting the corresponding dark frame \n",
    "raw_image = 'DRRP_'\n",
    "dark_image = 'C:\\\\Users\\\\EPL User\\\\Desktop\\\\L_Plate_Characterization\\\\Darks\\\\Dark_550_1.8.fits'\n",
    "raw_image_folder = r\"C:\\\\Users\\\\EPL User\\\\Desktop\\\\L_Plate_Characterization\\\\Calibration\\\\Calibration_Raw\\\\Cal_1650_Filter\\\\\"\n",
    "reduced_image_folder = r\"C:\\\\Users\\\\EPL User\\\\Desktop\\\\L_Plate_Characterization\\\\Calibration\\\\Calibration_Reduced\\\\Cal_1650_Reduced\\\\\"\n",
    "\n",
    "dark_subtraction(raw_image, dark_image, raw_image_folder, reduced_image_folder)"
   ]
  },
  {
   "cell_type": "code",
   "execution_count": 17,
   "metadata": {},
   "outputs": [
    {
     "name": "stdout",
     "output_type": "stream",
     "text": [
      "Warning: low flux detected, check the image Reduced_DRRP_L_1650nm_550_1.8_0.0.fits, index: 0\n",
      "Warning: low flux detected, check the image Reduced_DRRP_L_1650nm_550_1.8_83.99994873046874.fits, index: 21\n",
      "Warning: low flux detected, check the image Reduced_DRRP_L_1650nm_550_1.8_115.99992919921874.fits, index: 29\n",
      "Warning: low flux detected, check the image Reduced_DRRP_L_1650nm_550_1.8_119.99992675781249.fits, index: 30\n",
      "Warning: low flux detected, check the image Reduced_DRRP_L_1650nm_550_1.8_171.99989501953124.fits, index: 43\n"
     ]
    }
   ],
   "source": [
    "reduced_filename = 'Reduced_DRRP_'\n",
    "reduced_folder = r\"C:\\\\Users\\\\EPL User\\\\Desktop\\\\L_Plate_Characterization\\\\Calibration\\\\Calibration_Reduced\\\\Cal_1650_Reduced\\\\\"\n",
    "lcenter = [258, 255]\n",
    "rcenter = [258, 332]\n",
    "maxradius = 12\n",
    "cutoff = 5000\n",
    "\n",
    "extracted_data = extract_intensities(reduced_filename, reduced_folder, lcenter, rcenter, maxradius, cutoff)\n",
    "Cal_Il_1650 = extracted_data[0]\n",
    "Cal_Ir_1650 = extracted_data[1]\n",
    "Cal_theta1650 = extracted_data[2]"
   ]
  },
  {
   "cell_type": "markdown",
   "metadata": {},
   "source": [
    "Not calibrations for 1750 nm, 600 fps, 0.1 ms tint"
   ]
  },
  {
   "cell_type": "code",
   "execution_count": 66,
   "metadata": {},
   "outputs": [],
   "source": [
    "# First reduce the calibration data by subtracting the corresponding dark frame \n",
    "raw_image = 'DRRP_'\n",
    "dark_image = 'C:\\\\Users\\\\EPL User\\\\Desktop\\\\L_Plate_Characterization\\\\Darks\\\\Dark_600_0.1.fits'\n",
    "raw_image_folder = r\"C:\\\\Users\\\\EPL User\\\\Desktop\\\\L_Plate_Characterization\\\\Calibration\\\\Calibration_Raw\\\\Cal_1750_Filter\\\\\"\n",
    "reduced_image_folder = r\"C:\\\\Users\\\\EPL User\\\\Desktop\\\\L_Plate_Characterization\\\\Calibration\\\\Calibration_Reduced\\\\Cal_1750_Reduced\\\\\"\n",
    "\n",
    "dark_subtraction(raw_image, dark_image, raw_image_folder, reduced_image_folder)"
   ]
  },
  {
   "cell_type": "code",
   "execution_count": 23,
   "metadata": {},
   "outputs": [
    {
     "name": "stdout",
     "output_type": "stream",
     "text": [
      "Warning: low flux detected, check the image Reduced_DRRP_L_1750nm_600_0.1_0.0.fits, index: 0\n",
      "Warning: low flux detected, check the image Reduced_DRRP_L_1750nm_600_0.1_31.999980468749996.fits, index: 8\n",
      "Warning: low flux detected, check the image Reduced_DRRP_L_1750nm_600_0.1_43.999973144531246.fits, index: 11\n",
      "Warning: low flux detected, check the image Reduced_DRRP_L_1750nm_600_0.1_47.999970703124994.fits, index: 12\n",
      "Warning: low flux detected, check the image Reduced_DRRP_L_1750nm_600_0.1_79.999951171875.fits, index: 20\n",
      "Warning: low flux detected, check the image Reduced_DRRP_L_1750nm_600_0.1_131.99991943359373.fits, index: 33\n"
     ]
    }
   ],
   "source": [
    "reduced_filename = 'Reduced_DRRP_'\n",
    "reduced_folder = r\"C:\\\\Users\\\\EPL User\\\\Desktop\\\\L_Plate_Characterization\\\\Calibration\\\\Calibration_Reduced\\\\Cal_1750_Reduced\\\\\"\n",
    "lcenter = [258, 255]\n",
    "rcenter = [258, 332]\n",
    "maxradius = 12\n",
    "cutoff = 5000\n",
    "\n",
    "extracted_data = extract_intensities(reduced_filename, reduced_folder, lcenter, rcenter, maxradius, cutoff)\n",
    "Cal_Il_1750 = extracted_data[0]\n",
    "Cal_Ir_1750 = extracted_data[1]\n",
    "Cal_theta1750 = extracted_data[2]"
   ]
  },
  {
   "cell_type": "code",
   "execution_count": 68,
   "metadata": {},
   "outputs": [
    {
     "name": "stdout",
     "output_type": "stream",
     "text": [
      "0.018313295484701564 0.07378342512715402 -0.067504174889352 -0.017079954911638 -0.006685171541592773 0.011197110484754533\n",
      "[[ 1.         -0.01579273 -0.02316127 -0.01618571]\n",
      " [ 0.00833804  0.94367457 -0.06260616 -0.04771399]\n",
      " [ 0.03740034 -0.08224285  0.82606001 -0.02895051]\n",
      " [ 0.00130196  0.00353632 -0.00960109  0.96289001]]\n"
     ]
    }
   ],
   "source": [
    "initial_guess = [0, 0, 0, 0, 0, 0]\n",
    "parameter_bounds = ([-np.pi, -np.pi, -np.pi, -np.pi, -0.1, -0.1], [np.pi, np.pi, np.pi, np.pi, 0.1, 0.1])\n",
    "\n",
    "# Find parameters from calibration of the left spot\n",
    "lnormalized_intensity = Cal_Il_1750/(2*max(Cal_Il_1750))\n",
    "lpopt, lpcov = curve_fit(vertical_calibration_function, Cal_theta1750, lnormalized_intensity, p0=initial_guess, bounds=parameter_bounds)\n",
    "\n",
    "MlCal1750 = calibrated_full_mueller_polarimetry(Cal_theta1750, lpopt[0], lpopt[1], lpopt[2], lpopt[3], lpopt[4], lpopt[5], Cal_Il_1750, LPA_angle=np.pi/2)\n",
    "\n",
    "print(lpopt[0], lpopt[1], lpopt[2], lpopt[3], lpopt[4], lpopt[5])\n",
    "print(MlCal1750/MlCal1750.max())"
   ]
  },
  {
   "cell_type": "markdown",
   "metadata": {},
   "source": [
    "Now calibrations for 1900 nm, 600 fps, 0.1 ms tint"
   ]
  },
  {
   "cell_type": "code",
   "execution_count": 61,
   "metadata": {},
   "outputs": [],
   "source": [
    "# First reduce the calibration data by subtracting the corresponding dark frame \n",
    "raw_image = 'DRRP_'\n",
    "dark_image = 'C:\\\\Users\\\\EPL User\\\\Desktop\\\\L_Plate_Characterization\\\\Darks\\\\Dark_600_0.1.fits'\n",
    "raw_image_folder = r\"C:\\\\Users\\\\EPL User\\\\Desktop\\\\L_Plate_Characterization\\\\Calibration\\\\Calibration_Raw\\\\Cal_1900_Filter\\\\\"\n",
    "reduced_image_folder = r\"C:\\\\Users\\\\EPL User\\\\Desktop\\\\L_Plate_Characterization\\\\Calibration\\\\Calibration_Reduced\\\\Cal_1900_Reduced\\\\\"\n",
    "\n",
    "dark_subtraction(raw_image, dark_image, raw_image_folder, reduced_image_folder)"
   ]
  },
  {
   "cell_type": "code",
   "execution_count": 24,
   "metadata": {},
   "outputs": [
    {
     "name": "stdout",
     "output_type": "stream",
     "text": [
      "Warning: low flux detected, check the image Reduced_DRRP_L_1900nm_600_0.1_11.999992675781249.fits, index: 3\n",
      "Warning: low flux detected, check the image Reduced_DRRP_L_1900nm_600_0.1_51.99996826171875.fits, index: 13\n",
      "Warning: low flux detected, check the image Reduced_DRRP_L_1900nm_600_0.1_111.999931640625.fits, index: 28\n",
      "Warning: low flux detected, check the image Reduced_DRRP_L_1900nm_600_0.1_115.99992919921874.fits, index: 29\n",
      "Warning: low flux detected, check the image Reduced_DRRP_L_1900nm_600_0.1_127.99992187499998.fits, index: 32\n",
      "Warning: low flux detected, check the image Reduced_DRRP_L_1900nm_600_0.1_175.99989257812499.fits, index: 44\n"
     ]
    }
   ],
   "source": [
    "reduced_filename = 'Reduced_DRRP_'\n",
    "reduced_folder = r\"C:\\\\Users\\\\EPL User\\\\Desktop\\\\L_Plate_Characterization\\\\Calibration\\\\Calibration_Reduced\\\\Cal_1900_Reduced\\\\\"\n",
    "lcenter = [258, 255]\n",
    "rcenter = [258, 332]\n",
    "maxradius = 12\n",
    "cutoff = 5000\n",
    "\n",
    "extracted_data = extract_intensities(reduced_filename, reduced_folder, lcenter, rcenter, maxradius, cutoff)\n",
    "Cal_Il_1900 = extracted_data[0]\n",
    "Cal_Ir_1900 = extracted_data[1]\n",
    "Cal_theta1900 = extracted_data[2]"
   ]
  },
  {
   "cell_type": "markdown",
   "metadata": {},
   "source": [
    "Now calibrations for 2000 nm, 600 fps, 0.1 ms tint"
   ]
  },
  {
   "cell_type": "code",
   "execution_count": 43,
   "metadata": {},
   "outputs": [],
   "source": [
    "# First reduce the calibration data by subtracting the corresponding dark frame \n",
    "raw_image = 'DRRP_'\n",
    "dark_image = 'C:\\\\Users\\\\EPL User\\\\Desktop\\\\L_Plate_Characterization\\\\Darks\\\\Dark_600_0.1.fits'\n",
    "raw_image_folder = r\"C:\\\\Users\\\\EPL User\\\\Desktop\\\\L_Plate_Characterization\\\\Calibration\\\\Calibration_Raw\\\\Cal_2000_Filter\\\\\"\n",
    "reduced_image_folder = r\"C:\\\\Users\\\\EPL User\\\\Desktop\\\\L_Plate_Characterization\\\\Calibration\\\\Calibration_Reduced\\\\Cal_2000_Reduced\\\\\"\n",
    "\n",
    "dark_subtraction(raw_image, dark_image, raw_image_folder, reduced_image_folder)"
   ]
  },
  {
   "cell_type": "code",
   "execution_count": 25,
   "metadata": {},
   "outputs": [
    {
     "name": "stdout",
     "output_type": "stream",
     "text": [
      "Warning: low flux detected, check the image Reduced_DRRP_L_2000nm_600_0.1_11.999992675781249.fits, index: 3\n",
      "Warning: low flux detected, check the image Reduced_DRRP_L_2000nm_600_0.1_91.99994384765624.fits, index: 23\n",
      "Warning: low flux detected, check the image Reduced_DRRP_L_2000nm_600_0.1_131.99991943359373.fits, index: 33\n",
      "Warning: low flux detected, check the image Reduced_DRRP_L_2000nm_600_0.1_147.99990966796875.fits, index: 37\n",
      "Warning: low flux detected, check the image Reduced_DRRP_L_2000nm_600_0.1_171.99989501953124.fits, index: 43\n"
     ]
    }
   ],
   "source": [
    "reduced_filename = 'Reduced_DRRP_'\n",
    "reduced_folder = r\"C:\\\\Users\\\\EPL User\\\\Desktop\\\\L_Plate_Characterization\\\\Calibration\\\\Calibration_Reduced\\\\Cal_2000_Reduced\\\\\"\n",
    "lcenter = [258, 255]\n",
    "rcenter = [258, 332]\n",
    "maxradius = 10\n",
    "cutoff = 5000\n",
    "\n",
    "extracted_data = extract_intensities(reduced_filename, reduced_folder, lcenter, rcenter, maxradius, cutoff)\n",
    "Cal_Il_2000 = extracted_data[0]\n",
    "Cal_Ir_2000 = extracted_data[1]\n",
    "Cal_theta2000 = extracted_data[2]"
   ]
  },
  {
   "cell_type": "code",
   "execution_count": 44,
   "metadata": {},
   "outputs": [
    {
     "name": "stdout",
     "output_type": "stream",
     "text": [
      "0.04093994075794948 0.08852534678154463 -0.051098137878802206 0.041194956337658434 0.03142210852845646 0.040103314032880914\n",
      "[[ 1.00000000e+00 -3.30754589e-02  3.51802673e-03 -3.64044358e-04]\n",
      " [ 2.90126402e-02  8.64810016e-01  7.47227738e-03 -1.76708409e-03]\n",
      " [ 4.81465279e-03 -1.01677411e-02  8.70754292e-01 -2.21250628e-03]\n",
      " [-4.98808784e-04  2.27626460e-03 -2.42248597e-03  9.63887015e-01]]\n"
     ]
    }
   ],
   "source": [
    "initial_guess = [0, 0, 0, 0, 0, 0]\n",
    "parameter_bounds = ([-np.pi, -np.pi, -np.pi, -np.pi, -np.pi/4, -np.pi/4], [np.pi, np.pi, np.pi, np.pi, np.pi/4, np.pi/4])\n",
    "\n",
    "# Find parameters from calibration of the left spot\n",
    "lnormalized_intensity = Cal_Il_2000/(2*max(Cal_Il_2000))\n",
    "lpopt, lpcov = curve_fit(vertical_calibration_function, Cal_theta2000, lnormalized_intensity, p0=initial_guess, bounds=parameter_bounds)\n",
    "\n",
    "MlCal2000 = calibrated_full_mueller_polarimetry(Cal_theta2000, lpopt[0], lpopt[1], lpopt[2], lpopt[3], lpopt[4], lpopt[5], Cal_Il_2000, LPA_angle=np.pi/2)\n",
    "\n",
    "print(lpopt[0], lpopt[1], lpopt[2], lpopt[3], lpopt[4], lpopt[5])\n",
    "print(MlCal2000/MlCal2000.max())"
   ]
  },
  {
   "cell_type": "markdown",
   "metadata": {},
   "source": [
    "Now start taking actual data with the L-band plate"
   ]
  },
  {
   "cell_type": "markdown",
   "metadata": {},
   "source": [
    "L plate 1400 nm, 550 fps, 1.8 ms tint"
   ]
  },
  {
   "cell_type": "code",
   "execution_count": 28,
   "metadata": {},
   "outputs": [
    {
     "name": "stdout",
     "output_type": "stream",
     "text": [
      "Warning: low flux detected, check the image Reduced_DRRP_L_1400nm_550_1.8_35.99997802734375.fits, index: 9\n",
      "Warning: low flux detected, check the image Reduced_DRRP_L_1400nm_550_1.8_43.999973144531246.fits, index: 11\n",
      "Warning: low flux detected, check the image Reduced_DRRP_L_1400nm_550_1.8_67.99995849609374.fits, index: 17\n",
      "Warning: low flux detected, check the image Reduced_DRRP_L_1400nm_550_1.8_91.99994384765624.fits, index: 23\n",
      "Warning: low flux detected, check the image Reduced_DRRP_L_1400nm_550_1.8_171.99989501953124.fits, index: 43\n"
     ]
    }
   ],
   "source": [
    "reduced_filename = 'Reduced_DRRP_'\n",
    "reduced_folder = r\"Z:\\\\Lab_Data\\\\Mueller_Matrix_Polarimeter\\\\L_Plate_Characterization\\\\Reduced_Data\\\\Reduced_L_1400\\\\\"\n",
    "lcenter = [322, 250]\n",
    "rcenter = [322, 325]\n",
    "maxradius = 10\n",
    "cutoff = 5000\n",
    "\n",
    "extracted_data = extract_intensities(reduced_filename, reduced_folder, lcenter, rcenter, maxradius, cutoff)\n",
    "Il_1400 = extracted_data[0]\n",
    "Ir_1400 = extracted_data[1]\n",
    "theta1400 = extracted_data[2]"
   ]
  },
  {
   "cell_type": "code",
   "execution_count": 30,
   "metadata": {},
   "outputs": [
    {
     "name": "stdout",
     "output_type": "stream",
     "text": [
      "[[ 0.9971201  -0.00021089 -0.00906116  0.0030178 ]\n",
      " [ 0.00220061  0.99184187 -0.01032898 -0.00131829]\n",
      " [-0.0068932   0.01336635  0.99454746  0.0045412 ]\n",
      " [ 0.00229152 -0.00248614  0.00152427  1.        ]]  Left calibration\n",
      "[[ 0.98869815  0.00349673 -0.0073978  -0.00255148]\n",
      " [-0.00206451  0.99562356  0.00465353  0.00184575]\n",
      " [ 0.00546974 -0.01392254  1.         -0.01214862]\n",
      " [ 0.00775738 -0.00821616 -0.00519375  0.99196295]]  Right calibration\n",
      "0.45769101959581754  This is the retardance found from the left spot\n",
      "0.4551217053659177  This is the retardance found from the right spot\n",
      "[[ 1.          0.00157945  0.00295375  0.00079337]\n",
      " [-0.01107548  0.92818528  0.35885261 -0.05126431]\n",
      " [-0.00353343  0.3823136  -0.87976556  0.27535729]\n",
      " [ 0.01291883  0.03685187 -0.27067799 -0.96487343]] This is the left Mueller matrix\n",
      "[[ 1.         -0.00391071  0.00865179 -0.00191407]\n",
      " [-0.00272354  0.92174419  0.36767799 -0.05303136]\n",
      " [ 0.00449715  0.3677194  -0.91716292  0.2593603 ]\n",
      " [-0.00217439  0.05606256 -0.25323173 -0.96050675]] This is the right Mueller matrix\n",
      "0.45640636248086763 This is the average retardance\n"
     ]
    }
   ],
   "source": [
    "M1400 = ultimate_polarimetry(Cal_theta1400, Cal_Il_1400, Cal_Ir_1400, theta1400, Il_1400, Ir_1400)\n",
    "print(M1400[0], 'This is the left Mueller matrix')\n",
    "print(M1400[1], 'This is the right Mueller matrix')\n",
    "print(M1400[2], 'This is the average retardance')"
   ]
  },
  {
   "cell_type": "markdown",
   "metadata": {},
   "source": [
    "L band plate 1500 nm, 550 fps, 1.8 ms tint"
   ]
  },
  {
   "cell_type": "code",
   "execution_count": 37,
   "metadata": {},
   "outputs": [
    {
     "name": "stdout",
     "output_type": "stream",
     "text": [
      "Warning: low flux detected, check the image Reduced_DRRP_L_1500nm_550_1.8_27.99998291015625.fits, index: 7\n",
      "Warning: low flux detected, check the image Reduced_DRRP_L_1500nm_550_1.8_39.9999755859375.fits, index: 10\n",
      "Warning: low flux detected, check the image Reduced_DRRP_L_1500nm_550_1.8_51.99996826171875.fits, index: 13\n"
     ]
    }
   ],
   "source": [
    "reduced_filename = 'Reduced_DRRP_'\n",
    "reduced_folder = r\"Z:\\\\Lab_Data\\\\Mueller_Matrix_Polarimeter\\\\L_Plate_Characterization\\\\Reduced_Data\\\\Reduced_L_1500\\\\\"\n",
    "lcenter = [322, 250]\n",
    "rcenter = [322, 325]\n",
    "maxradius = 10\n",
    "cutoff = 15000\n",
    "\n",
    "extracted_data = extract_intensities(reduced_filename, reduced_folder, lcenter, rcenter, maxradius, cutoff)\n",
    "Il_1500 = extracted_data[0]\n",
    "Ir_1500 = extracted_data[1]\n",
    "theta1500 = extracted_data[2]"
   ]
  },
  {
   "cell_type": "code",
   "execution_count": 36,
   "metadata": {},
   "outputs": [
    {
     "name": "stdout",
     "output_type": "stream",
     "text": [
      "[[ 1.         -0.00558253  0.00208861  0.00020378]\n",
      " [ 0.00622419  0.9867018   0.00237913  0.00280309]\n",
      " [ 0.00581001 -0.00925003  0.98379692 -0.00154965]\n",
      " [ 0.00075952  0.00511148  0.00926763  0.99634122]]  Left calibration\n",
      "[[ 0.97230394 -0.00691951  0.00195894 -0.00363399]\n",
      " [-0.00671124  0.99821972 -0.00154108  0.00466603]\n",
      " [ 0.00143105 -0.00566266  1.         -0.00371391]\n",
      " [ 0.00253697 -0.00404355  0.00293895  0.98018746]]  Right calibration\n",
      "0.43020331857833255  This is the retardance found from the left spot\n",
      "0.4335126705480369  This is the retardance found from the right spot\n",
      "[[ 1.         -0.00303187 -0.01666678 -0.00135972]\n",
      " [-0.01092331  0.32451591  0.90093536  0.2306917 ]\n",
      " [-0.0062326   0.89990827 -0.21365251 -0.31332525]\n",
      " [-0.00250939 -0.22062597  0.29755601 -0.90537024]] This is the left Mueller matrix\n",
      "[[ 1.         -0.00936208 -0.02002452  0.0081851 ]\n",
      " [-0.02190145  0.33488388  0.91472234  0.22464378]\n",
      " [ 0.01889645  0.91907317 -0.30660978 -0.29059309]\n",
      " [-0.00954418 -0.22375995  0.32895882 -0.91400319]] This is the right Mueller matrix\n",
      "0.43185799456318474 This is the average retardance\n"
     ]
    }
   ],
   "source": [
    "M1500 = ultimate_polarimetry(Cal_theta1500, Cal_Il_1500, Cal_Ir_1500, theta1500, Il_1500, Ir_1500)\n",
    "print(M1500[0], 'This is the left Mueller matrix')\n",
    "print(M1500[1], 'This is the right Mueller matrix')\n",
    "print(M1500[2], 'This is the average retardance')"
   ]
  },
  {
   "cell_type": "markdown",
   "metadata": {},
   "source": [
    "L band plate 1550 nm, 600 fps, 0.1 ms tint"
   ]
  },
  {
   "cell_type": "code",
   "execution_count": 68,
   "metadata": {},
   "outputs": [
    {
     "name": "stdout",
     "output_type": "stream",
     "text": [
      "Warning: low flux detected, check the image Reduced_DRRP_L_1550nm_600_0.1_7.999995117187499.fits, index: 2\n",
      "Warning: low flux detected, check the image Reduced_DRRP_L_1550nm_600_0.1_23.999985351562497.fits, index: 6\n",
      "Warning: low flux detected, check the image Reduced_DRRP_L_1550nm_600_0.1_147.99990966796875.fits, index: 37\n"
     ]
    }
   ],
   "source": [
    "reduced_filename = 'Reduced_DRRP_'\n",
    "reduced_folder = r\"Z:\\\\Lab_Data\\\\Mueller_Matrix_Polarimeter\\\\L_Plate_Characterization\\\\Reduced_Data\\\\Reduced_L_1550\\\\\"\n",
    "lcenter = [322, 252]\n",
    "rcenter = [322, 327]\n",
    "maxradius = 11\n",
    "cutoff = 15000\n",
    "\n",
    "extracted_data = extract_intensities(reduced_filename, reduced_folder, lcenter, rcenter, maxradius, cutoff)\n",
    "Il_1550 = extracted_data[0]\n",
    "Ir_1550 = extracted_data[1]\n",
    "theta1550 = extracted_data[2]"
   ]
  },
  {
   "cell_type": "code",
   "execution_count": 69,
   "metadata": {},
   "outputs": [
    {
     "name": "stdout",
     "output_type": "stream",
     "text": [
      "[[ 1.         -0.03407366 -0.0219732  -0.01217585]\n",
      " [ 0.04143492  0.90264262 -0.04888867 -0.03778499]\n",
      " [ 0.03111345 -0.06079635  0.7361704  -0.03742803]\n",
      " [ 0.00771263  0.00547312 -0.04468626  0.91908465]]  Left calibration\n",
      "[[ 0.99576615 -0.03055228  0.00071964 -0.0006114 ]\n",
      " [-0.03047603  1.         -0.00595292  0.00408915]\n",
      " [ 0.0097096  -0.01783422  0.97089235  0.00253781]\n",
      " [-0.00342307  0.00042666  0.0106404   0.95776739]]  Right calibration\n",
      "0.12322228872754475  This is the retardance found from the left spot\n",
      "0.12131141146210347  This is the retardance found from the right spot\n",
      "[[ 1.         -0.01904631  0.00838678 -0.02459239]\n",
      " [ 0.01289686  0.82918464  0.15662651  0.1623208 ]\n",
      " [-0.00900244  0.05907667  0.74208409 -0.32526714]\n",
      " [ 0.02472379 -0.28399837  0.2603093   0.71496067]] This is the left Mueller matrix\n",
      "[[ 1.         -0.01811881 -0.01099146 -0.00146367]\n",
      " [-0.03134162  0.91135866  0.10967186  0.20569812]\n",
      " [-0.0460499   0.174693    0.83770065 -0.3688657 ]\n",
      " [ 0.02938287 -0.2749725   0.29760826  0.72330339]] This is the right Mueller matrix\n",
      "0.1222668500948241 This is the average retardance\n"
     ]
    }
   ],
   "source": [
    "M1550 = ultimate_polarimetry(Cal_theta1550, Cal_Il_1550, Cal_Ir_1550, theta1550, Il_1550, Ir_1550)\n",
    "print(M1550[0], 'This is the left Mueller matrix')\n",
    "print(M1550[1], 'This is the right Mueller matrix')\n",
    "print(M1550[2], 'This is the average retardance')"
   ]
  },
  {
   "cell_type": "markdown",
   "metadata": {},
   "source": [
    "L band plate 1550 nm stacked wit a 1750 nm (500 FWHM) just before the lens. 600 fps, 0.1 ms tint"
   ]
  },
  {
   "cell_type": "code",
   "execution_count": 21,
   "metadata": {},
   "outputs": [
    {
     "name": "stdout",
     "output_type": "stream",
     "text": [
      "Warning: low flux detected, check the image Reduced_DRRP_L_1550nm_stacked_600_0.1_23.999985351562497.fits, index: 6\n",
      "Warning: low flux detected, check the image Reduced_DRRP_L_1550nm_stacked_600_0.1_55.9999658203125.fits, index: 14\n",
      "Warning: low flux detected, check the image Reduced_DRRP_L_1550nm_stacked_600_0.1_63.99996093749999.fits, index: 16\n",
      "Warning: low flux detected, check the image Reduced_DRRP_L_1550nm_stacked_600_0.1_119.99992675781249.fits, index: 30\n",
      "Warning: low flux detected, check the image Reduced_DRRP_L_1550nm_stacked_600_0.1_143.999912109375.fits, index: 36\n"
     ]
    }
   ],
   "source": [
    "reduced_filename = 'Reduced_DRRP_'\n",
    "reduced_folder = r\"Z:\\\\Lab_Data\\\\Mueller_Matrix_Polarimeter\\\\L_Plate_Characterization\\\\Reduced_Data\\\\Reduced_L_1550\\\\Stacked_1550_Reduced\\\\\"\n",
    "lcenter = [350, 247]\n",
    "rcenter = [350, 322]\n",
    "maxradius = 9\n",
    "cutoff = 6000\n",
    "\n",
    "extracted_data = extract_intensities(reduced_filename, reduced_folder, lcenter, rcenter, maxradius, cutoff)\n",
    "Stacked_Il_1550 = extracted_data[0]\n",
    "Stacked_Ir_1550 = extracted_data[1]\n",
    "Stacked_theta1550 = extracted_data[2]"
   ]
  },
  {
   "cell_type": "code",
   "execution_count": 22,
   "metadata": {},
   "outputs": [
    {
     "name": "stdout",
     "output_type": "stream",
     "text": [
      "[[ 1.         -0.03407366 -0.0219732  -0.01217585]\n",
      " [ 0.04143492  0.90264262 -0.04888867 -0.03778499]\n",
      " [ 0.03111345 -0.06079635  0.7361704  -0.03742803]\n",
      " [ 0.00771263  0.00547312 -0.04468626  0.91908465]]  Left calibration\n",
      "[[ 9.95766150e-01 -3.05522815e-02  7.19643338e-04 -6.11399363e-04]\n",
      " [-3.04760329e-02  1.00000000e+00 -5.95291737e-03  4.08914628e-03]\n",
      " [ 9.70959642e-03 -1.78342201e-02  9.70892346e-01  2.53780898e-03]\n",
      " [-3.42307415e-03  4.26662327e-04  1.06403957e-02  9.57767391e-01]]  Right calibration\n",
      "0.14015441330326403  This is the retardance found from the left spot\n",
      "0.14231084767440835  This is the retardance found from the right spot\n",
      "[[ 1.          0.00525565  0.07446047  0.00224878]\n",
      " [-0.02392294  0.8901479   0.52887147  0.28316331]\n",
      " [ 0.01877347 -0.08677327  0.70053163 -0.52457479]\n",
      " [ 0.03321432 -0.40864696  0.3914221   0.63667613]] This is the left Mueller matrix\n",
      "[[ 1.         -0.03242522 -0.06218089 -0.0117904 ]\n",
      " [-0.06539694  0.94431571  0.4776757   0.31470078]\n",
      " [ 0.00911408 -0.03926902  0.7894878  -0.55486294]\n",
      " [ 0.04682581 -0.41954419  0.41413381  0.62616974]] This is the right Mueller matrix\n",
      "0.1412326304888362 This is the average retardance\n"
     ]
    }
   ],
   "source": [
    "Stacked_M1550 = ultimate_polarimetry(Cal_theta1550, Cal_Il_1550, Cal_Ir_1550, Stacked_theta1550, Stacked_Il_1550, Stacked_Ir_1550)\n",
    "print(Stacked_M1550[0], 'This is the left Mueller matrix')\n",
    "print(Stacked_M1550[1], 'This is the right Mueller matrix')\n",
    "print(Stacked_M1550[2], 'This is the average retardance')"
   ]
  },
  {
   "cell_type": "markdown",
   "metadata": {},
   "source": [
    "L band plate 1600 nm, 550 fps, 1.8 ms tint"
   ]
  },
  {
   "cell_type": "code",
   "execution_count": 45,
   "metadata": {},
   "outputs": [
    {
     "name": "stdout",
     "output_type": "stream",
     "text": [
      "Warning: low flux detected, check the image Reduced_DRRP_L_1600nm_550_1.8_23.999985351562497.fits, index: 6\n",
      "Warning: low flux detected, check the image Reduced_DRRP_L_1600nm_550_1.8_27.99998291015625.fits, index: 7\n",
      "Warning: low flux detected, check the image Reduced_DRRP_L_1600nm_550_1.8_31.999980468749996.fits, index: 8\n",
      "Warning: low flux detected, check the image Reduced_DRRP_L_1600nm_550_1.8_111.999931640625.fits, index: 28\n",
      "Warning: low flux detected, check the image Reduced_DRRP_L_1600nm_550_1.8_167.9998974609375.fits, index: 42\n",
      "Warning: low flux detected, check the image Reduced_DRRP_L_1600nm_550_1.8_175.99989257812499.fits, index: 44\n"
     ]
    }
   ],
   "source": [
    "reduced_filename = 'Reduced_DRRP_'\n",
    "reduced_folder = r\"Z:\\\\Lab_Data\\\\Mueller_Matrix_Polarimeter\\\\L_Plate_Characterization\\\\Reduced_Data\\\\Reduced_L_1600\\\\\"\n",
    "lcenter = [322, 250]\n",
    "rcenter = [322, 327]\n",
    "maxradius = 11\n",
    "cutoff = 17000\n",
    "\n",
    "extracted_data = extract_intensities(reduced_filename, reduced_folder, lcenter, rcenter, maxradius, cutoff)\n",
    "Il_1600 = extracted_data[0]\n",
    "Ir_1600 = extracted_data[1]\n",
    "theta1600 = extracted_data[2]"
   ]
  },
  {
   "cell_type": "code",
   "execution_count": 46,
   "metadata": {},
   "outputs": [
    {
     "name": "stdout",
     "output_type": "stream",
     "text": [
      "[[ 1.         -0.00698068  0.00282583 -0.00028085]\n",
      " [ 0.00753656  0.98313993  0.0035737   0.000464  ]\n",
      " [ 0.00220148 -0.00505264  0.96025298 -0.00204699]\n",
      " [-0.00024261  0.00012522 -0.00209827  0.99186531]]  Left calibration\n",
      "[[ 0.99958905  0.00323181 -0.0007298   0.00088661]\n",
      " [ 0.00321222  0.99539078  0.00191188  0.00321342]\n",
      " [ 0.00565737 -0.00770071  0.99044239  0.00451383]\n",
      " [ 0.003617   -0.00387961 -0.00267069  1.        ]]  Right calibration\n",
      "0.33947732427002125  This is the retardance found from the left spot\n",
      "0.33615214414279815  This is the retardance found from the right spot\n",
      "[[ 1.          0.00702724 -0.01356127 -0.00479512]\n",
      " [-0.01370024  0.34693551  0.7368231   0.55285267]\n",
      " [ 0.00143961  0.77069892  0.11685649 -0.62723187]\n",
      " [-0.01288392 -0.54301941  0.63408114 -0.53305108]] This is the left Mueller matrix\n",
      "[[ 1.         -0.00830774  0.0196903   0.01071873]\n",
      " [-0.01244798  0.32645193  0.71938777  0.52890925]\n",
      " [ 0.00425378  0.74375709  0.16248786 -0.61687954]\n",
      " [-0.00439476 -0.54264278  0.62003584 -0.51525905]] This is the right Mueller matrix\n",
      "0.33781473420640973 This is the average retardance\n"
     ]
    }
   ],
   "source": [
    "M1600 = ultimate_polarimetry(Cal_theta1600, Cal_Il_1600, Cal_Ir_1600, theta1600, Il_1600, Ir_1600)\n",
    "print(M1600[0], 'This is the left Mueller matrix')\n",
    "print(M1600[1], 'This is the right Mueller matrix')\n",
    "print(M1600[2], 'This is the average retardance')"
   ]
  },
  {
   "cell_type": "markdown",
   "metadata": {},
   "source": [
    "L plate 1620 nm, 550 fps, 1.8 ms tint"
   ]
  },
  {
   "cell_type": "code",
   "execution_count": 28,
   "metadata": {},
   "outputs": [
    {
     "name": "stdout",
     "output_type": "stream",
     "text": [
      "Warning: low flux detected, check the image Reduced_DRRP_L_1620nm_550_1.8_35.99997802734375.fits, index: 9\n",
      "Warning: low flux detected, check the image Reduced_DRRP_L_1620nm_550_1.8_71.9999560546875.fits, index: 18\n",
      "Warning: low flux detected, check the image Reduced_DRRP_L_1620nm_550_1.8_95.99994140624999.fits, index: 24\n",
      "Warning: low flux detected, check the image Reduced_DRRP_L_1620nm_550_1.8_99.99993896484375.fits, index: 25\n",
      "Warning: low flux detected, check the image Reduced_DRRP_L_1620nm_550_1.8_107.99993408203125.fits, index: 27\n",
      "Warning: low flux detected, check the image Reduced_DRRP_L_1620nm_550_1.8_131.99991943359373.fits, index: 33\n"
     ]
    }
   ],
   "source": [
    "reduced_filename = 'Reduced_DRRP_'\n",
    "reduced_folder = r\"Z:\\\\Lab_Data\\\\Mueller_Matrix_Polarimeter\\\\L_Plate_Characterization\\\\Reduced_Data\\\\Reduced_L_1620\\\\\"\n",
    "lcenter = [322, 250]\n",
    "rcenter = [322, 327]\n",
    "maxradius = 11\n",
    "cutoff = 70000\n",
    "\n",
    "extracted_data = extract_intensities(reduced_filename, reduced_folder, lcenter, rcenter, maxradius, cutoff)\n",
    "Il_1620 = extracted_data[0]\n",
    "Ir_1620 = extracted_data[1]\n",
    "theta1620 = extracted_data[2]"
   ]
  },
  {
   "cell_type": "code",
   "execution_count": 19,
   "metadata": {},
   "outputs": [
    {
     "name": "stdout",
     "output_type": "stream",
     "text": [
      "[[ 1.00000000e+00 -6.80842514e-02 -7.89559649e-03 -4.58681121e-05]\n",
      " [ 7.47871705e-02  7.87309978e-01 -1.59978809e-03  1.44111357e-04]\n",
      " [ 5.32919538e-03 -8.75124751e-03  7.88860848e-01  2.34228585e-03]\n",
      " [ 2.09803334e-03  1.34489848e-04  5.38766112e-04  9.51012757e-01]]  Left calibration\n",
      "[[ 9.98750882e-01 -3.37759413e-02 -4.40102975e-03  2.83203206e-03]\n",
      " [-3.91467269e-02  1.00000000e+00  5.80782743e-03  2.75702043e-03]\n",
      " [ 8.91445994e-04 -4.61309058e-03  9.94947965e-01  3.64278484e-03]\n",
      " [ 3.05565779e-03 -8.10874246e-03 -2.33940254e-03  9.31914241e-01]]  Right calibration\n",
      "0.16175614485540682  This is the retardance found from the left spot\n",
      "0.16313187462523815  This is the retardance found from the right spot\n",
      "[[ 1.         -0.07338281 -0.01263319  0.00598074]\n",
      " [ 0.06863677  0.63259388  0.16309646  0.17203929]\n",
      " [ 0.01709314  0.15555167  0.60644491 -0.20348747]\n",
      " [-0.01296994 -0.15566237  0.20065906  0.5264779 ]] This is the left Mueller matrix\n",
      "[[ 1.         -0.00252508 -0.01351727 -0.01724096]\n",
      " [-0.02287312  0.79557089  0.20856299  0.18343187]\n",
      " [-0.01231053  0.19751704  0.76744169 -0.21590549]\n",
      " [ 0.00826183 -0.1762868   0.21654437  0.51910932]] This is the right Mueller matrix\n",
      "0.16244400974032247 This is the average retardance\n"
     ]
    }
   ],
   "source": [
    "M1620 = ultimate_polarimetry(Cal_theta1620, Cal_Il_1620, Cal_Ir_1620, theta1620, Il_1620, Ir_1620)\n",
    "print(M1620[0], 'This is the left Mueller matrix')\n",
    "print(M1620[1], 'This is the right Mueller matrix')\n",
    "print(M1620[2], 'This is the average retardance')"
   ]
  },
  {
   "cell_type": "markdown",
   "metadata": {},
   "source": [
    "L Plate 1650 nm, 550 fps, 1.8 ms tint"
   ]
  },
  {
   "cell_type": "code",
   "execution_count": 33,
   "metadata": {},
   "outputs": [
    {
     "name": "stdout",
     "output_type": "stream",
     "text": [
      "Warning: low flux detected, check the image Reduced_DRRP_L_1650nm_550_1.8_51.99996826171875.fits, index: 13\n"
     ]
    }
   ],
   "source": [
    "reduced_filename = 'Reduced_DRRP_'\n",
    "reduced_folder = r\"Z:\\\\Lab_Data\\\\Mueller_Matrix_Polarimeter\\\\L_Plate_Characterization\\\\Reduced_Data\\\\Reduced_L_1650\\\\\"\n",
    "lcenter = [322, 250]\n",
    "rcenter = [322, 327]\n",
    "maxradius = 11\n",
    "cutoff = 45000\n",
    "\n",
    "extracted_data = extract_intensities(reduced_filename, reduced_folder, lcenter, rcenter, maxradius, cutoff)\n",
    "Il_1650 = extracted_data[0]\n",
    "Ir_1650 = extracted_data[1]\n",
    "theta1650 = extracted_data[2]"
   ]
  },
  {
   "cell_type": "code",
   "execution_count": 34,
   "metadata": {},
   "outputs": [
    {
     "name": "stdout",
     "output_type": "stream",
     "text": [
      "[[ 1.         -0.03682071 -0.00201452  0.00200476]\n",
      " [ 0.03584636  0.87478123  0.00722385  0.00308278]\n",
      " [ 0.00268406  0.00609403  0.87849707 -0.00048203]\n",
      " [ 0.00067585 -0.00239307  0.00433871  0.95573145]]  Left calibration\n",
      "[[ 0.99206741 -0.0238061  -0.00988779  0.00523302]\n",
      " [-0.02493674  0.99349625  0.00667947 -0.00424606]\n",
      " [-0.00471311  0.00078005  1.         -0.00133779]\n",
      " [ 0.0042702  -0.00540924  0.00664718  0.94385621]]  Right calibration\n",
      "0.19825738843759477  This is the retardance found from the left spot\n",
      "0.19774196078485698  This is the retardance found from the right spot\n",
      "[[ 1.         -0.07002067  0.03120655  0.03762077]\n",
      " [ 0.02328983  0.67647977  0.31248111  0.27730035]\n",
      " [ 0.01692676  0.23233579  0.4810294  -0.34457505]\n",
      " [ 0.00644327 -0.27150743  0.38321509  0.31941153]] This is the left Mueller matrix\n",
      "[[ 1.          0.01635761 -0.06313697 -0.04780564]\n",
      " [-0.0248342   0.7714364   0.36336857  0.29581845]\n",
      " [ 0.00194207  0.25368893  0.55264005 -0.37280636]\n",
      " [ 0.02588796 -0.29570873  0.39642708  0.32247873]] This is the right Mueller matrix\n",
      "0.19799967461122586 This is the average retardance\n"
     ]
    }
   ],
   "source": [
    "M1650 = ultimate_polarimetry(Cal_theta1650, Cal_Il_1650, Cal_Ir_1650, theta1650, Il_1650, Ir_1650)\n",
    "print(M1650[0], 'This is the left Mueller matrix')\n",
    "print(M1650[1], 'This is the right Mueller matrix')\n",
    "print(M1650[2], 'This is the average retardance')"
   ]
  },
  {
   "cell_type": "markdown",
   "metadata": {},
   "source": [
    "L band plate 1750 nm, 600 fps, 0.1 ms tint"
   ]
  },
  {
   "cell_type": "code",
   "execution_count": 54,
   "metadata": {},
   "outputs": [
    {
     "name": "stdout",
     "output_type": "stream",
     "text": [
      "Warning: low flux detected, check the image Reduced_DRRP_L_1750nm_600_0.1_75.99995361328125.fits, index: 19\n",
      "Warning: low flux detected, check the image Reduced_DRRP_L_1750nm_600_0.1_95.99994140624999.fits, index: 24\n",
      "Warning: low flux detected, check the image Reduced_DRRP_L_1750nm_600_0.1_115.99992919921874.fits, index: 29\n",
      "Warning: low flux detected, check the image Reduced_DRRP_L_1750nm_600_0.1_131.99991943359373.fits, index: 33\n",
      "Warning: low flux detected, check the image Reduced_DRRP_L_1750nm_600_0.1_143.999912109375.fits, index: 36\n",
      "Warning: low flux detected, check the image Reduced_DRRP_L_1750nm_600_0.1_163.99989990234374.fits, index: 41\n"
     ]
    }
   ],
   "source": [
    "reduced_filename = 'Reduced_DRRP_'\n",
    "reduced_folder = r\"Z:\\\\Lab_Data\\\\Mueller_Matrix_Polarimeter\\\\L_Plate_Characterization\\\\Reduced_Data\\\\Reduced_L_1750\\\\\"\n",
    "lcenter = [322, 250]\n",
    "rcenter = [322, 327]\n",
    "maxradius = 11\n",
    "cutoff = 29000\n",
    "\n",
    "extracted_data = extract_intensities(reduced_filename, reduced_folder, lcenter, rcenter, maxradius, cutoff)\n",
    "Il_1750 = extracted_data[0]\n",
    "Ir_1750 = extracted_data[1]\n",
    "theta1750 = extracted_data[2]"
   ]
  },
  {
   "cell_type": "code",
   "execution_count": 55,
   "metadata": {},
   "outputs": [
    {
     "name": "stdout",
     "output_type": "stream",
     "text": [
      "[[ 1.         -0.01579031 -0.02316224 -0.01618576]\n",
      " [ 0.00833616  0.94368486 -0.0625976  -0.04771195]\n",
      " [ 0.03740107 -0.08223452  0.82604965 -0.02895394]\n",
      " [ 0.001302    0.00353693 -0.00960075  0.96288998]]  Left calibration\n",
      "[[ 0.84607876  0.04876527 -0.06395943 -0.04794663]\n",
      " [ 0.04250163  0.65029169  0.10812119  0.12207809]\n",
      " [-0.0823213   0.18174217  1.          0.13190429]\n",
      " [-0.00035613 -0.0207603   0.0418169   0.88221436]]  Right calibration\n",
      "0.22062691580746574  This is the retardance found from the left spot\n",
      "0.22191744323194498  This is the retardance found from the right spot\n",
      "[[ 1.         -0.01884051  0.04284426  0.03004308]\n",
      " [-0.04975938  0.80295251  0.46329764  0.34998245]\n",
      " [ 0.03577831  0.20232886  0.29333521 -0.66045045]\n",
      " [ 0.01830345 -0.36370932  0.68899226  0.18351061]] This is the left Mueller matrix\n",
      "[[ 1.         -0.00598225 -0.05854398 -0.09892949]\n",
      " [-0.01329668  0.6859654   0.33884618  0.53785388]\n",
      " [ 0.03865004  0.41987955  0.35320959 -0.54725391]\n",
      " [-0.03635653 -0.29395261  0.63782074  0.17553375]] This is the right Mueller matrix\n",
      "0.22127217951970535 This is the average retardance\n"
     ]
    }
   ],
   "source": [
    "M1750 = ultimate_polarimetry(Cal_theta1750, Cal_Il_1750, Cal_Ir_1750, theta1750, Il_1750, Ir_1750)\n",
    "print(M1750[0], 'This is the left Mueller matrix')\n",
    "print(M1750[1], 'This is the right Mueller matrix')\n",
    "print(M1750[2], 'This is the average retardance')"
   ]
  },
  {
   "cell_type": "markdown",
   "metadata": {},
   "source": [
    "L band plate 1900 nm, 600 fps, 0.1 ms tint"
   ]
  },
  {
   "cell_type": "code",
   "execution_count": 58,
   "metadata": {},
   "outputs": [
    {
     "name": "stdout",
     "output_type": "stream",
     "text": [
      "Warning: low flux detected, check the image Reduced_DRRP_L_1900nm_600_0.1_39.9999755859375.fits, index: 10\n",
      "Warning: low flux detected, check the image Reduced_DRRP_L_1900nm_600_0.1_75.99995361328125.fits, index: 19\n",
      "Warning: low flux detected, check the image Reduced_DRRP_L_1900nm_600_0.1_103.9999365234375.fits, index: 26\n",
      "Warning: low flux detected, check the image Reduced_DRRP_L_1900nm_600_0.1_151.9999072265625.fits, index: 38\n",
      "Warning: low flux detected, check the image Reduced_DRRP_L_1900nm_600_0.1_155.99990478515625.fits, index: 39\n",
      "Warning: low flux detected, check the image Reduced_DRRP_L_1900nm_600_0.1_159.99990234375.fits, index: 40\n",
      "Warning: low flux detected, check the image Reduced_DRRP_L_1900nm_600_0.1_175.99989257812499.fits, index: 44\n"
     ]
    }
   ],
   "source": [
    "reduced_filename = 'Reduced_DRRP_'\n",
    "reduced_folder = r\"Z:\\\\Lab_Data\\\\Mueller_Matrix_Polarimeter\\\\L_Plate_Characterization\\\\Reduced_Data\\\\Reduced_L_1900\\\\\"\n",
    "lcenter = [322, 250]\n",
    "rcenter = [322, 327]\n",
    "maxradius = 11\n",
    "cutoff = 21000\n",
    "\n",
    "extracted_data = extract_intensities(reduced_filename, reduced_folder, lcenter, rcenter, maxradius, cutoff)\n",
    "Il_1900 = extracted_data[0]\n",
    "Ir_1900 = extracted_data[1]\n",
    "theta1900 = extracted_data[2]"
   ]
  },
  {
   "cell_type": "code",
   "execution_count": 59,
   "metadata": {},
   "outputs": [
    {
     "name": "stdout",
     "output_type": "stream",
     "text": [
      "[[ 1.         -0.00541684  0.01432844 -0.00285269]\n",
      " [ 0.01010775  0.96593637  0.0165908  -0.00355679]\n",
      " [-0.00286037  0.00805785  0.98504208  0.00306227]\n",
      " [ 0.00162248  0.00400811  0.00698151  0.99718577]]  Left calibration\n",
      "[[ 1.         -0.0167579  -0.00187069  0.00327144]\n",
      " [-0.01477961  0.98792281 -0.00066358 -0.00595707]\n",
      " [ 0.00434471 -0.00443285  0.98463672  0.00701375]\n",
      " [-0.00029088  0.00278923  0.00419561  0.97744861]]  Right calibration\n",
      "0.12318471064916428  This is the retardance found from the left spot\n",
      "0.13036888145071482  This is the retardance found from the right spot\n",
      "[[ 1.         -0.01627455  0.03177556  0.02736454]\n",
      " [ 0.00608767  0.88492406  0.14486047  0.36663007]\n",
      " [-0.03628326  0.17303194  0.79370512 -0.56024802]\n",
      " [ 0.00522006 -0.36877716  0.57456311  0.71512573]] This is the left Mueller matrix\n",
      "[[ 1.         -0.02921635 -0.04626133 -0.02925749]\n",
      " [-0.02698488  0.92686148  0.16598352  0.34971551]\n",
      " [-0.03501384  0.144425    0.77891659 -0.52883215]\n",
      " [-0.00631316 -0.33419084  0.58201943  0.6828557 ]] This is the right Mueller matrix\n",
      "0.12677679604993955 This is the average retardance\n"
     ]
    }
   ],
   "source": [
    "M1900 = ultimate_polarimetry(Cal_theta1900, Cal_Il_1900, Cal_Ir_1900, theta1900, Il_1900, Ir_1900)\n",
    "print(M1900[0], 'This is the left Mueller matrix')\n",
    "print(M1900[1], 'This is the right Mueller matrix')\n",
    "print(M1900[2], 'This is the average retardance')"
   ]
  },
  {
   "cell_type": "markdown",
   "metadata": {},
   "source": [
    "L Plate 2000 nm, 600 fps, 0.1 ms tint"
   ]
  },
  {
   "cell_type": "code",
   "execution_count": 60,
   "metadata": {},
   "outputs": [
    {
     "name": "stdout",
     "output_type": "stream",
     "text": [
      "Warning: low flux detected, check the image Reduced_DRRP_L_2000nm_600_0.1_35.99997802734375.fits, index: 9\n",
      "Warning: low flux detected, check the image Reduced_DRRP_L_2000nm_600_0.1_55.9999658203125.fits, index: 14\n",
      "Warning: low flux detected, check the image Reduced_DRRP_L_2000nm_600_0.1_63.99996093749999.fits, index: 16\n",
      "Warning: low flux detected, check the image Reduced_DRRP_L_2000nm_600_0.1_115.99992919921874.fits, index: 29\n",
      "Warning: low flux detected, check the image Reduced_DRRP_L_2000nm_600_0.1_119.99992675781249.fits, index: 30\n",
      "Warning: low flux detected, check the image Reduced_DRRP_L_2000nm_600_0.1_179.99989013671873.fits, index: 45\n"
     ]
    }
   ],
   "source": [
    "reduced_filename = 'Reduced_DRRP_'\n",
    "reduced_folder = r\"Z:\\\\Lab_Data\\\\Mueller_Matrix_Polarimeter\\\\L_Plate_Characterization\\\\Reduced_Data\\\\Reduced_L_2000\\\\\"\n",
    "lcenter = [322, 250]\n",
    "rcenter = [322, 327]\n",
    "maxradius = 11\n",
    "cutoff = 21000\n",
    "\n",
    "extracted_data = extract_intensities(reduced_filename, reduced_folder, lcenter, rcenter, maxradius, cutoff)\n",
    "Il_2000 = extracted_data[0]\n",
    "Ir_2000 = extracted_data[1]\n",
    "theta2000 = extracted_data[2]"
   ]
  },
  {
   "cell_type": "code",
   "execution_count": 61,
   "metadata": {},
   "outputs": [
    {
     "name": "stdout",
     "output_type": "stream",
     "text": [
      "[[ 1.         -0.03302356  0.00397629 -0.00036405]\n",
      " [ 0.0290766   0.86477372  0.00755551 -0.00179762]\n",
      " [ 0.00441172 -0.01008518  0.8707904  -0.00218782]\n",
      " [-0.00049882  0.00224242 -0.00245381  0.96388703]]  Left calibration\n",
      "[[ 1.         -0.03977455 -0.00233435 -0.00079063]\n",
      " [-0.0397912   0.99904545 -0.00209273  0.00340826]\n",
      " [ 0.00672701 -0.01331711  0.98694427 -0.00213691]\n",
      " [ 0.00133477 -0.00272068  0.00468142  0.95092467]]  Right calibration\n",
      "0.1312815300936555  This is the retardance found from the left spot\n",
      "0.13171278967722466  This is the retardance found from the right spot\n",
      "[[ 1.         -0.03376446  0.07469527 -0.00731887]\n",
      " [ 0.03674197  0.81875822  0.16561227  0.19856194]\n",
      " [-0.03465306  0.14966436  0.68492766 -0.48663415]\n",
      " [ 0.04192019 -0.31461943  0.4617398   0.67865526]] This is the left Mueller matrix\n",
      "[[ 1.         -0.01889481 -0.10316945  0.0038146 ]\n",
      " [-0.02767845  0.933372    0.19861191  0.20882656]\n",
      " [-0.05011454  0.16706437  0.81236087 -0.52625941]\n",
      " [ 0.06693164 -0.3460198   0.48599371  0.67666262]] This is the right Mueller matrix\n",
      "0.13149715988544008 This is the average retardance\n"
     ]
    }
   ],
   "source": [
    "M2000 = ultimate_polarimetry(Cal_theta2000, Cal_Il_2000, Cal_Ir_2000, theta2000, Il_2000, Ir_2000)\n",
    "print(M2000[0], 'This is the left Mueller matrix')\n",
    "print(M2000[1], 'This is the right Mueller matrix')\n",
    "print(M2000[2], 'This is the average retardance')"
   ]
  },
  {
   "cell_type": "markdown",
   "metadata": {},
   "source": [
    "Plot results for the centered L band plate"
   ]
  },
  {
   "cell_type": "code",
   "execution_count": 36,
   "metadata": {},
   "outputs": [],
   "source": [
    "wavelength_bins = np.array([1400, 1500, 1550, 1600, 1620, 1650, 1750, 1900, 2000])\n",
    "retardance = np.array([0.456, 0.432, 0.122, 0.338, 0.162, 0.198, 0.221, 0.127, 0.131])"
   ]
  },
  {
   "cell_type": "code",
   "execution_count": 38,
   "metadata": {},
   "outputs": [
    {
     "data": {
      "image/png": "[encoded data removed]",
      "text/plain": [
       "<Figure size 640x480 with 1 Axes>"
      ]
     },
     "metadata": {},
     "output_type": "display_data"
    }
   ],
   "source": [
    "plt.ylim(0, 0.5)\n",
    "plt.xlim(1300, 2050)\n",
    "plt.xlabel(\"Wavelength (nm)\", fontsize=12, fontweight='bold')\n",
    "plt.ylabel(\"Retardance (waves)\", fontsize=12, fontweight='bold')\n",
    "\n",
    "plt.plot(wavelength_bins, retardance, marker='o', linestyle=' ', color = 'purple', label = 'L-band HWP')\n",
    "\n",
    "caption = \"Characterization for the L-band half-wave plate (centered). 1cm beam diameter.\"\n",
    "\n",
    "text_width = 70  # Speify desired text width box in characters\n",
    "wrapped_text = textwrap.fill(caption, width=text_width)\n",
    "plt.text(1650, -0.09, wrapped_text, ha='center', va='center')\n",
    "\n",
    "plt.legend(fontsize=15)\n",
    "\n",
    "folder_path = r\"Z:\\\\Lab_Data\\\\Mueller_Matrix_Polarimeter\\\\L_Plate_Characterization\\\\\"\n",
    "file_name = 'L_Band_HWP_Retardance.png'\n",
    "plt.savefig(folder_path + file_name, bbox_inches='tight', dpi=300)"
   ]
  },
  {
   "cell_type": "code",
   "execution_count": null,
   "metadata": {},
   "outputs": [],
   "source": []
  }
 ],
 "metadata": {
  "kernelspec": {
   "display_name": "First_Light_SDK",
   "language": "python",
   "name": "python3"
  },
  "language_info": {
   "codemirror_mode": {
    "name": "ipython",
    "version": 3
   },
   "file_extension": ".py",
   "mimetype": "text/x-python",
   "name": "python",
   "nbconvert_exporter": "python",
   "pygments_lexer": "ipython3",
   "version": "3.10.11"
  }
 },
 "nbformat": 4,
 "nbformat_minor": 2
}
